{
 "cells": [
  {
   "cell_type": "markdown",
   "id": "70d078bc-21fa-487c-b4e1-cf262875be04",
   "metadata": {},
   "source": [
    "**Slicing 2D array**\n",
    "- before , it represents about rows and after , it represents about columns\n",
    "- other things are same as regular slicing"
   ]
  },
  {
   "cell_type": "code",
   "execution_count": 6,
   "id": "fd702467-856d-4735-aae5-7e7b6e022648",
   "metadata": {},
   "outputs": [],
   "source": [
    "import numpy as np"
   ]
  },
  {
   "cell_type": "code",
   "execution_count": 6,
   "id": "2c8fd711-955c-4ee9-822d-f0f3e8811461",
   "metadata": {},
   "outputs": [
    {
     "data": {
      "text/plain": [
       "array([1, 2, 3])"
      ]
     },
     "execution_count": 6,
     "metadata": {},
     "output_type": "execute_result"
    }
   ],
   "source": [
    "x=np.array([[1,2,3],[4,5,6]])\n",
    "x[0]"
   ]
  },
  {
   "cell_type": "code",
   "execution_count": 8,
   "id": "aef0d898-af0f-467b-b955-b7f3e7e76871",
   "metadata": {},
   "outputs": [
    {
     "data": {
      "text/plain": [
       "3"
      ]
     },
     "execution_count": 8,
     "metadata": {},
     "output_type": "execute_result"
    }
   ],
   "source": [
    "x[0,2]"
   ]
  },
  {
   "cell_type": "code",
   "execution_count": 14,
   "id": "cddf7368-9f65-4dc5-8a9f-70f695f4c7ae",
   "metadata": {},
   "outputs": [
    {
     "data": {
      "text/plain": [
       "array([[1, 2, 3],\n",
       "       [4, 5, 6]])"
      ]
     },
     "execution_count": 14,
     "metadata": {},
     "output_type": "execute_result"
    }
   ],
   "source": [
    "x[0:2]"
   ]
  },
  {
   "cell_type": "code",
   "execution_count": 10,
   "id": "ebc42ad4-4079-40c9-80a3-12becf431bd9",
   "metadata": {},
   "outputs": [
    {
     "data": {
      "text/plain": [
       "array([1, 4])"
      ]
     },
     "execution_count": 10,
     "metadata": {},
     "output_type": "execute_result"
    }
   ],
   "source": [
    "x[0:2,0]"
   ]
  },
  {
   "cell_type": "code",
   "execution_count": 12,
   "id": "017bf624-5edc-4d78-b57c-4d0564fe35de",
   "metadata": {},
   "outputs": [
    {
     "data": {
      "text/plain": [
       "array([[1, 2],\n",
       "       [4, 5]])"
      ]
     },
     "execution_count": 12,
     "metadata": {},
     "output_type": "execute_result"
    }
   ],
   "source": [
    "x[0:2,0:2]"
   ]
  },
  {
   "cell_type": "code",
   "execution_count": 16,
   "id": "1a16de53-0195-4378-9990-dceb5f5711a9",
   "metadata": {},
   "outputs": [
    {
     "data": {
      "text/plain": [
       "array([[5]])"
      ]
     },
     "execution_count": 16,
     "metadata": {},
     "output_type": "execute_result"
    }
   ],
   "source": [
    "x[1:3,1:2]"
   ]
  },
  {
   "cell_type": "code",
   "execution_count": 19,
   "id": "62f8b74d-bf2a-4862-8fe1-e903864106cb",
   "metadata": {},
   "outputs": [
    {
     "data": {
      "text/plain": [
       "array([2, 3])"
      ]
     },
     "execution_count": 19,
     "metadata": {},
     "output_type": "execute_result"
    }
   ],
   "source": [
    "x[0,1:3]"
   ]
  },
  {
   "cell_type": "code",
   "execution_count": 22,
   "id": "db9ed259-8da5-4616-bc9e-f82fbafd94bb",
   "metadata": {},
   "outputs": [
    {
     "data": {
      "text/plain": [
       "array([[ 2,  3,  4,  5,  6],\n",
       "       [ 8,  2,  3, 10, 11],\n",
       "       [15, 14,  1,  9, 20],\n",
       "       [25, 24, 12, 16, 26]])"
      ]
     },
     "execution_count": 22,
     "metadata": {},
     "output_type": "execute_result"
    }
   ],
   "source": [
    "arr=np.array([[2,3,4,5,6],[8,2,3,10,11],[15,14,1,9,20],[25,24,12,16,26]])\n",
    "arr"
   ]
  },
  {
   "cell_type": "code",
   "execution_count": 24,
   "id": "53a27bd6-1666-4d3b-a51c-63623ab9e2ff",
   "metadata": {},
   "outputs": [
    {
     "data": {
      "text/plain": [
       "1"
      ]
     },
     "execution_count": 24,
     "metadata": {},
     "output_type": "execute_result"
    }
   ],
   "source": [
    "arr[2,2]"
   ]
  },
  {
   "cell_type": "code",
   "execution_count": 26,
   "id": "02696f80-75c5-45d6-9e7c-98f78d4d71b1",
   "metadata": {},
   "outputs": [
    {
     "data": {
      "text/plain": [
       "array([[2, 3],\n",
       "       [8, 2]])"
      ]
     },
     "execution_count": 26,
     "metadata": {},
     "output_type": "execute_result"
    }
   ],
   "source": [
    "arr[:2,:2]"
   ]
  },
  {
   "cell_type": "code",
   "execution_count": 30,
   "id": "97fea9b8-b218-4a89-aad9-7851a9dbd3b3",
   "metadata": {},
   "outputs": [
    {
     "data": {
      "text/plain": [
       "array([[10, 11],\n",
       "       [ 9, 20],\n",
       "       [16, 26]])"
      ]
     },
     "execution_count": 30,
     "metadata": {},
     "output_type": "execute_result"
    }
   ],
   "source": [
    "arr[1:,3:]"
   ]
  },
  {
   "cell_type": "code",
   "execution_count": 32,
   "id": "fee3b3c3-f120-43b6-af87-45bfde4bd268",
   "metadata": {},
   "outputs": [
    {
     "data": {
      "text/plain": [
       "array([[ 2,  3, 10],\n",
       "       [14,  1,  9]])"
      ]
     },
     "execution_count": 32,
     "metadata": {},
     "output_type": "execute_result"
    }
   ],
   "source": [
    "arr[1:3,1:4]"
   ]
  },
  {
   "cell_type": "code",
   "execution_count": 34,
   "id": "a38ec7d6-6f2d-4294-a597-886ed1685a6d",
   "metadata": {},
   "outputs": [
    {
     "data": {
      "text/plain": [
       "array([[ 3,  4,  5],\n",
       "       [ 2,  3, 10]])"
      ]
     },
     "execution_count": 34,
     "metadata": {},
     "output_type": "execute_result"
    }
   ],
   "source": [
    "arr[:2,1:4]"
   ]
  },
  {
   "cell_type": "code",
   "execution_count": 8,
   "id": "8295d1cd-e3da-4bbd-af5e-7fd9ce615cf0",
   "metadata": {},
   "outputs": [
    {
     "data": {
      "text/plain": [
       "array([[[ 1,  2],\n",
       "        [ 3,  4],\n",
       "        [ 5,  6]],\n",
       "\n",
       "       [[ 7,  8],\n",
       "        [ 9, 10],\n",
       "        [11, 12]],\n",
       "\n",
       "       [[13, 14],\n",
       "        [15, 16],\n",
       "        [17, 18]]])"
      ]
     },
     "execution_count": 8,
     "metadata": {},
     "output_type": "execute_result"
    }
   ],
   "source": [
    "y=np.array([[[1,2],[3,4],[5,6]],\n",
    "          [[7,8],[9,10],[11,12]],\n",
    "          [[13,14],[15,16],[17,18]]])\n",
    "y"
   ]
  },
  {
   "cell_type": "code",
   "execution_count": 38,
   "id": "e989dc41-833c-4647-9f6e-5325aa464b52",
   "metadata": {},
   "outputs": [
    {
     "data": {
      "text/plain": [
       "(3, 3, 2)"
      ]
     },
     "execution_count": 38,
     "metadata": {},
     "output_type": "execute_result"
    }
   ],
   "source": [
    "y.shape"
   ]
  },
  {
   "cell_type": "code",
   "execution_count": 40,
   "id": "dfb5fffe-4e17-4798-8b6d-94906aa81ed1",
   "metadata": {},
   "outputs": [
    {
     "data": {
      "text/plain": [
       "array([[[ 9, 10],\n",
       "        [11, 12]],\n",
       "\n",
       "       [[15, 16],\n",
       "        [17, 18]]])"
      ]
     },
     "execution_count": 40,
     "metadata": {},
     "output_type": "execute_result"
    }
   ],
   "source": [
    "y[1:3,1:3]"
   ]
  },
  {
   "cell_type": "code",
   "execution_count": 14,
   "id": "0d418b04-98fb-47db-ae97-0c6f1348694f",
   "metadata": {},
   "outputs": [
    {
     "data": {
      "text/plain": [
       "array([[[ 2],\n",
       "        [ 4],\n",
       "        [ 6]],\n",
       "\n",
       "       [[ 8],\n",
       "        [10],\n",
       "        [12]],\n",
       "\n",
       "       [[14],\n",
       "        [16],\n",
       "        [18]]])"
      ]
     },
     "execution_count": 14,
     "metadata": {},
     "output_type": "execute_result"
    }
   ],
   "source": [
    "y[0:3,0:3,1:]"
   ]
  },
  {
   "cell_type": "code",
   "execution_count": 46,
   "id": "6f16f6bc-9244-484f-97f0-b25d97a48425",
   "metadata": {},
   "outputs": [
    {
     "data": {
      "text/plain": [
       "array([[[1, 2, 3, 4],\n",
       "        [5, 6, 7, 8]],\n",
       "\n",
       "       [[8, 9, 6, 3],\n",
       "        [5, 6, 1, 2]],\n",
       "\n",
       "       [[8, 2, 5, 6],\n",
       "        [1, 2, 3, 4]]])"
      ]
     },
     "execution_count": 46,
     "metadata": {},
     "output_type": "execute_result"
    }
   ],
   "source": [
    "a=np.array([\n",
    "    [[1,2,3,4],[5,6,7,8]],\n",
    "    [[8,9,6,3],[5,6,1,2]],\n",
    "    [[8,2,5,6],[1,2,3,4]]\n",
    "])\n",
    "a"
   ]
  },
  {
   "cell_type": "code",
   "execution_count": 54,
   "id": "b3c3eb01-b708-4add-8ee9-92ccc6806868",
   "metadata": {},
   "outputs": [
    {
     "data": {
      "text/plain": [
       "array([[[5, 6, 7, 8]],\n",
       "\n",
       "       [[5, 6, 1, 2]],\n",
       "\n",
       "       [[1, 2, 3, 4]]])"
      ]
     },
     "execution_count": 54,
     "metadata": {},
     "output_type": "execute_result"
    }
   ],
   "source": [
    "a[:,1:]"
   ]
  },
  {
   "cell_type": "code",
   "execution_count": 56,
   "id": "df007338-e26e-4d2a-8185-4a7457887a01",
   "metadata": {},
   "outputs": [
    {
     "data": {
      "text/plain": [
       "array([[[7, 8]],\n",
       "\n",
       "       [[1, 2]],\n",
       "\n",
       "       [[3, 4]]])"
      ]
     },
     "execution_count": 56,
     "metadata": {},
     "output_type": "execute_result"
    }
   ],
   "source": [
    "a[:,1:,2:]"
   ]
  },
  {
   "cell_type": "code",
   "execution_count": 58,
   "id": "e8bb8cff-c2ff-446a-aa8c-36ebb6ff71ff",
   "metadata": {},
   "outputs": [
    {
     "data": {
      "text/plain": [
       "array([[3, 4],\n",
       "       [6, 3],\n",
       "       [5, 6]])"
      ]
     },
     "execution_count": 58,
     "metadata": {},
     "output_type": "execute_result"
    }
   ],
   "source": [
    "a[:,0,2:]"
   ]
  },
  {
   "cell_type": "code",
   "execution_count": 60,
   "id": "f897f95b-b371-4ec5-b3f8-0565d7dd0c9f",
   "metadata": {},
   "outputs": [
    {
     "data": {
      "text/plain": [
       "array([[[3, 4],\n",
       "        [7, 8]],\n",
       "\n",
       "       [[6, 3],\n",
       "        [1, 2]],\n",
       "\n",
       "       [[5, 6],\n",
       "        [3, 4]]])"
      ]
     },
     "execution_count": 60,
     "metadata": {},
     "output_type": "execute_result"
    }
   ],
   "source": [
    " a[:,:,2:]"
   ]
  },
  {
   "cell_type": "code",
   "execution_count": 66,
   "id": "745acb04-ea17-459d-9082-5d71cdb6f0f5",
   "metadata": {},
   "outputs": [
    {
     "data": {
      "text/plain": [
       "array([[[8, 9],\n",
       "        [5, 6]],\n",
       "\n",
       "       [[8, 2],\n",
       "        [1, 2]]])"
      ]
     },
     "execution_count": 66,
     "metadata": {},
     "output_type": "execute_result"
    }
   ],
   "source": [
    "a[1:,:,:2]"
   ]
  },
  {
   "cell_type": "code",
   "execution_count": 64,
   "id": "3ff94f77-2cfc-449b-b5b3-f7dd1fa0b928",
   "metadata": {},
   "outputs": [
    {
     "data": {
      "text/plain": [
       "array([[5, 6],\n",
       "       [1, 2]])"
      ]
     },
     "execution_count": 64,
     "metadata": {},
     "output_type": "execute_result"
    }
   ],
   "source": [
    "a[1:,1,:2]"
   ]
  },
  {
   "cell_type": "code",
   "execution_count": 68,
   "id": "0eeeacd8-563c-4c6e-956f-f4fef1bf21cc",
   "metadata": {},
   "outputs": [
    {
     "data": {
      "text/plain": [
       "array([[9, 6],\n",
       "       [6, 1]])"
      ]
     },
     "execution_count": 68,
     "metadata": {},
     "output_type": "execute_result"
    }
   ],
   "source": [
    "a[1,:,1:3]"
   ]
  },
  {
   "cell_type": "code",
   "execution_count": 70,
   "id": "c4528eda-6276-4ae5-8f4e-3dcaf8c6ee5f",
   "metadata": {},
   "outputs": [
    {
     "data": {
      "text/plain": [
       "array([9, 2])"
      ]
     },
     "execution_count": 70,
     "metadata": {},
     "output_type": "execute_result"
    }
   ],
   "source": [
    "a[1:,0,1]"
   ]
  },
  {
   "cell_type": "code",
   "execution_count": 72,
   "id": "1548bd2b-8247-4641-876e-ab63c98c34d4",
   "metadata": {},
   "outputs": [
    {
     "data": {
      "text/plain": [
       "array([6, 6])"
      ]
     },
     "execution_count": 72,
     "metadata": {},
     "output_type": "execute_result"
    }
   ],
   "source": [
    "a[:2,1,1]"
   ]
  },
  {
   "cell_type": "markdown",
   "id": "8c56d02b-3dd9-4e0e-92d6-d83bc10d3c63",
   "metadata": {},
   "source": [
    "**Array Manipulation**  "
   ]
  },
  {
   "cell_type": "markdown",
   "id": "a75bab5a-5811-496c-8a36-318fb8441ded",
   "metadata": {},
   "source": [
    "**np.transpose(array)**\n",
    "- to transpose array\n",
    "- it is an operator which flips a matrix over its diagonal\n",
    "- that is it switches rows and columns indices of the matrix\n",
    "  "
   ]
  },
  {
   "cell_type": "code",
   "execution_count": 105,
   "id": "bd05dcb6-7c1a-407c-a166-181d8d08fe53",
   "metadata": {},
   "outputs": [
    {
     "data": {
      "text/plain": [
       "array([[ 2,  3,  4,  5,  6],\n",
       "       [ 8,  2,  3, 10, 11],\n",
       "       [15, 14,  1,  9, 20],\n",
       "       [25, 24, 12, 16, 26]])"
      ]
     },
     "execution_count": 105,
     "metadata": {},
     "output_type": "execute_result"
    }
   ],
   "source": [
    "#2d array\n",
    "e=np.array([[2,3,4,5,6],[8,2,3,10,11],[15,14,1,9,20],[25,24,12,16,26]])\n",
    "e"
   ]
  },
  {
   "cell_type": "code",
   "execution_count": 107,
   "id": "60c92832-a90c-44ef-bd09-88a78d3d4ae1",
   "metadata": {},
   "outputs": [
    {
     "data": {
      "text/plain": [
       "(4, 5)"
      ]
     },
     "execution_count": 107,
     "metadata": {},
     "output_type": "execute_result"
    }
   ],
   "source": [
    "e.shape"
   ]
  },
  {
   "cell_type": "code",
   "execution_count": 109,
   "id": "4dfbf058-2ee3-4367-981f-3c086c88b5b6",
   "metadata": {},
   "outputs": [
    {
     "data": {
      "text/plain": [
       "array([[ 2,  8, 15, 25],\n",
       "       [ 3,  2, 14, 24],\n",
       "       [ 4,  3,  1, 12],\n",
       "       [ 5, 10,  9, 16],\n",
       "       [ 6, 11, 20, 26]])"
      ]
     },
     "execution_count": 109,
     "metadata": {},
     "output_type": "execute_result"
    }
   ],
   "source": [
    "#transposing 2d array\n",
    "f=np.transpose(e)\n",
    "f"
   ]
  },
  {
   "cell_type": "code",
   "execution_count": 111,
   "id": "098cb64a-2d73-4abd-a400-4e11d1bfbc3e",
   "metadata": {},
   "outputs": [
    {
     "data": {
      "text/plain": [
       "(5, 4)"
      ]
     },
     "execution_count": 111,
     "metadata": {},
     "output_type": "execute_result"
    }
   ],
   "source": [
    "f.shape"
   ]
  },
  {
   "cell_type": "code",
   "execution_count": 113,
   "id": "c7f68de6-2ac9-4989-af65-06fe8cb58b29",
   "metadata": {},
   "outputs": [
    {
     "data": {
      "text/plain": [
       "array([[[1, 2, 3, 4],\n",
       "        [5, 6, 7, 8]],\n",
       "\n",
       "       [[8, 9, 6, 3],\n",
       "        [5, 6, 1, 2]],\n",
       "\n",
       "       [[8, 2, 5, 6],\n",
       "        [1, 2, 3, 4]]])"
      ]
     },
     "execution_count": 113,
     "metadata": {},
     "output_type": "execute_result"
    }
   ],
   "source": [
    "#3d array\n",
    "c=np.array([\n",
    "    [[1,2,3,4],[5,6,7,8]],\n",
    "    [[8,9,6,3],[5,6,1,2]],\n",
    "    [[8,2,5,6],[1,2,3,4]]\n",
    "])\n",
    "c"
   ]
  },
  {
   "cell_type": "code",
   "execution_count": 115,
   "id": "2c6113c3-4ac1-48e3-94f7-f397e8a871c3",
   "metadata": {},
   "outputs": [
    {
     "data": {
      "text/plain": [
       "(3, 2, 4)"
      ]
     },
     "execution_count": 115,
     "metadata": {},
     "output_type": "execute_result"
    }
   ],
   "source": [
    "c.shape"
   ]
  },
  {
   "cell_type": "code",
   "execution_count": 117,
   "id": "4ed961f6-451d-47ab-99cd-a7379f9f3404",
   "metadata": {},
   "outputs": [
    {
     "data": {
      "text/plain": [
       "array([[[1, 8, 8],\n",
       "        [5, 5, 1]],\n",
       "\n",
       "       [[2, 9, 2],\n",
       "        [6, 6, 2]],\n",
       "\n",
       "       [[3, 6, 5],\n",
       "        [7, 1, 3]],\n",
       "\n",
       "       [[4, 3, 6],\n",
       "        [8, 2, 4]]])"
      ]
     },
     "execution_count": 117,
     "metadata": {},
     "output_type": "execute_result"
    }
   ],
   "source": [
    "#transposing 3d array\n",
    "d=np.transpose(c)\n",
    "d"
   ]
  },
  {
   "cell_type": "code",
   "execution_count": 119,
   "id": "daff2028-aec8-4245-8d09-dc31bdc9a6e9",
   "metadata": {},
   "outputs": [
    {
     "data": {
      "text/plain": [
       "(4, 2, 3)"
      ]
     },
     "execution_count": 119,
     "metadata": {},
     "output_type": "execute_result"
    }
   ],
   "source": [
    "d.shape"
   ]
  },
  {
   "cell_type": "markdown",
   "id": "17ca1596-5a1e-4451-8763-0af1d24dca83",
   "metadata": {},
   "source": [
    "**reshape(shape)**\n",
    "- gives a new shape to the array without changing its data\n",
    "- data cannot be modified"
   ]
  },
  {
   "cell_type": "code",
   "execution_count": 132,
   "id": "e69cf439-8c69-4c69-9f51-a7190a9308d9",
   "metadata": {},
   "outputs": [
    {
     "data": {
      "text/plain": [
       "array([1, 2, 3, 4, 5, 6])"
      ]
     },
     "execution_count": 132,
     "metadata": {},
     "output_type": "execute_result"
    }
   ],
   "source": [
    "d=np.arange(1,7)\n",
    "d"
   ]
  },
  {
   "cell_type": "code",
   "execution_count": 134,
   "id": "d6c87992-17aa-482d-bc80-e7765ea9113f",
   "metadata": {},
   "outputs": [
    {
     "data": {
      "text/plain": [
       "array([[1, 2, 3],\n",
       "       [4, 5, 6]])"
      ]
     },
     "execution_count": 134,
     "metadata": {},
     "output_type": "execute_result"
    }
   ],
   "source": [
    "d.reshape(2,3)"
   ]
  },
  {
   "cell_type": "code",
   "execution_count": 136,
   "id": "adea6368-a041-4dc7-b3cb-0dd3a7409afd",
   "metadata": {},
   "outputs": [
    {
     "data": {
      "text/plain": [
       "array([[[1],\n",
       "        [2],\n",
       "        [3]],\n",
       "\n",
       "       [[4],\n",
       "        [5],\n",
       "        [6]]])"
      ]
     },
     "execution_count": 136,
     "metadata": {},
     "output_type": "execute_result"
    }
   ],
   "source": [
    "d.reshape(2,3,1)"
   ]
  },
  {
   "cell_type": "markdown",
   "id": "0da1593f-a5aa-4a7d-82b6-61632ec7937c",
   "metadata": {},
   "source": [
    "**np.resize(array,shape)**\n",
    "- changes the shape and size of array in-place\n",
    "- data maybe same or not"
   ]
  },
  {
   "cell_type": "code",
   "execution_count": 143,
   "id": "3eb31e0f-0d11-4695-ab55-8ac4822d8232",
   "metadata": {},
   "outputs": [
    {
     "data": {
      "text/plain": [
       "array([1, 2, 3, 4, 5, 6])"
      ]
     },
     "execution_count": 143,
     "metadata": {},
     "output_type": "execute_result"
    }
   ],
   "source": [
    "d"
   ]
  },
  {
   "cell_type": "code",
   "execution_count": 147,
   "id": "dec51e5b-8fcc-4322-9a66-2e4786277a6f",
   "metadata": {},
   "outputs": [
    {
     "data": {
      "text/plain": [
       "array([[1, 2, 3, 4, 5, 6, 1],\n",
       "       [2, 3, 4, 5, 6, 1, 2]])"
      ]
     },
     "execution_count": 147,
     "metadata": {},
     "output_type": "execute_result"
    }
   ],
   "source": [
    "shape=(2,7)\n",
    "np.resize(d,shape)"
   ]
  },
  {
   "cell_type": "code",
   "execution_count": 152,
   "id": "742eda54-6617-48a3-8af4-86aff1957085",
   "metadata": {},
   "outputs": [
    {
     "data": {
      "text/plain": [
       "array([[[1, 2],\n",
       "        [3, 4]],\n",
       "\n",
       "       [[5, 6],\n",
       "        [1, 2]]])"
      ]
     },
     "execution_count": 152,
     "metadata": {},
     "output_type": "execute_result"
    }
   ],
   "source": [
    "np.resize(d,(2,2,2))"
   ]
  },
  {
   "cell_type": "markdown",
   "id": "6961ba19-e358-45d4-be9b-2cfa57502954",
   "metadata": {},
   "source": [
    "**flatten()**\n",
    "- returns flattened 1D arrays"
   ]
  },
  {
   "cell_type": "code",
   "execution_count": 156,
   "id": "6ee19c0e-c026-411e-ae26-ea2893b5e164",
   "metadata": {},
   "outputs": [
    {
     "data": {
      "text/plain": [
       "array([[[1, 2, 3, 4],\n",
       "        [5, 6, 7, 8]],\n",
       "\n",
       "       [[8, 9, 6, 3],\n",
       "        [5, 6, 1, 2]],\n",
       "\n",
       "       [[8, 2, 5, 6],\n",
       "        [1, 2, 3, 4]]])"
      ]
     },
     "execution_count": 156,
     "metadata": {},
     "output_type": "execute_result"
    }
   ],
   "source": [
    "c=np.array([\n",
    "    [[1,2,3,4],[5,6,7,8]],\n",
    "    [[8,9,6,3],[5,6,1,2]],\n",
    "    [[8,2,5,6],[1,2,3,4]]\n",
    "])\n",
    "c"
   ]
  },
  {
   "cell_type": "code",
   "execution_count": 158,
   "id": "8ee30307-9b33-46c9-8d20-7265a84a7351",
   "metadata": {},
   "outputs": [
    {
     "data": {
      "text/plain": [
       "array([1, 2, 3, 4, 5, 6, 7, 8, 8, 9, 6, 3, 5, 6, 1, 2, 8, 2, 5, 6, 1, 2,\n",
       "       3, 4])"
      ]
     },
     "execution_count": 158,
     "metadata": {},
     "output_type": "execute_result"
    }
   ],
   "source": [
    "c.flatten()"
   ]
  },
  {
   "cell_type": "code",
   "execution_count": 160,
   "id": "05c1c59d-51a4-4fcf-b41f-9285fd873bb4",
   "metadata": {},
   "outputs": [
    {
     "data": {
      "text/plain": [
       "array([[ 2,  3,  4,  5,  6],\n",
       "       [ 8,  2,  3, 10, 11],\n",
       "       [15, 14,  1,  9, 20],\n",
       "       [25, 24, 12, 16, 26]])"
      ]
     },
     "execution_count": 160,
     "metadata": {},
     "output_type": "execute_result"
    }
   ],
   "source": [
    "e=np.array([[2,3,4,5,6],[8,2,3,10,11],[15,14,1,9,20],[25,24,12,16,26]])\n",
    "e"
   ]
  },
  {
   "cell_type": "code",
   "execution_count": 162,
   "id": "72fcf3f3-cbc3-470f-8269-4b2457d448d1",
   "metadata": {},
   "outputs": [
    {
     "data": {
      "text/plain": [
       "array([ 2,  3,  4,  5,  6,  8,  2,  3, 10, 11, 15, 14,  1,  9, 20, 25, 24,\n",
       "       12, 16, 26])"
      ]
     },
     "execution_count": 162,
     "metadata": {},
     "output_type": "execute_result"
    }
   ],
   "source": [
    "e.flatten()"
   ]
  },
  {
   "cell_type": "code",
   "execution_count": null,
   "id": "fe941c17-77b2-488b-a78f-88d2255e05b1",
   "metadata": {},
   "outputs": [],
   "source": []
  },
  {
   "cell_type": "code",
   "execution_count": null,
   "id": "d893c9ec-e590-4aff-a273-1051047a7a3a",
   "metadata": {},
   "outputs": [],
   "source": []
  }
 ],
 "metadata": {
  "kernelspec": {
   "display_name": "Python 3 (ipykernel)",
   "language": "python",
   "name": "python3"
  },
  "language_info": {
   "codemirror_mode": {
    "name": "ipython",
    "version": 3
   },
   "file_extension": ".py",
   "mimetype": "text/x-python",
   "name": "python",
   "nbconvert_exporter": "python",
   "pygments_lexer": "ipython3",
   "version": "3.12.7"
  }
 },
 "nbformat": 4,
 "nbformat_minor": 5
}
