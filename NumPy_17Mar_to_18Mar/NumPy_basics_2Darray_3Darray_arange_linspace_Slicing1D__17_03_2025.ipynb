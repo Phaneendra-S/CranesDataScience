{
 "cells": [
  {
   "cell_type": "markdown",
   "id": "7fdb4eec-324a-422a-b7d2-bd0151189b34",
   "metadata": {},
   "source": [
    "## Python Modules"
   ]
  },
  {
   "cell_type": "markdown",
   "id": "33fe7456-4a49-454e-9954-36b848b66d4b",
   "metadata": {},
   "source": [
    "**NumPy**\n",
    "- Modules are the pre-defined files that contain the python codes which depict the basic functionalities of class, methods, variables etc.\n",
    "- library and modules names are interchangably used\n",
    "- The most important object defined in NumPy is an N-dimensional array type called *ndarray*. It describes the collection of items of the same type.\n",
    "- Each item in an ndarray takes the same size of block in the memory.\n",
    "- Each element in ndarray is an object of data-type object also called as *dtype*\n"
   ]
  },
  {
   "cell_type": "code",
   "execution_count": 3,
   "id": "aaa9e773-287f-4529-b724-1744c34bc04b",
   "metadata": {},
   "outputs": [],
   "source": [
    "import numpy as np"
   ]
  },
  {
   "cell_type": "code",
   "execution_count": 5,
   "id": "7c24863f-5c11-46d9-9f69-40f99b1e84a5",
   "metadata": {},
   "outputs": [
    {
     "name": "stdout",
     "output_type": "stream",
     "text": [
      "<class 'numpy.ndarray'>\n"
     ]
    },
    {
     "data": {
      "text/plain": [
       "array([1, 2, 3])"
      ]
     },
     "execution_count": 5,
     "metadata": {},
     "output_type": "execute_result"
    }
   ],
   "source": [
    "arr = np.array([1,2,3])\n",
    "print(type(arr))\n",
    "arr"
   ]
  },
  {
   "cell_type": "code",
   "execution_count": 7,
   "id": "739b9965-24ef-4fef-adb7-39fedc80e095",
   "metadata": {},
   "outputs": [
    {
     "data": {
      "text/plain": [
       "array([2, 4, 6])"
      ]
     },
     "execution_count": 7,
     "metadata": {},
     "output_type": "execute_result"
    }
   ],
   "source": [
    "arr*2"
   ]
  },
  {
   "cell_type": "code",
   "execution_count": 9,
   "id": "1aece87e-9963-4f8f-9ba5-76854232701c",
   "metadata": {},
   "outputs": [
    {
     "data": {
      "text/plain": [
       "array([11, 12, 13])"
      ]
     },
     "execution_count": 9,
     "metadata": {},
     "output_type": "execute_result"
    }
   ],
   "source": [
    "arr+10"
   ]
  },
  {
   "cell_type": "code",
   "execution_count": 11,
   "id": "16d32cd5-d73d-42e5-b41e-f0276b92646c",
   "metadata": {},
   "outputs": [
    {
     "data": {
      "text/plain": [
       "array([1, 2, 3])"
      ]
     },
     "execution_count": 11,
     "metadata": {},
     "output_type": "execute_result"
    }
   ],
   "source": [
    "arr"
   ]
  },
  {
   "cell_type": "code",
   "execution_count": 13,
   "id": "85e56fb9-b33d-4e51-8c3c-6ae5a39f3a9a",
   "metadata": {},
   "outputs": [
    {
     "data": {
      "text/plain": [
       "array([-8, -7, -6])"
      ]
     },
     "execution_count": 13,
     "metadata": {},
     "output_type": "execute_result"
    }
   ],
   "source": [
    "arr-9"
   ]
  },
  {
   "cell_type": "markdown",
   "id": "0fe3519d-7b7d-46bb-9537-e6710ae3b23f",
   "metadata": {},
   "source": [
    "**2D Array**\n",
    "- its a combination of 1D array"
   ]
  },
  {
   "cell_type": "code",
   "execution_count": 16,
   "id": "c8085542-4e30-49bf-99a5-9d119e560e30",
   "metadata": {},
   "outputs": [
    {
     "data": {
      "text/plain": [
       "array([[1, 2],\n",
       "       [3, 4]])"
      ]
     },
     "execution_count": 16,
     "metadata": {},
     "output_type": "execute_result"
    }
   ],
   "source": [
    "a=np.array([[1,2],[3,4]])\n",
    "a"
   ]
  },
  {
   "cell_type": "code",
   "execution_count": 18,
   "id": "ad154f59-f690-45b6-b188-f297d93d71ef",
   "metadata": {},
   "outputs": [
    {
     "data": {
      "text/plain": [
       "(2, 2)"
      ]
     },
     "execution_count": 18,
     "metadata": {},
     "output_type": "execute_result"
    }
   ],
   "source": [
    "a.shape"
   ]
  },
  {
   "cell_type": "code",
   "execution_count": 20,
   "id": "c1518fe5-bc6c-483e-ac40-0901ea190c3b",
   "metadata": {},
   "outputs": [
    {
     "data": {
      "text/plain": [
       "array([[1, 2, 3],\n",
       "       [4, 5, 6]])"
      ]
     },
     "execution_count": 20,
     "metadata": {},
     "output_type": "execute_result"
    }
   ],
   "source": [
    "b=np.array([[1,2,3],[4,5,6]])\n",
    "b"
   ]
  },
  {
   "cell_type": "code",
   "execution_count": 22,
   "id": "678bb85e-a467-466e-aac9-897d73f65f17",
   "metadata": {},
   "outputs": [
    {
     "data": {
      "text/plain": [
       "(2, 3)"
      ]
     },
     "execution_count": 22,
     "metadata": {},
     "output_type": "execute_result"
    }
   ],
   "source": [
    "b.shape"
   ]
  },
  {
   "cell_type": "code",
   "execution_count": 24,
   "id": "58f31a76-f061-471b-ab51-e82306dc70f7",
   "metadata": {},
   "outputs": [
    {
     "data": {
      "text/plain": [
       "array([[11, 12, 13],\n",
       "       [14, 15, 16]])"
      ]
     },
     "execution_count": 24,
     "metadata": {},
     "output_type": "execute_result"
    }
   ],
   "source": [
    "b+10"
   ]
  },
  {
   "cell_type": "code",
   "execution_count": 26,
   "id": "5fa37b2f-18c4-41e3-9c07-f9e274a2a589",
   "metadata": {},
   "outputs": [
    {
     "data": {
      "text/plain": [
       "(3, 5)"
      ]
     },
     "execution_count": 26,
     "metadata": {},
     "output_type": "execute_result"
    }
   ],
   "source": [
    "c=np.array([[1,2,3,4,5],[6,7,8,9,10],[11,12,13,14,15]])\n",
    "c.shape"
   ]
  },
  {
   "cell_type": "markdown",
   "id": "814be8e8-5441-43cf-8c39-e3b5a3def342",
   "metadata": {},
   "source": [
    "**3D Array**\n",
    "- its a combination of 2D array\n",
    "- (layers,rows,columns)"
   ]
  },
  {
   "cell_type": "markdown",
   "id": "36ff4a6a-300c-4adb-bdd7-4fc180a6c418",
   "metadata": {},
   "source": [
    "![](3darray.jpg)"
   ]
  },
  {
   "cell_type": "code",
   "execution_count": 30,
   "id": "1813c034-4030-4646-b915-abeea68b635b",
   "metadata": {},
   "outputs": [
    {
     "data": {
      "text/plain": [
       "(2, 2, 3)"
      ]
     },
     "execution_count": 30,
     "metadata": {},
     "output_type": "execute_result"
    }
   ],
   "source": [
    "d=np.array([[[1,2,3],[4,5,6]],[[1,2,3],[4,5,6]]])\n",
    "d.shape"
   ]
  },
  {
   "cell_type": "code",
   "execution_count": 32,
   "id": "42150dbb-c6a9-4a87-b707-f0a1b485f67d",
   "metadata": {},
   "outputs": [
    {
     "data": {
      "text/plain": [
       "array([[[1, 2],\n",
       "        [3, 4],\n",
       "        [5, 6]],\n",
       "\n",
       "       [[1, 2],\n",
       "        [3, 4],\n",
       "        [5, 6]],\n",
       "\n",
       "       [[1, 2],\n",
       "        [3, 4],\n",
       "        [5, 6]],\n",
       "\n",
       "       [[1, 2],\n",
       "        [3, 4],\n",
       "        [5, 6]]])"
      ]
     },
     "execution_count": 32,
     "metadata": {},
     "output_type": "execute_result"
    }
   ],
   "source": [
    "e=np.array([[[1,2],[3,4],[5,6]],[[1,2],[3,4],[5,6]],[[1,2],[3,4],[5,6]],[[1,2],[3,4],[5,6]]])\n",
    "e"
   ]
  },
  {
   "cell_type": "code",
   "execution_count": 34,
   "id": "5b9d63b0-ac62-4714-ab77-7cf7df8a48a4",
   "metadata": {},
   "outputs": [
    {
     "data": {
      "text/plain": [
       "(4, 3, 2)"
      ]
     },
     "execution_count": 34,
     "metadata": {},
     "output_type": "execute_result"
    }
   ],
   "source": [
    "e.shape"
   ]
  },
  {
   "cell_type": "code",
   "execution_count": 36,
   "id": "a9b9889e-bd92-4138-96af-e572d17b53db",
   "metadata": {},
   "outputs": [
    {
     "data": {
      "text/plain": [
       "array([[[ 1,  2,  3,  4,  5],\n",
       "        [ 6,  7,  8,  9, 10]],\n",
       "\n",
       "       [[ 1,  2,  3,  4,  5],\n",
       "        [ 6,  7,  8,  9, 10]]])"
      ]
     },
     "execution_count": 36,
     "metadata": {},
     "output_type": "execute_result"
    }
   ],
   "source": [
    "f=np.array([[[1,2,3,4,5],[6,7,8,9,10]],[[1,2,3,4,5],[6,7,8,9,10]]])\n",
    "f"
   ]
  },
  {
   "cell_type": "markdown",
   "id": "8cfa1358-3dc1-4bd9-bc2a-187356b1fc74",
   "metadata": {},
   "source": [
    "**Array inspection**\n",
    "- ndarray.shape - this returns the shape of array\n",
    "- ndarray.ndim - this returns the dimensionality of array\n",
    "- ndarray.size - this returns the total no.of elements in array\n",
    "- ndarray.dtype - this returns the datatype of elements in array\n",
    "- ndarray.astype - this is used to convert into other data type"
   ]
  },
  {
   "cell_type": "code",
   "execution_count": 39,
   "id": "d9bbe72f-be39-4ad3-9ee6-7bc41e1fd26b",
   "metadata": {},
   "outputs": [
    {
     "data": {
      "text/plain": [
       "(2, 2, 5)"
      ]
     },
     "execution_count": 39,
     "metadata": {},
     "output_type": "execute_result"
    }
   ],
   "source": [
    "f.shape"
   ]
  },
  {
   "cell_type": "code",
   "execution_count": 41,
   "id": "fe13b462-9235-4f3e-8738-2ee3be5e5037",
   "metadata": {},
   "outputs": [
    {
     "data": {
      "text/plain": [
       "3"
      ]
     },
     "execution_count": 41,
     "metadata": {},
     "output_type": "execute_result"
    }
   ],
   "source": [
    "f.ndim"
   ]
  },
  {
   "cell_type": "code",
   "execution_count": 42,
   "id": "ddb43c3b-9e48-495d-9407-ca1acbd829f1",
   "metadata": {},
   "outputs": [
    {
     "data": {
      "text/plain": [
       "3"
      ]
     },
     "execution_count": 42,
     "metadata": {},
     "output_type": "execute_result"
    }
   ],
   "source": [
    "e.ndim"
   ]
  },
  {
   "cell_type": "code",
   "execution_count": 43,
   "id": "f083939b-bb34-4170-b03e-0a0e54b51e67",
   "metadata": {},
   "outputs": [
    {
     "data": {
      "text/plain": [
       "20"
      ]
     },
     "execution_count": 43,
     "metadata": {},
     "output_type": "execute_result"
    }
   ],
   "source": [
    "f.size"
   ]
  },
  {
   "cell_type": "code",
   "execution_count": 44,
   "id": "f9a07782-877e-4f71-aedd-5a12568b056c",
   "metadata": {},
   "outputs": [
    {
     "data": {
      "text/plain": [
       "24"
      ]
     },
     "execution_count": 44,
     "metadata": {},
     "output_type": "execute_result"
    }
   ],
   "source": [
    "e.size"
   ]
  },
  {
   "cell_type": "code",
   "execution_count": 49,
   "id": "ea78c68b-25ac-4065-83fb-606fcb3f5867",
   "metadata": {},
   "outputs": [
    {
     "data": {
      "text/plain": [
       "dtype('float64')"
      ]
     },
     "execution_count": 49,
     "metadata": {},
     "output_type": "execute_result"
    }
   ],
   "source": [
    "g=np.array([[1,2.1],[4,2.4]])\n",
    "g.dtype"
   ]
  },
  {
   "cell_type": "code",
   "execution_count": 50,
   "id": "1f4c037c-e2a0-4812-abc7-05cdc41647e3",
   "metadata": {},
   "outputs": [
    {
     "data": {
      "text/plain": [
       "dtype('int32')"
      ]
     },
     "execution_count": 50,
     "metadata": {},
     "output_type": "execute_result"
    }
   ],
   "source": [
    "f.dtype"
   ]
  },
  {
   "cell_type": "code",
   "execution_count": 53,
   "id": "39ed7956-7953-4324-9148-1d75f9638371",
   "metadata": {},
   "outputs": [
    {
     "data": {
      "text/plain": [
       "dtype('int32')"
      ]
     },
     "execution_count": 53,
     "metadata": {},
     "output_type": "execute_result"
    }
   ],
   "source": [
    "e.dtype"
   ]
  },
  {
   "cell_type": "code",
   "execution_count": 55,
   "id": "f90e982a-9414-4806-a00a-b8652c78e647",
   "metadata": {},
   "outputs": [
    {
     "data": {
      "text/plain": [
       "array([[[ 1.,  2.,  3.,  4.,  5.],\n",
       "        [ 6.,  7.,  8.,  9., 10.]],\n",
       "\n",
       "       [[ 1.,  2.,  3.,  4.,  5.],\n",
       "        [ 6.,  7.,  8.,  9., 10.]]])"
      ]
     },
     "execution_count": 55,
     "metadata": {},
     "output_type": "execute_result"
    }
   ],
   "source": [
    "h=f.astype('float')\n",
    "h"
   ]
  },
  {
   "cell_type": "code",
   "execution_count": 57,
   "id": "af18b855-f7cb-40f6-9ca0-18cbc92a5492",
   "metadata": {},
   "outputs": [
    {
     "data": {
      "text/plain": [
       "array([[1, 2],\n",
       "       [4, 2]])"
      ]
     },
     "execution_count": 57,
     "metadata": {},
     "output_type": "execute_result"
    }
   ],
   "source": [
    "i=g.astype('int')\n",
    "i"
   ]
  },
  {
   "cell_type": "markdown",
   "id": "c705ea02-f969-4cc8-b0e3-697b132db842",
   "metadata": {},
   "source": [
    "**Different ways of creating an ndarray**"
   ]
  },
  {
   "cell_type": "markdown",
   "id": "e47a4275-4aaa-482f-93d6-2846de9a93f7",
   "metadata": {},
   "source": [
    "**empty method**\n",
    "- for generating random arrays"
   ]
  },
  {
   "cell_type": "code",
   "execution_count": 19,
   "id": "2f859136-f661-4bb1-817d-60f9e941c516",
   "metadata": {},
   "outputs": [
    {
     "data": {
      "text/plain": [
       "array([[8.39460947e-312, 3.16202013e-322, 0.00000000e+000],\n",
       "       [0.00000000e+000, 1.33511290e-306, 2.02341188e-052],\n",
       "       [2.65368607e-032, 9.15153508e-071, 1.41531827e-076],\n",
       "       [4.17823978e-062, 4.19331977e+175, 1.79658106e-052]])"
      ]
     },
     "execution_count": 19,
     "metadata": {},
     "output_type": "execute_result"
    }
   ],
   "source": [
    "np.empty([4,3])"
   ]
  },
  {
   "cell_type": "code",
   "execution_count": 43,
   "id": "8b8dab10-f961-4782-818f-ab7a7c6ba232",
   "metadata": {},
   "outputs": [
    {
     "data": {
      "text/plain": [
       "array([[4.67296746e-307, 1.69121096e-306, 1.89143501e-307,\n",
       "        3.33772792e-307],\n",
       "       [6.23042750e-307, 2.22522597e-306, 1.33511969e-306,\n",
       "        1.37962320e-306],\n",
       "       [9.34604358e-307, 9.79101082e-307, 1.78020576e-306,\n",
       "        1.69119873e-306],\n",
       "       [2.22522868e-306, 1.24611809e-306, 8.06632139e-308,\n",
       "        1.60221208e-306]])"
      ]
     },
     "execution_count": 43,
     "metadata": {},
     "output_type": "execute_result"
    }
   ],
   "source": [
    "np.empty([4,4], dtype=float)"
   ]
  },
  {
   "cell_type": "markdown",
   "id": "6c099865-c837-4d20-a3c1-2d9a30b8845e",
   "metadata": {},
   "source": [
    "**Initialized with zeros**"
   ]
  },
  {
   "cell_type": "code",
   "execution_count": 45,
   "id": "ccc70b54-a27c-4644-bb9e-51d8900c714a",
   "metadata": {},
   "outputs": [
    {
     "data": {
      "text/plain": [
       "array([[0, 0, 0],\n",
       "       [0, 0, 0],\n",
       "       [0, 0, 0]])"
      ]
     },
     "execution_count": 45,
     "metadata": {},
     "output_type": "execute_result"
    }
   ],
   "source": [
    "np.zeros([3,3],dtype=int)"
   ]
  },
  {
   "cell_type": "markdown",
   "id": "a4801749-4a21-4ce5-8661-b4eaa9b058ac",
   "metadata": {},
   "source": [
    "**Initialization with ones**\n",
    "- default dtype is float unless specified"
   ]
  },
  {
   "cell_type": "code",
   "execution_count": 84,
   "id": "5d0ce37e-f95f-4143-88fb-6688bd4573b9",
   "metadata": {},
   "outputs": [
    {
     "data": {
      "text/plain": [
       "array([[1., 1., 1., 1.],\n",
       "       [1., 1., 1., 1.],\n",
       "       [1., 1., 1., 1.]])"
      ]
     },
     "execution_count": 84,
     "metadata": {},
     "output_type": "execute_result"
    }
   ],
   "source": [
    "np.ones([3,4])"
   ]
  },
  {
   "cell_type": "code",
   "execution_count": 53,
   "id": "cd757dd1-a546-4f97-a26c-0e88c81afe33",
   "metadata": {},
   "outputs": [
    {
     "data": {
      "text/plain": [
       "array([[[1, 1, 1, 1],\n",
       "        [1, 1, 1, 1],\n",
       "        [1, 1, 1, 1]],\n",
       "\n",
       "       [[1, 1, 1, 1],\n",
       "        [1, 1, 1, 1],\n",
       "        [1, 1, 1, 1]]])"
      ]
     },
     "execution_count": 53,
     "metadata": {},
     "output_type": "execute_result"
    }
   ],
   "source": [
    "np.ones([2,3,4], dtype=int)"
   ]
  },
  {
   "cell_type": "markdown",
   "id": "5667f150-fdf2-4529-bc65-45f0b742f455",
   "metadata": {},
   "source": [
    "**Array from numerical ranges**"
   ]
  },
  {
   "cell_type": "code",
   "execution_count": 5,
   "id": "8f490dcd-2298-483e-8667-9bd09b69306b",
   "metadata": {},
   "outputs": [
    {
     "data": {
      "text/plain": [
       "array([0, 1, 2, 3, 4])"
      ]
     },
     "execution_count": 5,
     "metadata": {},
     "output_type": "execute_result"
    }
   ],
   "source": [
    "#arange is array range\n",
    "q=np.arange(5)\n",
    "q"
   ]
  },
  {
   "cell_type": "code",
   "execution_count": 94,
   "id": "0febedb2-829d-4981-8a8e-c96c2e375d78",
   "metadata": {},
   "outputs": [
    {
     "data": {
      "text/plain": [
       "array([1, 2, 3, 4, 5])"
      ]
     },
     "execution_count": 94,
     "metadata": {},
     "output_type": "execute_result"
    }
   ],
   "source": [
    "np.arange(1,6)"
   ]
  },
  {
   "cell_type": "code",
   "execution_count": 98,
   "id": "26753ddf-5af6-4577-85cb-c12b8954521e",
   "metadata": {},
   "outputs": [
    {
     "data": {
      "text/plain": [
       "array([ 3,  5,  7,  9, 11, 13, 15, 17])"
      ]
     },
     "execution_count": 98,
     "metadata": {},
     "output_type": "execute_result"
    }
   ],
   "source": [
    "np.arange(3,18,2)"
   ]
  },
  {
   "cell_type": "markdown",
   "id": "d4e70d49-f7ae-4be9-b4e1-7e41c9b2af34",
   "metadata": {},
   "source": [
    "**linspace**\n",
    "- to get the number of evenly spaced values between intervals\n",
    "- Parameters for the function(start, stop, num, endpoint,retstep,dtype)\n",
    "- dtype is that of output array (default is float)"
   ]
  },
  {
   "cell_type": "code",
   "execution_count": 103,
   "id": "2bfcb0c6-e7dc-4364-81f6-114e70eb2cce",
   "metadata": {},
   "outputs": [
    {
     "data": {
      "text/plain": [
       "array([10.  , 11.25, 12.5 , 13.75, 15.  , 16.25, 17.5 , 18.75, 20.  ])"
      ]
     },
     "execution_count": 103,
     "metadata": {},
     "output_type": "execute_result"
    }
   ],
   "source": [
    "np.linspace(10,20,9)"
   ]
  },
  {
   "cell_type": "code",
   "execution_count": 118,
   "id": "559480d4-bebd-4144-91c7-5f8b084ce7ea",
   "metadata": {},
   "outputs": [
    {
     "data": {
      "text/plain": [
       "array([10.        , 11.11111111, 12.22222222, 13.33333333, 14.44444444,\n",
       "       15.55555556, 16.66666667, 17.77777778, 18.88888889])"
      ]
     },
     "execution_count": 118,
     "metadata": {},
     "output_type": "execute_result"
    }
   ],
   "source": [
    "np.linspace(10,20,9, endpoint=False)\n",
    "#by default endpoint(i.e., stop value) is included, only when it is set to False it is not included"
   ]
  },
  {
   "cell_type": "code",
   "execution_count": 124,
   "id": "ac0de7bf-4e5f-4097-85b2-677a8f2a9bb1",
   "metadata": {},
   "outputs": [
    {
     "data": {
      "text/plain": [
       "(array([10.        , 11.11111111, 12.22222222, 13.33333333, 14.44444444,\n",
       "        15.55555556, 16.66666667, 17.77777778, 18.88888889]),\n",
       " 1.1111111111111112)"
      ]
     },
     "execution_count": 124,
     "metadata": {},
     "output_type": "execute_result"
    }
   ],
   "source": [
    "np.linspace(10,20,9, endpoint=False, retstep=True)\n",
    "#if we want to print step size use retstep=True, bydefault it is False)"
   ]
  },
  {
   "cell_type": "code",
   "execution_count": 128,
   "id": "fccacbda-454d-43a7-bd14-f0bf198f82a2",
   "metadata": {},
   "outputs": [
    {
     "data": {
      "text/plain": [
       "(array([10, 11, 12, 14, 15, 17, 18]), 1.4285714285714286)"
      ]
     },
     "execution_count": 128,
     "metadata": {},
     "output_type": "execute_result"
    }
   ],
   "source": [
    "np.linspace(10,20,7, endpoint=False, retstep=True, dtype=int)\n",
    "#If we use dtype int, sometimes it can return evenly spaced, in that case it will roundoff to nearest integer"
   ]
  },
  {
   "cell_type": "markdown",
   "id": "fdad3f32-96bc-4d82-865e-97382d092db0",
   "metadata": {},
   "source": [
    "**Generate 20 equally spaced numbers from 100 to 120**"
   ]
  },
  {
   "cell_type": "code",
   "execution_count": 141,
   "id": "b0ccedfd-f295-4f6b-babf-03dfe6bb2772",
   "metadata": {},
   "outputs": [
    {
     "data": {
      "text/plain": [
       "array([100.        , 100.83333333, 101.66666667, 102.5       ,\n",
       "       103.33333333, 104.16666667, 105.        , 105.83333333,\n",
       "       106.66666667, 107.5       , 108.33333333, 109.16666667,\n",
       "       110.        , 110.83333333, 111.66666667, 112.5       ,\n",
       "       113.33333333, 114.16666667, 115.        , 115.83333333,\n",
       "       116.66666667, 117.5       , 118.33333333, 119.16666667,\n",
       "       120.        ])"
      ]
     },
     "execution_count": 141,
     "metadata": {},
     "output_type": "execute_result"
    }
   ],
   "source": [
    "l=np.linspace(100,120,25)\n",
    "l"
   ]
  },
  {
   "cell_type": "code",
   "execution_count": 137,
   "id": "47c21c9e-d4fc-4489-b5c6-c920cca28bc8",
   "metadata": {},
   "outputs": [
    {
     "data": {
      "text/plain": [
       "25"
      ]
     },
     "execution_count": 137,
     "metadata": {},
     "output_type": "execute_result"
    }
   ],
   "source": [
    "l.size"
   ]
  },
  {
   "cell_type": "markdown",
   "id": "9a360e6b-09b1-4dc5-81d2-e71687338ec1",
   "metadata": {},
   "source": [
    "**Array from random numbers**"
   ]
  },
  {
   "cell_type": "code",
   "execution_count": 65,
   "id": "e185ec04-c62f-45e9-94b9-2723add0513e",
   "metadata": {},
   "outputs": [
    {
     "data": {
      "text/plain": [
       "array([[0.71246768, 0.15696417, 0.45498095],\n",
       "       [0.02451823, 0.03958697, 0.77079291],\n",
       "       [0.96064996, 0.03653244, 0.4756915 ],\n",
       "       [0.23098574, 0.22825599, 0.76448571]])"
      ]
     },
     "execution_count": 65,
     "metadata": {},
     "output_type": "execute_result"
    }
   ],
   "source": [
    "np.random.rand(4,3)"
   ]
  },
  {
   "cell_type": "code",
   "execution_count": 77,
   "id": "c3f0796b-3519-405e-aafe-55a54631e9fd",
   "metadata": {},
   "outputs": [
    {
     "data": {
      "text/plain": [
       "array([[[2, 3],\n",
       "        [4, 8]],\n",
       "\n",
       "       [[2, 8],\n",
       "        [2, 4]]])"
      ]
     },
     "execution_count": 77,
     "metadata": {},
     "output_type": "execute_result"
    }
   ],
   "source": [
    "np.random.randint(1,9,[2,2,2])"
   ]
  },
  {
   "cell_type": "markdown",
   "id": "145fabdd-0855-4bc0-8f83-893392775b54",
   "metadata": {},
   "source": [
    "**Array from full**"
   ]
  },
  {
   "cell_type": "code",
   "execution_count": 81,
   "id": "b552b19c-76a1-4f23-a9de-5265bd02d097",
   "metadata": {},
   "outputs": [
    {
     "data": {
      "text/plain": [
       "array([[[100, 100],\n",
       "        [100, 100],\n",
       "        [100, 100]],\n",
       "\n",
       "       [[100, 100],\n",
       "        [100, 100],\n",
       "        [100, 100]]])"
      ]
     },
     "execution_count": 81,
     "metadata": {},
     "output_type": "execute_result"
    }
   ],
   "source": [
    "np.full([2,3,2],100)"
   ]
  },
  {
   "cell_type": "code",
   "execution_count": 85,
   "id": "135f6a09-ff40-4250-9b03-e96389f00a29",
   "metadata": {},
   "outputs": [
    {
     "data": {
      "text/plain": [
       "array([[[11, 11],\n",
       "        [11, 11],\n",
       "        [11, 11]],\n",
       "\n",
       "       [[11, 11],\n",
       "        [11, 11],\n",
       "        [11, 11]]])"
      ]
     },
     "execution_count": 85,
     "metadata": {},
     "output_type": "execute_result"
    }
   ],
   "source": [
    "#we can also generate the same using ones\n",
    "np.ones([2,3,2],dtype=int)*11"
   ]
  },
  {
   "cell_type": "markdown",
   "id": "4aa6f9bd-65d0-4e9b-8358-5c884f4bbb6b",
   "metadata": {},
   "source": [
    "**Array from Identity method**"
   ]
  },
  {
   "cell_type": "code",
   "execution_count": 168,
   "id": "99446a41-a9bf-46ea-b1b8-d1ca606d59ca",
   "metadata": {},
   "outputs": [
    {
     "data": {
      "text/plain": [
       "array([[1, 0, 0],\n",
       "       [0, 1, 0],\n",
       "       [0, 0, 1]])"
      ]
     },
     "execution_count": 168,
     "metadata": {},
     "output_type": "execute_result"
    }
   ],
   "source": [
    "np.identity(3, dtype=int)"
   ]
  },
  {
   "cell_type": "markdown",
   "id": "aa41f5a4-60cd-4042-a09d-7e40e5cb9ec0",
   "metadata": {},
   "source": [
    "**Index and slicing methods**\n",
    "- Contents of ndarray object can be accessed and modified by indexing and slicing.\n",
    "- slicing means retriving elements from one index to another index\n",
    "- slicing includes starting index but excludes the ending index"
   ]
  },
  {
   "cell_type": "code",
   "execution_count": 177,
   "id": "940842ea-8a8a-499b-a03a-a8b2665e6bd7",
   "metadata": {},
   "outputs": [
    {
     "name": "stdout",
     "output_type": "stream",
     "text": [
      "[2 3 4 5 6 7 8 9]\n"
     ]
    }
   ],
   "source": [
    "#Slicing 1D arrays\n",
    "x=np.arange(2,10)\n",
    "print(x)"
   ]
  },
  {
   "cell_type": "code",
   "execution_count": 179,
   "id": "072b0f12-1692-40f1-930f-f3fba9e8cd23",
   "metadata": {},
   "outputs": [
    {
     "data": {
      "text/plain": [
       "7"
      ]
     },
     "execution_count": 179,
     "metadata": {},
     "output_type": "execute_result"
    }
   ],
   "source": [
    "x[5]"
   ]
  },
  {
   "cell_type": "code",
   "execution_count": 181,
   "id": "b4261cc1-242f-48e5-a984-5ef2a8a3208a",
   "metadata": {},
   "outputs": [
    {
     "data": {
      "text/plain": [
       "array([4, 5, 6])"
      ]
     },
     "execution_count": 181,
     "metadata": {},
     "output_type": "execute_result"
    }
   ],
   "source": [
    "x[2:5]"
   ]
  },
  {
   "cell_type": "code",
   "execution_count": 183,
   "id": "bec72f79-884b-4bff-a6c3-12601019c898",
   "metadata": {},
   "outputs": [
    {
     "data": {
      "text/plain": [
       "array([3, 5, 7])"
      ]
     },
     "execution_count": 183,
     "metadata": {},
     "output_type": "execute_result"
    }
   ],
   "source": [
    "x[1:6:2]"
   ]
  },
  {
   "cell_type": "code",
   "execution_count": null,
   "id": "d9125952-a585-4ad5-82b7-0aec5353f099",
   "metadata": {},
   "outputs": [],
   "source": []
  }
 ],
 "metadata": {
  "kernelspec": {
   "display_name": "Python 3 (ipykernel)",
   "language": "python",
   "name": "python3"
  },
  "language_info": {
   "codemirror_mode": {
    "name": "ipython",
    "version": 3
   },
   "file_extension": ".py",
   "mimetype": "text/x-python",
   "name": "python",
   "nbconvert_exporter": "python",
   "pygments_lexer": "ipython3",
   "version": "3.12.7"
  }
 },
 "nbformat": 4,
 "nbformat_minor": 5
}
