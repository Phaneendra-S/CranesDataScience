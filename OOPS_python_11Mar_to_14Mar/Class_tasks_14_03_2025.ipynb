{
 "cells": [
  {
   "cell_type": "markdown",
   "id": "c44b4f8f-7cf4-4e32-a97b-7c31ae765e1e",
   "metadata": {},
   "source": [
    "**WAP to print the 2nd largest number in list without using keywords**"
   ]
  },
  {
   "cell_type": "code",
   "execution_count": 8,
   "id": "f494a4cb-fe3c-4d6f-89f8-77567ad8a5ff",
   "metadata": {},
   "outputs": [
    {
     "name": "stdout",
     "output_type": "stream",
     "text": [
      "4\n"
     ]
    }
   ],
   "source": [
    "list1=[1,2,3,4,5]\n",
    "\n",
    "# max1=list1[0]\n",
    "# for i in list1:\n",
    "#     if i>=max1:\n",
    "#        max1=i\n",
    "# list1.remove(max1)\n",
    "# # print(list1)\n",
    "# max2=list1[0]\n",
    "# for j in list1:\n",
    "#     if j>=max2:\n",
    "#         max2=j\n",
    "# print(max2)\n",
    "\n",
    "#method2\n",
    "first=second=0\n",
    "for i in list1:\n",
    "    if i>first:\n",
    "        second=first\n",
    "        first=i\n",
    "    elif i>second and i!=first:\n",
    "        second=i\n",
    "\n",
    "print(second)"
   ]
  },
  {
   "cell_type": "markdown",
   "id": "968600d9-9d7d-4a68-a75b-0111fa9f29c9",
   "metadata": {},
   "source": [
    "**Find the Most Frequent Element in a List Without Count method**"
   ]
  },
  {
   "cell_type": "code",
   "execution_count": 74,
   "id": "71438b0d-e11a-48f7-942d-40cef239f5aa",
   "metadata": {},
   "outputs": [
    {
     "name": "stdout",
     "output_type": "stream",
     "text": [
      "3 count= 4\n"
     ]
    }
   ],
   "source": [
    "lst=[2,1,2,2,1,1,1,1,3,3,3,3,3,3,3]\n",
    "max_freq=None\n",
    "max_count=0\n",
    "for i in lst:\n",
    "    count=0\n",
    "    # print('i=',i)\n",
    "    for j in lst:\n",
    "        # print('j=',j)\n",
    "        if j==i:\n",
    "            count+=1\n",
    "            lst.remove(j)\n",
    "            # print(j, 'count=', count)\n",
    "            # lst2=lst.copy()\n",
    "            # print(lst2)\n",
    "            \n",
    "    if count>max_count:\n",
    "        max_count=count\n",
    "        max_freq=i\n",
    "        \n",
    "print(max_freq,'count=',max_count) "
   ]
  },
  {
   "cell_type": "code",
   "execution_count": 24,
   "id": "b4fe3631-d8fe-481b-9f2e-1ed4e700758b",
   "metadata": {},
   "outputs": [
    {
     "data": {
      "text/plain": [
       "[1, 2, 2, 1, 3]"
      ]
     },
     "execution_count": 24,
     "metadata": {},
     "output_type": "execute_result"
    }
   ],
   "source": [
    "lst=[2,1,2,2,1,3]\n",
    "lst.remove(2)\n",
    "lst"
   ]
  },
  {
   "cell_type": "markdown",
   "id": "9fa631c3-fb18-4f49-ac53-67495ff1ee92",
   "metadata": {},
   "source": [
    "**Reverse a List without[::-1] or reversed()**"
   ]
  },
  {
   "cell_type": "markdown",
   "id": "6fa35492-4da4-4c80-bacf-0a0f798c2409",
   "metadata": {},
   "source": [
    "**Remove duplicates from from a list without set()**"
   ]
  },
  {
   "cell_type": "code",
   "execution_count": 100,
   "id": "17ea4499-179b-4b8d-b221-4b4672cb3b19",
   "metadata": {},
   "outputs": [
    {
     "data": {
      "text/plain": [
       "['jfaf', 'ffdf', 5, 4, 'w', 1]"
      ]
     },
     "execution_count": 100,
     "metadata": {},
     "output_type": "execute_result"
    }
   ],
   "source": [
    "list1 = [1,'w',4,5,'ffdf','jfaf']\n",
    "list2=[]\n",
    "for i in range(len(list1)):\n",
    "    list2.append(list1.pop())\n",
    "\n",
    "list2\n",
    "    "
   ]
  },
  {
   "cell_type": "code",
   "execution_count": 1,
   "id": "d35de4fd-0229-4c08-ac85-50c1b4e4126d",
   "metadata": {},
   "outputs": [
    {
     "data": {
      "text/plain": [
       "[1, 'w', 4, 5, 'ffdf', 'jfaf', 2]"
      ]
     },
     "execution_count": 1,
     "metadata": {},
     "output_type": "execute_result"
    }
   ],
   "source": [
    "list1 = [1,'w',4,5,5,'ffdf','jfaf',1,1,1,1,2,2,2,2,4]\n",
    "\n",
    "def remove_duplicates(list1):\n",
    "    unique_list=[]\n",
    "    for item in list1:\n",
    "        if item not in unique_list:\n",
    "            unique_list.append(item)\n",
    "    return unique_list\n",
    "\n",
    "remove_duplicates(list1)"
   ]
  },
  {
   "cell_type": "code",
   "execution_count": null,
   "id": "302852a0-4b0a-4e66-8c3b-dd8e572fd2a7",
   "metadata": {},
   "outputs": [],
   "source": []
  }
 ],
 "metadata": {
  "kernelspec": {
   "display_name": "Python 3 (ipykernel)",
   "language": "python",
   "name": "python3"
  },
  "language_info": {
   "codemirror_mode": {
    "name": "ipython",
    "version": 3
   },
   "file_extension": ".py",
   "mimetype": "text/x-python",
   "name": "python",
   "nbconvert_exporter": "python",
   "pygments_lexer": "ipython3",
   "version": "3.12.7"
  }
 },
 "nbformat": 4,
 "nbformat_minor": 5
}
