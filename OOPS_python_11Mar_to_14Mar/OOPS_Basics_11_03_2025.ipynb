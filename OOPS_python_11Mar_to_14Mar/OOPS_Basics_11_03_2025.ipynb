{
 "cells": [
  {
   "cell_type": "markdown",
   "id": "f79de490-feee-41eb-804b-2a28e732a03c",
   "metadata": {},
   "source": [
    "**OOPS concepts in Python**\n",
    "- objects\n",
    "- polymorphism\n",
    "- encapsulation\n",
    "- inheritance"
   ]
  },
  {
   "cell_type": "markdown",
   "id": "f362226e-d65a-4df4-a26e-9a426f812a37",
   "metadata": {},
   "source": [
    "Python class\n",
    "- a class is a collection of objects\n",
    "- a class contains the blueprint or the prototype from which the objects are created\n",
    "- it is a logical entity that contains some attributs and methods"
   ]
  },
  {
   "cell_type": "markdown",
   "id": "989263d4-5cf6-4236-bf35-f2083a1ca09c",
   "metadata": {},
   "source": [
    "- classes are created by keyword 'class'\n",
    "- attributes are the variables that belong to a class\n",
    "- attributes are always public and can be accessed using the dot(.) operator Eg: Myclass.Myattribute"
   ]
  },
  {
   "cell_type": "markdown",
   "id": "83f7feb2-e6b3-450a-986d-5eefdd90e14d",
   "metadata": {},
   "source": [
    "**Python Objects**\n",
    "- an object is an entity that has some state or behaviour associated with it\n",
    "  \n",
    "  An object consists of :\n",
    "- state : it is represented by attributes of an object. it also reflects the properties of an object\n",
    "- behaviour : it is represented my methods of an object. it also reflects response of object to other objects\n",
    "- identity : it gives a unique name to an object\n",
    "\n",
    "  for examaple take dog:\n",
    "- the name of the dog can be taken as identity\n",
    "- the state of the dog can be represented by attributes like breed, age etc\n",
    "- the behaviour of the dog can be represented by methods like sleeping, eating etc "
   ]
  },
  {
   "cell_type": "markdown",
   "id": "d33d1fcc-6cd5-4216-ba06-127e29eb2ac7",
   "metadata": {},
   "source": [
    "**The Python self**\n",
    "- class methods must have an extra parameter in the method definition\n",
    "- we do not give a value for this parameter when we call the method, pyhton provides it\n",
    "\n",
    "- when we call a method of this object as myobject.method(arg1, arg2) it is automatically converted to Myclass.method(myobject,arg1,arg2) - this is all the special self is about"
   ]
  },
  {
   "cell_type": "markdown",
   "id": "3c6d6a5d-9c81-42ad-96c3-eb4ceabf279d",
   "metadata": {},
   "source": [
    "**The _ _init_ _ method**\n",
    "- the init method is run as soon as the object is created\n",
    "- it will instantiate the object with all the attributes as soon as the object is created"
   ]
  },
  {
   "cell_type": "code",
   "execution_count": 6,
   "id": "2f36432d-e6ee-4ee7-8042-e748fe2052cf",
   "metadata": {},
   "outputs": [
    {
     "name": "stdout",
     "output_type": "stream",
     "text": [
      "Rodger is a mammal\n",
      "Tommy is a mammal\n",
      "My name is Rodger and age is 5\n",
      "My name is Tommy and age is 2\n"
     ]
    }
   ],
   "source": [
    "class Dog:\n",
    "    #class attribute\n",
    "    attr1 = \"mammal\"\n",
    "\n",
    "    #instance attribute\n",
    "    def __init__(self, name, age):\n",
    "        self.name = name\n",
    "        self.age = age\n",
    "\n",
    "#Driver code\n",
    "#Object instantiation\n",
    "Rod = Dog(\"Rodger\",5)\n",
    "Tom = Dog(\"Tommy\", 2)\n",
    "\n",
    "#Accessing class attribues\n",
    "print(\"Rodger is a\", Rod.attr1)\n",
    "print(\"Tommy is a\", Tom.attr1)\n",
    "\n",
    "#Accessing instance attributes\n",
    "print(\"My name is\", Rod.name,\"and age is\", Rod.age)\n",
    "print(\"My name is\", Tom.name,\"and age is\", Tom.age)"
   ]
  },
  {
   "cell_type": "code",
   "execution_count": 8,
   "id": "c5abe8cf-5dce-48ad-9087-1de6519ede76",
   "metadata": {},
   "outputs": [
    {
     "name": "stdout",
     "output_type": "stream",
     "text": [
      "My name is Rodger\n",
      "My name is Tommy\n"
     ]
    }
   ],
   "source": [
    "class Dog:\n",
    "    attr1 = \"mammal\"\n",
    "    def __init__(self,name):\n",
    "        self.name = name\n",
    "    def speak(self):\n",
    "        print(\"My name is\", self.name)\n",
    "\n",
    "Rod = Dog('Rodger')\n",
    "Tom = Dog('Tommy')\n",
    "\n",
    "Rod.speak()\n",
    "Tom.speak()"
   ]
  },
  {
   "cell_type": "markdown",
   "id": "28f516d6-1c01-480c-a320-ec5836f0da44",
   "metadata": {},
   "source": [
    "**WAP with class Rectangle with attributes length and width. Add a method area() that returns the area of the rectangle**"
   ]
  },
  {
   "cell_type": "code",
   "execution_count": 19,
   "id": "f7b7a800-0d72-40c1-baa0-294883551d49",
   "metadata": {},
   "outputs": [
    {
     "data": {
      "text/plain": [
       "'Area is 10'"
      ]
     },
     "execution_count": 19,
     "metadata": {},
     "output_type": "execute_result"
    }
   ],
   "source": [
    "class Rectangle:\n",
    "    def __init__(self, length, width):\n",
    "        self.length = length\n",
    "        self.width = width\n",
    "\n",
    "    def area(self):\n",
    "        return f\"Area is {(self.length)*(self.width)}\"\n",
    "\n",
    "rect1 = Rectangle(5,2)\n",
    "rect1.area()"
   ]
  },
  {
   "cell_type": "markdown",
   "id": "6a1dfba6-5fcf-4808-bf97-955adc22e49e",
   "metadata": {},
   "source": [
    "**WAP with class named Car with attributes brand, model, and year. Implement a method display_info() that returns car details as a format string. Then create an object of the class with the values 'Toyota', 'Corolla' and 2022 and print the car's infomation**"
   ]
  },
  {
   "cell_type": "code",
   "execution_count": 24,
   "id": "d9ce4c88-dd89-4925-837f-efa24aeafb62",
   "metadata": {},
   "outputs": [
    {
     "data": {
      "text/plain": [
       "'Car brand is Toyota, the model is Corolla and the year is 2022'"
      ]
     },
     "execution_count": 24,
     "metadata": {},
     "output_type": "execute_result"
    }
   ],
   "source": [
    "class Car:\n",
    "    def __init__(self, brand, model, year):\n",
    "        self.brand = brand\n",
    "        self.model = model\n",
    "        self.year = year\n",
    "\n",
    "    def display_info(self):\n",
    "        return f\"Car brand is {self.brand}, the model is {self.model} and the year is {self.year}\"\n",
    "\n",
    "car1 = Car(\"Toyota\",\"Corolla\",2022)\n",
    "car1.display_info()"
   ]
  },
  {
   "cell_type": "markdown",
   "id": "6ccc78de-5e16-4a9f-a411-77631fec1cf0",
   "metadata": {},
   "source": [
    "**WAP to create a class named Student with attributes name and age. Initialize these attributes using a constructor.**  \n",
    "**Additionally, add the following methods**   \n",
    "  1. display_details() - Display's the students name and age\n",
    "  2. set_grade(grade) - set's the student grade\n",
    "  3. get_grade() - returns the student grade\n",
    "  4. is_adult() - returns True if age is >18 or False   \n",
    "Create an object of the Student class, set a grade, and display all details "
   ]
  },
  {
   "cell_type": "code",
   "execution_count": 40,
   "id": "4b86293f-3d5c-4427-948f-87d00d576f65",
   "metadata": {},
   "outputs": [
    {
     "name": "stdout",
     "output_type": "stream",
     "text": [
      "Students name is john, age is 18\n",
      "john's grade is A+\n"
     ]
    },
    {
     "data": {
      "text/plain": [
       "True"
      ]
     },
     "execution_count": 40,
     "metadata": {},
     "output_type": "execute_result"
    }
   ],
   "source": [
    "class Student:\n",
    "    def __init__(self, name, age):\n",
    "        self.name = name\n",
    "        self.age = age\n",
    "    def display_details(self):\n",
    "        return f\"Students name is {self.name}, age is {self.age}\"\n",
    "    def set_grade(self, grade):\n",
    "        self.grade = grade\n",
    "    def get_grade(self):\n",
    "        return f\"{self.name}'s grade is {self.grade}\"\n",
    "    def is_adult(self):\n",
    "        if self.age>=18:\n",
    "            return True\n",
    "        else:\n",
    "            return False\n",
    "\n",
    "stud1 = Student(\"john\", 18)\n",
    "print(stud1.display_details())\n",
    "stud1.set_grade('A+')\n",
    "print(stud1.get_grade())\n",
    "stud1.is_adult()"
   ]
  },
  {
   "cell_type": "markdown",
   "id": "68c1c250-8431-44be-995d-2e08d2b8dd06",
   "metadata": {},
   "source": [
    "**Create a class named BankAccount with the following:**  \n",
    "\n",
    "**Attributes: account_holder, balance (initialized to 0).**\n",
    "\n",
    "Methods:\n",
    "1. deposit(amount): Adds the given amount to the balance.\n",
    "2. withdraw(amount): Deducts the given amount if sufficient balance is available.\n",
    "3. display_balance(): Prints the current balance.\n",
    "4. get_account_holder(): Returns the account holder's name."
   ]
  },
  {
   "cell_type": "code",
   "execution_count": 64,
   "id": "5f21d372-692e-404d-8a9a-ebb384aff60b",
   "metadata": {},
   "outputs": [
    {
     "name": "stdout",
     "output_type": "stream",
     "text": [
      "Your previous balance is 1000\n",
      "You deposited 20 and your updated balance is 1020\n",
      "\n",
      "You withdrew 1000 and your balance is 20\n",
      "\n",
      "Yor balance is 20\n",
      "\n",
      "Account holder name is 'Hercules'\n"
     ]
    }
   ],
   "source": [
    "class BankAccount:\n",
    "    def __init__(self, account_holder, balance=0):\n",
    "        self.account_holder = account_holder\n",
    "        self.balance = balance\n",
    "    def deposit(self, amount):\n",
    "        print(f\"Your previous balance is {self.balance}\")\n",
    "        self.balance += amount\n",
    "        return f\"You deposited {amount} and your updated balance is {self.balance}\\n\"\n",
    "    def withdraw(self, amount):\n",
    "        if amount<=self.balance:\n",
    "            self.balance -= amount\n",
    "            return f\"You withdrew {amount} and your balance is {self.balance}\\n\"\n",
    "        else:\n",
    "            return \"Balance is not sufficient\\n\"\n",
    "    def display_balance(self):\n",
    "        return f\"Yor balance is {self.balance}\\n\"\n",
    "    def get_account_holder(self):\n",
    "        return f\"Account holder name is '{self.account_holder}'\"\n",
    "\n",
    "customer1 = BankAccount(\"John\")\n",
    "customer2 = BankAccount(\"Hercules\", 1000)\n",
    "\n",
    "print(customer2.deposit(20))\n",
    "print(customer2.withdraw(1000))\n",
    "print(customer2.display_balance())\n",
    "print(customer2.get_account_holder())"
   ]
  },
  {
   "cell_type": "markdown",
   "id": "42c29a9d-917f-416e-aad1-4b1e3c9531ff",
   "metadata": {},
   "source": [
    "**Assignment:**\n",
    "Book Class (Library System)\n",
    "\n",
    "Question:\n",
    "Create a class named Book with the following:\n",
    "Attributes: title, author, price.\n",
    "Methods:\n",
    "1. display_book(): Displays book details.\n",
    "2. apply_discount(percent): Reduces the price based on a discount percentage.\n",
    "3. get_price(): Returns the updated price."
   ]
  },
  {
   "cell_type": "code",
   "execution_count": 81,
   "id": "e5b09c3b-c384-4acb-a5b8-58af9652388d",
   "metadata": {},
   "outputs": [
    {
     "name": "stdout",
     "output_type": "stream",
     "text": [
      "Book : Harry Potter, Author : JK Rowling, Price : 500\n"
     ]
    },
    {
     "data": {
      "text/plain": [
       "'New price is 450.0'"
      ]
     },
     "execution_count": 81,
     "metadata": {},
     "output_type": "execute_result"
    }
   ],
   "source": [
    "class Book:\n",
    "    def __init__(self, title, author, price):\n",
    "        self.title = title\n",
    "        self.author = author\n",
    "        self.price = price\n",
    "    def display_book(self):\n",
    "        return f\"Book : {self.title}, Author : {self.author}, Price : {self.price}\"\n",
    "    def apply_discount(self, percent):\n",
    "        self.price=((100-percent)/100)*(self.price)\n",
    "    def get_price(self):\n",
    "         return f\"New price is {self.price}\"\n",
    "\n",
    "book1 = Book(\"Harry Potter\", \"JK Rowling\", 500)\n",
    "print(book1.display_book())\n",
    "book1.apply_discount(10)\n",
    "book1.get_price()\n",
    "    "
   ]
  },
  {
   "cell_type": "code",
   "execution_count": null,
   "id": "ac7aa7a5-8f9b-4324-a2cf-d3a1b95f7221",
   "metadata": {},
   "outputs": [],
   "source": []
  }
 ],
 "metadata": {
  "kernelspec": {
   "display_name": "Python 3 (ipykernel)",
   "language": "python",
   "name": "python3"
  },
  "language_info": {
   "codemirror_mode": {
    "name": "ipython",
    "version": 3
   },
   "file_extension": ".py",
   "mimetype": "text/x-python",
   "name": "python",
   "nbconvert_exporter": "python",
   "pygments_lexer": "ipython3",
   "version": "3.12.7"
  }
 },
 "nbformat": 4,
 "nbformat_minor": 5
}
