{
 "cells": [
  {
   "cell_type": "markdown",
   "id": "80dab4bf-252b-41df-b295-df85346a2526",
   "metadata": {
    "jp-MarkdownHeadingCollapsed": true
   },
   "source": [
    "## Python Inheritance"
   ]
  },
  {
   "cell_type": "markdown",
   "id": "3c439dec-d97f-4223-8e65-af7778285ac9",
   "metadata": {},
   "source": [
    "- Inheritance is the capability of one class to derive or inherit the properties from another class\n",
    "- the class that derives properties is called the derived class or child class and from which the properties are being derived is called base class or parent class\n",
    "- a child class will inherit all the attributes and methods of a parent class\n",
    "- It is transitive nature, which means that if class B inherits from another class A, then all the subclasses of B would automatically inherit from class A"
   ]
  },
  {
   "cell_type": "code",
   "execution_count": 2,
   "id": "ed35c121-bd69-4524-92eb-7431472588a3",
   "metadata": {},
   "outputs": [
    {
     "name": "stdout",
     "output_type": "stream",
     "text": [
      "Animal makes a sound\n",
      "Dog barks\n"
     ]
    }
   ],
   "source": [
    "#Parent class\n",
    "class Animal:\n",
    "    def sound(self):\n",
    "        print(\"Animal makes a sound\")\n",
    "#Child class inheriting from Animal\n",
    "class Dog(Animal):\n",
    "    def bark(self):\n",
    "        print(\"Dog barks\")\n",
    "\n",
    "dog = Dog()\n",
    "dog.sound()\n",
    "dog.bark()"
   ]
  },
  {
   "cell_type": "markdown",
   "id": "f4cd8d59-99aa-45f7-9bf7-60a80d1c64d1",
   "metadata": {},
   "source": [
    "**Method overriding**\n",
    "- this can be done always in an inheritance relationship\n",
    "- this is a type of polymorphism\n",
    "- to allow specific implementation a child class can override a method in parent class"
   ]
  },
  {
   "cell_type": "code",
   "execution_count": 9,
   "id": "58ee122a-29f8-48f2-919f-0c16e6eb20d9",
   "metadata": {},
   "outputs": [
    {
     "name": "stdout",
     "output_type": "stream",
     "text": [
      "Tommy barks\n",
      "Whiskers meows\n"
     ]
    }
   ],
   "source": [
    "#Parent class\n",
    "class Animal:\n",
    "    def __init__(self, name):\n",
    "        self.name = name\n",
    "    def sound(self):\n",
    "        return \"It makes some sound\"\n",
    "#Child class inheriting from Animal\n",
    "class Dog(Animal):\n",
    "    def sound(self):\n",
    "        return f\"{self.name} barks\"\n",
    "#Child class inheriting from Animal\n",
    "class Cat(Animal):\n",
    "    def sound(self):\n",
    "        return f\"{self.name} meows\"\n",
    "#Creating instances\n",
    "d1 = Dog('Tommy')\n",
    "c1 = Cat(\"Whiskers\")\n",
    "\n",
    "print(d1.sound())\n",
    "print(c1.sound())"
   ]
  },
  {
   "cell_type": "markdown",
   "id": "ac300647-83e9-46e0-aea3-5a74c8714491",
   "metadata": {
    "jp-MarkdownHeadingCollapsed": true
   },
   "source": [
    "## Task1  "
   ]
  },
  {
   "cell_type": "markdown",
   "id": "3e15627a-7c69-4add-8970-6751e4c23caa",
   "metadata": {},
   "source": [
    "**Create a class named Employee with the following:**   \n",
    "Attributes: name, salary, and department.\n",
    "Methods:\n",
    "1. display_info(): Prints the employee’s details.\n",
    "2. give_raise(amount): Increases the salary by the given amount.\n",
    "3. get_salary(): Returns the employee’s current salary."
   ]
  },
  {
   "cell_type": "code",
   "execution_count": 14,
   "id": "d13b7347-f448-4c73-8f77-65b113ece39c",
   "metadata": {},
   "outputs": [
    {
     "name": "stdout",
     "output_type": "stream",
     "text": [
      "Giri 10000 CSE\n"
     ]
    },
    {
     "data": {
      "text/plain": [
       "12000"
      ]
     },
     "execution_count": 14,
     "metadata": {},
     "output_type": "execute_result"
    }
   ],
   "source": [
    "class Employee:\n",
    "    def __init__(self, name, salary, department):\n",
    "        self.name = name\n",
    "        self.salary = salary\n",
    "        self.department = department\n",
    "    def display_info(self):\n",
    "        print(f\"{self.name} {self.salary} {self.department}\")\n",
    "    def give_raise(self, amount):\n",
    "        self.salary+=amount\n",
    "    def get_salary(self):\n",
    "        return self.salary\n",
    "\n",
    "emp1 = Employee(\"Giri\", 10000, \"CSE\")\n",
    "emp1.display_info()\n",
    "emp1.give_raise(2000)\n",
    "emp1.get_salary()"
   ]
  },
  {
   "cell_type": "markdown",
   "id": "a72c672c-c984-40a0-9de0-78a2219485c5",
   "metadata": {
    "jp-MarkdownHeadingCollapsed": true
   },
   "source": [
    "## Python Polymorphism"
   ]
  },
  {
   "cell_type": "markdown",
   "id": "618fca8b-c85a-42b7-a1bb-63dcbe417640",
   "metadata": {},
   "source": [
    "- means having many forms"
   ]
  },
  {
   "cell_type": "code",
   "execution_count": 16,
   "id": "2db32b6a-928f-4ffb-bd8b-4590e5ff4b04",
   "metadata": {},
   "outputs": [
    {
     "name": "stdout",
     "output_type": "stream",
     "text": [
      "bark\n",
      "meow\n"
     ]
    }
   ],
   "source": [
    "class Dog:\n",
    "    def sound(self):\n",
    "        return \"bark\"\n",
    "class Cat:\n",
    "    def sound(self):\n",
    "        return \"meow\"\n",
    "\n",
    "#Polymorphism in action\n",
    "def animal_sound(animal):\n",
    "    print(animal.sound())\n",
    "\n",
    "d = Dog()\n",
    "c = Cat()\n",
    "\n",
    "animal_sound(d)\n",
    "animal_sound(c)"
   ]
  },
  {
   "cell_type": "markdown",
   "id": "7bf0cbcf-c803-4332-815e-5f731d372e5f",
   "metadata": {
    "jp-MarkdownHeadingCollapsed": true
   },
   "source": [
    "## Python Encapsulation"
   ]
  },
  {
   "cell_type": "markdown",
   "id": "649995ef-1162-45e1-9077-75d086f69879",
   "metadata": {},
   "source": [
    "- It describes the idea of wrapping data and the methods that work on data within one unit\n",
    "- It is the process of restricting direct access to some attributes and methods to protect data integrity.\n",
    "- This puts restrictions on accessing variables and methods directly and can prevent the accidental modification of data.\n",
    "- \n",
    "- It is implemented using private and protected access modifiers."
   ]
  },
  {
   "cell_type": "code",
   "execution_count": 13,
   "id": "981acf36-4af5-4c70-854e-36370e1f4d0b",
   "metadata": {},
   "outputs": [
    {
     "name": "stdout",
     "output_type": "stream",
     "text": [
      "12345\n",
      "ABC Bank\n",
      "30000\n"
     ]
    },
    {
     "ename": "AttributeError",
     "evalue": "'BankAccount' object has no attribute '__balance'",
     "output_type": "error",
     "traceback": [
      "\u001b[1;31m---------------------------------------------------------------------------\u001b[0m",
      "\u001b[1;31mAttributeError\u001b[0m                            Traceback (most recent call last)",
      "Cell \u001b[1;32mIn[13], line 14\u001b[0m\n\u001b[0;32m     12\u001b[0m \u001b[38;5;28mprint\u001b[39m(acc\u001b[38;5;241m.\u001b[39m_bank_name)       \u001b[38;5;66;03m#Protected: Accessible but not recommended\u001b[39;00m\n\u001b[0;32m     13\u001b[0m \u001b[38;5;28mprint\u001b[39m(acc\u001b[38;5;241m.\u001b[39mget_balance())    \u001b[38;5;66;03m#Accessing Private variable with a method \u001b[39;00m\n\u001b[1;32m---> 14\u001b[0m \u001b[38;5;28mprint\u001b[39m(acc\u001b[38;5;241m.\u001b[39m__balance)\n",
      "\u001b[1;31mAttributeError\u001b[0m: 'BankAccount' object has no attribute '__balance'"
     ]
    }
   ],
   "source": [
    "class BankAccount:\n",
    "    def __init__(self, acc_num, balance):\n",
    "        self.acc_num = acc_num   #Public\n",
    "        self._bank_name = \"ABC Bank\"   #Protected\n",
    "        self.__balance = balance   #Private\n",
    "   \n",
    "    def get_balance(self):    #Public method to access private variable\n",
    "        return self.__balance\n",
    "\n",
    "acc = BankAccount(12345, 30000)\n",
    "print(acc.acc_num)          #Public:Accessible\n",
    "print(acc._bank_name)       #Protected: Accessible but not recommended\n",
    "print(acc.get_balance())    #Accessing Private variable with a method \n",
    "print(acc.__balance)        #This will rise an Attribute error, directly can't access private variable"
   ]
  },
  {
   "cell_type": "code",
   "execution_count": 39,
   "id": "07ee1874-ad0a-44bd-8bf3-9f1f0dbe8311",
   "metadata": {},
   "outputs": [
    {
     "name": "stdout",
     "output_type": "stream",
     "text": [
      "Toyota\n",
      "100\n",
      "150\n"
     ]
    }
   ],
   "source": [
    "class Car:\n",
    "    def __init__(self, brand, speed):\n",
    "        self.brand = brand     #Public variable\n",
    "        self.__speed = speed   #Private variable\n",
    "    def get_speed(self):\n",
    "        return self.__speed    #Access private variable\n",
    "    def set_speed(self, speed):\n",
    "        if speed > 0:\n",
    "            self.__speed = speed   #Modify private variable\n",
    "        else:\n",
    "            print(\"Speed must be positive\")\n",
    "\n",
    "car = Car(\"Toyota\",100)\n",
    "print(car.brand)            #Accessible\n",
    "print(car.get_speed())      #Accessing private variable via method\n",
    "car.set_speed(150)\n",
    "print(car.get_speed())\n",
    "\n",
    "# print(car.__speed)          #This will give attribute error\n",
    "        "
   ]
  },
  {
   "cell_type": "code",
   "execution_count": null,
   "id": "2f3ff67a-287f-482a-91a0-8779ecdaa246",
   "metadata": {},
   "outputs": [],
   "source": []
  },
  {
   "cell_type": "markdown",
   "id": "a73c5d61-6455-4743-996a-486df27ad732",
   "metadata": {},
   "source": [
    "## Task2"
   ]
  },
  {
   "cell_type": "markdown",
   "id": "ad2e8883-ddb5-467b-af6d-add2f3d9000e",
   "metadata": {},
   "source": [
    "**Circle Class (Math Operations)**\n",
    "\n",
    "Question:\n",
    "Create a class named Circle with the following:\n",
    "\n",
    "Attribute: radius.\n",
    "\n",
    "Methods:\n",
    "\n",
    "1. area(): Returns the area of the circle.\n",
    "2. circumference(): Returns the circumference.\n",
    "3. change_radius(new_radius): Updates the circle’s radius.\n",
    "\n",
    "Create an object, calculate the area and circumference, and change the radius."
   ]
  },
  {
   "cell_type": "code",
   "execution_count": 55,
   "id": "392688c0-9a2c-4510-8a6c-03a88c032faa",
   "metadata": {},
   "outputs": [
    {
     "name": "stdout",
     "output_type": "stream",
     "text": [
      "28.274333882308138\n",
      "18.84955592153876\n",
      "6\n"
     ]
    }
   ],
   "source": [
    "import math\n",
    "class Circle:\n",
    "    def __init__(self, radius):\n",
    "        self.radius = radius\n",
    "    def area(self):\n",
    "        return (math.pi)*(self.radius**2)\n",
    "    def circumference(self):\n",
    "        return 2*(math.pi)*(self.radius)\n",
    "    def change_radius(self, new_radius):\n",
    "        self.radius = new_radius\n",
    "        return self.radius\n",
    "\n",
    "circle = Circle(3)\n",
    "print(circle.area())\n",
    "print(circle.circumference())\n",
    "print(circle.change_radius(6))"
   ]
  },
  {
   "cell_type": "markdown",
   "id": "1db3bc2c-a2c8-46e1-a22f-3408c3f3836e",
   "metadata": {},
   "source": [
    "## Advance oop questions:"
   ]
  },
  {
   "cell_type": "markdown",
   "id": "1a9c9a75-498e-4a20-b584-8b1a2bb7f4bc",
   "metadata": {},
   "source": [
    "**Question1**   \n",
    "**Create a class Library where users can**\n",
    "- add_book(title),\n",
    "- remove_book(title), and\n",
    "- view_books(). Implement it using a list.\n",
    "\n",
    "Expected Output:\n",
    "- Books in library: ['Python Basics', 'OOP in Python']\n",
    "- Book removed: Python Basics"
   ]
  },
  {
   "cell_type": "code",
   "execution_count": 26,
   "id": "41b0cbbd-70a4-4e6b-a76f-befdb3f1a23c",
   "metadata": {},
   "outputs": [
    {
     "name": "stdout",
     "output_type": "stream",
     "text": [
      "Books in library: ['Python Basics', 'OOP in Python']\n",
      "Book removed: Python Basics\n"
     ]
    }
   ],
   "source": [
    "class Library:\n",
    "    def __init__(self):\n",
    "        self.books = []\n",
    "    def add_book(self, title):\n",
    "        self.books.append(title)\n",
    "    def remove_book(self, title):\n",
    "        if title in self.books:\n",
    "            self.books.remove(title)\n",
    "            return f\"Book removed: {title}\"\n",
    "    def view_books(self):\n",
    "        return f\"Books in library: {self.books}\"\n",
    "\n",
    "lib = Library()\n",
    "lib.add_book(\"Python Basics\")\n",
    "lib.add_book(\"OOP in Python\")\n",
    "print(lib.view_books())\n",
    "print(lib.remove_book(\"Python Basics\"))"
   ]
  },
  {
   "cell_type": "markdown",
   "id": "70ba37ef-4e9c-46d9-a988-883006f2a92d",
   "metadata": {},
   "source": [
    "**Question2**  \n",
    "**Create a class Employee with** \n",
    "- attributes name and salary.   \n",
    "- Implement a class method from_string() that takes a string \"John,5000\" and creates an Employee object.    \n",
    "\n",
    "Expected Output:    \n",
    "Name: John    \n",
    "Salary: 5000"
   ]
  },
  {
   "cell_type": "code",
   "execution_count": 60,
   "id": "9f50b642-58ce-4eb0-a207-3d0aadb5b16a",
   "metadata": {
    "scrolled": true
   },
   "outputs": [
    {
     "name": "stdout",
     "output_type": "stream",
     "text": [
      "Name: John\n",
      "Salary: 5000\n"
     ]
    }
   ],
   "source": [
    "class Employee:\n",
    "    def __init__(self, name, salary):\n",
    "        self.name=name\n",
    "        self.salary=salary\n",
    "    def from_string(string):\n",
    "        name, salary = string.split(',')\n",
    "        return Employee(name, int(salary))\n",
    "    def display(self):\n",
    "        print(f\"Name: {self.name}\\nSalary: {self.salary}\")\n",
    "        \n",
    "emp = Employee.from_string(\"John,5000\")\n",
    "emp.display()"
   ]
  },
  {
   "cell_type": "code",
   "execution_count": 30,
   "id": "35867b31-32a6-4508-b425-c5471addd4d1",
   "metadata": {},
   "outputs": [
    {
     "name": "stdout",
     "output_type": "stream",
     "text": [
      "              1               \n",
      "             1 1              \n",
      "            1 2 1             \n",
      "           1 3 3 1            \n",
      "          1 4 6 4 1           \n",
      "        1 5 10 10 5 1         \n",
      "       1 6 15 20 15 6 1       \n",
      "     1 7 21 35 35 21 7 1      \n",
      "    1 8 28 56 70 56 28 8 1    \n",
      " 1 9 36 84 126 126 84 36 9 1  \n"
     ]
    }
   ],
   "source": [
    "def pascal(n):\n",
    "    t = [[1] * (i + 1) for i in range(n)]\n",
    "    for i in range(2, n):\n",
    "        for j in range(1, i):\n",
    "            t[i][j] = t[i - 1][j - 1] + t[i - 1][j]\n",
    "    for row in t:\n",
    "        print(\" \".join(map(str, row)).center(n * 3))\n",
    "\n",
    "pascal(10)\n"
   ]
  },
  {
   "cell_type": "code",
   "execution_count": null,
   "id": "0b7d848c-6dd3-48e5-b394-6356cdc14aac",
   "metadata": {},
   "outputs": [],
   "source": []
  }
 ],
 "metadata": {
  "kernelspec": {
   "display_name": "Python 3 (ipykernel)",
   "language": "python",
   "name": "python3"
  },
  "language_info": {
   "codemirror_mode": {
    "name": "ipython",
    "version": 3
   },
   "file_extension": ".py",
   "mimetype": "text/x-python",
   "name": "python",
   "nbconvert_exporter": "python",
   "pygments_lexer": "ipython3",
   "version": "3.12.7"
  }
 },
 "nbformat": 4,
 "nbformat_minor": 5
}
