{
 "cells": [
  {
   "cell_type": "markdown",
   "id": "a2854783-a8e2-4963-8081-e398277a7955",
   "metadata": {},
   "source": [
    "## Python Unittest"
   ]
  },
  {
   "cell_type": "markdown",
   "id": "f448f8cb-85e9-4090-b528-f4ff3948c2c4",
   "metadata": {},
   "source": [
    "**What is Unit Testing?**\n",
    "- Unit testing is a software testing technique where individual components (or units) of a program are tested independently to verify that they work as expected.\n",
    "- In Python, the built-in *unittest* module provides a framework for writing and running tests."
   ]
  },
  {
   "cell_type": "markdown",
   "id": "07222c1c-1a8d-4418-ab0f-ae4a367654b4",
   "metadata": {},
   "source": [
    "**Why Use Unit Testing?**\n",
    "- Ensures individual components work correctly.\n",
    "- Helps detect bugs early in development.\n",
    "- Makes refactoring easier.\n",
    "- Encourages modular, maintainable code."
   ]
  },
  {
   "cell_type": "markdown",
   "id": "bdc92750-58ad-4ec7-8ddd-97d6fee40bbd",
   "metadata": {},
   "source": [
    "**The unittest Module**    \n",
    "Python’s unittest module provides a rich set of tools for writing and executing tests. It follows the xUnit testing style, similar to JUnit in Java.\n",
    "\n",
    "Key Features of unittest:\n",
    "- Test case creation using unittest.TestCase\n",
    "- Assertions to check expected results\n",
    "- Test fixtures (setUp and tearDown)\n",
    "- Test suites and test runners\n",
    "- Mocking capabilities"
   ]
  },
  {
   "cell_type": "markdown",
   "id": "f1284f7a-80d1-47f2-8c76-9b7ac6c425ac",
   "metadata": {},
   "source": [
    "**Assertions in unittest**   \n",
    "Assertions check whether the expected and actual results match. Some common assertions:\n",
    "\n",
    "Assertion Method   \tDescription   \n",
    "\n",
    "- assertEqual(a, b)\tChecks if a == b\n",
    "- assertNotEqual(a, b)\tChecks if a != b\n",
    "- assertTrue(x)\tChecks if x is True\n",
    "- assertFalse(x)\tChecks if x is False\n",
    "- assertIs(a, b)\tChecks if a is b\n",
    "- assertIsNot(a, b)\tChecks if a is not b\n",
    "- assertIsNone(x)\tChecks if x is None\n",
    "- assertIsNotNone(x)\tChecks if x is not None\n",
    "- assertIn(a, b)\tChecks if a is in b\n",
    "- assertNotIn(a, b)\tChecks if a is not in b\n",
    "- assertRaises(Exception, func)\tChecks if func raises Exception"
   ]
  },
  {
   "cell_type": "code",
   "execution_count": 1,
   "id": "278706f2-9d62-4017-8ad8-d492b3cdae80",
   "metadata": {},
   "outputs": [
    {
     "name": "stderr",
     "output_type": "stream",
     "text": [
      "..\n",
      "----------------------------------------------------------------------\n",
      "Ran 2 tests in 0.063s\n",
      "\n",
      "OK\n"
     ]
    }
   ],
   "source": [
    "import unittest\n",
    "\n",
    "class TestMathOperations(unittest.TestCase):\n",
    "\n",
    "    def test_addition(self):\n",
    "        self.assertEqual(2+3, 5)\n",
    "\n",
    "    def test_subtraction(self):\n",
    "        self.assertEqual(10-5, 5)\n",
    "\n",
    "if __name__ == '__main__':\n",
    "    unittest.main(argv=[''], exit=False)\n",
    "\n",
    "#unittest.main() - This function discovers and runs all test methods in the script (methods that start with test_)\n",
    "#arg.v=[''] prevents it from processing unwanted arguments\n",
    "#exit=False - This would stop execution in Jupyter or an interactive environment"
   ]
  },
  {
   "cell_type": "markdown",
   "id": "3870b204-0d3a-45ed-a13b-26e0a1c371cb",
   "metadata": {},
   "source": [
    "Explanation\n",
    "- Import unittest.\n",
    "- Create a test class inheriting from unittest.TestCase.\n",
    "- Define test methods (must start with test_).\n",
    "- Use assertion methods to verify expected outcomes.\n",
    "- Call unittest.main() to run tests."
   ]
  },
  {
   "cell_type": "code",
   "execution_count": 3,
   "id": "8bb75386-7f97-44ef-b106-c85071b46c61",
   "metadata": {},
   "outputs": [
    {
     "name": "stderr",
     "output_type": "stream",
     "text": [
      "...\n",
      "----------------------------------------------------------------------\n",
      "Ran 3 tests in 0.010s\n",
      "\n",
      "OK\n"
     ]
    }
   ],
   "source": [
    "import unittest\n",
    "\n",
    "def divide(a, b):\n",
    "    return a / b\n",
    "\n",
    "class TestMath(unittest.TestCase):\n",
    "    def test_divide_by_zero(self):\n",
    "        with self.assertRaises(ZeroDivisionError):\n",
    "            divide(10, 0)\n",
    "\n",
    "#assertRaises(Exception, func)\tChecks if func raises Exception\n",
    "\n",
    "if __name__ == '__main__':\n",
    "    unittest.main(argv=[''], exit=False)"
   ]
  },
  {
   "cell_type": "code",
   "execution_count": 5,
   "id": "987779cc-0f8d-452a-bbcf-df82f6cc6f92",
   "metadata": {},
   "outputs": [
    {
     "name": "stderr",
     "output_type": "stream",
     "text": [
      ".....\n",
      "----------------------------------------------------------------------\n",
      "Ran 5 tests in 0.018s\n",
      "\n",
      "OK\n"
     ]
    }
   ],
   "source": [
    "import unittest\n",
    "\n",
    "def is_prime(n):\n",
    "    if n<2:\n",
    "        return False\n",
    "    for i in range(2, int(n**0.5)+1):\n",
    "        if n%i==0:\n",
    "            return False\n",
    "    return True\n",
    "\n",
    "class TestPrimeFunction(unittest.TestCase):\n",
    "    def test_prime_numbers(self):\n",
    "        self.assertTrue(is_prime(2))\n",
    "        self.assertTrue(is_prime(7))\n",
    "    def test_non_prime_numbers(self):\n",
    "        self.assertFalse(is_prime(1))\n",
    "        self.assertFalse(is_prime(9))    \n",
    "\n",
    "if __name__ == '__main__':\n",
    "    unittest.main(argv=[''], exit=False)"
   ]
  },
  {
   "cell_type": "code",
   "execution_count": 1,
   "id": "aba5c1f9-14cd-424e-ac30-32174d41c94e",
   "metadata": {},
   "outputs": [
    {
     "name": "stderr",
     "output_type": "stream",
     "text": [
      "F..\n",
      "======================================================================\n",
      "FAIL: test_negative_number (__main__.Test_factorial.test_negative_number)\n",
      "----------------------------------------------------------------------\n",
      "Traceback (most recent call last):\n",
      "  File \"C:\\Users\\PHANEENDRA\\AppData\\Local\\Temp\\ipykernel_17532\\2742403690.py\", line 21, in test_negative_number\n",
      "    self.assertTrue(factorial(-5),120)\n",
      "AssertionError: None is not true : 120\n",
      "\n",
      "----------------------------------------------------------------------\n",
      "Ran 3 tests in 0.012s\n",
      "\n",
      "FAILED (failures=1)\n"
     ]
    }
   ],
   "source": [
    "import unittest\n",
    "\n",
    "def factorial(n):\n",
    "    result = 1\n",
    "    if n == 0 or n == 1:\n",
    "        return result\n",
    "    else:\n",
    "        for i in range(1, n+1):\n",
    "            result *= i\n",
    "            return result\n",
    "\n",
    "class Test_factorial(unittest.TestCase):\n",
    "    def test_postive_number(self):\n",
    "        self.assertTrue(factorial(2),2)\n",
    "        self.assertTrue(factorial(3),6)\n",
    "        self.assertTrue(factorial(5),120)\n",
    "    def test_zero_or_one(self):\n",
    "        self.assertTrue(factorial(0),1)\n",
    "        self.assertTrue(factorial(1),1)\n",
    "    def test_negative_number(self):\n",
    "        self.assertTrue(factorial(-5),120)\n",
    "\n",
    "if __name__ == '__main__':\n",
    "    unittest.main(argv=[''], exit=False)\n",
    "            "
   ]
  },
  {
   "cell_type": "code",
   "execution_count": null,
   "id": "145c59e3-aee2-4774-b5c6-1a9feff0e861",
   "metadata": {},
   "outputs": [],
   "source": []
  }
 ],
 "metadata": {
  "kernelspec": {
   "display_name": "Python 3 (ipykernel)",
   "language": "python",
   "name": "python3"
  },
  "language_info": {
   "codemirror_mode": {
    "name": "ipython",
    "version": 3
   },
   "file_extension": ".py",
   "mimetype": "text/x-python",
   "name": "python",
   "nbconvert_exporter": "python",
   "pygments_lexer": "ipython3",
   "version": "3.12.7"
  }
 },
 "nbformat": 4,
 "nbformat_minor": 5
}
