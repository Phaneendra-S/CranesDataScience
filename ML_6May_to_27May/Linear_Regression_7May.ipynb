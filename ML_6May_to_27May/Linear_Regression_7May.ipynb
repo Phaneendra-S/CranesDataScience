{
 "cells": [
  {
   "cell_type": "markdown",
   "id": "7670abb8-0cdd-4483-b268-e520f95014c6",
   "metadata": {},
   "source": [
    "Linear Regression is a fundamental supervised learning algorithm used for predicting continuous values based on one or more input features"
   ]
  },
  {
   "cell_type": "markdown",
   "id": "cfd28141-8d82-4132-8844-594c8b919b5b",
   "metadata": {},
   "source": [
    "we will assume the data(the input and output variables) are linearly related, its not always true, it may have error, it will create a approximate linear equation"
   ]
  },
  {
   "cell_type": "markdown",
   "id": "55788086-0a54-4921-9e5a-8849a82c7099",
   "metadata": {},
   "source": [
    "it establishes linear relationship between the independent variables and dependent variables.                         \n",
    "y=b0+b1x1+b2x2+b3x3+.....+e"
   ]
  },
  {
   "cell_type": "markdown",
   "id": "41ed0985-5ae7-432c-ba8c-122fa72b7bf5",
   "metadata": {},
   "source": [
    "**assumptions of linear regression:**\n",
    "- linearity                   \n",
    "  the relationship between x and y is linear                  \n",
    "- independence                     \n",
    "  the observations of independent of each other                         \n",
    "- homoscedasticity                            \n",
    "  constant variance of residuals(the difference between true value and the machine predicted value)                   \n",
    "- no multicollinearity                             \n",
    "  independent variables should not be highly corelated               "
   ]
  },
  {
   "cell_type": "code",
   "execution_count": null,
   "id": "d9f94ce6-8cd8-4b18-9e6c-11be8198239b",
   "metadata": {},
   "outputs": [],
   "source": []
  }
 ],
 "metadata": {
  "kernelspec": {
   "display_name": "Python 3 (ipykernel)",
   "language": "python",
   "name": "python3"
  },
  "language_info": {
   "codemirror_mode": {
    "name": "ipython",
    "version": 3
   },
   "file_extension": ".py",
   "mimetype": "text/x-python",
   "name": "python",
   "nbconvert_exporter": "python",
   "pygments_lexer": "ipython3",
   "version": "3.12.7"
  }
 },
 "nbformat": 4,
 "nbformat_minor": 5
}
