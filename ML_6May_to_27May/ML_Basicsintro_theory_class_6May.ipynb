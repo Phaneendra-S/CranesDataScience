{
 "cells": [
  {
   "cell_type": "markdown",
   "id": "26c4408b-70c2-4b01-bf99-21a4b071c901",
   "metadata": {},
   "source": [
    "ML is an application of AI, where it uses algorithms and data to analyse patterns and predict an output/take a decision by itself without human intervention.\n",
    "\n",
    "it is how computer performs tasks by their own previous experiences"
   ]
  },
  {
   "cell_type": "markdown",
   "id": "49a7865d-3f8f-4080-bf25-97739c8a26c0",
   "metadata": {},
   "source": [
    "**advantages:**       \n",
    "- fast,accurate,efficient        \n",
    "- automation of most applications         \n",
    "- wide range of real life applications        \n",
    "- enhanced cyber security and spam detection        \n",
    "- handling multi-dimensional data         \n",
    "- no human intervention        \n",
    "          \n",
    "**disadvantages:**            \n",
    "- its very difficult to identify and rectify error          \n",
    "- interpretation requires more time and space          "
   ]
  },
  {
   "cell_type": "markdown",
   "id": "63d8ad2e-2a3c-4d6e-bf89-e4b92b8edd76",
   "metadata": {},
   "source": [
    "**types of ML:**       \n",
    "- **Supervised**- here in this we have labelled(some input data is already tagged with correct output) training data and on the basis of that machines predict the output           \n",
    "- ex: house price prediction, stock prediction, spam prediction   \n",
    "              \n",
    "- **Unsupervised** - it allows model to learn on its own and discover patterns that were previously undetected it mainly deals with unlabelled data\n",
    "-  ex: clustering,association, neural networks       \n",
    "              \n",
    "- **Semi-supervised**                \n",
    "- **Reinforcement learning**           "
   ]
  },
  {
   "cell_type": "markdown",
   "id": "84cdef70-d62a-4785-b285-eb09ef5a7a9a",
   "metadata": {},
   "source": [
    "**regression:**     \n",
    "- the output is continuous or contiguous             \n",
    "  ex:house prediction, stock market prediction, weather prediction             \n",
    "\n",
    "**classification:**         \n",
    "- it is a process of predicting from a group of predefined number of categories              \n",
    "  ex:spam prediction, sentimental analysis, churn prediction             "
   ]
  },
  {
   "cell_type": "markdown",
   "id": "d0c6754d-8e49-4e82-a6a7-bfa9b4831821",
   "metadata": {},
   "source": [
    "**Data preprocessing:**          \n",
    "- Encoding           \n",
    "- Scaling          \n",
    "            \n",
    "**Encoding:**         \n",
    "- one hot encoding:                         \n",
    "          it creates new columns of binary/boolean to include the presence of all the values from the original data         \n",
    "- label encoding:             \n",
    "           here each categorical label is assigned a numerical value so that machine can understand it.        \n"
   ]
  },
  {
   "cell_type": "markdown",
   "id": "721050ab-ac41-450b-9084-e1379c6a8500",
   "metadata": {},
   "source": [
    "**Scaling:**         \n",
    "- it transforms data so that features have a common scale.      \n",
    "\n",
    "**how it works:**         \n",
    "- normalization can change the range of values in the dataset       \n",
    "- it can also transform values to a common scale like 0 to 1        \n",
    "- scaling can be applied to a single column or multiple columns in a dataset        \n",
    "\n",
    "**Min-Max scaling(Normalization)**: \n",
    "- values are shifted and rescaled so that they end up in range 0 to 1.          \n",
    "      X'=X-Xmin/Xmax-Xmin         \n",
    "**Standardization(Z-score normalization)**:                    \n",
    "- Z=x-mu/sigma\n"
   ]
  },
  {
   "cell_type": "markdown",
   "id": "0c276c1a-0568-4164-bca6-869fc90a0224",
   "metadata": {},
   "source": [
    "**ML Workflow**\n",
    "- Problem definition\n",
    "- Data Collection(DAV)\n",
    "- Data preprocessing & cleaning(DAV)\n",
    "- Exploratory Data Analysis(DAV)\n",
    "- Feature Engineering & Selection : It is the process of selecting the input features for creating the ml model\n",
    "- Split the dataset into input features and target column\n",
    "- Divide into train dataset and test dataset\n",
    "- Apply ML algo into training data\n",
    "- Model evaluation\n",
    "- Deployment"
   ]
  },
  {
   "cell_type": "markdown",
   "id": "6f9f75b7-9980-4ead-9ebf-b7c32a95dc8c",
   "metadata": {},
   "source": [
    "**Two fundamental types of supervised learning problems**\n",
    "1. Regression problems       \n",
    "   Regression is used when target variable (output) is continuous           \n",
    "   It predicts numerical values\n",
    "2. Classification problems\n",
    "   It is used when target variable is categorical.                           \n",
    "   It predicts labels or classes                            \n",
    "   ex : Email spam detection(spam or not spam), Hand written digit recognition(0-9), Sentiment Analysis(positive,negative,neutral)                             "
   ]
  },
  {
   "cell_type": "markdown",
   "id": "385a64cb-3000-41b9-b9bf-13d98f248120",
   "metadata": {},
   "source": [
    "**Common Regression Algorithms**\n",
    "- Linear Regression\n",
    "- Polynomial Regression\n",
    "- Decision Tree Regression\n",
    "- Random Forest Regression\n",
    "- Support Vector Regression"
   ]
  },
  {
   "cell_type": "markdown",
   "id": "448713f5-f4bd-49ab-b93f-ce2b2795295e",
   "metadata": {},
   "source": [
    "**Performanace metrics in regression**       \n",
    "In regression accuracy isn't measured in the same way as in classification problems. you typically evaluate model's performance using error metrics\n",
    "- **Mean Absolute Error(MAE)**                 \n",
    "  It is the measure of the absolute difference between each actual and predicted value                              \n",
    "  MAE=SIGMA|yi-ycap|\n",
    "- **Mean Squared Error(MSE)**                 \n",
    "  It is the average of the square of the difference between original values and predicted values         \n",
    "- **Root Mean Squared Error(RMSE)**                      \n",
    "  Root of MSE\n",
    "- **R Squared(R2) - coefficient of determination**                       \n",
    "  It indicates how well models predictions approximate the actual data points                             \n",
    "  R2=1-SIGMA(yi-ycap)^2/SIGMA(yi-ybar)^2       "
   ]
  },
  {
   "cell_type": "markdown",
   "id": "e592854d-494b-4495-bc89-d0c7139e0a54",
   "metadata": {},
   "source": [
    "**Performance metrics in Classification**\n",
    "- Accuracy, Precision, Recall, F1-Score \n",
    "- ROC-AUC curve(for binary classification)\n",
    "- Confusion matrix\n",
    "  It takes the classification results and groups them into four categories:                             \n",
    "  TP: when both the actual and predicted are 1                                                                \n",
    "  TN: when both the actual and predicted are 0                           \n",
    "  FP: when the actual value is 0 but the predicted value is 1                                     \n",
    "  FN: when the actual value is 1 but the predicted value is 0               \n",
    "                                               \n",
    "    **Accuracy**   \n",
    "    - the number of correct predictions made by the model over all kinds of predictions made\n",
    "\n",
    "    **Precision**            \n",
    "    - out of all the predicted of a particular + or -, how many are actually + or -\n",
    "\n",
    "    **Recall**              \n",
    "    - out of all the actual + or -, how many are predicted as + or -\n",
    "\n",
    "    **F1 score**\n",
    "    - it is the harmonic mean of precision and recall          \n"
   ]
  },
  {
   "cell_type": "markdown",
   "id": "fe675bcb-f2a5-4f81-bbd9-d64064654ae8",
   "metadata": {},
   "source": []
  },
  {
   "cell_type": "code",
   "execution_count": null,
   "id": "ffc48277-6cab-4950-8b98-ab8d8548ab6d",
   "metadata": {},
   "outputs": [],
   "source": []
  }
 ],
 "metadata": {
  "kernelspec": {
   "display_name": "Python 3 (ipykernel)",
   "language": "python",
   "name": "python3"
  },
  "language_info": {
   "codemirror_mode": {
    "name": "ipython",
    "version": 3
   },
   "file_extension": ".py",
   "mimetype": "text/x-python",
   "name": "python",
   "nbconvert_exporter": "python",
   "pygments_lexer": "ipython3",
   "version": "3.12.7"
  }
 },
 "nbformat": 4,
 "nbformat_minor": 5
}
