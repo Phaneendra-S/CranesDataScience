{
 "cells": [
  {
   "cell_type": "markdown",
   "id": "860d11ae-fd7d-4293-a4a3-29903c179250",
   "metadata": {},
   "source": [
    "**List comprehension**\n",
    "- it has the following parts an input sequence, a variable, an optional predicate, an output expression\n",
    "- an input sequence\n",
    "- a variable representing members of the input sequence\n",
    "- an optional predicate expression\n",
    "- an output expression producing elements of the output list from members of the input sequence that satisfy the predicate"
   ]
  },
  {
   "cell_type": "code",
   "execution_count": 2,
   "id": "6515994a-4a63-4aa4-8543-03c88100a17c",
   "metadata": {},
   "outputs": [
    {
     "data": {
      "text/plain": [
       "[1, 2, 3, 4, 5]"
      ]
     },
     "execution_count": 2,
     "metadata": {},
     "output_type": "execute_result"
    }
   ],
   "source": [
    "y=list(range(1,6))\n",
    "y"
   ]
  },
  {
   "cell_type": "markdown",
   "id": "73dfd648-d603-40f7-9b53-d271fbf604d5",
   "metadata": {},
   "source": [
    "**general syntax**\n",
    "- new_list = [expression for item in iterable if condition]"
   ]
  },
  {
   "cell_type": "code",
   "execution_count": 12,
   "id": "e826e985-287f-4a63-a186-1481d032fbbb",
   "metadata": {},
   "outputs": [
    {
     "data": {
      "text/plain": [
       "[1, 2, 3, 4, 5, 6, 7, 8, 9, 10]"
      ]
     },
     "execution_count": 12,
     "metadata": {},
     "output_type": "execute_result"
    }
   ],
   "source": [
    "list_of_numbers = [i for i in range(1,11)]\n",
    "list_of_numbers"
   ]
  },
  {
   "cell_type": "code",
   "execution_count": 16,
   "id": "f70ed155-57bf-481c-b2a2-248de806c086",
   "metadata": {},
   "outputs": [
    {
     "data": {
      "text/plain": [
       "[4, 16, 36, 64, 100]"
      ]
     },
     "execution_count": 16,
     "metadata": {},
     "output_type": "execute_result"
    }
   ],
   "source": [
    "list_of_squares_of_even = [i*i for i in range(1,11) if i%2==0]\n",
    "list_of_squares_of_even"
   ]
  },
  {
   "cell_type": "code",
   "execution_count": 40,
   "id": "ce6680ac-295b-40a9-89b3-748aa2123d95",
   "metadata": {},
   "outputs": [
    {
     "data": {
      "text/plain": [
       "['C',\n",
       " 'V',\n",
       " 'o',\n",
       " 'a',\n",
       " 'c',\n",
       " 'o',\n",
       " 'a',\n",
       " 'o',\n",
       " 'D',\n",
       " 'S',\n",
       " 'c',\n",
       " 'd',\n",
       " 't',\n",
       " 'e',\n",
       " 'y',\n",
       " 'w',\n",
       " 't',\n",
       " 's',\n",
       " 'a',\n",
       " 'k',\n",
       " 'n',\n",
       " 't',\n",
       " 'e',\n",
       " 'i',\n",
       " 't',\n",
       " 'r',\n",
       " 'e',\n",
       " 'f']"
      ]
     },
     "execution_count": 40,
     "metadata": {},
     "output_type": "execute_result"
    }
   ],
   "source": [
    "para =\"Cranes Varsity offers a comprehensive online and offline Data Science \\\n",
    "course designed to equip you with the skills and knowledge needed to excel in this rapidly evolving field.\"\n",
    "\n",
    "list_of_words = [word[0] for word in para.split()]\n",
    "list_of_words"
   ]
  },
  {
   "cell_type": "code",
   "execution_count": 8,
   "id": "eaa90e70-dc43-4695-9790-ac0b548f81b8",
   "metadata": {},
   "outputs": [
    {
     "data": {
      "text/plain": [
       "['Science extra', 'designed extra', 'knowledge extra', 'excel extra']"
      ]
     },
     "execution_count": 8,
     "metadata": {},
     "output_type": "execute_result"
    }
   ],
   "source": [
    "para =\"Cranes Varsity offers a comprehensive online and offline Data Science \\\n",
    "course designed to equip you with the skills and knowledge needed to excel in this rapidly evolving field.\"\n",
    "\n",
    "list_of_words = [(word+' extra') for word in para.split() if word.count('e')==2]\n",
    "list_of_words"
   ]
  },
  {
   "cell_type": "markdown",
   "id": "d3143929-4234-48d8-aadb-a8bca9ec5e27",
   "metadata": {},
   "source": [
    "**one more usage general syntax**\n",
    "- new_list = [expression1 *if* condition *else* expression2 *for* item *in* iterable]"
   ]
  },
  {
   "cell_type": "code",
   "execution_count": 42,
   "id": "4192ae98-a89d-44cc-a885-e4301b5a8991",
   "metadata": {},
   "outputs": [
    {
     "data": {
      "text/plain": [
       "[1, 4, 27, 16, 125, 36, 343, 64, 729, 100]"
      ]
     },
     "execution_count": 42,
     "metadata": {},
     "output_type": "execute_result"
    }
   ],
   "source": [
    "list_of_squares_of_even = [i*i if i%2==0 else i**3 for i in range(1,11)]\n",
    "list_of_squares_of_even"
   ]
  },
  {
   "cell_type": "markdown",
   "id": "f112e3f5-c45e-41bb-9799-b2b1e5e231a8",
   "metadata": {},
   "source": [
    "**Generate a list of even numbers from 1 to 20**"
   ]
  },
  {
   "cell_type": "code",
   "execution_count": 50,
   "id": "bcbb70dc-4957-4522-8a31-48edb0c17863",
   "metadata": {},
   "outputs": [
    {
     "data": {
      "text/plain": [
       "[2, 4, 6, 8, 10, 12, 14, 16, 18, 20]"
      ]
     },
     "execution_count": 50,
     "metadata": {},
     "output_type": "execute_result"
    }
   ],
   "source": [
    "even_numbers = [i for i in range(1,21) if i%2 == 0]\n",
    "even_numbers"
   ]
  },
  {
   "cell_type": "markdown",
   "id": "4c7c27e9-5695-41ed-bdb1-f3f8770949d6",
   "metadata": {},
   "source": [
    "**Using LC, extract vowels from string**"
   ]
  },
  {
   "cell_type": "code",
   "execution_count": 68,
   "id": "15e683f8-23c7-43f0-aa2d-4bec2821d5da",
   "metadata": {},
   "outputs": [
    {
     "name": "stdin",
     "output_type": "stream",
     "text": [
      "Enter the string :  asdfghjkl\n"
     ]
    },
    {
     "data": {
      "text/plain": [
       "['a']"
      ]
     },
     "execution_count": 68,
     "metadata": {},
     "output_type": "execute_result"
    }
   ],
   "source": [
    "string = input(\"Enter the string : \")\n",
    "#method1\n",
    "# vowels = [i for i in string if i=='a' or i=='e' or i=='i' or i=='o' or i=='u']\n",
    "# vowels\n",
    "\n",
    "#method2\n",
    "# vowels=['a','e','i','o','u']\n",
    "# vowels_in_string = [letter for letter in string if letter in vowels]\n",
    "# vowels_in_string\n",
    "\n",
    "#method3\n",
    "vowels=[char for char in string if char in'aeiou']\n",
    "vowels"
   ]
  },
  {
   "cell_type": "markdown",
   "id": "6ae647f7-8510-4306-9984-35b5ca410271",
   "metadata": {},
   "source": [
    "**Convert a list of temperatures in celsius to fahrenheit**"
   ]
  },
  {
   "cell_type": "code",
   "execution_count": 96,
   "id": "9b470324-3ee2-4fad-ad3f-10724b2897b6",
   "metadata": {},
   "outputs": [
    {
     "name": "stdin",
     "output_type": "stream",
     "text": [
      "Enter the celsius temperatures :  10.1,30\n"
     ]
    },
    {
     "name": "stdout",
     "output_type": "stream",
     "text": [
      "[50.18, 86.0]\n"
     ]
    }
   ],
   "source": [
    "#method1\n",
    "c=input(\"Enter the celsius temperatures : \").split(',')\n",
    "f=[]\n",
    "\n",
    "for i in c:\n",
    "    temp_c = float(i)    \n",
    "    temp_f= (temp_c*(9/5))+32\n",
    "    f.append(temp_f)\n",
    "\n",
    "print(f)"
   ]
  },
  {
   "cell_type": "markdown",
   "id": "5c4db7e1-f268-4ba7-9aab-bbee058fb9b2",
   "metadata": {},
   "source": [
    "**Using LC, reverse each word in a given list**"
   ]
  },
  {
   "cell_type": "code",
   "execution_count": 113,
   "id": "d318108f-1939-481d-876a-8ced8c2b8dd3",
   "metadata": {},
   "outputs": [
    {
     "name": "stdin",
     "output_type": "stream",
     "text": [
      "Enter the lsit of words :  qwer,wer,er\n"
     ]
    },
    {
     "data": {
      "text/plain": [
       "['rewq', 'rew', 're']"
      ]
     },
     "execution_count": 113,
     "metadata": {},
     "output_type": "execute_result"
    }
   ],
   "source": [
    "user_input=input(\"Enter the lsit of words : \").split(',')\n",
    "\n",
    "#method1\n",
    "# reversed_list=[]\n",
    "# for i in user_input:\n",
    "#     reversed_list.append(i[::-1])\n",
    "# print(reversed_list)\n",
    "\n",
    "#method2\n",
    "reversed_list = [word[::-1] for word in user_input]\n",
    "reversed_list"
   ]
  },
  {
   "cell_type": "markdown",
   "id": "f055f48b-839e-450e-9feb-82bd9f699997",
   "metadata": {},
   "source": [
    "**Using LC, find all the numbers between 1 and 100 that are divisible by both 3 and 5**"
   ]
  },
  {
   "cell_type": "code",
   "execution_count": 116,
   "id": "ccd4e31b-da35-492c-ad80-77c43ebb3c03",
   "metadata": {},
   "outputs": [
    {
     "data": {
      "text/plain": [
       "[15, 30, 45, 60, 75, 90]"
      ]
     },
     "execution_count": 116,
     "metadata": {},
     "output_type": "execute_result"
    }
   ],
   "source": [
    "div=[i for i in range(1,101) if i%3==0 and i%5==0]\n",
    "div"
   ]
  },
  {
   "cell_type": "markdown",
   "id": "6b4b64b4-db1c-4202-b111-db299d672d03",
   "metadata": {},
   "source": [
    "**Using LC, replace all the occurances of 'Python' with 'Java' in a list of words**"
   ]
  },
  {
   "cell_type": "code",
   "execution_count": 8,
   "id": "dcd2afbe-6af8-4623-b3fe-1f8894802b74",
   "metadata": {},
   "outputs": [
    {
     "data": {
      "text/plain": [
       "['i', 'love', 'Java', 'Java', 'is', 'fun']"
      ]
     },
     "execution_count": 8,
     "metadata": {},
     "output_type": "execute_result"
    }
   ],
   "source": [
    "words=['i','love','Python','Python','is','fun']\n",
    "#method1\n",
    "# new_words=[]\n",
    "# for i in words:\n",
    "#     x=i.replace('Python','Java')\n",
    "#     new_words.append(x)\n",
    "# print(new_words)\n",
    "\n",
    "words = [i.replace('Python','Java') for i in words]\n",
    "words"
   ]
  },
  {
   "cell_type": "markdown",
   "id": "ff65abb5-b968-414b-a79d-f26fc68e8da9",
   "metadata": {},
   "source": [
    "**Using LC, filter out words that contain the letter 'a'**"
   ]
  },
  {
   "cell_type": "code",
   "execution_count": 24,
   "id": "aa11ca76-af2f-480b-90e5-34a19548048e",
   "metadata": {},
   "outputs": [
    {
     "data": {
      "text/plain": [
       "['cherry', 'kiwi']"
      ]
     },
     "execution_count": 24,
     "metadata": {},
     "output_type": "execute_result"
    }
   ],
   "source": [
    "words=['apple','banana','cherry','dates','kiwi']\n",
    "\n",
    "#method1\n",
    "# list_with_a=[]\n",
    "# for i in words:\n",
    "#     if 'a' in i:\n",
    "#         list_with_a.append(i)\n",
    "# list_with_a\n",
    "        \n",
    "x=[i for i in words if 'a' not in i]\n",
    "x"
   ]
  },
  {
   "cell_type": "markdown",
   "id": "6d0e532a-6c86-4c2c-b522-ff6918dcc178",
   "metadata": {},
   "source": [
    "**Using LC, find the intersection of 2 lists**"
   ]
  },
  {
   "cell_type": "code",
   "execution_count": 26,
   "id": "28112484-9420-48e6-8574-94f0e82ed89a",
   "metadata": {},
   "outputs": [
    {
     "data": {
      "text/plain": [
       "[4, 5, 6]"
      ]
     },
     "execution_count": 26,
     "metadata": {},
     "output_type": "execute_result"
    }
   ],
   "source": [
    "list_1 = [1,2,3,4,5,6]\n",
    "list_2 = [4,5,6,7,8,9]\n",
    "\n",
    "#method1\n",
    "# new_list=[]\n",
    "# for element in list_1:\n",
    "#     if element in list_2:\n",
    "#         new_list.append(element)\n",
    "# new_list\n",
    "        \n",
    "x = [element for element in list_1 if element in list_2]\n",
    "x"
   ]
  },
  {
   "cell_type": "markdown",
   "id": "75330c70-f1b8-46fc-ba26-29b33cbf1aac",
   "metadata": {},
   "source": [
    "**WAP to check whether a particular number is prime or not**"
   ]
  },
  {
   "cell_type": "code",
   "execution_count": 16,
   "id": "d8e837f1-a52d-438c-9247-7ffe87637497",
   "metadata": {},
   "outputs": [
    {
     "name": "stdout",
     "output_type": "stream",
     "text": [
      "Not prime\n"
     ]
    }
   ],
   "source": [
    "# num=input(\"Enter the numbers : \").split(',')\n",
    "\n",
    "# method1\n",
    "# prime=[]\n",
    "# for j in num:\n",
    "#     temp=int(j)\n",
    "#     count=0\n",
    "#     for i in range(1,temp+1):\n",
    "#         if temp%i == 0:\n",
    "#             count+=1\n",
    "#     if count==2:\n",
    "#         prime.append(temp)           \n",
    "# prime\n",
    "\n",
    "#method2(wrong as of now, still need correction)\n",
    "# num_int=[int(j) for j in num]\n",
    "# count=0\n",
    "# for i in num_int:\n",
    "#     temp=i\n",
    "#     count+=1 for i in range(1,temp+1) if temp%i==0\n",
    "# prime=[temp for temp in num_int if count=2 and temp%i==0]\n",
    "\n",
    "#method3\n",
    "num=4\n",
    "if num>1:\n",
    "    for i in range(2,num):\n",
    "        if num%i==0:\n",
    "            print(\"Not prime\")\n",
    "            break\n",
    "    else:\n",
    "        print(\"Prime\")\n",
    "else:\n",
    "    print(\"Not prime\")"
   ]
  },
  {
   "cell_type": "markdown",
   "id": "3e6a55bf-ee70-436a-8d18-a25dd253b0a9",
   "metadata": {},
   "source": [
    "**WAP to check whether a year is leap year or not**"
   ]
  },
  {
   "cell_type": "code",
   "execution_count": 16,
   "id": "73b36a39-6176-482e-aafb-d8b0e067c537",
   "metadata": {},
   "outputs": [
    {
     "name": "stdin",
     "output_type": "stream",
     "text": [
      "Enter the year :  1763\n"
     ]
    },
    {
     "name": "stdout",
     "output_type": "stream",
     "text": [
      "Not a leap year\n"
     ]
    }
   ],
   "source": [
    "year=int(input(\"Enter the year : \"))\n",
    "\n",
    "if year%100 == 0:\n",
    "    if year%400 == 0:\n",
    "        print(\"Leap year\")\n",
    "    else:\n",
    "        print(\"Not a leap year\")\n",
    "elif year%4==0:\n",
    "    print(\"Leap year\")\n",
    "else:\n",
    "    print(\"Not a leap year\")\n"
   ]
  },
  {
   "cell_type": "code",
   "execution_count": null,
   "id": "882ebde1-e0c8-434e-9cee-0a035047f0c2",
   "metadata": {},
   "outputs": [],
   "source": []
  }
 ],
 "metadata": {
  "kernelspec": {
   "display_name": "Python 3 (ipykernel)",
   "language": "python",
   "name": "python3"
  },
  "language_info": {
   "codemirror_mode": {
    "name": "ipython",
    "version": 3
   },
   "file_extension": ".py",
   "mimetype": "text/x-python",
   "name": "python",
   "nbconvert_exporter": "python",
   "pygments_lexer": "ipython3",
   "version": "3.12.7"
  }
 },
 "nbformat": 4,
 "nbformat_minor": 5
}
