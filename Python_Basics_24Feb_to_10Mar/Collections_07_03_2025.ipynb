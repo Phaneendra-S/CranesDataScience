{
 "cells": [
  {
   "cell_type": "markdown",
   "id": "cb1798db-e552-49a9-94e7-e83f3777f8df",
   "metadata": {},
   "source": [
    "## Counter"
   ]
  },
  {
   "cell_type": "code",
   "execution_count": 3,
   "id": "499202e7-4cd7-48c8-88ab-e959bcaeeaa6",
   "metadata": {},
   "outputs": [],
   "source": [
    "from collections import Counter"
   ]
  },
  {
   "cell_type": "code",
   "execution_count": 5,
   "id": "b3d5e68c-c3ec-45f5-b822-140f24275ba7",
   "metadata": {},
   "outputs": [
    {
     "data": {
      "text/plain": [
       "Counter({4: 3, 5: 2, 1: 1, 6: 1})"
      ]
     },
     "execution_count": 5,
     "metadata": {},
     "output_type": "execute_result"
    }
   ],
   "source": [
    "a=[1,4,4,4,5,5,6]\n",
    "freq=Counter(a)\n",
    "freq"
   ]
  },
  {
   "cell_type": "code",
   "execution_count": 11,
   "id": "3f01a11e-6db5-46b7-ac0c-a2ee87856790",
   "metadata": {},
   "outputs": [
    {
     "name": "stdout",
     "output_type": "stream",
     "text": [
      "C 1\n",
      "r 2\n",
      "a 2\n",
      "n 1\n",
      "e 1\n",
      "s 2\n",
      "  1\n",
      "V 1\n",
      "i 1\n",
      "t 1\n",
      "y 1\n"
     ]
    }
   ],
   "source": [
    "b='Cranes Varsity'\n",
    "freq1=Counter(b)\n",
    "\n",
    "for key, values in freq1.items():\n",
    "    print(key,values)"
   ]
  },
  {
   "cell_type": "code",
   "execution_count": 10,
   "id": "9614d92d-fe55-406c-b9bd-5ef9fe243610",
   "metadata": {},
   "outputs": [
    {
     "data": {
      "text/plain": [
       "dict_items([(1, 1), (4, 3), (5, 2), (6, 1)])"
      ]
     },
     "execution_count": 10,
     "metadata": {},
     "output_type": "execute_result"
    }
   ],
   "source": [
    "freq.items()"
   ]
  },
  {
   "cell_type": "code",
   "execution_count": 12,
   "id": "a137aa31-a7c9-4ac6-bc7c-f50916eb1410",
   "metadata": {},
   "outputs": [
    {
     "data": {
      "text/plain": [
       "dict_keys([1, 4, 5, 6])"
      ]
     },
     "execution_count": 12,
     "metadata": {},
     "output_type": "execute_result"
    }
   ],
   "source": [
    "freq.keys()"
   ]
  },
  {
   "cell_type": "code",
   "execution_count": 14,
   "id": "b72d7afd-5f7f-47cc-b3fc-fc83bcc70733",
   "metadata": {},
   "outputs": [],
   "source": [
    "str1 = \"I am writing a sentence\""
   ]
  },
  {
   "cell_type": "code",
   "execution_count": 16,
   "id": "9dab76e2-63ee-4ab4-bb57-e146379dc660",
   "metadata": {},
   "outputs": [
    {
     "data": {
      "text/plain": [
       "Counter({' ': 4,\n",
       "         'n': 3,\n",
       "         'e': 3,\n",
       "         'a': 2,\n",
       "         'i': 2,\n",
       "         't': 2,\n",
       "         'I': 1,\n",
       "         'm': 1,\n",
       "         'w': 1,\n",
       "         'r': 1,\n",
       "         'g': 1,\n",
       "         's': 1,\n",
       "         'c': 1})"
      ]
     },
     "execution_count": 16,
     "metadata": {},
     "output_type": "execute_result"
    }
   ],
   "source": [
    "freq1=Counter(str1)\n",
    "freq1"
   ]
  },
  {
   "cell_type": "code",
   "execution_count": 20,
   "id": "1b5a7fd6-3374-4ff1-8647-8ad2aa873061",
   "metadata": {},
   "outputs": [
    {
     "data": {
      "text/plain": [
       "[(' ', 4),\n",
       " ('n', 3),\n",
       " ('e', 3),\n",
       " ('a', 2),\n",
       " ('i', 2),\n",
       " ('t', 2),\n",
       " ('I', 1),\n",
       " ('m', 1),\n",
       " ('w', 1),\n",
       " ('r', 1),\n",
       " ('g', 1),\n",
       " ('s', 1),\n",
       " ('c', 1)]"
      ]
     },
     "execution_count": 20,
     "metadata": {},
     "output_type": "execute_result"
    }
   ],
   "source": [
    "i=freq1.most_common()\n",
    "i"
   ]
  },
  {
   "cell_type": "code",
   "execution_count": 24,
   "id": "1d37e03a-b84e-4e42-b106-ea68bafbd0ec",
   "metadata": {},
   "outputs": [
    {
     "data": {
      "text/plain": [
       "[(' ', 4)]"
      ]
     },
     "execution_count": 24,
     "metadata": {},
     "output_type": "execute_result"
    }
   ],
   "source": [
    "freq1.most_common(1)"
   ]
  },
  {
   "cell_type": "code",
   "execution_count": 26,
   "id": "51b3e50b-a89c-49e9-8d4d-cc4b5291ee5c",
   "metadata": {},
   "outputs": [
    {
     "data": {
      "text/plain": [
       "[(' ', 4), ('n', 3)]"
      ]
     },
     "execution_count": 26,
     "metadata": {},
     "output_type": "execute_result"
    }
   ],
   "source": [
    "freq1.most_common(2)"
   ]
  },
  {
   "cell_type": "code",
   "execution_count": 28,
   "id": "45d654f0-e1c8-43cc-b2f8-3dd6c419fe34",
   "metadata": {},
   "outputs": [
    {
     "data": {
      "text/plain": [
       "(' ', 4)"
      ]
     },
     "execution_count": 28,
     "metadata": {},
     "output_type": "execute_result"
    }
   ],
   "source": [
    "i[0]"
   ]
  },
  {
   "cell_type": "code",
   "execution_count": 30,
   "id": "768f6c8d-eff9-4537-8ece-ffc383936a70",
   "metadata": {},
   "outputs": [
    {
     "data": {
      "text/plain": [
       "4"
      ]
     },
     "execution_count": 30,
     "metadata": {},
     "output_type": "execute_result"
    }
   ],
   "source": [
    "i[0][1]"
   ]
  },
  {
   "cell_type": "code",
   "execution_count": 32,
   "id": "2073bb98-628d-492d-b868-aecdda560ad7",
   "metadata": {},
   "outputs": [
    {
     "data": {
      "text/plain": [
       "[(' ', 4), ('n', 3), ('e', 3), ('a', 2), ('i', 2)]"
      ]
     },
     "execution_count": 32,
     "metadata": {},
     "output_type": "execute_result"
    }
   ],
   "source": [
    "freq1.most_common(n=5)"
   ]
  },
  {
   "cell_type": "code",
   "execution_count": 34,
   "id": "8099a995-8345-45cc-bbdf-5e0a41cfa098",
   "metadata": {},
   "outputs": [
    {
     "data": {
      "text/plain": [
       "[(' ', 4), ('n', 3)]"
      ]
     },
     "execution_count": 34,
     "metadata": {},
     "output_type": "execute_result"
    }
   ],
   "source": [
    "freq1.most_common(n=2)"
   ]
  },
  {
   "cell_type": "markdown",
   "id": "1af5a14a-af5a-440b-9484-263c57ee7fb4",
   "metadata": {
    "jp-MarkdownHeadingCollapsed": true
   },
   "source": [
    "## namedtuple\n",
    "- namedtuple values are immutable"
   ]
  },
  {
   "cell_type": "code",
   "execution_count": 51,
   "id": "3a8d0832-3b08-4455-b3de-9941192f82e9",
   "metadata": {},
   "outputs": [],
   "source": [
    "from collections import namedtuple"
   ]
  },
  {
   "cell_type": "code",
   "execution_count": 75,
   "id": "559b2472-ac19-4d5b-a9b7-c165854d5d25",
   "metadata": {},
   "outputs": [
    {
     "name": "stdout",
     "output_type": "stream",
     "text": [
      "20\n",
      "skanda\n",
      "20\n"
     ]
    },
    {
     "data": {
      "text/plain": [
       "Student(name='skanda', age=20)"
      ]
     },
     "execution_count": 75,
     "metadata": {},
     "output_type": "execute_result"
    }
   ],
   "source": [
    "a=namedtuple('Student',['name','age'])\n",
    "s1=a('skanda',20)\n",
    "print(s1[1])\n",
    "print(s1.name)\n",
    "print(getattr(s1,'age'))\n",
    "s1"
   ]
  },
  {
   "cell_type": "code",
   "execution_count": null,
   "id": "f4207646-2c5c-4469-8d46-f1f0096b99cc",
   "metadata": {},
   "outputs": [],
   "source": []
  },
  {
   "cell_type": "markdown",
   "id": "fc4a0f68-e431-4495-bd49-8cd7a5bf72d4",
   "metadata": {
    "jp-MarkdownHeadingCollapsed": true
   },
   "source": [
    "## OrderedDict"
   ]
  },
  {
   "cell_type": "code",
   "execution_count": 79,
   "id": "87aa404f-911b-4b3d-b65d-2b0ca127e9f7",
   "metadata": {},
   "outputs": [],
   "source": [
    "from collections import OrderedDict"
   ]
  },
  {
   "cell_type": "code",
   "execution_count": 81,
   "id": "f30b0f1b-377c-4f42-aacb-e2074b26a017",
   "metadata": {},
   "outputs": [],
   "source": [
    "Od1 = OrderedDict({'w1':45,'w2':56})"
   ]
  },
  {
   "cell_type": "code",
   "execution_count": 83,
   "id": "359a2a2e-1830-4e34-a35d-6cdfa4118fea",
   "metadata": {},
   "outputs": [
    {
     "data": {
      "text/plain": [
       "OrderedDict([('w1', 45), ('w2', 56)])"
      ]
     },
     "execution_count": 83,
     "metadata": {},
     "output_type": "execute_result"
    }
   ],
   "source": [
    "Od1"
   ]
  },
  {
   "cell_type": "code",
   "execution_count": 85,
   "id": "a9d10597-f136-4130-8cc8-07a38c0d4e0d",
   "metadata": {},
   "outputs": [
    {
     "data": {
      "text/plain": [
       "odict_items([('w1', 45), ('w2', 56)])"
      ]
     },
     "execution_count": 85,
     "metadata": {},
     "output_type": "execute_result"
    }
   ],
   "source": [
    "Od1.items()"
   ]
  },
  {
   "cell_type": "code",
   "execution_count": null,
   "id": "982afbc1-fbc1-451a-9ea2-967c5bb837dc",
   "metadata": {},
   "outputs": [],
   "source": []
  },
  {
   "cell_type": "markdown",
   "id": "1ae9ca63-044b-4344-ba9b-400e0cc32ce8",
   "metadata": {},
   "source": [
    "## deque"
   ]
  },
  {
   "cell_type": "code",
   "execution_count": null,
   "id": "6662748b-4bf4-427b-84fd-b91206c9d3ed",
   "metadata": {},
   "outputs": [],
   "source": []
  }
 ],
 "metadata": {
  "kernelspec": {
   "display_name": "Python 3 (ipykernel)",
   "language": "python",
   "name": "python3"
  },
  "language_info": {
   "codemirror_mode": {
    "name": "ipython",
    "version": 3
   },
   "file_extension": ".py",
   "mimetype": "text/x-python",
   "name": "python",
   "nbconvert_exporter": "python",
   "pygments_lexer": "ipython3",
   "version": "3.12.7"
  }
 },
 "nbformat": 4,
 "nbformat_minor": 5
}
