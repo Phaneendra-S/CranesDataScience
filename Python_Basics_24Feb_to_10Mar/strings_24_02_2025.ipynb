{
 "cells": [
  {
   "cell_type": "markdown",
   "id": "fa61c47c-9f17-4688-9314-daf8b7004aef",
   "metadata": {},
   "source": [
    "string slicing"
   ]
  },
  {
   "cell_type": "code",
   "execution_count": 1,
   "id": "abeff3ff-2119-4e54-a17a-a0fd951f5a75",
   "metadata": {},
   "outputs": [],
   "source": [
    "y='cranes varsity'"
   ]
  },
  {
   "cell_type": "code",
   "execution_count": 3,
   "id": "7ce4919d-bd2e-4126-bedb-1475fd37f8ed",
   "metadata": {},
   "outputs": [
    {
     "data": {
      "text/plain": [
       "'cranes varsity'"
      ]
     },
     "execution_count": 3,
     "metadata": {},
     "output_type": "execute_result"
    }
   ],
   "source": [
    "y"
   ]
  },
  {
   "cell_type": "code",
   "execution_count": 5,
   "id": "97550a17-92d0-4500-9210-06cb09194e78",
   "metadata": {},
   "outputs": [
    {
     "data": {
      "text/plain": [
       "'cran'"
      ]
     },
     "execution_count": 5,
     "metadata": {},
     "output_type": "execute_result"
    }
   ],
   "source": [
    "y[0:4]"
   ]
  },
  {
   "cell_type": "code",
   "execution_count": 7,
   "id": "dd8d255e-3e84-4a0b-853f-b679e9b67b07",
   "metadata": {},
   "outputs": [
    {
     "data": {
      "text/plain": [
       "'cranes v'"
      ]
     },
     "execution_count": 7,
     "metadata": {},
     "output_type": "execute_result"
    }
   ],
   "source": [
    "y[:8]"
   ]
  },
  {
   "cell_type": "code",
   "execution_count": 9,
   "id": "540e661f-526f-4d80-bf5b-7e5d7675fcd9",
   "metadata": {},
   "outputs": [
    {
     "data": {
      "text/plain": [
       "''"
      ]
     },
     "execution_count": 9,
     "metadata": {},
     "output_type": "execute_result"
    }
   ],
   "source": [
    "y[-1:-7]"
   ]
  },
  {
   "cell_type": "code",
   "execution_count": 11,
   "id": "4b569e37-f340-4ce9-b94b-9613a2002ac1",
   "metadata": {},
   "outputs": [
    {
     "data": {
      "text/plain": [
       "''"
      ]
     },
     "execution_count": 11,
     "metadata": {},
     "output_type": "execute_result"
    }
   ],
   "source": [
    "y[-1:-3]"
   ]
  },
  {
   "cell_type": "markdown",
   "id": "83ea0345-b964-444e-b990-d102ff6d3438",
   "metadata": {},
   "source": [
    "in slicing starting index should be less than ending index"
   ]
  },
  {
   "cell_type": "code",
   "execution_count": 13,
   "id": "18d1decc-ba74-491c-93b3-5957d3f375a3",
   "metadata": {},
   "outputs": [
    {
     "data": {
      "text/plain": [
       "'it'"
      ]
     },
     "execution_count": 13,
     "metadata": {},
     "output_type": "execute_result"
    }
   ],
   "source": [
    "y[-3:-1]"
   ]
  },
  {
   "cell_type": "code",
   "execution_count": 15,
   "id": "346b1b3c-82ba-469a-83b0-f16264e01497",
   "metadata": {},
   "outputs": [
    {
     "data": {
      "text/plain": [
       "'cranes varsity'"
      ]
     },
     "execution_count": 15,
     "metadata": {},
     "output_type": "execute_result"
    }
   ],
   "source": [
    "y"
   ]
  },
  {
   "cell_type": "code",
   "execution_count": 17,
   "id": "3e275a60-cb31-44e8-9165-3dd5dd4d5049",
   "metadata": {},
   "outputs": [
    {
     "data": {
      "text/plain": [
       "''"
      ]
     },
     "execution_count": 17,
     "metadata": {},
     "output_type": "execute_result"
    }
   ],
   "source": [
    "y[-4:2]"
   ]
  },
  {
   "cell_type": "code",
   "execution_count": 19,
   "id": "344fe56b-55e5-490f-9479-af3b33414e44",
   "metadata": {},
   "outputs": [
    {
     "data": {
      "text/plain": [
       "''"
      ]
     },
     "execution_count": 19,
     "metadata": {},
     "output_type": "execute_result"
    }
   ],
   "source": [
    "y[-4:0]"
   ]
  },
  {
   "cell_type": "code",
   "execution_count": 23,
   "id": "0a8f4a39-09f1-48da-a289-f5aaf101b8d6",
   "metadata": {},
   "outputs": [
    {
     "data": {
      "text/plain": [
       "'sit'"
      ]
     },
     "execution_count": 23,
     "metadata": {},
     "output_type": "execute_result"
    }
   ],
   "source": [
    "y[-4:-1]"
   ]
  },
  {
   "cell_type": "code",
   "execution_count": 12,
   "id": "f5bc081b-515f-4481-b52b-6ecee35b7b0b",
   "metadata": {},
   "outputs": [],
   "source": [
    "x=\"principal component analysis\""
   ]
  },
  {
   "cell_type": "code",
   "execution_count": 27,
   "id": "3ac770e1-99dd-43c7-8723-92706aac478c",
   "metadata": {},
   "outputs": [
    {
     "data": {
      "text/plain": [
       "'principal'"
      ]
     },
     "execution_count": 27,
     "metadata": {},
     "output_type": "execute_result"
    }
   ],
   "source": [
    "x[0:9]"
   ]
  },
  {
   "cell_type": "code",
   "execution_count": 29,
   "id": "8ab0c742-2695-4c9c-98ab-c1a0fe959d9c",
   "metadata": {},
   "outputs": [
    {
     "data": {
      "text/plain": [
       "'component'"
      ]
     },
     "execution_count": 29,
     "metadata": {},
     "output_type": "execute_result"
    }
   ],
   "source": [
    "x[10:19]"
   ]
  },
  {
   "cell_type": "code",
   "execution_count": 31,
   "id": "d4f997ed-3cce-4ecd-8e0a-9838ba984dcc",
   "metadata": {},
   "outputs": [
    {
     "data": {
      "text/plain": [
       "'analysis'"
      ]
     },
     "execution_count": 31,
     "metadata": {},
     "output_type": "execute_result"
    }
   ],
   "source": [
    "x[20:28]"
   ]
  },
  {
   "cell_type": "code",
   "execution_count": 22,
   "id": "0fd74db2-7a79-4cd6-a50f-82b2ed84699d",
   "metadata": {},
   "outputs": [
    {
     "data": {
      "text/plain": [
       "['principal', 'component', 'analysis']"
      ]
     },
     "execution_count": 22,
     "metadata": {},
     "output_type": "execute_result"
    }
   ],
   "source": [
    "k=x.split()\n",
    "k"
   ]
  },
  {
   "cell_type": "code",
   "execution_count": 14,
   "id": "88557540-2b97-424b-92bd-b1c1e5763b82",
   "metadata": {},
   "outputs": [
    {
     "data": {
      "text/plain": [
       "['principal', 'component', 'analysis']"
      ]
     },
     "execution_count": 14,
     "metadata": {},
     "output_type": "execute_result"
    }
   ],
   "source": [
    "x.split()"
   ]
  },
  {
   "cell_type": "code",
   "execution_count": 18,
   "id": "15db9d56-6262-489c-a036-992ebb22c935",
   "metadata": {},
   "outputs": [
    {
     "data": {
      "text/plain": [
       "'principal component analysis'"
      ]
     },
     "execution_count": 18,
     "metadata": {},
     "output_type": "execute_result"
    }
   ],
   "source": [
    "x"
   ]
  },
  {
   "cell_type": "code",
   "execution_count": 24,
   "id": "3280babd-be89-4e80-b955-a0b7dda91a31",
   "metadata": {},
   "outputs": [
    {
     "name": "stdout",
     "output_type": "stream",
     "text": [
      "principal\n"
     ]
    }
   ],
   "source": [
    "print(k[0])"
   ]
  },
  {
   "cell_type": "code",
   "execution_count": 48,
   "id": "f1f73ec4-e5c3-422c-9111-5e0daf418cbb",
   "metadata": {},
   "outputs": [
    {
     "data": {
      "text/plain": [
       "'principal'"
      ]
     },
     "execution_count": 48,
     "metadata": {},
     "output_type": "execute_result"
    }
   ],
   "source": [
    "k[0]"
   ]
  },
  {
   "cell_type": "markdown",
   "id": "f882fe65-6f6f-4db3-b1e4-58d9f2728a31",
   "metadata": {},
   "source": [
    "starting index has to be less compared to last index in slicing,\n",
    "slicing will print from starting index to last but one index"
   ]
  },
  {
   "cell_type": "markdown",
   "id": "c4acd924-6287-4a1e-82b5-9d4e4db23e90",
   "metadata": {},
   "source": [
    "step slicing with positive step size"
   ]
  },
  {
   "cell_type": "code",
   "execution_count": 51,
   "id": "c02b6371-5325-436b-acd9-e811046ec0db",
   "metadata": {},
   "outputs": [
    {
     "data": {
      "text/plain": [
       "'principal component analysis'"
      ]
     },
     "execution_count": 51,
     "metadata": {},
     "output_type": "execute_result"
    }
   ],
   "source": [
    "x"
   ]
  },
  {
   "cell_type": "code",
   "execution_count": 53,
   "id": "12bafef1-a95b-457b-a381-4cae60fe5ed5",
   "metadata": {},
   "outputs": [
    {
     "data": {
      "text/plain": [
       "'principal component'"
      ]
     },
     "execution_count": 53,
     "metadata": {},
     "output_type": "execute_result"
    }
   ],
   "source": [
    "x[:19]\n"
   ]
  },
  {
   "cell_type": "code",
   "execution_count": 55,
   "id": "1ee38369-a4a9-46af-8667-8765765d5510",
   "metadata": {},
   "outputs": [
    {
     "data": {
      "text/plain": [
       "'picplcmoet'"
      ]
     },
     "execution_count": 55,
     "metadata": {},
     "output_type": "execute_result"
    }
   ],
   "source": [
    "x[0:19:2]"
   ]
  },
  {
   "cell_type": "code",
   "execution_count": 59,
   "id": "ed9aec4e-1160-4d2a-ab0e-db118e9dab43",
   "metadata": {},
   "outputs": [
    {
     "data": {
      "text/plain": [
       "'pnp mnt'"
      ]
     },
     "execution_count": 59,
     "metadata": {},
     "output_type": "execute_result"
    }
   ],
   "source": [
    "x[0:19:3]"
   ]
  },
  {
   "cell_type": "code",
   "execution_count": 61,
   "id": "1e2401ed-58c3-4428-9267-3a68fa7a8853",
   "metadata": {},
   "outputs": [
    {
     "data": {
      "text/plain": [
       "'cmoetaayi'"
      ]
     },
     "execution_count": 61,
     "metadata": {},
     "output_type": "execute_result"
    }
   ],
   "source": [
    "x[10:28:2]"
   ]
  },
  {
   "cell_type": "code",
   "execution_count": 63,
   "id": "963b135f-b4f7-47a8-9b2a-cd07f4b52e11",
   "metadata": {},
   "outputs": [
    {
     "data": {
      "text/plain": [
       "'pnp'"
      ]
     },
     "execution_count": 63,
     "metadata": {},
     "output_type": "execute_result"
    }
   ],
   "source": [
    "x[0:8:3]"
   ]
  },
  {
   "cell_type": "markdown",
   "id": "4c8700de-ff0d-4773-ac62-a19553387836",
   "metadata": {},
   "source": [
    "step slicing with negative step size"
   ]
  },
  {
   "cell_type": "code",
   "execution_count": 67,
   "id": "0f14b08f-a8ae-4d56-a62a-f2c345d3cef7",
   "metadata": {},
   "outputs": [
    {
     "data": {
      "text/plain": [
       "'principal component analysis'"
      ]
     },
     "execution_count": 67,
     "metadata": {},
     "output_type": "execute_result"
    }
   ],
   "source": [
    "x"
   ]
  },
  {
   "cell_type": "code",
   "execution_count": 69,
   "id": "3d73f12c-86b1-4d11-a8dd-61a1734b87ff",
   "metadata": {},
   "outputs": [
    {
     "data": {
      "text/plain": [
       "'c lapi'"
      ]
     },
     "execution_count": 69,
     "metadata": {},
     "output_type": "execute_result"
    }
   ],
   "source": [
    "x[10:4:-1]"
   ]
  },
  {
   "cell_type": "markdown",
   "id": "321cd28f-d5b2-44b6-80b5-666ab79d69f4",
   "metadata": {},
   "source": [
    "in negative step slicing, it'll start from right to left and the starting index will be greater then ending index also ending index will not be considered"
   ]
  },
  {
   "cell_type": "code",
   "execution_count": 71,
   "id": "e17677cb-cfbb-4f43-830e-fef8a0cfc4e8",
   "metadata": {},
   "outputs": [
    {
     "data": {
      "text/plain": [
       "'clp'"
      ]
     },
     "execution_count": 71,
     "metadata": {},
     "output_type": "execute_result"
    }
   ],
   "source": [
    "x[10:4:-2]"
   ]
  },
  {
   "cell_type": "code",
   "execution_count": 73,
   "id": "ac582c0c-4963-49d0-923e-4f087c63c4d4",
   "metadata": {},
   "outputs": [
    {
     "data": {
      "text/plain": [
       "'a tnenopmoc lap'"
      ]
     },
     "execution_count": 73,
     "metadata": {},
     "output_type": "execute_result"
    }
   ],
   "source": [
    "x[20:5:-1]"
   ]
  },
  {
   "cell_type": "code",
   "execution_count": 6,
   "id": "39dd67ca-ed73-4267-82aa-93f19f34cfb2",
   "metadata": {},
   "outputs": [],
   "source": [
    "y='anaconda distribution'"
   ]
  },
  {
   "cell_type": "markdown",
   "id": "248de986-62fe-47b4-abad-14efa16b87d5",
   "metadata": {},
   "source": [
    "WAP to reverse a complete string"
   ]
  },
  {
   "cell_type": "code",
   "execution_count": 81,
   "id": "fc26a219-04e9-4f49-89c7-64fcbd3811c1",
   "metadata": {},
   "outputs": [
    {
     "data": {
      "text/plain": [
       "'noitubirtsid adnocana'"
      ]
     },
     "execution_count": 81,
     "metadata": {},
     "output_type": "execute_result"
    }
   ],
   "source": [
    "y[::-1]\n"
   ]
  },
  {
   "cell_type": "markdown",
   "id": "37ec9601-1f46-417d-abe2-9a71efe29496",
   "metadata": {},
   "source": [
    "WAP to print alternate elements of a string"
   ]
  },
  {
   "cell_type": "code",
   "execution_count": 99,
   "id": "9fc27909-3288-4039-8b43-66d97beda9b3",
   "metadata": {},
   "outputs": [
    {
     "data": {
      "text/plain": [
       "'niuiti doaa'"
      ]
     },
     "execution_count": 99,
     "metadata": {},
     "output_type": "execute_result"
    }
   ],
   "source": [
    "y[::-2]"
   ]
  },
  {
   "cell_type": "code",
   "execution_count": 105,
   "id": "3b6e2ca3-bb20-4762-adaa-c761ad03ae65",
   "metadata": {},
   "outputs": [
    {
     "data": {
      "text/plain": [
       "'noitubirtsid adnocana'"
      ]
     },
     "execution_count": 105,
     "metadata": {},
     "output_type": "execute_result"
    }
   ],
   "source": [
    "y[20::-1]"
   ]
  },
  {
   "cell_type": "markdown",
   "id": "9c58b00b-7565-405b-9828-5d9a9f83d8fe",
   "metadata": {},
   "source": [
    "Properties and methods"
   ]
  },
  {
   "cell_type": "code",
   "execution_count": 8,
   "id": "c38a0f1d-5251-4ae7-9770-9b02e7fa45fb",
   "metadata": {},
   "outputs": [
    {
     "data": {
      "text/plain": [
       "'anaconda distribution'"
      ]
     },
     "execution_count": 8,
     "metadata": {},
     "output_type": "execute_result"
    }
   ],
   "source": [
    "y"
   ]
  },
  {
   "cell_type": "code",
   "execution_count": 111,
   "id": "2bfdb5e1-0df6-4f6a-b6d2-99888a7c02ef",
   "metadata": {},
   "outputs": [
    {
     "data": {
      "text/plain": [
       "21"
      ]
     },
     "execution_count": 111,
     "metadata": {},
     "output_type": "execute_result"
    }
   ],
   "source": [
    "len(y)"
   ]
  },
  {
   "cell_type": "markdown",
   "id": "b8f9f8f9-ad35-4ce0-9242-a9303ac4304e",
   "metadata": {},
   "source": [
    "len() method will return the length of string"
   ]
  },
  {
   "cell_type": "markdown",
   "id": "c990e536-2ab2-4aaf-99ca-b10a20c369ad",
   "metadata": {},
   "source": [
    "upper() method is used to convert string into an upper case string"
   ]
  },
  {
   "cell_type": "code",
   "execution_count": 114,
   "id": "032f4194-51d3-4e60-a81a-0220a43441bd",
   "metadata": {},
   "outputs": [
    {
     "data": {
      "text/plain": [
       "'ANACONDA DISTRIBUTION'"
      ]
     },
     "execution_count": 114,
     "metadata": {},
     "output_type": "execute_result"
    }
   ],
   "source": [
    "y.upper()"
   ]
  },
  {
   "cell_type": "code",
   "execution_count": 116,
   "id": "01b7ecf3-7924-40e8-9028-af9a7861c0f1",
   "metadata": {},
   "outputs": [
    {
     "data": {
      "text/plain": [
       "'anaconda distribution'"
      ]
     },
     "execution_count": 116,
     "metadata": {},
     "output_type": "execute_result"
    }
   ],
   "source": [
    "y"
   ]
  },
  {
   "cell_type": "markdown",
   "id": "4d8ef4ea-6f44-4daa-b507-c77d2cf5ee69",
   "metadata": {},
   "source": [
    "strings are immutable ( even after upper method the original y is still in small letters"
   ]
  },
  {
   "cell_type": "code",
   "execution_count": 118,
   "id": "a2aea092-9d5c-49a6-94dd-a1d387d997ff",
   "metadata": {},
   "outputs": [
    {
     "data": {
      "text/plain": [
       "'qwe'"
      ]
     },
     "execution_count": 118,
     "metadata": {},
     "output_type": "execute_result"
    }
   ],
   "source": [
    "a='QWE'\n",
    "a.lower()"
   ]
  },
  {
   "cell_type": "code",
   "execution_count": 120,
   "id": "7b6f0e1e-40f7-4e2c-aafc-b9f5310f2198",
   "metadata": {},
   "outputs": [
    {
     "data": {
      "text/plain": [
       "'QWE'"
      ]
     },
     "execution_count": 120,
     "metadata": {},
     "output_type": "execute_result"
    }
   ],
   "source": [
    "a"
   ]
  },
  {
   "cell_type": "code",
   "execution_count": 122,
   "id": "2274b8ef-7ac5-4b38-ac53-15568c2f5e66",
   "metadata": {},
   "outputs": [
    {
     "data": {
      "text/plain": [
       "'anaconda distribution'"
      ]
     },
     "execution_count": 122,
     "metadata": {},
     "output_type": "execute_result"
    }
   ],
   "source": [
    "y"
   ]
  },
  {
   "cell_type": "code",
   "execution_count": 124,
   "id": "36cf8a91-54b0-4f3e-8edb-30d8dfc09e3d",
   "metadata": {},
   "outputs": [],
   "source": [
    "a='neural network'"
   ]
  },
  {
   "cell_type": "code",
   "execution_count": 126,
   "id": "dda78f3a-3a4b-4846-a616-af9f1e916dbb",
   "metadata": {},
   "outputs": [
    {
     "data": {
      "text/plain": [
       "'neural network'"
      ]
     },
     "execution_count": 126,
     "metadata": {},
     "output_type": "execute_result"
    }
   ],
   "source": [
    "a\n"
   ]
  },
  {
   "cell_type": "markdown",
   "id": "5ebbc993-a52b-43ae-854a-feca043b52cc",
   "metadata": {},
   "source": [
    "count() method - to check how many no.of times a specific sub-string has occured"
   ]
  },
  {
   "cell_type": "code",
   "execution_count": 129,
   "id": "581bebfb-4e53-4374-86bb-7e673f28104f",
   "metadata": {},
   "outputs": [
    {
     "data": {
      "text/plain": [
       "'neural network'"
      ]
     },
     "execution_count": 129,
     "metadata": {},
     "output_type": "execute_result"
    }
   ],
   "source": [
    "a"
   ]
  },
  {
   "cell_type": "code",
   "execution_count": 131,
   "id": "26533316-93a0-451c-9fb2-1eea8a08361f",
   "metadata": {},
   "outputs": [
    {
     "ename": "NameError",
     "evalue": "name 'z' is not defined",
     "output_type": "error",
     "traceback": [
      "\u001b[1;31m---------------------------------------------------------------------------\u001b[0m",
      "\u001b[1;31mNameError\u001b[0m                                 Traceback (most recent call last)",
      "Cell \u001b[1;32mIn[131], line 1\u001b[0m\n\u001b[1;32m----> 1\u001b[0m a\u001b[38;5;241m.\u001b[39mcount(z)\n",
      "\u001b[1;31mNameError\u001b[0m: name 'z' is not defined"
     ]
    }
   ],
   "source": [
    "a.count(z)\n",
    "#here z is given as a variable so its giving error, we have to give it in quotations"
   ]
  },
  {
   "cell_type": "code",
   "execution_count": 133,
   "id": "40f5a460-4cc3-4ff9-926a-32c6e4287548",
   "metadata": {},
   "outputs": [
    {
     "data": {
      "text/plain": [
       "0"
      ]
     },
     "execution_count": 133,
     "metadata": {},
     "output_type": "execute_result"
    }
   ],
   "source": [
    "a.count('z')"
   ]
  },
  {
   "cell_type": "code",
   "execution_count": 135,
   "id": "a079ee24-7b2a-43be-bc40-a393e92b2edf",
   "metadata": {},
   "outputs": [
    {
     "data": {
      "text/plain": [
       "2"
      ]
     },
     "execution_count": 135,
     "metadata": {},
     "output_type": "execute_result"
    }
   ],
   "source": [
    "a.count('ne')"
   ]
  },
  {
   "cell_type": "code",
   "execution_count": null,
   "id": "498f82b3-e6ea-4b79-902c-89efe6c8085d",
   "metadata": {},
   "outputs": [],
   "source": []
  }
 ],
 "metadata": {
  "kernelspec": {
   "display_name": "Python 3 (ipykernel)",
   "language": "python",
   "name": "python3"
  },
  "language_info": {
   "codemirror_mode": {
    "name": "ipython",
    "version": 3
   },
   "file_extension": ".py",
   "mimetype": "text/x-python",
   "name": "python",
   "nbconvert_exporter": "python",
   "pygments_lexer": "ipython3",
   "version": "3.12.7"
  }
 },
 "nbformat": 4,
 "nbformat_minor": 5
}
