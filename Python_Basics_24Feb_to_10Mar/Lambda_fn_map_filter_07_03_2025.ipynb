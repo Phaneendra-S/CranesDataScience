{
 "cells": [
  {
   "cell_type": "markdown",
   "id": "d6096b1c-3286-413f-93f4-57b258f13c01",
   "metadata": {},
   "source": [
    "**Lambda function**\n",
    "- a lambda function is a small anonymous function\n",
    "- a lambda function can take any number of arguments, but can only have one expression"
   ]
  },
  {
   "cell_type": "markdown",
   "id": "4f7bbd6e-6b59-4c8f-9b6f-72c3d019a3ef",
   "metadata": {},
   "source": [
    "- these are mostly used in list comprehension and\n",
    "- also in map,reduce functions(because instead of writing bigger order function)"
   ]
  },
  {
   "cell_type": "code",
   "execution_count": 7,
   "id": "f3aa5c52-9948-4ca0-aaaa-643864c1c55b",
   "metadata": {},
   "outputs": [],
   "source": [
    "iseven = lambda x: x%2==0"
   ]
  },
  {
   "cell_type": "code",
   "execution_count": 9,
   "id": "19999043-feed-439a-b82d-e34f3ef7b859",
   "metadata": {},
   "outputs": [
    {
     "data": {
      "text/plain": [
       "True"
      ]
     },
     "execution_count": 9,
     "metadata": {},
     "output_type": "execute_result"
    }
   ],
   "source": [
    "iseven(2)"
   ]
  },
  {
   "cell_type": "code",
   "execution_count": 13,
   "id": "8332e26c-eb73-4123-92b8-95c716d9feac",
   "metadata": {},
   "outputs": [],
   "source": [
    "add = lambda x,y:x+y"
   ]
  },
  {
   "cell_type": "code",
   "execution_count": 15,
   "id": "7d14cf43-1714-4f3c-a58d-87d79be825f6",
   "metadata": {},
   "outputs": [
    {
     "data": {
      "text/plain": [
       "5"
      ]
     },
     "execution_count": 15,
     "metadata": {},
     "output_type": "execute_result"
    }
   ],
   "source": [
    "add(2,3)"
   ]
  },
  {
   "cell_type": "markdown",
   "id": "5c6236bf-d45d-4826-9827-3eb1f159e6f4",
   "metadata": {},
   "source": [
    "## Map in lists"
   ]
  },
  {
   "cell_type": "markdown",
   "id": "bc304e3b-5d5d-4c07-9dc5-f32e6c1687a4",
   "metadata": {},
   "source": [
    "- syntax is *map(function, iterable sequence)*\n",
    "- the map() function is used to apply a given function to each item of an iterable(like a list).\n",
    "- It is useful for transforming the items in a list\n",
    "- map() does not modify the original list,it creates a new iterator\n",
    "- the function provided to map must take one argument(or multiple arguments, if passing multiple iterables)\n",
    "- to view the output, you must the convert the map object to a list or iterate over it"
   ]
  },
  {
   "cell_type": "code",
   "execution_count": 1,
   "id": "751491fa-5dfe-4a1a-b9a7-65b06a371ce6",
   "metadata": {},
   "outputs": [],
   "source": [
    "def square(x):\n",
    "    return x**2"
   ]
  },
  {
   "cell_type": "code",
   "execution_count": 3,
   "id": "b5b93ecd-d21f-40bf-b19e-dc65bb857317",
   "metadata": {},
   "outputs": [],
   "source": [
    "list1=[1,2,3]"
   ]
  },
  {
   "cell_type": "code",
   "execution_count": 5,
   "id": "fa6e87db-3c77-48b7-87fe-a23c3add49a8",
   "metadata": {},
   "outputs": [
    {
     "data": {
      "text/plain": [
       "[1, 4, 9]"
      ]
     },
     "execution_count": 5,
     "metadata": {},
     "output_type": "execute_result"
    }
   ],
   "source": [
    "list(map(square, list1))"
   ]
  },
  {
   "cell_type": "code",
   "execution_count": 7,
   "id": "bebfbb1d-ba58-42ab-9263-2954c5b81aca",
   "metadata": {},
   "outputs": [
    {
     "name": "stdout",
     "output_type": "stream",
     "text": [
      "1\n",
      "4\n",
      "9\n"
     ]
    }
   ],
   "source": [
    "new_list=map(square,list1)\n",
    "for i in new_list:\n",
    "    print(i)"
   ]
  },
  {
   "cell_type": "code",
   "execution_count": 34,
   "id": "d9ca4d98-8853-4208-9dc8-d86b11e15d78",
   "metadata": {},
   "outputs": [
    {
     "data": {
      "text/plain": [
       "[1, 4, 9]"
      ]
     },
     "execution_count": 34,
     "metadata": {},
     "output_type": "execute_result"
    }
   ],
   "source": [
    "list(map(lambda x:x**2,list1))"
   ]
  },
  {
   "cell_type": "code",
   "execution_count": 39,
   "id": "89241955-63ec-4d52-8690-18fd160aec9c",
   "metadata": {},
   "outputs": [
    {
     "data": {
      "text/plain": [
       "25"
      ]
     },
     "execution_count": 39,
     "metadata": {},
     "output_type": "execute_result"
    }
   ],
   "source": [
    "#Difference between parameters and arguments\n",
    "\n",
    "def sum(a,b): #here a&b are parameters\n",
    "    return a+b\n",
    "\n",
    "sum(12, 13) #here 12,13 are arguments"
   ]
  },
  {
   "cell_type": "markdown",
   "id": "1f6da32a-4f90-408e-9343-618331c4692f",
   "metadata": {},
   "source": [
    "**Celsius to fahrenheit**"
   ]
  },
  {
   "cell_type": "code",
   "execution_count": 45,
   "id": "8644a496-9cb9-487b-89aa-a1706bdb6cf7",
   "metadata": {},
   "outputs": [],
   "source": [
    "celsius = [36, 45, 37, 56]"
   ]
  },
  {
   "cell_type": "code",
   "execution_count": 51,
   "id": "a7a72f61-94da-4563-952c-f248a1b3a51e",
   "metadata": {},
   "outputs": [
    {
     "data": {
      "text/plain": [
       "[96.8, 113.0, 98.6, 132.8]"
      ]
     },
     "execution_count": 51,
     "metadata": {},
     "output_type": "execute_result"
    }
   ],
   "source": [
    "list(map(lambda c:round(c*(9/5)+32,2), celsius))"
   ]
  },
  {
   "cell_type": "markdown",
   "id": "35326714-29fb-41dd-be81-807ea2154036",
   "metadata": {},
   "source": [
    "**if Marks >=60 pass, else fail**"
   ]
  },
  {
   "cell_type": "code",
   "execution_count": 97,
   "id": "5447e37d-be2a-4935-b8b8-a6edd27cad1c",
   "metadata": {},
   "outputs": [],
   "source": [
    "grades=[45,56,34,60,67,87,77]"
   ]
  },
  {
   "cell_type": "code",
   "execution_count": 105,
   "id": "e1099886-082a-44f1-b675-ccbf9a0a22b4",
   "metadata": {},
   "outputs": [
    {
     "data": {
      "text/plain": [
       "['fail', 'fail', 'fail', 'pass', 'pass', 'pass', 'pass']"
      ]
     },
     "execution_count": 105,
     "metadata": {},
     "output_type": "execute_result"
    }
   ],
   "source": [
    "a=list(map(lambda g:'pass' if g >=60 else 'fail', grades))\n",
    "a"
   ]
  },
  {
   "cell_type": "markdown",
   "id": "d432b288-e3bc-41e7-804e-02ba8efb0edb",
   "metadata": {},
   "source": [
    "**filter()**"
   ]
  },
  {
   "cell_type": "code",
   "execution_count": 107,
   "id": "e961b29a-f06a-4220-95db-22318a9369f6",
   "metadata": {},
   "outputs": [],
   "source": [
    "age = [12,14,44,23,18,22]"
   ]
  },
  {
   "cell_type": "code",
   "execution_count": 109,
   "id": "11685b26-10ef-4607-816a-d5d3f07b39b4",
   "metadata": {},
   "outputs": [
    {
     "name": "stdout",
     "output_type": "stream",
     "text": [
      "[44, 23, 18, 22]\n"
     ]
    },
    {
     "data": {
      "text/plain": [
       "[12, 14, 44, 23, 18, 22]"
      ]
     },
     "execution_count": 109,
     "metadata": {},
     "output_type": "execute_result"
    }
   ],
   "source": [
    "a=list(filter(lambda x: x>=18,age))\n",
    "print(a)\n",
    "age"
   ]
  },
  {
   "cell_type": "code",
   "execution_count": 111,
   "id": "1692afa3-8e0f-4349-936f-1891f9b85954",
   "metadata": {},
   "outputs": [
    {
     "data": {
      "text/plain": [
       "[60, 67, 87, 77]"
      ]
     },
     "execution_count": 111,
     "metadata": {},
     "output_type": "execute_result"
    }
   ],
   "source": [
    "list(filter(lambda x:x>=60, grades))"
   ]
  },
  {
   "cell_type": "markdown",
   "id": "e186944d-1af3-49c8-9f4f-b7c342518b91",
   "metadata": {},
   "source": [
    "**concatenate two names using lambda function and map function**"
   ]
  },
  {
   "cell_type": "code",
   "execution_count": 122,
   "id": "7c6bb427-5116-46ca-a3d5-51e48ca67f04",
   "metadata": {},
   "outputs": [],
   "source": [
    "fullname=lambda x,y:x+\" \"+y"
   ]
  },
  {
   "cell_type": "code",
   "execution_count": 124,
   "id": "34deb0c2-ad41-4242-8e01-84cb27250bbb",
   "metadata": {},
   "outputs": [
    {
     "data": {
      "text/plain": [
       "'abc xyz'"
      ]
     },
     "execution_count": 124,
     "metadata": {},
     "output_type": "execute_result"
    }
   ],
   "source": [
    "fullname('abc', 'xyz')"
   ]
  },
  {
   "cell_type": "markdown",
   "id": "5cfb01ee-55ff-460d-a95c-d407899b09df",
   "metadata": {},
   "source": [
    "**WAP to convert all the characters into upper case using map function**"
   ]
  },
  {
   "cell_type": "code",
   "execution_count": 139,
   "id": "b71f3a3f-1b75-4243-8dd8-6e921e894639",
   "metadata": {},
   "outputs": [
    {
     "data": {
      "text/plain": [
       "['H', 'E', 'L', 'L', 'O', ' ', 'W', 'O', 'R', 'L', 'D']"
      ]
     },
     "execution_count": 139,
     "metadata": {},
     "output_type": "execute_result"
    }
   ],
   "source": [
    "x='abc'\n",
    "list(map(lambda i:i.upper(),x))\n",
    "\n",
    "#or\n",
    "\n",
    "list(map(str.upper,'Hello world'))"
   ]
  },
  {
   "cell_type": "markdown",
   "id": "eb4c8563-73cb-4b3c-9cb8-d92ada43da95",
   "metadata": {},
   "source": [
    "**WAP to convert a given list of integers  and a tuple of integers into a list of strings**"
   ]
  },
  {
   "cell_type": "code",
   "execution_count": 144,
   "id": "62fa474d-d0d4-47b9-8d6b-3e7325c8bbae",
   "metadata": {},
   "outputs": [
    {
     "data": {
      "text/plain": [
       "['1', '2', '3', '4']"
      ]
     },
     "execution_count": 144,
     "metadata": {},
     "output_type": "execute_result"
    }
   ],
   "source": [
    "x=[1,2,3,4]\n",
    "list(map(lambda i:str(i),x))"
   ]
  },
  {
   "cell_type": "code",
   "execution_count": 148,
   "id": "c2a763fd-3c4b-4ce9-90ad-56bb55b05fb3",
   "metadata": {},
   "outputs": [
    {
     "data": {
      "text/plain": [
       "['1', '2', '3', '4']"
      ]
     },
     "execution_count": 148,
     "metadata": {},
     "output_type": "execute_result"
    }
   ],
   "source": [
    "x=(1,2,3,4)\n",
    "list(map(lambda x:str(x),x))"
   ]
  },
  {
   "cell_type": "markdown",
   "id": "6333ca86-de20-4b81-80f8-e4e9327cc222",
   "metadata": {},
   "source": [
    "**WAP that uses the filter function to extract all uppercase letters from a list of mixed-case strings**"
   ]
  },
  {
   "cell_type": "code",
   "execution_count": 196,
   "id": "c3554f7f-ec94-4046-b476-0bf0cd60dab8",
   "metadata": {},
   "outputs": [
    {
     "name": "stdout",
     "output_type": "stream",
     "text": [
      "['a', 'B', 'B']\n",
      "['P', 'P', 'P']\n",
      "['I', 'z', 'z']\n",
      "['U', 'y', 'y']\n",
      "['z', 'Z', 'Z']\n"
     ]
    }
   ],
   "source": [
    "mixed=['aBB','PPP','Izz','Uyy','zZZ']\n",
    "for item in mixed:\n",
    "    print(list((filter(lambda char:any(char.isupper() for char in item), item))))"
   ]
  },
  {
   "cell_type": "code",
   "execution_count": 182,
   "id": "30652e01-e81c-4c32-b802-438b46573dfb",
   "metadata": {},
   "outputs": [
    {
     "name": "stdout",
     "output_type": "stream",
     "text": [
      "['B', 'B']\n",
      "['P', 'P', 'P']\n",
      "['I']\n",
      "['U']\n",
      "['Z', 'Z']\n"
     ]
    },
    {
     "data": {
      "text/plain": [
       "['B', 'B', 'P', 'P', 'P', 'I', 'U', 'Z', 'Z']"
      ]
     },
     "execution_count": 182,
     "metadata": {},
     "output_type": "execute_result"
    }
   ],
   "source": [
    "listOfAlph = []\n",
    "for item in mixed:\n",
    "    print(list(filter(str.isupper, item)))\n",
    "    listOfAlph.extend(filter(str.isupper,item))\n",
    "\n",
    "listOfAlph"
   ]
  },
  {
   "cell_type": "code",
   "execution_count": 192,
   "id": "08d46bdf-30b6-4e02-a1ed-b2a03f79e776",
   "metadata": {},
   "outputs": [
    {
     "data": {
      "text/plain": [
       "['8', '9', '6', '5', '2', '1']"
      ]
     },
     "execution_count": 192,
     "metadata": {},
     "output_type": "execute_result"
    }
   ],
   "source": [
    "digit=['a89BB','PP6P','Iz5z','Uyy2','1zZZ']\n",
    "listOfDigits=[]\n",
    "for item in digit:\n",
    "    listOfDigits.extend(filter(str.isdigit, item))\n",
    "\n",
    "listOfDigits"
   ]
  },
  {
   "cell_type": "code",
   "execution_count": null,
   "id": "9d1ae460-a4ee-47d2-9ffe-82fc3970155d",
   "metadata": {},
   "outputs": [],
   "source": []
  }
 ],
 "metadata": {
  "kernelspec": {
   "display_name": "Python 3 (ipykernel)",
   "language": "python",
   "name": "python3"
  },
  "language_info": {
   "codemirror_mode": {
    "name": "ipython",
    "version": 3
   },
   "file_extension": ".py",
   "mimetype": "text/x-python",
   "name": "python",
   "nbconvert_exporter": "python",
   "pygments_lexer": "ipython3",
   "version": "3.12.7"
  }
 },
 "nbformat": 4,
 "nbformat_minor": 5
}
