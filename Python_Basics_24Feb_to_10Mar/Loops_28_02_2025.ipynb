{
 "cells": [
  {
   "cell_type": "markdown",
   "id": "7404f12f-9ad8-4903-88f0-c0d1328c329e",
   "metadata": {},
   "source": [
    "**loops**"
   ]
  },
  {
   "cell_type": "markdown",
   "id": "20473f9b-efe0-4e39-8b82-9c36ae45166a",
   "metadata": {},
   "source": [
    "In python we have mainly two loops *for* loop and *while* loop\n",
    "- for loops used to loop through an iterable object (like a list, tuple, set, dict etc) and perform the same action for each entry"
   ]
  },
  {
   "cell_type": "code",
   "execution_count": 4,
   "id": "6d118b0c-58f8-4689-b942-1a8e2fef87bb",
   "metadata": {},
   "outputs": [
    {
     "name": "stdout",
     "output_type": "stream",
     "text": [
      "number 1\n",
      "number 2\n",
      "number 3\n",
      "number 4\n",
      "number 5\n"
     ]
    }
   ],
   "source": [
    "x=[1,2,3,4,5]\n",
    "\n",
    "for item in x:\n",
    "    print(f\"number {item}\")"
   ]
  },
  {
   "cell_type": "code",
   "execution_count": 5,
   "id": "9cd803c7-b09f-455d-ad6f-85ff6383b12c",
   "metadata": {},
   "outputs": [
    {
     "name": "stdout",
     "output_type": "stream",
     "text": [
      "name ram\n",
      "name abraham\n",
      "name akash\n",
      "name ayesha\n"
     ]
    }
   ],
   "source": [
    "y=[\"ram\",\"abraham\",\"akash\",\"ayesha\"]\n",
    "\n",
    "for element in y:\n",
    "    print(f\"name {element}\")"
   ]
  },
  {
   "cell_type": "code",
   "execution_count": 6,
   "id": "26ce0960-e486-4d7d-93b2-78c2a66dd093",
   "metadata": {},
   "outputs": [
    {
     "name": "stdout",
     "output_type": "stream",
     "text": [
      "even numbers [2, 8, 4, -4]\n",
      "odd numbers [-1, 1, 5, 9, 3, -9]\n"
     ]
    }
   ],
   "source": [
    "x=[-1,1,2,5,8,9,3,4,-4,-9]\n",
    "even_number=[]\n",
    "odd_number=[]\n",
    "\n",
    "for i in x:\n",
    "    if i % 2 == 0:\n",
    "        even_number.append(i)\n",
    "    else:\n",
    "        odd_number.append(i)\n",
    "\n",
    "print(\"even numbers {}\".format(even_number))\n",
    "print(\"odd numbers {}\".format(odd_number))"
   ]
  },
  {
   "cell_type": "markdown",
   "id": "abcc97fd-a061-46dc-a9e1-b7c64575ecbe",
   "metadata": {},
   "source": [
    "__WAP to print a list of squared even numbers and in the other list of cube of odd numbers__"
   ]
  },
  {
   "cell_type": "code",
   "execution_count": 8,
   "id": "fe67c72c-50eb-4f43-81f9-b8f4e1b939fb",
   "metadata": {},
   "outputs": [
    {
     "name": "stdout",
     "output_type": "stream",
     "text": [
      "squared even numbers [4, 64, 16, 16]\n",
      "cubed odd numbers [-1, 1, 125, 729, 27, -729]\n"
     ]
    }
   ],
   "source": [
    "x=[-1,1,2,5,8,9,3,4,-4,-9]\n",
    "squared_even=[]\n",
    "cubed_odd=[]\n",
    "\n",
    "for i in x:\n",
    "    if i % 2 == 0:\n",
    "        squared_even.append(i**2)\n",
    "    else:\n",
    "        cubed_odd.append(i**3)\n",
    "\n",
    "print(\"squared even numbers {}\".format(squared_even))\n",
    "print(\"cubed odd numbers {}\".format(cubed_odd))"
   ]
  },
  {
   "cell_type": "markdown",
   "id": "d2fcd308-2ad8-4454-87b2-136e2028dc25",
   "metadata": {},
   "source": [
    "**range() function**\n",
    "- range() function is useful to get a sequence of numbers.\n",
    "- it takes three arguments start, stop, step"
   ]
  },
  {
   "cell_type": "code",
   "execution_count": 10,
   "id": "96f2105f-ead4-40a0-a262-7c0b3cee0d0f",
   "metadata": {},
   "outputs": [
    {
     "data": {
      "text/plain": [
       "[0, 1, 2, 3, 4, 5, 6, 7, 8, 9]"
      ]
     },
     "execution_count": 10,
     "metadata": {},
     "output_type": "execute_result"
    }
   ],
   "source": [
    "list(range(10))"
   ]
  },
  {
   "cell_type": "code",
   "execution_count": 11,
   "id": "31c299d4-3df5-4e5e-b871-8b83df72188f",
   "metadata": {},
   "outputs": [
    {
     "data": {
      "text/plain": [
       "[10, 11, 12, 13, 14, 15, 16, 17, 18, 19]"
      ]
     },
     "execution_count": 11,
     "metadata": {},
     "output_type": "execute_result"
    }
   ],
   "source": [
    "list(range(10,20))"
   ]
  },
  {
   "cell_type": "code",
   "execution_count": 12,
   "id": "5cbb8598-8832-4809-b517-d2a62e50a52d",
   "metadata": {},
   "outputs": [
    {
     "data": {
      "text/plain": [
       "[10, 12, 14, 16, 18, 20, 22, 24, 26, 28]"
      ]
     },
     "execution_count": 12,
     "metadata": {},
     "output_type": "execute_result"
    }
   ],
   "source": [
    "list(range(10,30,2))"
   ]
  },
  {
   "cell_type": "code",
   "execution_count": 13,
   "id": "aae845db-34c9-4796-b01a-fd1bc8b90df9",
   "metadata": {},
   "outputs": [
    {
     "data": {
      "text/plain": [
       "[0, 1, 4, 9, 16, 25, 36, 49, 64, 81]"
      ]
     },
     "execution_count": 13,
     "metadata": {},
     "output_type": "execute_result"
    }
   ],
   "source": [
    "squared_numbers = []\n",
    "for i in range(10):\n",
    "    squared_numbers.append(i**2)\n",
    "squared_numbers    "
   ]
  },
  {
   "cell_type": "markdown",
   "id": "de023f62-9519-4342-b0bf-857bf9c5caba",
   "metadata": {},
   "source": [
    "**WAP to the square of even numbers between 0 and 50**"
   ]
  },
  {
   "cell_type": "code",
   "execution_count": 20,
   "id": "24955a44-b451-4648-bf41-11b93367aad9",
   "metadata": {},
   "outputs": [
    {
     "data": {
      "text/plain": [
       "[0,\n",
       " 4,\n",
       " 16,\n",
       " 36,\n",
       " 64,\n",
       " 100,\n",
       " 144,\n",
       " 196,\n",
       " 256,\n",
       " 324,\n",
       " 400,\n",
       " 484,\n",
       " 576,\n",
       " 676,\n",
       " 784,\n",
       " 900,\n",
       " 1024,\n",
       " 1156,\n",
       " 1296,\n",
       " 1444,\n",
       " 1600,\n",
       " 1764,\n",
       " 1936,\n",
       " 2116,\n",
       " 2304]"
      ]
     },
     "execution_count": 20,
     "metadata": {},
     "output_type": "execute_result"
    }
   ],
   "source": [
    "squared=[]\n",
    "for i in range(0,50,2):\n",
    "    squared.append(i**2)\n",
    "squared"
   ]
  },
  {
   "cell_type": "markdown",
   "id": "48223dd6-f4ba-4c97-87da-997f4a621c20",
   "metadata": {},
   "source": [
    "**WAP to print**\n",
    "\"*\"\n",
    "\"**\"\n",
    "\"***\"\n",
    "\"****\"\n",
    "\"*****\"\n",
    "\"******\""
   ]
  },
  {
   "cell_type": "code",
   "execution_count": 40,
   "id": "039e0bb1-3387-4bda-98e5-539befd06123",
   "metadata": {},
   "outputs": [
    {
     "name": "stdout",
     "output_type": "stream",
     "text": [
      "\n",
      "*\n",
      "**\n",
      "***\n",
      "****\n",
      "*****\n",
      "******\n"
     ]
    }
   ],
   "source": [
    "for i in range(0,7):\n",
    "    print(i* '*')"
   ]
  },
  {
   "cell_type": "markdown",
   "id": "94a151c7-a102-4a30-a57e-e3850d5a7a78",
   "metadata": {},
   "source": []
  },
  {
   "cell_type": "code",
   "execution_count": null,
   "id": "7486276a-3aeb-4979-b2c0-00e6a1a35647",
   "metadata": {},
   "outputs": [],
   "source": [
    "\n",
    "\n",
    "\n"
   ]
  }
 ],
 "metadata": {
  "kernelspec": {
   "display_name": "Python 3 (ipykernel)",
   "language": "python",
   "name": "python3"
  },
  "language_info": {
   "codemirror_mode": {
    "name": "ipython",
    "version": 3
   },
   "file_extension": ".py",
   "mimetype": "text/x-python",
   "name": "python",
   "nbconvert_exporter": "python",
   "pygments_lexer": "ipython3",
   "version": "3.12.7"
  }
 },
 "nbformat": 4,
 "nbformat_minor": 5
}
