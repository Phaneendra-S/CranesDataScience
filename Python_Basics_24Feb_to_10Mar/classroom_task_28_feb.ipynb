{
 "cells": [
  {
   "cell_type": "code",
   "execution_count": 2,
   "id": "1a296d95-5527-4f5d-afa0-16a54d6498ca",
   "metadata": {},
   "outputs": [
    {
     "name": "stdout",
     "output_type": "stream",
     "text": [
      "*\n",
      "**\n",
      "***\n",
      "****\n",
      "*****\n",
      "******\n"
     ]
    }
   ],
   "source": [
    "for i in range(1,7):\n",
    "    print(i* '*')"
   ]
  },
  {
   "cell_type": "code",
   "execution_count": 3,
   "id": "6c299346-ba08-4892-9639-fde394aef51e",
   "metadata": {},
   "outputs": [
    {
     "name": "stdout",
     "output_type": "stream",
     "text": [
      "******\n",
      "*****\n",
      "****\n",
      "***\n",
      "**\n",
      "*\n"
     ]
    }
   ],
   "source": [
    "star_list = []\n",
    "for i in range(1,7):\n",
    "    star_list.append(i* '*')\n",
    "\n",
    "a=star_list[::-1]\n",
    "\n",
    "for i in a:\n",
    "    print(i)"
   ]
  },
  {
   "cell_type": "code",
   "execution_count": 4,
   "id": "bfb5dae3-f4f7-416a-a2fa-1b36d300e68e",
   "metadata": {},
   "outputs": [
    {
     "name": "stdout",
     "output_type": "stream",
     "text": [
      "******\n",
      "*   *\n",
      "*  *\n",
      "* *\n",
      "**\n",
      "*\n"
     ]
    }
   ],
   "source": [
    "star_list = []\n",
    "range_start=1\n",
    "range_end=6\n",
    "for i in range(range_start,range_end+1):\n",
    "    a=i* '*'\n",
    "    if i == range_start or i==2 or i== range_end:\n",
    "        star_list.append(a)\n",
    "    else:\n",
    "        b=list(a)\n",
    "        for j in range(1,i-1):\n",
    "            b[j]=' '\n",
    "        a=''.join(b)\n",
    "        star_list.append(a)\n",
    "\n",
    "b = star_list[::-1]\n",
    "for i in b:\n",
    "    print(i)"
   ]
  },
  {
   "cell_type": "code",
   "execution_count": 5,
   "id": "e73f9a36-a08f-4fe7-864f-c69c6e6615e3",
   "metadata": {},
   "outputs": [
    {
     "name": "stdout",
     "output_type": "stream",
     "text": [
      "     *     \n",
      "    * *    \n",
      "   * * *   \n",
      "  * * * *  \n",
      " * * * * * \n",
      "* * * * * *\n"
     ]
    }
   ],
   "source": [
    "star_list=[]\n",
    "start = 1\n",
    "end = 6\n",
    "\n",
    "for i in range(start, end+1):\n",
    "    a=i* '*'\n",
    "    star_list.append(' '*(end-i) + ' '.join(a) + ' '*(end-i))\n",
    "\n",
    "for i in star_list:\n",
    "    print(i)"
   ]
  },
  {
   "cell_type": "code",
   "execution_count": 6,
   "id": "d1c85101-a0a5-4148-a62e-91989b338afd",
   "metadata": {},
   "outputs": [
    {
     "name": "stdout",
     "output_type": "stream",
     "text": [
      "* * * * * *\n",
      " * * * * * \n",
      "  * * * *  \n",
      "   * * *   \n",
      "    * *    \n",
      "     *     \n"
     ]
    }
   ],
   "source": [
    "star_list=[]\n",
    "start = 1\n",
    "end = 6\n",
    "\n",
    "for i in range(start, end+1):\n",
    "    a=i* '*'\n",
    "    star_list.append(' '*(end-i) + ' '.join(a) + ' '*(end-i))\n",
    "\n",
    "for i in reversed(star_list):\n",
    "    print(i)"
   ]
  },
  {
   "cell_type": "code",
   "execution_count": 84,
   "id": "2d802f40-55f9-4021-be26-96812b89748c",
   "metadata": {},
   "outputs": [
    {
     "name": "stdout",
     "output_type": "stream",
     "text": [
      "     *     \n",
      "    * *    \n",
      "   *   *   \n",
      "  *     *  \n",
      " *       * \n",
      "* * * * * *\n"
     ]
    }
   ],
   "source": [
    "star_list=[]\n",
    "start = 1\n",
    "end = 6\n",
    "\n",
    "for i in range(start, end+1):\n",
    "    a=i* '*'\n",
    "    if i==1 or i==2 or i==end:\n",
    "        star_list.append(' '*(end-i) + ' '.join(a) + ' '*(end-i))\n",
    "    else:\n",
    "        b=list(a)\n",
    "        for j in range(1,i-1):\n",
    "            b[j]=' '    \n",
    "        star_list.append(' '*(end-i) + ' '.join(b) + ' '*(end-i)) \n",
    "\n",
    "for i in star_list:\n",
    "    print(i)"
   ]
  }
 ],
 "metadata": {
  "kernelspec": {
   "display_name": "Python 3 (ipykernel)",
   "language": "python",
   "name": "python3"
  },
  "language_info": {
   "codemirror_mode": {
    "name": "ipython",
    "version": 3
   },
   "file_extension": ".py",
   "mimetype": "text/x-python",
   "name": "python",
   "nbconvert_exporter": "python",
   "pygments_lexer": "ipython3",
   "version": "3.12.7"
  }
 },
 "nbformat": 4,
 "nbformat_minor": 5
}
