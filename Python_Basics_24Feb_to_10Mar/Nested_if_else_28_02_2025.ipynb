{
 "cells": [
  {
   "cell_type": "markdown",
   "id": "b319abdb-a928-4d97-b5a1-ea3a52b58835",
   "metadata": {},
   "source": [
    "- Nested if else"
   ]
  },
  {
   "cell_type": "markdown",
   "id": "d158929b-6035-485d-b40f-08e781c1c874",
   "metadata": {},
   "source": [
    "Scholarship Eligibility\n",
    "\n",
    "- Ask for a student's GPA and family income:\n",
    "\n",
    "- If GPA is above 3.5, check if family income is below $40,000 (Full scholarship).\n",
    "\n",
    "- Otherwise, check if GPA is above 3.0 (Partial scholarship).\n",
    "\n",
    "- If neither, print \"No scholarship.\""
   ]
  },
  {
   "cell_type": "code",
   "execution_count": 3,
   "id": "97db5583-6526-445b-9833-5e9d4104b05a",
   "metadata": {},
   "outputs": [
    {
     "name": "stdin",
     "output_type": "stream",
     "text": [
      "Enter the GPA :  4\n",
      "Enter the family income :  40000\n"
     ]
    },
    {
     "name": "stdout",
     "output_type": "stream",
     "text": [
      "No scholarship\n"
     ]
    }
   ],
   "source": [
    "gpa = float(input(\"Enter the GPA : \"))\n",
    "\n",
    "if gpa > 3.5:\n",
    "    family_income = float(input(\"Enter the family income : \"))\n",
    "    if family_income < 40000:\n",
    "        print(\"Full scholarship\")\n",
    "    else:\n",
    "        print(\"No scholarship\")\n",
    "elif gpa > 3:\n",
    "    print(\"Partial scholarship\")\n",
    "else:\n",
    "    print(\"No scholarship\")"
   ]
  },
  {
   "cell_type": "markdown",
   "id": "bdf5f60d-d034-40d8-a1f6-4f0fb735928f",
   "metadata": {},
   "source": [
    "Traffic Light with Pedestrian Signal\n",
    "\n",
    "- Ask the user for a traffic light color:\n",
    "\n",
    "- If the light is green, check if there are pedestrians crossing (If yes, \"Wait\"; else, \"Go\").\n",
    "\n",
    "- If the light is yellow, print \"Slow down.\"\n",
    "\n",
    "- If the light is red, print \"Stop.\"\n",
    "\n",
    "- also print invalid input if it is not a valid colour"
   ]
  },
  {
   "cell_type": "code",
   "execution_count": 5,
   "id": "d437c396-7bdf-48b0-a7bf-6022a78ad90e",
   "metadata": {},
   "outputs": [
    {
     "name": "stdin",
     "output_type": "stream",
     "text": [
      "Enter the traffic light colour :  green\n",
      "If pedestrains are crossing or not yes/no :  yes\n"
     ]
    },
    {
     "name": "stdout",
     "output_type": "stream",
     "text": [
      "wait\n"
     ]
    }
   ],
   "source": [
    "traffic_light = input(\"Enter the traffic light colour : \")\n",
    "\n",
    "if traffic_light == \"green\":\n",
    "    pedestrains = input(\"If pedestrains are crossing or not yes/no : \")\n",
    "    if pedestrains == \"yes\":\n",
    "        print(\"wait\")\n",
    "    else:\n",
    "        print(\"go\")\n",
    "elif traffic_light == \"yellow\":\n",
    "    print(\"slow down\")\n",
    "elif traffic_light == \"red\":\n",
    "    print(\"stop\")\n",
    "else:\n",
    "    print(\"Invalid input\")"
   ]
  },
  {
   "cell_type": "markdown",
   "id": "74bbe678-ea36-43b0-a90f-39a31d04d991",
   "metadata": {},
   "source": [
    "Login System\n",
    "\n",
    "- Ask for a username and password:\n",
    "\n",
    "- If the username is correct, check if the password is correct (Allow login).\n",
    "\n",
    "- Otherwise, print \"Incorrect password.\"\n",
    "\n",
    "- If the username is wrong, print \"User not found.\"\n",
    "\n",
    "- assume a correct username & password"
   ]
  },
  {
   "cell_type": "code",
   "execution_count": 7,
   "id": "2975177d-4e8d-42e7-bb20-0bfba720813d",
   "metadata": {},
   "outputs": [
    {
     "name": "stdin",
     "output_type": "stream",
     "text": [
      "Enter username :  cranes\n",
      "Password : data science\n"
     ]
    },
    {
     "name": "stdout",
     "output_type": "stream",
     "text": [
      "Login successful\n"
     ]
    }
   ],
   "source": [
    "username = input(\"Enter username : \")\n",
    "\n",
    "fixed_username = \"cranes\"\n",
    "fixed_password = \"data science\"\n",
    "\n",
    "if username == fixed_username:\n",
    "    password = input(\"Password :\")\n",
    "    if password == fixed_password:\n",
    "        print(\"Login successful\")\n",
    "    else:\n",
    "        print(\"Incorrect password\")\n",
    "else:\n",
    "    print(\"User not found\")"
   ]
  },
  {
   "cell_type": "markdown",
   "id": "4b060d94-1d36-4d64-9ddf-6bb36b23385a",
   "metadata": {},
   "source": [
    "Eligibility for a Loan\n",
    "\n",
    "- Ask a user for their age and monthly income:\n",
    "\n",
    "- If the age is above 21, check if the income is above $3000 (Eligible for a premium loan).\n",
    "\n",
    "- Otherwise, check if income is above $1500 (Eligible for a regular loan).\n",
    "\n",
    "- If none of these conditions are met, print \"Not eligible.\""
   ]
  },
  {
   "cell_type": "code",
   "execution_count": 31,
   "id": "96731af2-5fa1-4b79-9e36-8106c185bbff",
   "metadata": {},
   "outputs": [
    {
     "name": "stdin",
     "output_type": "stream",
     "text": [
      "Enter the age :  20\n",
      "Enter the income :  2000\n"
     ]
    },
    {
     "name": "stdout",
     "output_type": "stream",
     "text": [
      "Eligible for regular loan\n"
     ]
    }
   ],
   "source": [
    "age = int(input(\"Enter the age : \"))\n",
    "income = float(input(\"Enter the income : \"))\n",
    "\n",
    "if age > 21:\n",
    "    if income > 3000:\n",
    "        print(\"Eligible for premium loan\")\n",
    "elif income > 1500:\n",
    "        print(\"Eligible for regular loan\")\n",
    "else:\n",
    "    print(\"Not eligible\")"
   ]
  },
  {
   "cell_type": "markdown",
   "id": "afff6ee2-145c-4936-80b6-c5b8c9082b5d",
   "metadata": {},
   "source": [
    "Grading System\n",
    "\n",
    "- Write a program that asks for a student's score and assigns a grade:\n",
    "\n",
    "- If the score is above 90, check if it's above 95 (Grade A+), otherwise Grade A.\n",
    "\n",
    "- If the score is between 80 and 90, check if it's above 85 (Grade B+), otherwise Grade B.\n",
    "\n",
    "- Otherwise, print \"C or below.\""
   ]
  },
  {
   "cell_type": "code",
   "execution_count": 41,
   "id": "184a9f58-c523-4bf5-8194-d4f1f1d52698",
   "metadata": {},
   "outputs": [
    {
     "name": "stdin",
     "output_type": "stream",
     "text": [
      "Enter score :  70\n"
     ]
    },
    {
     "name": "stdout",
     "output_type": "stream",
     "text": [
      "C or below\n"
     ]
    }
   ],
   "source": [
    "score = float(input(\"Enter score : \"))\n",
    "\n",
    "if score > 90:\n",
    "    if score > 95:\n",
    "        print(\"A+\")\n",
    "    else:\n",
    "        print(\"A\")\n",
    "elif 80 < score < 90:\n",
    "    if score > 85:\n",
    "        print(\"B+\")\n",
    "    else:\n",
    "        print(\"B\")\n",
    "else:\n",
    "    print(\"C or below\")"
   ]
  },
  {
   "cell_type": "code",
   "execution_count": null,
   "id": "3588ebec-6acf-4162-b650-c9fb39e7af55",
   "metadata": {},
   "outputs": [],
   "source": []
  }
 ],
 "metadata": {
  "kernelspec": {
   "display_name": "Python 3 (ipykernel)",
   "language": "python",
   "name": "python3"
  },
  "language_info": {
   "codemirror_mode": {
    "name": "ipython",
    "version": 3
   },
   "file_extension": ".py",
   "mimetype": "text/x-python",
   "name": "python",
   "nbconvert_exporter": "python",
   "pygments_lexer": "ipython3",
   "version": "3.12.7"
  }
 },
 "nbformat": 4,
 "nbformat_minor": 5
}
