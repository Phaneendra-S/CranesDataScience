{
 "cells": [
  {
   "cell_type": "markdown",
   "id": "084340de-81f6-401e-b5e4-93d94a33bbb0",
   "metadata": {},
   "source": [
    "**list methods**\n",
    "- lists are mutable\n",
    "- sort() method changes the original array\n",
    "- sorted() is just a function it dos not change the original array, we need to save it in another variable"
   ]
  },
  {
   "cell_type": "code",
   "execution_count": 129,
   "id": "5c41f95f-fe08-4326-8a53-7da9a48be921",
   "metadata": {},
   "outputs": [],
   "source": [
    " b = [2,5,1,34,5,24,75,8]"
   ]
  },
  {
   "cell_type": "code",
   "execution_count": 131,
   "id": "ae6182fe-4d2f-4302-887c-4b45016b9923",
   "metadata": {},
   "outputs": [],
   "source": [
    "b.sort()"
   ]
  },
  {
   "cell_type": "code",
   "execution_count": 132,
   "id": "a1713d1d-be74-4cf4-b082-dcda80bc0d6c",
   "metadata": {},
   "outputs": [
    {
     "data": {
      "text/plain": [
       "[1, 2, 5, 5, 8, 24, 34, 75]"
      ]
     },
     "execution_count": 132,
     "metadata": {},
     "output_type": "execute_result"
    }
   ],
   "source": [
    "b"
   ]
  },
  {
   "cell_type": "code",
   "execution_count": 134,
   "id": "9d8c9f2d-f3ea-425c-b331-bed0ea27d836",
   "metadata": {},
   "outputs": [
    {
     "data": {
      "text/plain": [
       "[1, 2, 5, 5, 8, 24, 34, 75]"
      ]
     },
     "execution_count": 134,
     "metadata": {},
     "output_type": "execute_result"
    }
   ],
   "source": [
    "sorted(b)"
   ]
  },
  {
   "cell_type": "code",
   "execution_count": 137,
   "id": "853e9525-2bde-4f8a-945a-682f881a9184",
   "metadata": {},
   "outputs": [],
   "source": [
    "b.sort(reverse=True)"
   ]
  },
  {
   "cell_type": "code",
   "execution_count": 138,
   "id": "61974105-f4d1-4df6-bb97-f84b5d981ec1",
   "metadata": {},
   "outputs": [
    {
     "data": {
      "text/plain": [
       "[75, 34, 24, 8, 5, 5, 2, 1]"
      ]
     },
     "execution_count": 138,
     "metadata": {},
     "output_type": "execute_result"
    }
   ],
   "source": [
    "b"
   ]
  },
  {
   "cell_type": "markdown",
   "id": "f4fd5afb-cd36-484c-8d78-a5cd36897eec",
   "metadata": {},
   "source": [
    "**append()**\n",
    "- append method adds an item permanently to the list"
   ]
  },
  {
   "cell_type": "code",
   "execution_count": 142,
   "id": "b0bb7ecc-f257-482d-8c36-84f0000a751e",
   "metadata": {},
   "outputs": [],
   "source": [
    "b.append('True')"
   ]
  },
  {
   "cell_type": "code",
   "execution_count": 144,
   "id": "daba8636-d1c7-416e-823c-ac5967f0800d",
   "metadata": {},
   "outputs": [],
   "source": [
    "b.append('ap')"
   ]
  },
  {
   "cell_type": "code",
   "execution_count": 146,
   "id": "5064373b-ba68-440d-b6f0-fd29b233f47a",
   "metadata": {},
   "outputs": [
    {
     "data": {
      "text/plain": [
       "[75, 34, 24, 8, 5, 5, 2, 1, 'True', 'ap']"
      ]
     },
     "execution_count": 146,
     "metadata": {},
     "output_type": "execute_result"
    }
   ],
   "source": [
    "b"
   ]
  },
  {
   "cell_type": "code",
   "execution_count": 148,
   "id": "4d167dbf-e620-45fa-bb9c-6f14019d07d5",
   "metadata": {},
   "outputs": [
    {
     "data": {
      "text/plain": [
       "[75, 34, 24, 8, 5, 5, 2, 1, 'True', 'ap', 'True']"
      ]
     },
     "execution_count": 148,
     "metadata": {},
     "output_type": "execute_result"
    }
   ],
   "source": [
    "b.append('True')\n",
    "b"
   ]
  },
  {
   "cell_type": "code",
   "execution_count": 150,
   "id": "a185396a-bcd3-49d1-88c3-40b67852a5db",
   "metadata": {},
   "outputs": [
    {
     "data": {
      "text/plain": [
       "11"
      ]
     },
     "execution_count": 150,
     "metadata": {},
     "output_type": "execute_result"
    }
   ],
   "source": [
    "len(b)"
   ]
  },
  {
   "cell_type": "markdown",
   "id": "d3949414-a3b0-4748-af4a-dcd5d5b57e17",
   "metadata": {},
   "source": [
    "**extend()**\n",
    "- extend method is used to merge a list into an existing list"
   ]
  },
  {
   "cell_type": "code",
   "execution_count": 153,
   "id": "64b42f1f-5b56-4761-9972-9e037dab292c",
   "metadata": {},
   "outputs": [],
   "source": [
    "a=['ss',4,5,700,'rt']"
   ]
  },
  {
   "cell_type": "code",
   "execution_count": 155,
   "id": "67fc1151-0c62-4e3d-bc1f-7e0c35270f35",
   "metadata": {},
   "outputs": [],
   "source": [
    "b.extend(a)"
   ]
  },
  {
   "cell_type": "code",
   "execution_count": 157,
   "id": "40d18f7c-b9df-4c89-9cd3-5b9e11f0965d",
   "metadata": {},
   "outputs": [
    {
     "data": {
      "text/plain": [
       "[75, 34, 24, 8, 5, 5, 2, 1, 'True', 'ap', 'True', 'ss', 4, 5, 700, 'rt']"
      ]
     },
     "execution_count": 157,
     "metadata": {},
     "output_type": "execute_result"
    }
   ],
   "source": [
    "b"
   ]
  },
  {
   "cell_type": "code",
   "execution_count": 159,
   "id": "68952c02-da28-471b-8d0a-201a9e21b75f",
   "metadata": {},
   "outputs": [],
   "source": [
    "b.extend([9,8,7,6,])"
   ]
  },
  {
   "cell_type": "code",
   "execution_count": 161,
   "id": "8572333c-0dbe-46bf-9cec-f86d30abf80d",
   "metadata": {},
   "outputs": [
    {
     "data": {
      "text/plain": [
       "[75,\n",
       " 34,\n",
       " 24,\n",
       " 8,\n",
       " 5,\n",
       " 5,\n",
       " 2,\n",
       " 1,\n",
       " 'True',\n",
       " 'ap',\n",
       " 'True',\n",
       " 'ss',\n",
       " 4,\n",
       " 5,\n",
       " 700,\n",
       " 'rt',\n",
       " 9,\n",
       " 8,\n",
       " 7,\n",
       " 6]"
      ]
     },
     "execution_count": 161,
     "metadata": {},
     "output_type": "execute_result"
    }
   ],
   "source": [
    "b"
   ]
  },
  {
   "cell_type": "code",
   "execution_count": 163,
   "id": "d4562aae-5c1a-49af-9d0f-81320d5d002c",
   "metadata": {},
   "outputs": [
    {
     "data": {
      "text/plain": [
       "20"
      ]
     },
     "execution_count": 163,
     "metadata": {},
     "output_type": "execute_result"
    }
   ],
   "source": [
    "len(b)"
   ]
  },
  {
   "cell_type": "markdown",
   "id": "78b22fbc-4cbe-4146-a847-f91c0b56cab0",
   "metadata": {},
   "source": [
    "**pop()**\n",
    "- pop() method by default removes the last element\n",
    "- pop() takes index as argument and pops off the element in that index"
   ]
  },
  {
   "cell_type": "code",
   "execution_count": 166,
   "id": "f8d4ee5a-139d-4390-8306-fe34b4592ae4",
   "metadata": {},
   "outputs": [
    {
     "data": {
      "text/plain": [
       "[75,\n",
       " 34,\n",
       " 24,\n",
       " 8,\n",
       " 5,\n",
       " 5,\n",
       " 2,\n",
       " 1,\n",
       " 'True',\n",
       " 'ap',\n",
       " 'True',\n",
       " 'ss',\n",
       " 4,\n",
       " 5,\n",
       " 700,\n",
       " 'rt',\n",
       " 9,\n",
       " 8,\n",
       " 7]"
      ]
     },
     "execution_count": 166,
     "metadata": {},
     "output_type": "execute_result"
    }
   ],
   "source": [
    "b.pop()\n",
    "b"
   ]
  },
  {
   "cell_type": "code",
   "execution_count": 168,
   "id": "2b7e2502-60b2-433f-95a4-89b1acbc851e",
   "metadata": {},
   "outputs": [
    {
     "data": {
      "text/plain": [
       "[75, 34, 24, 8, 5, 5, 2, 1, 'True', 'ap', 'True', 'ss', 5, 700, 'rt', 9, 8, 7]"
      ]
     },
     "execution_count": 168,
     "metadata": {},
     "output_type": "execute_result"
    }
   ],
   "source": [
    "b.pop(12)\n",
    "b"
   ]
  },
  {
   "cell_type": "markdown",
   "id": "c27c41c8-8a33-4dfb-af39-5ba77568639c",
   "metadata": {},
   "source": [
    "**remove()**\n",
    "- by default remove() removes the specified element from the list\n",
    "- remove() takes the element as an argument"
   ]
  },
  {
   "cell_type": "code",
   "execution_count": 171,
   "id": "5b33cf00-f6ca-4b54-9246-f4ae21cbc743",
   "metadata": {},
   "outputs": [
    {
     "data": {
      "text/plain": [
       "[75, 34, 24, 8, 5, 5, 2, 1, 'True', 'True', 'ss', 5, 700, 'rt', 9, 8, 7]"
      ]
     },
     "execution_count": 171,
     "metadata": {},
     "output_type": "execute_result"
    }
   ],
   "source": [
    "b.remove('ap')\n",
    "b"
   ]
  },
  {
   "cell_type": "markdown",
   "id": "2aafc812-6497-4fc6-9cb4-361682f303a8",
   "metadata": {},
   "source": [
    "**count()**\n",
    "- the count() method returns total occurence of a specified element in the list"
   ]
  },
  {
   "cell_type": "code",
   "execution_count": 179,
   "id": "50431aa3-3e77-4f13-890a-201a26c51553",
   "metadata": {},
   "outputs": [
    {
     "data": {
      "text/plain": [
       "3"
      ]
     },
     "execution_count": 179,
     "metadata": {},
     "output_type": "execute_result"
    }
   ],
   "source": [
    "b.count(5)"
   ]
  },
  {
   "cell_type": "code",
   "execution_count": 181,
   "id": "345bcabe-c9d1-4b81-9754-2d0cd1591418",
   "metadata": {},
   "outputs": [
    {
     "data": {
      "text/plain": [
       "2"
      ]
     },
     "execution_count": 181,
     "metadata": {},
     "output_type": "execute_result"
    }
   ],
   "source": [
    "b.count('True')"
   ]
  },
  {
   "cell_type": "code",
   "execution_count": 183,
   "id": "d3a03f13-2267-4807-8c50-be28ed45661d",
   "metadata": {},
   "outputs": [
    {
     "data": {
      "text/plain": [
       "1"
      ]
     },
     "execution_count": 183,
     "metadata": {},
     "output_type": "execute_result"
    }
   ],
   "source": [
    "'''here this is always true so it always gives 1, because we've given true as boolean \n",
    "unless we give it as a string it won't return the no.of occurences'''\n",
    "b.count(True)"
   ]
  },
  {
   "cell_type": "markdown",
   "id": "fc4f9315-c1ad-4e17-9659-582318b591ff",
   "metadata": {},
   "source": [
    "**index()**\n",
    "- index() method returns the index of a specified element"
   ]
  },
  {
   "cell_type": "code",
   "execution_count": 186,
   "id": "f4303668-a33d-4d3d-9dcc-08deb2ab3156",
   "metadata": {},
   "outputs": [
    {
     "data": {
      "text/plain": [
       "4"
      ]
     },
     "execution_count": 186,
     "metadata": {},
     "output_type": "execute_result"
    }
   ],
   "source": [
    "b.index(5)"
   ]
  },
  {
   "cell_type": "code",
   "execution_count": 73,
   "id": "612f7a76-bf19-4d7e-82d4-f646674fa05d",
   "metadata": {},
   "outputs": [
    {
     "data": {
      "text/plain": [
       "[75, 34, 24, 8, 5, 5, 2, 1, 'True', 'ss', 4, 5, 700, 'rt', 9, 8, 7]"
      ]
     },
     "execution_count": 73,
     "metadata": {},
     "output_type": "execute_result"
    }
   ],
   "source": [
    "b"
   ]
  },
  {
   "cell_type": "markdown",
   "id": "773b2829-a317-4717-a986-f1d1ca7e0d7f",
   "metadata": {},
   "source": [
    "**reverse()**\n",
    "- reverse() method reverses the list"
   ]
  },
  {
   "cell_type": "code",
   "execution_count": 189,
   "id": "4fb457a5-9d53-4600-a4fe-a07483eabd41",
   "metadata": {},
   "outputs": [
    {
     "data": {
      "text/plain": [
       "[7, 8, 9, 'rt', 700, 5, 'ss', 'True', 'True', 1, 2, 5, 5, 8, 24, 34, 75]"
      ]
     },
     "execution_count": 189,
     "metadata": {},
     "output_type": "execute_result"
    }
   ],
   "source": [
    "b.reverse()\n",
    "b"
   ]
  },
  {
   "cell_type": "markdown",
   "id": "d1c9dc4d-9ae8-480f-a245-44c6677a4d2b",
   "metadata": {},
   "source": [
    "**nested lists**\n",
    "- a list inside a list"
   ]
  },
  {
   "cell_type": "code",
   "execution_count": 77,
   "id": "f741ea22-d9dc-42fe-ac42-d09e8afe9c32",
   "metadata": {},
   "outputs": [
    {
     "data": {
      "text/plain": [
       "[[1, 2], [3, 4]]"
      ]
     },
     "execution_count": 77,
     "metadata": {},
     "output_type": "execute_result"
    }
   ],
   "source": [
    "a=[1,2]\n",
    "b=[3,4]\n",
    "\n",
    "c=[a,b]\n",
    "c"
   ]
  },
  {
   "cell_type": "code",
   "execution_count": 79,
   "id": "fc89f301-672b-4a3a-a3d9-c23def31767d",
   "metadata": {},
   "outputs": [
    {
     "data": {
      "text/plain": [
       "[1, 2]"
      ]
     },
     "execution_count": 79,
     "metadata": {},
     "output_type": "execute_result"
    }
   ],
   "source": [
    "c[0]"
   ]
  },
  {
   "cell_type": "code",
   "execution_count": 81,
   "id": "6f08caaf-acb9-4104-969a-952e76c93249",
   "metadata": {},
   "outputs": [
    {
     "data": {
      "text/plain": [
       "4"
      ]
     },
     "execution_count": 81,
     "metadata": {},
     "output_type": "execute_result"
    }
   ],
   "source": [
    "c[1][1]"
   ]
  },
  {
   "cell_type": "markdown",
   "id": "4d8a9871-7599-4a79-ac1a-e576f540901f",
   "metadata": {},
   "source": [
    "**WAP to**\n",
    "1. find out how many elements are there in the list\n",
    "2. what is the minimum , maximum and sum value of the list\n",
    "3. temporarily sort the list in descending order\n",
    "4. add the string 'bangalore' into the end of the list\n",
    "5. y=[1,2,55] merge this list with x\n",
    "6. remove the element in the first index\n",
    "7. remove the number 85 from the list\n",
    "8. count how many times the integer 9 is occuring in the list\n",
    "9. find out the index of the value 45\n",
    "10. now remove 'bangalore' \n",
    "11. convert the original list into ascending order\n",
    "12. then reverse the list\n",
    "13. insert the string 'xyz' into the 2nd index position\n",
    "14. take first 5 elements as a subset and then save into a variable called z\n",
    "15. print last 5 elements in x\n",
    "16. prove that x is mutable"
   ]
  },
  {
   "cell_type": "code",
   "execution_count": 195,
   "id": "11d48a19-0126-48e9-a518-6d5828411c7f",
   "metadata": {},
   "outputs": [],
   "source": [
    "x=[5,8,9,6,3,7,12,45,85]"
   ]
  },
  {
   "cell_type": "code",
   "execution_count": 199,
   "id": "e1574df9-a23e-45e3-85ab-d20f40a67e80",
   "metadata": {},
   "outputs": [
    {
     "data": {
      "text/plain": [
       "9"
      ]
     },
     "execution_count": 199,
     "metadata": {},
     "output_type": "execute_result"
    }
   ],
   "source": [
    "len(x)"
   ]
  },
  {
   "cell_type": "code",
   "execution_count": 201,
   "id": "d3dba418-03c4-44ad-a4fc-278b61380de3",
   "metadata": {},
   "outputs": [
    {
     "data": {
      "text/plain": [
       "3"
      ]
     },
     "execution_count": 201,
     "metadata": {},
     "output_type": "execute_result"
    }
   ],
   "source": [
    "min(x)"
   ]
  },
  {
   "cell_type": "code",
   "execution_count": 207,
   "id": "11377a15-c8fd-4f4b-ab16-80542a8e8f5e",
   "metadata": {},
   "outputs": [
    {
     "data": {
      "text/plain": [
       "85"
      ]
     },
     "execution_count": 207,
     "metadata": {},
     "output_type": "execute_result"
    }
   ],
   "source": [
    "max(x)"
   ]
  },
  {
   "cell_type": "code",
   "execution_count": 209,
   "id": "142db14d-2f0e-4586-8d0d-b5a028729d42",
   "metadata": {},
   "outputs": [
    {
     "data": {
      "text/plain": [
       "180"
      ]
     },
     "execution_count": 209,
     "metadata": {},
     "output_type": "execute_result"
    }
   ],
   "source": [
    "sum(x)"
   ]
  },
  {
   "cell_type": "code",
   "execution_count": 211,
   "id": "01cba30f-f707-4201-a992-a17ca88c06e5",
   "metadata": {},
   "outputs": [
    {
     "data": {
      "text/plain": [
       "[85, 45, 12, 9, 8, 7, 6, 5, 3]"
      ]
     },
     "execution_count": 211,
     "metadata": {},
     "output_type": "execute_result"
    }
   ],
   "source": [
    "sorted(x, reverse=True)"
   ]
  },
  {
   "cell_type": "code",
   "execution_count": 213,
   "id": "a754d9ba-ec1b-4d62-a743-d1d415858f77",
   "metadata": {},
   "outputs": [
    {
     "data": {
      "text/plain": [
       "[5, 8, 9, 6, 3, 7, 12, 45, 85]"
      ]
     },
     "execution_count": 213,
     "metadata": {},
     "output_type": "execute_result"
    }
   ],
   "source": [
    "x"
   ]
  },
  {
   "cell_type": "code",
   "execution_count": 215,
   "id": "037d45a5-4753-4f18-966c-3549bce064b8",
   "metadata": {},
   "outputs": [
    {
     "data": {
      "text/plain": [
       "[5, 8, 9, 6, 3, 7, 12, 45, 85, 'bangalore']"
      ]
     },
     "execution_count": 215,
     "metadata": {},
     "output_type": "execute_result"
    }
   ],
   "source": [
    "x.append('bangalore')\n",
    "x"
   ]
  },
  {
   "cell_type": "code",
   "execution_count": 217,
   "id": "f42dfce7-e11a-45ff-9157-22b1a722f5f2",
   "metadata": {},
   "outputs": [],
   "source": [
    "y=[1,2,55,9]"
   ]
  },
  {
   "cell_type": "code",
   "execution_count": 219,
   "id": "24d5a435-0ac8-4118-986e-a2d5b9d512c1",
   "metadata": {},
   "outputs": [],
   "source": [
    "x.extend(y)"
   ]
  },
  {
   "cell_type": "code",
   "execution_count": 221,
   "id": "64bfbed3-4a08-410d-8fe1-87e7feba372a",
   "metadata": {},
   "outputs": [
    {
     "data": {
      "text/plain": [
       "[5, 8, 9, 6, 3, 7, 12, 45, 85, 'bangalore', 1, 2, 55, 9]"
      ]
     },
     "execution_count": 221,
     "metadata": {},
     "output_type": "execute_result"
    }
   ],
   "source": [
    "x"
   ]
  },
  {
   "cell_type": "code",
   "execution_count": 223,
   "id": "abb6eda9-7859-4b78-af6b-1b2d3f90e7ac",
   "metadata": {},
   "outputs": [
    {
     "data": {
      "text/plain": [
       "8"
      ]
     },
     "execution_count": 223,
     "metadata": {},
     "output_type": "execute_result"
    }
   ],
   "source": [
    "x.pop(1)"
   ]
  },
  {
   "cell_type": "code",
   "execution_count": 195,
   "id": "2108f723-5476-4b0c-9973-b2fe225aa38c",
   "metadata": {},
   "outputs": [
    {
     "data": {
      "text/plain": [
       "[5, 9, 6, 3, 7, 12, 45, 85, 'bangalore', 1, 2, 55, 9]"
      ]
     },
     "execution_count": 195,
     "metadata": {},
     "output_type": "execute_result"
    }
   ],
   "source": [
    "x"
   ]
  },
  {
   "cell_type": "code",
   "execution_count": 197,
   "id": "67afc133-7018-4f41-8161-970924fd54a5",
   "metadata": {},
   "outputs": [],
   "source": [
    "x.remove(85)"
   ]
  },
  {
   "cell_type": "code",
   "execution_count": 199,
   "id": "14c644de-16ad-4b38-ad27-64e52133cae8",
   "metadata": {},
   "outputs": [
    {
     "data": {
      "text/plain": [
       "[5, 9, 6, 3, 7, 12, 45, 'bangalore', 1, 2, 55, 9]"
      ]
     },
     "execution_count": 199,
     "metadata": {},
     "output_type": "execute_result"
    }
   ],
   "source": [
    "x"
   ]
  },
  {
   "cell_type": "code",
   "execution_count": 201,
   "id": "d666937f-5b7f-476a-a463-7b41c632e842",
   "metadata": {},
   "outputs": [
    {
     "data": {
      "text/plain": [
       "2"
      ]
     },
     "execution_count": 201,
     "metadata": {},
     "output_type": "execute_result"
    }
   ],
   "source": [
    "x.count(9)"
   ]
  },
  {
   "cell_type": "code",
   "execution_count": 203,
   "id": "b4727fe6-e2c3-45c7-8b0c-ceecac7b02b1",
   "metadata": {},
   "outputs": [
    {
     "data": {
      "text/plain": [
       "6"
      ]
     },
     "execution_count": 203,
     "metadata": {},
     "output_type": "execute_result"
    }
   ],
   "source": [
    "x.index(45)"
   ]
  },
  {
   "cell_type": "code",
   "execution_count": 207,
   "id": "ce544d18-b212-4cda-bbfa-a88ef8e738f0",
   "metadata": {},
   "outputs": [],
   "source": [
    "x.remove('bangalore')"
   ]
  },
  {
   "cell_type": "code",
   "execution_count": 209,
   "id": "5f335ebf-4207-4993-bd19-ce12a7fb24f8",
   "metadata": {},
   "outputs": [
    {
     "data": {
      "text/plain": [
       "[3, 5, 6, 7, 9, 12, 45, 1, 2, 55, 9]"
      ]
     },
     "execution_count": 209,
     "metadata": {},
     "output_type": "execute_result"
    }
   ],
   "source": [
    "x"
   ]
  },
  {
   "cell_type": "code",
   "execution_count": 211,
   "id": "e12f0be7-1aa5-4a39-a546-594fc38d6695",
   "metadata": {},
   "outputs": [],
   "source": [
    "x.sort()"
   ]
  },
  {
   "cell_type": "code",
   "execution_count": 213,
   "id": "84bb8fcd-a0ba-407a-a5d6-92a56725288d",
   "metadata": {},
   "outputs": [
    {
     "data": {
      "text/plain": [
       "[1, 2, 3, 5, 6, 7, 9, 9, 12, 45, 55]"
      ]
     },
     "execution_count": 213,
     "metadata": {},
     "output_type": "execute_result"
    }
   ],
   "source": [
    "x"
   ]
  },
  {
   "cell_type": "code",
   "execution_count": 215,
   "id": "30180a73-2ed1-4708-bba7-be23309bd7ba",
   "metadata": {},
   "outputs": [],
   "source": [
    "x.sort(reverse=True)"
   ]
  },
  {
   "cell_type": "code",
   "execution_count": 217,
   "id": "d29140f3-98a6-43c9-8f57-47348559cd05",
   "metadata": {},
   "outputs": [
    {
     "data": {
      "text/plain": [
       "[55, 45, 12, 9, 9, 7, 6, 5, 3, 2, 1]"
      ]
     },
     "execution_count": 217,
     "metadata": {},
     "output_type": "execute_result"
    }
   ],
   "source": [
    "x"
   ]
  },
  {
   "cell_type": "code",
   "execution_count": 219,
   "id": "26a70524-ca13-4a3e-a003-159c5389b213",
   "metadata": {},
   "outputs": [],
   "source": [
    "x.insert(2,'xyz')"
   ]
  },
  {
   "cell_type": "code",
   "execution_count": 221,
   "id": "ac63b169-1782-4e93-9d0a-6f0bc5119594",
   "metadata": {},
   "outputs": [
    {
     "data": {
      "text/plain": [
       "[55, 45, 'xyz', 12, 9, 9, 7, 6, 5, 3, 2, 1]"
      ]
     },
     "execution_count": 221,
     "metadata": {},
     "output_type": "execute_result"
    }
   ],
   "source": [
    "x\n"
   ]
  },
  {
   "cell_type": "code",
   "execution_count": 231,
   "id": "bdc5febe-3625-4c4b-81df-95c4586e9ae4",
   "metadata": {},
   "outputs": [
    {
     "data": {
      "text/plain": [
       "[55, 45, 'xyz', 12, 9]"
      ]
     },
     "execution_count": 231,
     "metadata": {},
     "output_type": "execute_result"
    }
   ],
   "source": [
    "z=x[:5]\n",
    "z"
   ]
  },
  {
   "cell_type": "code",
   "execution_count": 233,
   "id": "ec5fb7e8-2608-4e84-8142-d38d06f3a268",
   "metadata": {},
   "outputs": [
    {
     "data": {
      "text/plain": [
       "[6, 5, 3, 2, 1]"
      ]
     },
     "execution_count": 233,
     "metadata": {},
     "output_type": "execute_result"
    }
   ],
   "source": [
    "a=x[-5:]\n",
    "a"
   ]
  },
  {
   "cell_type": "code",
   "execution_count": 237,
   "id": "c64211b9-35be-449d-a443-7bf40d3d2255",
   "metadata": {},
   "outputs": [
    {
     "data": {
      "text/plain": [
       "[55, 45, 'xyz', 12, 9, 9, 7, 6, 5, 3, 2, 1]"
      ]
     },
     "execution_count": 237,
     "metadata": {},
     "output_type": "execute_result"
    }
   ],
   "source": [
    "x"
   ]
  },
  {
   "cell_type": "code",
   "execution_count": null,
   "id": "bd41d379-c77c-4649-8f99-6b421808196d",
   "metadata": {},
   "outputs": [],
   "source": [
    "to prove x is mutable we can use any method like sort(), remove(), pop(),append(), extend() and many other methods"
   ]
  },
  {
   "cell_type": "code",
   "execution_count": 239,
   "id": "723c6f46-7cde-4b67-902b-a7f0f39397f4",
   "metadata": {},
   "outputs": [],
   "source": [
    "x.remove('xyz')"
   ]
  },
  {
   "cell_type": "code",
   "execution_count": 242,
   "id": "b4f279d3-c1aa-48bc-a5b0-3dd0a5961e7b",
   "metadata": {},
   "outputs": [
    {
     "data": {
      "text/plain": [
       "[55, 45, 12, 9, 9, 7, 6, 5, 3, 2, 1]"
      ]
     },
     "execution_count": 242,
     "metadata": {},
     "output_type": "execute_result"
    }
   ],
   "source": [
    "x"
   ]
  },
  {
   "cell_type": "code",
   "execution_count": null,
   "id": "c1009a3c-0288-4173-a2d4-f3befc0ff378",
   "metadata": {},
   "outputs": [],
   "source": []
  }
 ],
 "metadata": {
  "kernelspec": {
   "display_name": "Python 3 (ipykernel)",
   "language": "python",
   "name": "python3"
  },
  "language_info": {
   "codemirror_mode": {
    "name": "ipython",
    "version": 3
   },
   "file_extension": ".py",
   "mimetype": "text/x-python",
   "name": "python",
   "nbconvert_exporter": "python",
   "pygments_lexer": "ipython3",
   "version": "3.12.7"
  }
 },
 "nbformat": 4,
 "nbformat_minor": 5
}
