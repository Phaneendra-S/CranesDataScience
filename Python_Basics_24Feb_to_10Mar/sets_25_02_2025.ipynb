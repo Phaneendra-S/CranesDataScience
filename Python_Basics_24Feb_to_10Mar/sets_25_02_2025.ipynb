{
 "cells": [
  {
   "cell_type": "markdown",
   "id": "10e41ba5-4781-4b94-afc4-975c09ca45db",
   "metadata": {},
   "source": [
    "**set**\n",
    "- sets are an unordered collection of unique elements. we can construct them by using the set() function\n",
    "- sets cannot have duplicates\n",
    "- sets are mutable just like lists\n",
    "- you can create a non-empty set with curly braces by specifying elements by a comma\n",
    "- inside a set you cannot include mutable elements like a list,set as an element inside a set etc"
   ]
  },
  {
   "cell_type": "code",
   "execution_count": 7,
   "id": "0d5475a1-3c18-4508-a73e-26fe77a2d012",
   "metadata": {},
   "outputs": [],
   "source": [
    "x={1,2,4,5}"
   ]
  },
  {
   "cell_type": "code",
   "execution_count": 9,
   "id": "d0e99915-961a-4ac6-b514-c1bc6c68e5d5",
   "metadata": {},
   "outputs": [
    {
     "name": "stdout",
     "output_type": "stream",
     "text": [
      "<class 'set'>\n"
     ]
    }
   ],
   "source": [
    "print(type(x))"
   ]
  },
  {
   "cell_type": "code",
   "execution_count": 11,
   "id": "40a38c79-eb23-4d57-b7d5-98b192ad1c4e",
   "metadata": {},
   "outputs": [
    {
     "data": {
      "text/plain": [
       "dict"
      ]
     },
     "execution_count": 11,
     "metadata": {},
     "output_type": "execute_result"
    }
   ],
   "source": [
    "y={}\n",
    "type(y)"
   ]
  },
  {
   "cell_type": "code",
   "execution_count": 13,
   "id": "143449f5-4de9-4864-81ef-f8a9315eaa83",
   "metadata": {},
   "outputs": [],
   "source": [
    "y=set()"
   ]
  },
  {
   "cell_type": "code",
   "execution_count": 15,
   "id": "a8ae5c9f-862b-4db4-9644-0a47525e69e4",
   "metadata": {},
   "outputs": [
    {
     "data": {
      "text/plain": [
       "set"
      ]
     },
     "execution_count": 15,
     "metadata": {},
     "output_type": "execute_result"
    }
   ],
   "source": [
    "type(y)"
   ]
  },
  {
   "cell_type": "code",
   "execution_count": 17,
   "id": "d62417a4-a20a-4111-8f3e-9468fe287cc4",
   "metadata": {},
   "outputs": [
    {
     "data": {
      "text/plain": [
       "set()"
      ]
     },
     "execution_count": 17,
     "metadata": {},
     "output_type": "execute_result"
    }
   ],
   "source": [
    "y"
   ]
  },
  {
   "cell_type": "code",
   "execution_count": 11,
   "id": "5baf7b39-37b6-44f7-a109-f9fd98f67bd3",
   "metadata": {},
   "outputs": [
    {
     "ename": "TypeError",
     "evalue": "unhashable type: 'set'",
     "output_type": "error",
     "traceback": [
      "\u001b[1;31m---------------------------------------------------------------------------\u001b[0m",
      "\u001b[1;31mTypeError\u001b[0m                                 Traceback (most recent call last)",
      "Cell \u001b[1;32mIn[11], line 1\u001b[0m\n\u001b[1;32m----> 1\u001b[0m a\u001b[38;5;241m=\u001b[39m{\u001b[38;5;241m1\u001b[39m,\u001b[38;5;241m2\u001b[39m,\u001b[38;5;241m3\u001b[39m,{\u001b[38;5;241m1\u001b[39m,\u001b[38;5;241m2\u001b[39m}}\n",
      "\u001b[1;31mTypeError\u001b[0m: unhashable type: 'set'"
     ]
    }
   ],
   "source": [
    "a={1,2,3,{1,2}}"
   ]
  },
  {
   "cell_type": "code",
   "execution_count": 13,
   "id": "e89fbbdc-93cf-402d-aa56-655b82047666",
   "metadata": {},
   "outputs": [],
   "source": [
    "b={1,2,(5,6)}"
   ]
  },
  {
   "cell_type": "code",
   "execution_count": 15,
   "id": "94728c74-2c3e-4924-a538-c03402fbd623",
   "metadata": {},
   "outputs": [],
   "source": [
    "b.add(3)"
   ]
  },
  {
   "cell_type": "code",
   "execution_count": 17,
   "id": "6a4233c8-56f0-4e0d-a66a-8f8a9dc22034",
   "metadata": {},
   "outputs": [
    {
     "data": {
      "text/plain": [
       "{(5, 6), 1, 2, 3}"
      ]
     },
     "execution_count": 17,
     "metadata": {},
     "output_type": "execute_result"
    }
   ],
   "source": [
    "b"
   ]
  },
  {
   "cell_type": "markdown",
   "id": "27799018-cfab-44a8-b73c-b42e60ce2dfa",
   "metadata": {},
   "source": [
    "while converting other data structures into set, the set will include the elements not more than once i.e., set will not have any repetitions"
   ]
  },
  {
   "cell_type": "code",
   "execution_count": 24,
   "id": "64a21411-8ccd-4184-bb4b-6a6bf1b2085e",
   "metadata": {},
   "outputs": [
    {
     "data": {
      "text/plain": [
       "{1, 2, 3, 4, 5}"
      ]
     },
     "execution_count": 24,
     "metadata": {},
     "output_type": "execute_result"
    }
   ],
   "source": [
    "f=[1,2,3,4,4,5]\n",
    "j=set(f)\n",
    "j"
   ]
  },
  {
   "cell_type": "markdown",
   "id": "ef66d2f9-816b-4084-8714-8971d57d2554",
   "metadata": {},
   "source": [
    "**Methods in set**\n",
    "\n",
    "**add()** \n",
    "- method is used to add single element into the set\n",
    "- this method takes element to be added as an argument"
   ]
  },
  {
   "cell_type": "code",
   "execution_count": 26,
   "id": "54ec036b-dcf0-4cf2-b03a-62aaab4ddc0a",
   "metadata": {},
   "outputs": [
    {
     "data": {
      "text/plain": [
       "{1, 2, 3, 4, 5, 6}"
      ]
     },
     "execution_count": 26,
     "metadata": {},
     "output_type": "execute_result"
    }
   ],
   "source": [
    "j.add(6)\n",
    "j"
   ]
  },
  {
   "cell_type": "code",
   "execution_count": 28,
   "id": "30535437-422f-487e-807b-699cca965b6c",
   "metadata": {},
   "outputs": [],
   "source": [
    "j.add(2.5)"
   ]
  },
  {
   "cell_type": "code",
   "execution_count": 30,
   "id": "a1257676-69ea-4558-a716-49deb0fd363c",
   "metadata": {},
   "outputs": [
    {
     "data": {
      "text/plain": [
       "{1, 2, 2.5, 3, 4, 5, 6}"
      ]
     },
     "execution_count": 30,
     "metadata": {},
     "output_type": "execute_result"
    }
   ],
   "source": [
    "j"
   ]
  },
  {
   "cell_type": "code",
   "execution_count": 32,
   "id": "10677d90-00f6-4c31-8d62-8eeb544654c5",
   "metadata": {},
   "outputs": [
    {
     "data": {
      "text/plain": [
       "{-1, 1, 2, 2.5, 3, 4, 5, 6}"
      ]
     },
     "execution_count": 32,
     "metadata": {},
     "output_type": "execute_result"
    }
   ],
   "source": [
    "j.add(-1)\n",
    "j"
   ]
  },
  {
   "cell_type": "markdown",
   "id": "9ef69fc0-d673-439c-9903-2dc9658b8dda",
   "metadata": {},
   "source": [
    "**update()**\n",
    "- this method adds multiple elements to the set\n",
    "- a list should be given as argument for this"
   ]
  },
  {
   "cell_type": "code",
   "execution_count": 35,
   "id": "458d7d0b-5692-4d97-809f-1af74e4f78bd",
   "metadata": {},
   "outputs": [],
   "source": [
    "j.update([4.5,20])"
   ]
  },
  {
   "cell_type": "code",
   "execution_count": 37,
   "id": "a7a9de91-e089-43de-832f-29288d845fa2",
   "metadata": {},
   "outputs": [
    {
     "data": {
      "text/plain": [
       "{-1, 1, 2, 2.5, 3, 4, 4.5, 5, 6, 20}"
      ]
     },
     "execution_count": 37,
     "metadata": {},
     "output_type": "execute_result"
    }
   ],
   "source": [
    "j"
   ]
  },
  {
   "cell_type": "markdown",
   "id": "3157e8e4-5011-44fc-896b-e48a8229c1f8",
   "metadata": {},
   "source": [
    "**remove()**\n",
    "- remove() method removes an item/element from the set\n",
    "- this method removes the specified element\n",
    "- remove() takes element as an argument"
   ]
  },
  {
   "cell_type": "code",
   "execution_count": 40,
   "id": "79820713-d23e-4650-801a-cc2a2a6f0b33",
   "metadata": {},
   "outputs": [
    {
     "data": {
      "text/plain": [
       "{-1, 1, 2, 2.5, 3, 4, 4.5, 5, 6, 20}"
      ]
     },
     "execution_count": 40,
     "metadata": {},
     "output_type": "execute_result"
    }
   ],
   "source": [
    "j"
   ]
  },
  {
   "cell_type": "code",
   "execution_count": 42,
   "id": "c275fb4f-18fb-4e15-98c6-bd53df910879",
   "metadata": {},
   "outputs": [],
   "source": [
    "j.remove(4.5)\n"
   ]
  },
  {
   "cell_type": "code",
   "execution_count": 44,
   "id": "e7ca840a-01ff-4b36-a1db-b240ebe7c26a",
   "metadata": {},
   "outputs": [
    {
     "data": {
      "text/plain": [
       "{-1, 1, 2, 2.5, 3, 4, 5, 6, 20}"
      ]
     },
     "execution_count": 44,
     "metadata": {},
     "output_type": "execute_result"
    }
   ],
   "source": [
    "j"
   ]
  },
  {
   "cell_type": "code",
   "execution_count": 46,
   "id": "75ec2e14-f7a7-47eb-b09f-b4a26e1e9fec",
   "metadata": {},
   "outputs": [],
   "source": [
    "j.remove(20)"
   ]
  },
  {
   "cell_type": "code",
   "execution_count": 48,
   "id": "3f6a0493-ab57-47a8-9e46-931ca925b58b",
   "metadata": {},
   "outputs": [
    {
     "data": {
      "text/plain": [
       "{-1, 1, 2, 2.5, 3, 4, 5, 6}"
      ]
     },
     "execution_count": 48,
     "metadata": {},
     "output_type": "execute_result"
    }
   ],
   "source": [
    "j"
   ]
  },
  {
   "cell_type": "markdown",
   "id": "010364cd-23d0-4370-99f9-b45c7e20a9ad",
   "metadata": {},
   "source": []
  }
 ],
 "metadata": {
  "kernelspec": {
   "display_name": "Python 3 (ipykernel)",
   "language": "python",
   "name": "python3"
  },
  "language_info": {
   "codemirror_mode": {
    "name": "ipython",
    "version": 3
   },
   "file_extension": ".py",
   "mimetype": "text/x-python",
   "name": "python",
   "nbconvert_exporter": "python",
   "pygments_lexer": "ipython3",
   "version": "3.12.7"
  }
 },
 "nbformat": 4,
 "nbformat_minor": 5
}
