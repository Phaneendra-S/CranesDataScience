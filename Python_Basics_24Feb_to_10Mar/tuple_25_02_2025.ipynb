{
 "cells": [
  {
   "cell_type": "markdown",
   "id": "5bb782c1-79c0-4e51-807b-30a63e35bfc5",
   "metadata": {},
   "source": [
    "**tuple**\n",
    "- it is immutable \n",
    "- it is represented by using parentheses and each element is seperated using comma"
   ]
  },
  {
   "cell_type": "code",
   "execution_count": 2,
   "id": "f56d482a-7505-4187-981d-ef2d0c2f14e3",
   "metadata": {},
   "outputs": [],
   "source": [
    "x=(1,2,3)"
   ]
  },
  {
   "cell_type": "code",
   "execution_count": 4,
   "id": "e94a48f5-53e2-4204-94cd-416f70423bc1",
   "metadata": {},
   "outputs": [
    {
     "data": {
      "text/plain": [
       "tuple"
      ]
     },
     "execution_count": 4,
     "metadata": {},
     "output_type": "execute_result"
    }
   ],
   "source": [
    "type(x)"
   ]
  },
  {
   "cell_type": "code",
   "execution_count": 6,
   "id": "f6464641-f7fd-42a6-a196-dfab10ce783c",
   "metadata": {},
   "outputs": [
    {
     "data": {
      "text/plain": [
       "tuple"
      ]
     },
     "execution_count": 6,
     "metadata": {},
     "output_type": "execute_result"
    }
   ],
   "source": [
    "y=('asd',3,4)\n",
    "type(y)"
   ]
  },
  {
   "cell_type": "code",
   "execution_count": 10,
   "id": "ecba2306-0b1c-456c-b482-6da246f46fa5",
   "metadata": {},
   "outputs": [
    {
     "data": {
      "text/plain": [
       "tuple"
      ]
     },
     "execution_count": 10,
     "metadata": {},
     "output_type": "execute_result"
    }
   ],
   "source": [
    "z=(1,)\n",
    "type(z)"
   ]
  },
  {
   "cell_type": "code",
   "execution_count": 12,
   "id": "f62243b8-20e2-4b0f-bf68-5e1fca565b53",
   "metadata": {},
   "outputs": [
    {
     "data": {
      "text/plain": [
       "'asd'"
      ]
     },
     "execution_count": 12,
     "metadata": {},
     "output_type": "execute_result"
    }
   ],
   "source": [
    "y[0]"
   ]
  },
  {
   "cell_type": "code",
   "execution_count": 14,
   "id": "cc9d7eeb-788b-4cfc-98e6-0fa4477fda90",
   "metadata": {},
   "outputs": [
    {
     "data": {
      "text/plain": [
       "4"
      ]
     },
     "execution_count": 14,
     "metadata": {},
     "output_type": "execute_result"
    }
   ],
   "source": [
    "y[2]"
   ]
  },
  {
   "cell_type": "code",
   "execution_count": 18,
   "id": "c4f2a198-f45c-496a-9a20-36c25b6d04d1",
   "metadata": {},
   "outputs": [
    {
     "ename": "IndexError",
     "evalue": "tuple index out of range",
     "output_type": "error",
     "traceback": [
      "\u001b[1;31m---------------------------------------------------------------------------\u001b[0m",
      "\u001b[1;31mIndexError\u001b[0m                                Traceback (most recent call last)",
      "Cell \u001b[1;32mIn[18], line 1\u001b[0m\n\u001b[1;32m----> 1\u001b[0m y[\u001b[38;5;241m3\u001b[39m]\n",
      "\u001b[1;31mIndexError\u001b[0m: tuple index out of range"
     ]
    }
   ],
   "source": [
    "y[3]"
   ]
  },
  {
   "cell_type": "markdown",
   "id": "98d27cbe-c679-4038-afbf-3f79f4f9c8f6",
   "metadata": {},
   "source": [
    "tuple slicing"
   ]
  },
  {
   "cell_type": "code",
   "execution_count": 23,
   "id": "8b2ec643-f031-4365-822c-ec548a3cbabf",
   "metadata": {},
   "outputs": [],
   "source": [
    "z=(95,8,9,6,3,4,8,7,5,55,77,88,99)"
   ]
  },
  {
   "cell_type": "code",
   "execution_count": 25,
   "id": "121f6cf0-d582-4c9d-aab8-fc29b66d0980",
   "metadata": {},
   "outputs": [
    {
     "data": {
      "text/plain": [
       "(95, 8, 9, 6)"
      ]
     },
     "execution_count": 25,
     "metadata": {},
     "output_type": "execute_result"
    }
   ],
   "source": [
    "z[:4]"
   ]
  },
  {
   "cell_type": "code",
   "execution_count": 27,
   "id": "3cc87989-068b-420b-bc25-8cb84cfd2501",
   "metadata": {},
   "outputs": [
    {
     "data": {
      "text/plain": [
       "(5, 55, 77, 88, 99)"
      ]
     },
     "execution_count": 27,
     "metadata": {},
     "output_type": "execute_result"
    }
   ],
   "source": [
    "z[-5:]"
   ]
  },
  {
   "cell_type": "code",
   "execution_count": 29,
   "id": "7b743dc9-ed73-43ea-bf02-39d6cd2b539f",
   "metadata": {},
   "outputs": [
    {
     "data": {
      "text/plain": [
       "(8, 9, 6, 3, 4)"
      ]
     },
     "execution_count": 29,
     "metadata": {},
     "output_type": "execute_result"
    }
   ],
   "source": [
    "z[1:6]"
   ]
  },
  {
   "cell_type": "code",
   "execution_count": 31,
   "id": "7d2945ec-672d-4afa-aab3-24d537bfbb0b",
   "metadata": {},
   "outputs": [
    {
     "data": {
      "text/plain": [
       "(95, 8, 9, 6, 3, 4, 8, 7, 5, 55, 77, 88, 99)"
      ]
     },
     "execution_count": 31,
     "metadata": {},
     "output_type": "execute_result"
    }
   ],
   "source": [
    "z[:]"
   ]
  },
  {
   "cell_type": "code",
   "execution_count": 33,
   "id": "abcb8e82-b114-478e-9ed5-c197cb90d8ac",
   "metadata": {},
   "outputs": [
    {
     "data": {
      "text/plain": [
       "(95, 9, 3, 8, 5, 77, 99)"
      ]
     },
     "execution_count": 33,
     "metadata": {},
     "output_type": "execute_result"
    }
   ],
   "source": [
    "z[::2]"
   ]
  },
  {
   "cell_type": "code",
   "execution_count": 35,
   "id": "af515b21-7d47-494a-a83c-52a12583f6fb",
   "metadata": {},
   "outputs": [
    {
     "data": {
      "text/plain": [
       "(99, 88, 77, 55, 5, 7, 8, 4, 3, 6, 9, 8, 95)"
      ]
     },
     "execution_count": 35,
     "metadata": {},
     "output_type": "execute_result"
    }
   ],
   "source": [
    "z[::-1]"
   ]
  },
  {
   "cell_type": "code",
   "execution_count": 37,
   "id": "e30bac26-0f5e-4706-a8aa-1ba8ab28ae70",
   "metadata": {},
   "outputs": [
    {
     "data": {
      "text/plain": [
       "(99, 77, 5, 8, 3, 9, 95)"
      ]
     },
     "execution_count": 37,
     "metadata": {},
     "output_type": "execute_result"
    }
   ],
   "source": [
    "z[::-2]"
   ]
  },
  {
   "cell_type": "code",
   "execution_count": 39,
   "id": "da25cdfa-68aa-44ba-8054-301b565aafd5",
   "metadata": {},
   "outputs": [
    {
     "data": {
      "text/plain": [
       "(95, 8, 9, 6, 3, 4, 8, 7, 5, 55, 77, 88, 99)"
      ]
     },
     "execution_count": 39,
     "metadata": {},
     "output_type": "execute_result"
    }
   ],
   "source": [
    "z"
   ]
  },
  {
   "cell_type": "code",
   "execution_count": 41,
   "id": "22d923a0-85e3-40de-bec6-3981644282fe",
   "metadata": {},
   "outputs": [
    {
     "data": {
      "text/plain": [
       "(5, 55, 77, 88)"
      ]
     },
     "execution_count": 41,
     "metadata": {},
     "output_type": "execute_result"
    }
   ],
   "source": [
    "z[-5:-1]"
   ]
  },
  {
   "cell_type": "code",
   "execution_count": 43,
   "id": "4fc16223-e0f4-4515-a576-cfbfa67df0ce",
   "metadata": {},
   "outputs": [
    {
     "data": {
      "text/plain": [
       "(95, 8, 9, 6, 3, 4, 8, 7, 5)"
      ]
     },
     "execution_count": 43,
     "metadata": {},
     "output_type": "execute_result"
    }
   ],
   "source": [
    "z[:-4]"
   ]
  },
  {
   "cell_type": "markdown",
   "id": "68f80a62-35a5-4e21-abc0-49ddd3c51e8d",
   "metadata": {},
   "source": [
    "**tuple methods**\n",
    "- tuples have builtin methods, but not as many as lists do"
   ]
  },
  {
   "cell_type": "markdown",
   "id": "ea95a2d8-4532-4583-9ad6-b117dfc2ff8a",
   "metadata": {},
   "source": [
    "**index()**\n",
    "- the index() method returns the index of the specified element"
   ]
  },
  {
   "cell_type": "code",
   "execution_count": 45,
   "id": "fe73734d-3c30-47d8-b8f7-aee201c4b27a",
   "metadata": {},
   "outputs": [
    {
     "ename": "ValueError",
     "evalue": "tuple.index(x): x not in tuple",
     "output_type": "error",
     "traceback": [
      "\u001b[1;31m---------------------------------------------------------------------------\u001b[0m",
      "\u001b[1;31mValueError\u001b[0m                                Traceback (most recent call last)",
      "Cell \u001b[1;32mIn[45], line 1\u001b[0m\n\u001b[1;32m----> 1\u001b[0m z\u001b[38;5;241m.\u001b[39mindex(\u001b[38;5;241m10\u001b[39m)\n",
      "\u001b[1;31mValueError\u001b[0m: tuple.index(x): x not in tuple"
     ]
    }
   ],
   "source": [
    "z.index(10)"
   ]
  },
  {
   "cell_type": "code",
   "execution_count": 47,
   "id": "b92b33c4-4012-44dc-a1ee-57c54433f9cf",
   "metadata": {},
   "outputs": [
    {
     "data": {
      "text/plain": [
       "8"
      ]
     },
     "execution_count": 47,
     "metadata": {},
     "output_type": "execute_result"
    }
   ],
   "source": [
    "z.index(5)"
   ]
  },
  {
   "cell_type": "markdown",
   "id": "f8436a80-e29b-4f2e-9d17-0591e4f010a1",
   "metadata": {},
   "source": [
    "**count()**\n",
    "- count() method returns the total occurence of a specified element in a tuple"
   ]
  },
  {
   "cell_type": "code",
   "execution_count": 49,
   "id": "52cbbf45-9e1c-4b0b-84a3-15713052f88d",
   "metadata": {},
   "outputs": [
    {
     "data": {
      "text/plain": [
       "2"
      ]
     },
     "execution_count": 49,
     "metadata": {},
     "output_type": "execute_result"
    }
   ],
   "source": [
    "z.count(8)"
   ]
  },
  {
   "cell_type": "code",
   "execution_count": 51,
   "id": "d706f3ab-d572-49b0-b074-e6d415ffac6e",
   "metadata": {},
   "outputs": [
    {
     "data": {
      "text/plain": [
       "1"
      ]
     },
     "execution_count": 51,
     "metadata": {},
     "output_type": "execute_result"
    }
   ],
   "source": [
    "z.count(5)"
   ]
  },
  {
   "cell_type": "markdown",
   "id": "bba5979d-902d-47d6-be54-b1f81ce11b0c",
   "metadata": {},
   "source": [
    "**zip()** \n",
    "- zip() function takes multiple lists as arguments and zips them together\n",
    "- this returns a list of n-paired tuples where n is the number of lists being zipped"
   ]
  },
  {
   "cell_type": "code",
   "execution_count": 68,
   "id": "f50cd44a-6572-474b-bd21-084d5829db8a",
   "metadata": {},
   "outputs": [],
   "source": [
    "a=(1,2,3,4)\n",
    "b=('p','q','r','s')\n",
    "c=zip(a,b)"
   ]
  },
  {
   "cell_type": "code",
   "execution_count": 70,
   "id": "8637154b-5092-4bfb-ace3-8d620dcd07e8",
   "metadata": {},
   "outputs": [
    {
     "data": {
      "text/plain": [
       "<zip at 0x21faa6a8180>"
      ]
     },
     "execution_count": 70,
     "metadata": {},
     "output_type": "execute_result"
    }
   ],
   "source": [
    "c"
   ]
  },
  {
   "cell_type": "code",
   "execution_count": 72,
   "id": "78f8afb6-1fce-4348-ac1b-0a163e6fa422",
   "metadata": {},
   "outputs": [
    {
     "data": {
      "text/plain": [
       "[(1, 'p'), (2, 'q'), (3, 'r'), (4, 's')]"
      ]
     },
     "execution_count": 72,
     "metadata": {},
     "output_type": "execute_result"
    }
   ],
   "source": [
    "list(c)"
   ]
  },
  {
   "cell_type": "code",
   "execution_count": null,
   "id": "16d52bc9-4271-4546-a7ea-818f14d1e30c",
   "metadata": {},
   "outputs": [],
   "source": []
  }
 ],
 "metadata": {
  "kernelspec": {
   "display_name": "Python 3 (ipykernel)",
   "language": "python",
   "name": "python3"
  },
  "language_info": {
   "codemirror_mode": {
    "name": "ipython",
    "version": 3
   },
   "file_extension": ".py",
   "mimetype": "text/x-python",
   "name": "python",
   "nbconvert_exporter": "python",
   "pygments_lexer": "ipython3",
   "version": "3.12.7"
  }
 },
 "nbformat": 4,
 "nbformat_minor": 5
}
