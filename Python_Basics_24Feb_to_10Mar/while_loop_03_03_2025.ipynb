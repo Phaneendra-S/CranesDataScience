{
 "cells": [
  {
   "cell_type": "markdown",
   "id": "2783d30d-ddbb-4d38-adb7-0ccb2ce7b94a",
   "metadata": {},
   "source": [
    "**while loop**\n",
    "- while loop is used to iterate\n",
    "- it will be executed until the condition is false"
   ]
  },
  {
   "cell_type": "code",
   "execution_count": 3,
   "id": "809d930d-e367-4b68-a010-2c24861cdf73",
   "metadata": {},
   "outputs": [
    {
     "name": "stdout",
     "output_type": "stream",
     "text": [
      "0\n",
      "1\n"
     ]
    }
   ],
   "source": [
    "x=0\n",
    "\n",
    "while x<2:\n",
    "    print(x)\n",
    "    x+=1"
   ]
  },
  {
   "cell_type": "markdown",
   "id": "68437982-08ef-4609-819f-bad6cb00947b",
   "metadata": {},
   "source": [
    "**break, continue, pass**\n",
    "- *break* and *continue* and *pass* statements to add additional functionality for various cases\n",
    "- break: breaks off the current closest enclosing loop\n",
    "- continue: goes to the top of the closest enclosing loop\n",
    "- pass: does nothing at all "
   ]
  },
  {
   "cell_type": "markdown",
   "id": "22143cd3-c4c5-4a4d-a09c-a66210d1bacc",
   "metadata": {},
   "source": [
    "general format\n",
    "\n",
    "while test: \n",
    "    code statement\n",
    "    if test:\n",
    "        break\n",
    "    elif test:\n",
    "        continue\n",
    "    else:\n",
    "    "
   ]
  },
  {
   "cell_type": "markdown",
   "id": "077669b5-e841-4f79-8642-b56bfed38140",
   "metadata": {},
   "source": [
    "- *break* and *continue* statements appear anywhere inside the loops body\n",
    "- general it is places with if statement following a particular condition"
   ]
  },
  {
   "cell_type": "code",
   "execution_count": 7,
   "id": "189a561b-db2d-45f2-966b-01a4979c0c38",
   "metadata": {},
   "outputs": [
    {
     "name": "stdout",
     "output_type": "stream",
     "text": [
      "3\n",
      "x is 3\n"
     ]
    }
   ],
   "source": [
    "x=0\n",
    "while x<10:\n",
    "    x+=1\n",
    "    if x==3:\n",
    "        print(x)\n",
    "    continue\n",
    "    print(x)\n",
    "         \n",
    "print(\"x is 3\")    "
   ]
  },
  {
   "cell_type": "code",
   "execution_count": 8,
   "id": "4e34dd53-246a-42fb-9a4c-8dcc3299660b",
   "metadata": {},
   "outputs": [
    {
     "name": "stdout",
     "output_type": "stream",
     "text": [
      "x is not equal to 3\n",
      "x is not equal to 3\n",
      "x is not equal to 3\n",
      "x is not equal to 3\n",
      "5\n"
     ]
    }
   ],
   "source": [
    "x=0\n",
    "while x<5:\n",
    "    x+=1\n",
    "    if x==3:\n",
    "        continue\n",
    "    else:\n",
    "        print(\"x is not equal to 3\")\n",
    "        pass\n",
    "\n",
    "print(x)"
   ]
  },
  {
   "cell_type": "markdown",
   "id": "32be6443-7275-413f-8b9b-34c5d67bec2d",
   "metadata": {},
   "source": [
    "**Using a while loop WAP to find out the sum of the first n natural numbers**"
   ]
  },
  {
   "cell_type": "code",
   "execution_count": 9,
   "id": "6d0ca555-dd9d-4ba5-a5bf-5cfeab276023",
   "metadata": {},
   "outputs": [
    {
     "name": "stdin",
     "output_type": "stream",
     "text": [
      "How many first n natural numbers sum you want:  10\n"
     ]
    },
    {
     "name": "stdout",
     "output_type": "stream",
     "text": [
      "55\n"
     ]
    }
   ],
   "source": [
    "number = int(input(\"How many first n natural numbers sum you want: \"))\n",
    "counter=0\n",
    "result=0\n",
    "while counter<=number:\n",
    "    result+=counter\n",
    "    counter+=1\n",
    "    \n",
    "print(result)"
   ]
  },
  {
   "cell_type": "markdown",
   "id": "a943c724-cb96-427f-a75f-7b577b363d8b",
   "metadata": {},
   "source": [
    "**Using while loop print even numbers from 1 to n**"
   ]
  },
  {
   "cell_type": "code",
   "execution_count": 22,
   "id": "3067886b-5f75-450d-9e53-dba258e832bd",
   "metadata": {},
   "outputs": [
    {
     "name": "stdin",
     "output_type": "stream",
     "text": [
      "Enter the number till which you want to find even numbers :  10\n"
     ]
    },
    {
     "name": "stdout",
     "output_type": "stream",
     "text": [
      "2\n",
      "4\n",
      "6\n",
      "8\n",
      "10\n"
     ]
    }
   ],
   "source": [
    "n=int(input(\"Enter the number till which you want to find even numbers : \"))\n",
    "i=2\n",
    "while i<=n:\n",
    "    print(i)\n",
    "    i=i+2"
   ]
  },
  {
   "cell_type": "markdown",
   "id": "09cca599-8b3a-40df-9594-42bccc9c0925",
   "metadata": {},
   "source": [
    "**Using while loop find the sum of digits in a number**"
   ]
  },
  {
   "cell_type": "code",
   "execution_count": 11,
   "id": "3720c4ce-8f5b-4ba5-b775-80ea21d6aa0a",
   "metadata": {},
   "outputs": [
    {
     "name": "stdin",
     "output_type": "stream",
     "text": [
      "Enter the number :  567\n"
     ]
    },
    {
     "name": "stdout",
     "output_type": "stream",
     "text": [
      "18\n"
     ]
    }
   ],
   "source": [
    "#method 1\n",
    "# number=input(\"Enter the number : \")\n",
    "# sum=0\n",
    "# i=0\n",
    "# while i < len(number):\n",
    "#     temp=number[i]\n",
    "#     sum=sum+int(temp)\n",
    "#     i+=1\n",
    "# print(sum)\n",
    "\n",
    "\n",
    "#method2\n",
    "number=int(input(\"Enter the number : \"))\n",
    "sum_digits=0\n",
    "\n",
    "while number>0:\n",
    "    digit=number%10\n",
    "    sum_digits+=digit\n",
    "    number=number//10\n",
    "\n",
    "print(sum_digits)\n"
   ]
  },
  {
   "cell_type": "markdown",
   "id": "e9219a40-feda-405e-a0bb-e3ba3863771d",
   "metadata": {},
   "source": [
    "**Using while loop find the factorial of a number**"
   ]
  },
  {
   "cell_type": "code",
   "execution_count": 15,
   "id": "b161dc9f-7572-4d5c-a55f-7dc1a7c0aaa6",
   "metadata": {},
   "outputs": [
    {
     "name": "stdin",
     "output_type": "stream",
     "text": [
      "Enter the number which you want to find the factorial :  6\n"
     ]
    },
    {
     "name": "stdout",
     "output_type": "stream",
     "text": [
      "720\n"
     ]
    }
   ],
   "source": [
    "n=int(input(\"Enter the number which you want to find the factorial : \"))\n",
    "i=1\n",
    "factorial=1\n",
    "while i<=n:\n",
    "    factorial*=i\n",
    "    i+=1\n",
    "\n",
    "print(factorial)"
   ]
  },
  {
   "cell_type": "markdown",
   "id": "3418daa1-540e-4754-b47d-9ad547662053",
   "metadata": {},
   "source": [
    "**using while loop find the multiplication table till 10**"
   ]
  },
  {
   "cell_type": "code",
   "execution_count": 5,
   "id": "ae537488-381c-4b36-959d-be3997486932",
   "metadata": {},
   "outputs": [
    {
     "name": "stdin",
     "output_type": "stream",
     "text": [
      "Entet the table you want :  20\n"
     ]
    },
    {
     "name": "stdout",
     "output_type": "stream",
     "text": [
      "20x1=20\n",
      "20x2=40\n",
      "20x3=60\n",
      "20x4=80\n",
      "20x5=100\n",
      "20x6=120\n",
      "20x7=140\n",
      "20x8=160\n",
      "20x9=180\n",
      "20x10=200\n"
     ]
    }
   ],
   "source": [
    "n=int(input(\"Entet the table you want : \"))\n",
    "i=1\n",
    "while i<=10:\n",
    "    table=n*i\n",
    "    print(f\"{n}x{i}={table}\")\n",
    "    i+=1"
   ]
  },
  {
   "cell_type": "code",
   "execution_count": null,
   "id": "76bea834-e70f-4320-8e6b-243d36e74cb5",
   "metadata": {},
   "outputs": [],
   "source": []
  }
 ],
 "metadata": {
  "kernelspec": {
   "display_name": "Python 3 (ipykernel)",
   "language": "python",
   "name": "python3"
  },
  "language_info": {
   "codemirror_mode": {
    "name": "ipython",
    "version": 3
   },
   "file_extension": ".py",
   "mimetype": "text/x-python",
   "name": "python",
   "nbconvert_exporter": "python",
   "pygments_lexer": "ipython3",
   "version": "3.12.7"
  }
 },
 "nbformat": 4,
 "nbformat_minor": 5
}
