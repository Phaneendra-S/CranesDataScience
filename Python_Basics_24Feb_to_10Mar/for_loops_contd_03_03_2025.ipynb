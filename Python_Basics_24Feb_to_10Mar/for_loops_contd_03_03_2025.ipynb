{
 "cells": [
  {
   "cell_type": "markdown",
   "id": "cf9bd365-3c39-4247-85a2-678f0c34a5d3",
   "metadata": {},
   "source": [
    "**enumerate()**\n",
    "- enumerate() function is used to iterate both the index and the element"
   ]
  },
  {
   "cell_type": "code",
   "execution_count": 3,
   "id": "b540a491-161c-46be-a84c-85c2a8801061",
   "metadata": {},
   "outputs": [
    {
     "name": "stdout",
     "output_type": "stream",
     "text": [
      "index 0 and element abc\n",
      "index 1 and element xyz\n",
      "index 2 and element asd\n",
      "index 3 and element jkl\n"
     ]
    }
   ],
   "source": [
    "z=[\"abc\",\"xyz\",\"asd\",\"jkl\"]\n",
    "\n",
    "for i,j in enumerate(z):\n",
    "    print(f\"index {i} and element {j}\")\n",
    "\n"
   ]
  },
  {
   "cell_type": "code",
   "execution_count": 4,
   "id": "d2877ffd-7510-43d7-8894-fb5dd35763a9",
   "metadata": {},
   "outputs": [
    {
     "name": "stdout",
     "output_type": "stream",
     "text": [
      "[(1, 'abc'), (2, 'xyz'), (3, 'asd'), (4, 'jkl')]\n",
      "index 0 and key 1 values abc\n",
      "index 1 and key 2 values xyz\n",
      "index 2 and key 3 values asd\n",
      "index 3 and key 4 values jkl\n",
      "index 0 element (1, 'abc')\n",
      "index 1 element (2, 'xyz')\n",
      "index 2 element (3, 'asd')\n",
      "index 3 element (4, 'jkl')\n",
      "1 and abc\n",
      "2 and xyz\n",
      "3 and asd\n",
      "4 and jkl\n"
     ]
    }
   ],
   "source": [
    "z={1:\"abc\", 2:\"xyz\", 3:\"asd\", 4:\"jkl\"}\n",
    "y=list(z.items())\n",
    "print(y)\n",
    "\n",
    "for i,j in enumerate(z):\n",
    "    print(f\"index {i} and key {j} values {z.get(j)}\")\n",
    "\n",
    "for i,j in enumerate(y):\n",
    "    print(f\"index {i} element {j}\")\n",
    "\n",
    "for i,j in y:\n",
    "    print(f\"{i} and {j}\")\n"
   ]
  },
  {
   "cell_type": "markdown",
   "id": "fb9d9024-dc2d-4a2c-ad46-d00443337e92",
   "metadata": {},
   "source": [
    "**WAP to extract the first alphabet and last alphabet of each word in a paragraph**"
   ]
  },
  {
   "cell_type": "code",
   "execution_count": 7,
   "id": "cebf6a7f-b3fa-4c11-92d3-b07703d2680c",
   "metadata": {},
   "outputs": [
    {
     "name": "stdout",
     "output_type": "stream",
     "text": [
      "['Cranes', 'Varsity', 'offers', 'a', 'comprehensive', 'online', 'and', 'offline', 'Data', 'Science', 'course', 'designed', 'to', 'equip', 'you', 'with', 'the', 'skills', 'and', 'knowledge', 'needed', 'to', 'excel', 'in', 'this', 'rapidly', 'evolving', 'field.']\n",
      "C s\n",
      "V y\n",
      "o s\n",
      "a a\n",
      "c e\n",
      "o e\n",
      "a d\n",
      "o e\n",
      "D a\n",
      "S e\n",
      "c e\n",
      "d d\n",
      "t o\n",
      "e p\n",
      "y u\n",
      "w h\n",
      "t e\n",
      "s s\n",
      "a d\n",
      "k e\n",
      "n d\n",
      "t o\n",
      "e l\n",
      "i n\n",
      "t s\n",
      "r y\n",
      "e g\n",
      "f .\n"
     ]
    }
   ],
   "source": [
    "x=\"Cranes Varsity offers a comprehensive online and offline Data Science course designed to equip you \\\n",
    "with the skills and knowledge needed to excel in this rapidly evolving field.\"\n",
    "y=x.split(' ')\n",
    "print(y)\n",
    "\n",
    "for i in y:\n",
    "    print(i[0], i[-1])"
   ]
  },
  {
   "cell_type": "markdown",
   "id": "5460cbaa-8988-4d52-aece-2b9938c70716",
   "metadata": {},
   "source": [
    "**WAP to print factorial of a number**"
   ]
  },
  {
   "cell_type": "code",
   "execution_count": 100,
   "id": "a096dc84-c3b7-4ec9-9981-12ed443042af",
   "metadata": {},
   "outputs": [
    {
     "name": "stdin",
     "output_type": "stream",
     "text": [
      "Enter the number:  10\n"
     ]
    },
    {
     "name": "stdout",
     "output_type": "stream",
     "text": [
      "3628800\n"
     ]
    }
   ],
   "source": [
    "num = int(input(\"Enter the number: \"))\n",
    "temp=1\n",
    "\n",
    "for i in range(1, num+1):\n",
    "    temp *= i\n",
    "\n",
    "print(temp)"
   ]
  },
  {
   "cell_type": "markdown",
   "id": "1937da63-6e7e-4475-83ca-1a13ace145b3",
   "metadata": {},
   "source": [
    "**WAP to print the length of a list w/o using in built functions**"
   ]
  },
  {
   "cell_type": "code",
   "execution_count": 133,
   "id": "30510992-67a0-4714-b235-e6b8a742b03e",
   "metadata": {},
   "outputs": [
    {
     "name": "stdout",
     "output_type": "stream",
     "text": [
      "28\n"
     ]
    }
   ],
   "source": [
    "z=['Cranes', 'Varsity', 'offers', 'a', 'comprehensive', 'online', 'and', 'offline', 'Data', \\\n",
    "   'Science', 'course', 'designed', 'to', 'equip', 'you', 'with', 'the', 'skills', 'and', 'knowledge', \\\n",
    "   'needed', 'to', 'excel', 'in', 'this', 'rapidly', 'evolving', 'field.']\n",
    "\n",
    "temp = 0\n",
    "for i in z:\n",
    "    temp += 1\n",
    "\n",
    "print(temp)\n",
    "    "
   ]
  },
  {
   "cell_type": "markdown",
   "id": "8ed311c3-77e2-432e-94b5-1b4749c1524b",
   "metadata": {},
   "source": [
    "**WAP to print the multiplication table till 10 of a number**"
   ]
  },
  {
   "cell_type": "code",
   "execution_count": 9,
   "id": "aa4ff457-d0ac-442c-98f6-5cc1af51cc1c",
   "metadata": {},
   "outputs": [
    {
     "name": "stdin",
     "output_type": "stream",
     "text": [
      "Enter the number :  9\n"
     ]
    },
    {
     "name": "stdout",
     "output_type": "stream",
     "text": [
      "9 x 1 = 9\n",
      "9 x 2 = 18\n",
      "9 x 3 = 27\n",
      "9 x 4 = 36\n",
      "9 x 5 = 45\n",
      "9 x 6 = 54\n",
      "9 x 7 = 63\n",
      "9 x 8 = 72\n",
      "9 x 9 = 81\n",
      "9 x 10 = 90\n"
     ]
    }
   ],
   "source": [
    "num = int(input(\"Enter the number : \"))\n",
    "\n",
    "for i in range(1,11):\n",
    "    table=num*i\n",
    "    print(f\"{num} x {i} = {table}\")"
   ]
  },
  {
   "cell_type": "markdown",
   "id": "b4183507-5266-4be2-b32f-4298e1a2d535",
   "metadata": {},
   "source": [
    "**WAP to print the maximum value in a list w/o using in-built functions**"
   ]
  },
  {
   "cell_type": "code",
   "execution_count": 11,
   "id": "91146243-cd9d-4db4-ae22-8be97f87954a",
   "metadata": {},
   "outputs": [
    {
     "name": "stdin",
     "output_type": "stream",
     "text": [
      "Enter the list :  1,2,3\n"
     ]
    },
    {
     "name": "stdout",
     "output_type": "stream",
     "text": [
      "['1', '2', '3']\n",
      "3\n"
     ]
    }
   ],
   "source": [
    "n=input(\"Enter the list : \").split(',')\n",
    "print(n)\n",
    "max=int(n[0])\n",
    "\n",
    "for i in range(1,len(n)):\n",
    "    if int(n[i]) >= max:\n",
    "        max=int(n[i])\n",
    "\n",
    "print(max)\n",
    "    "
   ]
  },
  {
   "cell_type": "markdown",
   "id": "f6d17cd4-6e92-40af-8bc2-77d414a713f3",
   "metadata": {},
   "source": [
    "**WAP to count vowels in string**"
   ]
  },
  {
   "cell_type": "code",
   "execution_count": 210,
   "id": "7b7f7bcb-53e9-4e3e-a73b-dff483b804b6",
   "metadata": {},
   "outputs": [
    {
     "name": "stdin",
     "output_type": "stream",
     "text": [
      "Enter a string :  asdf\n"
     ]
    },
    {
     "name": "stdout",
     "output_type": "stream",
     "text": [
      "1\n"
     ]
    }
   ],
   "source": [
    "string = input(\"Enter a string : \")\n",
    "\n",
    "vowels=['a','e','i','o','u']\n",
    "count=0\n",
    "for i in string:\n",
    "    if i in vowels:\n",
    "        count+=1\n",
    "\n",
    "print(count)"
   ]
  }
 ],
 "metadata": {
  "kernelspec": {
   "display_name": "Python 3 (ipykernel)",
   "language": "python",
   "name": "python3"
  },
  "language_info": {
   "codemirror_mode": {
    "name": "ipython",
    "version": 3
   },
   "file_extension": ".py",
   "mimetype": "text/x-python",
   "name": "python",
   "nbconvert_exporter": "python",
   "pygments_lexer": "ipython3",
   "version": "3.12.7"
  }
 },
 "nbformat": 4,
 "nbformat_minor": 5
}
