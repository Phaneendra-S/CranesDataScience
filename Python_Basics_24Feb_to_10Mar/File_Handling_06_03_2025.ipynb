{
 "cells": [
  {
   "cell_type": "markdown",
   "id": "d661a434-92e1-4388-8766-434d18399e41",
   "metadata": {},
   "source": [
    "**File handling**\n",
    "- *open()* method returns a file object, and is most commonly used wit two arguments: *open(filename, mode)*\n",
    "- 'r' - read - opens a file for reading , error if the file doesn't exists\n",
    "- 'a' - append - opens a file for appending, error if the file does not exists\n",
    "- 'w' - write - opens a file for writing, creates the file if it doesn't not exists\n",
    "- 'x' - create - creates the specified file, returns an error if the file exists"
   ]
  },
  {
   "cell_type": "code",
   "execution_count": 3,
   "id": "75f5feea-3b9c-4caf-9a19-591c2b1c7c38",
   "metadata": {},
   "outputs": [
    {
     "name": "stdout",
     "output_type": "stream",
     "text": [
      "My god!\n",
      "\n"
     ]
    }
   ],
   "source": [
    "file=open(\"sample.txt\",\"w\")\n",
    "file.write(\"My god!\\n\")\n",
    "file.close()\n",
    "file=open(\"sample.txt\",\"r\") \n",
    "content=file.read()\n",
    "\n",
    "print(content)"
   ]
  },
  {
   "cell_type": "markdown",
   "id": "d1cdba07-b002-407c-aa09-0598e3c788de",
   "metadata": {},
   "source": [
    "*opening a data file for writing*\n",
    "- 'w' mode with open() function creates a data file sample.txt in the location\n",
    "- 'w' mode creates the new file that replaces the previous file and now we can use the write() function to write in that file\n",
    "- write() function writes strings\n",
    "- after writing it is mandatory to close the file with close() "
   ]
  },
  {
   "cell_type": "code",
   "execution_count": 5,
   "id": "86ff1e86-2569-4597-ad3a-de0f2ac2d64d",
   "metadata": {},
   "outputs": [
    {
     "name": "stdout",
     "output_type": "stream",
     "text": [
      "My god!\n",
      "Hello world!\n"
     ]
    }
   ],
   "source": [
    "file=open(\"sample.txt\",'a')\n",
    "file.write(\"Hello world!\")\n",
    "file.close()\n",
    "file=open(\"sample.txt\",\"r\") \n",
    "content=file.read()\n",
    "\n",
    "print(content)"
   ]
  },
  {
   "cell_type": "markdown",
   "id": "eb798133-6de4-4c16-aa59-00f42971f7e3",
   "metadata": {},
   "source": [
    "*opening a data file for writing*\n",
    "- 'r' mode is dafault mode\n",
    "- after opening the file in read mode, the contents are stored as a string in a user defined object *res*\n",
    "- after we store the data from the file in the string we can manipulate the string by usin any functions"
   ]
  },
  {
   "cell_type": "code",
   "execution_count": 7,
   "id": "7c5671be-8c04-4204-a586-c447f558bedd",
   "metadata": {},
   "outputs": [
    {
     "name": "stdout",
     "output_type": "stream",
     "text": [
      "Hello students\n",
      "Welcome to my class\n"
     ]
    }
   ],
   "source": [
    "file=open(\"data.txt\",'w')\n",
    "file.write(\"Hello students\\n\")\n",
    "file.write(\"Welcome to my class\")\n",
    "file.close()\n",
    "\n",
    "file=open(\"data.txt\",'r')\n",
    "res=file.read()\n",
    "print(res)\n",
    "file.close()"
   ]
  },
  {
   "cell_type": "markdown",
   "id": "00cf2f28-8463-4391-bebd-e6a43b348d65",
   "metadata": {},
   "source": [
    "*What will happen when we open the same file in w mode*\n",
    "- the existing information will be erased and new information will replace it"
   ]
  },
  {
   "cell_type": "code",
   "execution_count": 9,
   "id": "af75682f-017a-45a2-86b2-7da54d4dc3e6",
   "metadata": {},
   "outputs": [
    {
     "name": "stdout",
     "output_type": "stream",
     "text": [
      "Dear all\n",
      "This is file handling\n"
     ]
    }
   ],
   "source": [
    "file=open(\"data.txt\",'w')\n",
    "file.write(\"Dear all\\n\")\n",
    "file.write(\"This is file handling\")\n",
    "file.close()\n",
    "\n",
    "file=open(\"data.txt\",'r')\n",
    "res=file.read()\n",
    "print(res)\n",
    "file.close()"
   ]
  },
  {
   "cell_type": "markdown",
   "id": "c96d166e-bef4-41b4-a6d0-6d1232e0e134",
   "metadata": {},
   "source": [
    "*Using append a or a mode for adding information to the end of the file*\n",
    "- below we have opend the existing file in 'a' mode and writing two more lines\n",
    "- the extra lines have been appened to the existing information "
   ]
  },
  {
   "cell_type": "code",
   "execution_count": 11,
   "id": "646638d4-d822-42e4-a354-53b184d366b1",
   "metadata": {},
   "outputs": [
    {
     "name": "stdout",
     "output_type": "stream",
     "text": [
      "Dear all\n",
      "This is file handling\n",
      "We are learning the text file operations\n",
      "This is really interesting\n"
     ]
    }
   ],
   "source": [
    "file=open(\"data.txt\",'a')\n",
    "file.write(\"\\nWe are learning the text file operations\\n\")\n",
    "file.write(\"This is really interesting\")\n",
    "file.close()\n",
    "\n",
    "file=open(\"data.txt\",'r')\n",
    "res=file.read()\n",
    "print(res)\n",
    "file.close()"
   ]
  },
  {
   "cell_type": "markdown",
   "id": "41dd4c19-c00f-43d6-9779-df760ed6ffdd",
   "metadata": {},
   "source": [
    "**String in-built methods**"
   ]
  },
  {
   "cell_type": "code",
   "execution_count": 18,
   "id": "9442eed2-2ef2-4290-a6f6-41716379a5a8",
   "metadata": {},
   "outputs": [
    {
     "data": {
      "text/plain": [
       "True"
      ]
     },
     "execution_count": 18,
     "metadata": {},
     "output_type": "execute_result"
    }
   ],
   "source": [
    "x='apple'\n",
    "x.isalpha()"
   ]
  },
  {
   "cell_type": "code",
   "execution_count": 24,
   "id": "e5d465cc-12bd-4604-a857-c04c7e366f76",
   "metadata": {},
   "outputs": [
    {
     "data": {
      "text/plain": [
       "False"
      ]
     },
     "execution_count": 24,
     "metadata": {},
     "output_type": "execute_result"
    }
   ],
   "source": [
    "y=\"123\"\n",
    "y.isalpha()"
   ]
  },
  {
   "cell_type": "code",
   "execution_count": 26,
   "id": "326a53e2-50ec-4d1c-bb05-b135281453b9",
   "metadata": {},
   "outputs": [
    {
     "data": {
      "text/plain": [
       "True"
      ]
     },
     "execution_count": 26,
     "metadata": {},
     "output_type": "execute_result"
    }
   ],
   "source": [
    "z='1apple'\n",
    "z.isalnum()"
   ]
  },
  {
   "cell_type": "code",
   "execution_count": 4,
   "id": "86f69ac3-d9f3-425d-8ecd-0a4db3c1754a",
   "metadata": {},
   "outputs": [
    {
     "name": "stdout",
     "output_type": "stream",
     "text": [
      "False\n"
     ]
    },
    {
     "data": {
      "text/plain": [
       "False"
      ]
     },
     "execution_count": 4,
     "metadata": {},
     "output_type": "execute_result"
    }
   ],
   "source": [
    "q='abc-'\n",
    "print(q.isalpha())\n",
    "q.isalnum()"
   ]
  },
  {
   "cell_type": "code",
   "execution_count": 6,
   "id": "5f633b77-3a07-4b45-84d6-3afcb17974fb",
   "metadata": {},
   "outputs": [
    {
     "data": {
      "text/plain": [
       "False"
      ]
     },
     "execution_count": 6,
     "metadata": {},
     "output_type": "execute_result"
    }
   ],
   "source": [
    "v=\"program to check if solely spaces are there in string\"\n",
    "v.isspace()"
   ]
  },
  {
   "cell_type": "code",
   "execution_count": 10,
   "id": "b7ce9e10-606b-44fd-a84f-7d25cd542762",
   "metadata": {},
   "outputs": [
    {
     "data": {
      "text/plain": [
       "True"
      ]
     },
     "execution_count": 10,
     "metadata": {},
     "output_type": "execute_result"
    }
   ],
   "source": [
    "s=' '\n",
    "s.isspace()"
   ]
  },
  {
   "cell_type": "code",
   "execution_count": 4,
   "id": "d4d76b2a-4cf5-4464-bafc-fc69a55ff1ad",
   "metadata": {},
   "outputs": [
    {
     "name": "stdout",
     "output_type": "stream",
     "text": [
      "9\n"
     ]
    }
   ],
   "source": [
    "v=\"program to check if solely spaces are there in string\"\n",
    "count=0\n",
    "for i in v:\n",
    "    if i.isspace():\n",
    "        count+=1\n",
    "print(count)"
   ]
  },
  {
   "cell_type": "code",
   "execution_count": 6,
   "id": "1a78aa22-2175-43b3-9067-8c66a9c64cf7",
   "metadata": {},
   "outputs": [
    {
     "data": {
      "text/plain": [
       "True"
      ]
     },
     "execution_count": 6,
     "metadata": {},
     "output_type": "execute_result"
    }
   ],
   "source": [
    "r=\"123\"\n",
    "r.isdigit()"
   ]
  },
  {
   "cell_type": "code",
   "execution_count": 9,
   "id": "9878a44b-1b8f-4cc4-a9d2-44c087ad0dfd",
   "metadata": {},
   "outputs": [
    {
     "data": {
      "text/plain": [
       "True"
      ]
     },
     "execution_count": 9,
     "metadata": {},
     "output_type": "execute_result"
    }
   ],
   "source": [
    "title=\"Apple\"\n",
    "title.istitle()"
   ]
  },
  {
   "cell_type": "code",
   "execution_count": 11,
   "id": "78142459-c1a9-4ea5-a742-aa3df508ca79",
   "metadata": {},
   "outputs": [
    {
     "data": {
      "text/plain": [
       "True"
      ]
     },
     "execution_count": 11,
     "metadata": {},
     "output_type": "execute_result"
    }
   ],
   "source": [
    "a=\"apple\"\n",
    "a.islower()"
   ]
  },
  {
   "cell_type": "code",
   "execution_count": 29,
   "id": "a13b9196-be17-4f77-8d8f-b4ce7d2a0388",
   "metadata": {},
   "outputs": [
    {
     "name": "stdout",
     "output_type": "stream",
     "text": [
      "True\n"
     ]
    },
    {
     "data": {
      "text/plain": [
       "True"
      ]
     },
     "execution_count": 29,
     "metadata": {},
     "output_type": "execute_result"
    }
   ],
   "source": [
    "a=\"APPLE\"\n",
    "print(a.isalpha())\n",
    "a.isupper()"
   ]
  },
  {
   "cell_type": "markdown",
   "id": "9f3fc3de-bd7a-4cf1-bf8e-6f324e91d37b",
   "metadata": {},
   "source": [
    "**WAP to print number of digits in the string**"
   ]
  },
  {
   "cell_type": "code",
   "execution_count": 18,
   "id": "6592c5b1-86a4-498a-9096-53ec8c5da69d",
   "metadata": {},
   "outputs": [
    {
     "name": "stdout",
     "output_type": "stream",
     "text": [
      "3\n"
     ]
    }
   ],
   "source": [
    "string=\"Cranes1 Varsity1 offers1 a comprehensive online and offline Data \\\n",
    "Science course designed to equip you with the skills and knowledge needed to excel in this rapidly evolving field.\"\n",
    "count=0\n",
    "for i in string:\n",
    "    if i.isdigit():\n",
    "        count+=1\n",
    "print(count)"
   ]
  },
  {
   "cell_type": "markdown",
   "id": "9385b195-c0cd-4e79-95e3-4ab237b77bcd",
   "metadata": {},
   "source": [
    "**WAP to count how many uppercase letters are there in the file.txt**"
   ]
  },
  {
   "cell_type": "code",
   "execution_count": 4,
   "id": "60cd57c1-6dd4-4f20-9544-f72a171bfcb2",
   "metadata": {},
   "outputs": [
    {
     "name": "stdout",
     "output_type": "stream",
     "text": [
      "Cranes1 Varsity1 offers1 a comprehensive online and offline Data Science course designed to equip you with the skills and knowledge needed to excel in this Rapidly Evolving Field.\n",
      "C\n",
      "V\n",
      "D\n",
      "S\n",
      "R\n",
      "E\n",
      "F\n",
      "7\n"
     ]
    }
   ],
   "source": [
    "string=\"Cranes1 Varsity1 offers1 a comprehensive online and offline Data \\\n",
    "Science course designed to equip you with the skills and knowledge needed to excel in this Rapidly Evolving Field.\"\n",
    "file=open(\"file.txt\",'w')\n",
    "file.write(string)\n",
    "file.close()\n",
    "\n",
    "file=open(\"file.txt\",'r')\n",
    "text=file.read()\n",
    "print(text)\n",
    "file.close()\n",
    "\n",
    "count=0\n",
    "for i in text:\n",
    "    if i.isupper():\n",
    "        print(i)\n",
    "        count+=1\n",
    "print(count)    "
   ]
  },
  {
   "cell_type": "markdown",
   "id": "21c29e17-4b60-47d8-a54b-7a2f2b235970",
   "metadata": {},
   "source": [
    "**WAP to find number of special characters in the file**"
   ]
  },
  {
   "cell_type": "code",
   "execution_count": 60,
   "id": "1c0d2d60-4c60-4abd-bddc-06df48b17e91",
   "metadata": {},
   "outputs": [
    {
     "name": "stdout",
     "output_type": "stream",
     "text": [
      "&\n",
      "%\n",
      ".\n",
      "3\n"
     ]
    }
   ],
   "source": [
    "string=\"Cranes1 Varsity1& offers1 %a comprehensive online and offline Data \\\n",
    "Science course designed to equip you with the skills and knowledge needed to excel in this Rapidly Evolving Field.\"\n",
    "file=open(\"file.txt\",'w')\n",
    "file.write(string)\n",
    "file.close()\n",
    "\n",
    "file=open(\"file.txt\",'r')\n",
    "text=file.read()\n",
    "file.close()\n",
    "\n",
    "#method1\n",
    "# count=len(text)\n",
    "# temp=0\n",
    "# for i in text:\n",
    "#     if i.isalnum(): \n",
    "#         temp+=1\n",
    "#     elif i.isspace():\n",
    "#         temp+=1\n",
    "#     else:\n",
    "#         print(i)\n",
    "# print(count-temp)\n",
    "\n",
    "#method2\n",
    "# count=0\n",
    "# for i in text:\n",
    "#     if i.isalnum()!=True and i.isspace()!=True:\n",
    "#         count+=1\n",
    "#         print(i)\n",
    "# print(count)\n",
    "\n",
    "#method3\n",
    "count=0\n",
    "for i in text:\n",
    "    if not i.isalnum() and not i.isspace():\n",
    "        count+=1\n",
    "        print(i)\n",
    "print(count)"
   ]
  },
  {
   "cell_type": "code",
   "execution_count": null,
   "id": "81a691e5-0a1b-453d-a387-7b7724fbff90",
   "metadata": {},
   "outputs": [],
   "source": []
  }
 ],
 "metadata": {
  "kernelspec": {
   "display_name": "Python 3 (ipykernel)",
   "language": "python",
   "name": "python3"
  },
  "language_info": {
   "codemirror_mode": {
    "name": "ipython",
    "version": 3
   },
   "file_extension": ".py",
   "mimetype": "text/x-python",
   "name": "python",
   "nbconvert_exporter": "python",
   "pygments_lexer": "ipython3",
   "version": "3.12.7"
  }
 },
 "nbformat": 4,
 "nbformat_minor": 5
}
