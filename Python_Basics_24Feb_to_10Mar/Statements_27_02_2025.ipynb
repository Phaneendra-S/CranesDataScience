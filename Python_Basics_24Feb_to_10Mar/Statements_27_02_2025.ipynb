{
 "cells": [
  {
   "cell_type": "markdown",
   "id": "9d6f3447-2711-49b7-932b-6ee643d47f19",
   "metadata": {},
   "source": [
    "**statements**\n",
    "- if, elif, else\n"
   ]
  },
  {
   "cell_type": "code",
   "execution_count": 3,
   "id": "c64865ae-1789-4b26-b4ce-a2fadd71eee1",
   "metadata": {},
   "outputs": [
    {
     "name": "stdout",
     "output_type": "stream",
     "text": [
      "a is greater than 50\n"
     ]
    }
   ],
   "source": [
    "a=100\n",
    "if a>50:\n",
    "    print(\"a is greater than 50\")"
   ]
  },
  {
   "cell_type": "code",
   "execution_count": 7,
   "id": "f46f8e09-c938-4afc-af5a-d377e62155cb",
   "metadata": {},
   "outputs": [
    {
     "name": "stdout",
     "output_type": "stream",
     "text": [
      "b is less than 50\n"
     ]
    }
   ],
   "source": [
    "b=5\n",
    "if b>50:\n",
    " print(\"b is greater than 50\")\n",
    "else:\n",
    " print(\"b is less than 50\")"
   ]
  },
  {
   "cell_type": "code",
   "execution_count": 14,
   "id": "3e0a26b5-62b2-4fdf-895f-287e45c5ea44",
   "metadata": {},
   "outputs": [
    {
     "name": "stdin",
     "output_type": "stream",
     "text": [
      "Enter the value of b: 50\n"
     ]
    },
    {
     "name": "stdout",
     "output_type": "stream",
     "text": [
      "b equals to 50\n"
     ]
    }
   ],
   "source": [
    "b = int(input('Enter the value of b:'))\n",
    "if b>50:\n",
    "    print(\"b is greater than 50\")\n",
    "elif b==50:\n",
    "    print(\"b equals to 50\")\n",
    "else:\n",
    "    print(\"b is less than 50\")"
   ]
  },
  {
   "cell_type": "markdown",
   "id": "df0c76d6-c617-4b0a-8603-f016085dcf26",
   "metadata": {},
   "source": [
    "**WAP to check whether which city is**\n",
    "- if it is mumbai, print welcomw to financial capital of india\n",
    "- if it is delhi, print welcome to capital city of india\n",
    "- or else print where are you"
   ]
  },
  {
   "cell_type": "code",
   "execution_count": 21,
   "id": "0a4ee08a-15eb-4626-8ba1-2c754847673d",
   "metadata": {},
   "outputs": [
    {
     "name": "stdin",
     "output_type": "stream",
     "text": [
      "enter the city you are in: mumbai\n"
     ]
    },
    {
     "name": "stdout",
     "output_type": "stream",
     "text": [
      "welcome to financial  capital of india\n"
     ]
    }
   ],
   "source": [
    "city=str(input(\"enter the city you are in:\"))\n",
    "\n",
    "if city=='mumbai':\n",
    "    print(\"welcome to financial  capital of india\")\n",
    "elif city=='delhi':\n",
    "    print(\"welcome to capital city of india\")\n",
    "else:\n",
    "    print(\"why are you there?\")"
   ]
  },
  {
   "cell_type": "markdown",
   "id": "6c9acb8b-881b-4179-b228-d8b3aab6302c",
   "metadata": {},
   "source": [
    "**WAP to check whether is even or odd**"
   ]
  },
  {
   "cell_type": "code",
   "execution_count": 26,
   "id": "aca6a662-9cc8-4f1c-8f85-a3af3e569b23",
   "metadata": {},
   "outputs": [
    {
     "name": "stdin",
     "output_type": "stream",
     "text": [
      "enter the number: 3\n"
     ]
    },
    {
     "name": "stdout",
     "output_type": "stream",
     "text": [
      "given number is odd\n"
     ]
    }
   ],
   "source": [
    "num = int(input(\"enter the number:\"))\n",
    "\n",
    "if num % 2 == 0:\n",
    "    print(\"given number is an even number\")\n",
    "else:\n",
    "    print(\"given number is odd\")"
   ]
  },
  {
   "cell_type": "markdown",
   "id": "e1f7ca44-7730-412f-94b5-6708510829ba",
   "metadata": {},
   "source": [
    "**WAP to check whether a number is divisible by 3 or not (by using sum of digits)**"
   ]
  },
  {
   "cell_type": "code",
   "execution_count": 61,
   "id": "90498415-99b9-4c7a-a399-5c051aefbe4e",
   "metadata": {},
   "outputs": [
    {
     "name": "stdin",
     "output_type": "stream",
     "text": [
      "Enter the number:  123456789\n"
     ]
    },
    {
     "data": {
      "text/plain": [
       "45"
      ]
     },
     "execution_count": 61,
     "metadata": {},
     "output_type": "execute_result"
    }
   ],
   "source": [
    "num = input(\"Enter the number: \")\n",
    "\n",
    "sum_of_digits = sum(int(digits) for digits in num)\n",
    "if sum_of_digits % 3 == 0:\n",
    "    print(\"given number is divisible by 3\")\n",
    "else:\n",
    "    print(\"given number is not divisible by 3\")\n"
   ]
  },
  {
   "cell_type": "code",
   "execution_count": null,
   "id": "ba759029-9fdf-43e8-a2cf-d0359f63d9db",
   "metadata": {},
   "outputs": [],
   "source": []
  }
 ],
 "metadata": {
  "kernelspec": {
   "display_name": "Python 3 (ipykernel)",
   "language": "python",
   "name": "python3"
  },
  "language_info": {
   "codemirror_mode": {
    "name": "ipython",
    "version": 3
   },
   "file_extension": ".py",
   "mimetype": "text/x-python",
   "name": "python",
   "nbconvert_exporter": "python",
   "pygments_lexer": "ipython3",
   "version": "3.12.7"
  }
 },
 "nbformat": 4,
 "nbformat_minor": 5
}
