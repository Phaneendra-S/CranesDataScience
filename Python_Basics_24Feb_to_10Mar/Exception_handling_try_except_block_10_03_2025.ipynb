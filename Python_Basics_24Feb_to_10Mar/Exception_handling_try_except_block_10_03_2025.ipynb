{
 "cells": [
  {
   "cell_type": "markdown",
   "id": "ee9fd7c6-018b-4170-9074-6b8d237b0d44",
   "metadata": {},
   "source": [
    "## Exception handling"
   ]
  },
  {
   "cell_type": "markdown",
   "id": "04a550a5-5f73-4719-ae23-b68c76398d40",
   "metadata": {},
   "source": [
    "- exception handling in python allows to handle errors and take corrective actions without stopping the execution of the program\n",
    "- exceptions are evenets that disrupts normal flow of the program.\n",
    "- they occur when an error is encountered during program execution"
   ]
  },
  {
   "cell_type": "code",
   "execution_count": 3,
   "id": "f4349a71-25fb-45cb-be1a-0c311bd02100",
   "metadata": {},
   "outputs": [
    {
     "ename": "NameError",
     "evalue": "name 'b' is not defined",
     "output_type": "error",
     "traceback": [
      "\u001b[1;31m---------------------------------------------------------------------------\u001b[0m",
      "\u001b[1;31mNameError\u001b[0m                                 Traceback (most recent call last)",
      "Cell \u001b[1;32mIn[3], line 1\u001b[0m\n\u001b[1;32m----> 1\u001b[0m a\u001b[38;5;241m=\u001b[39mb\n",
      "\u001b[1;31mNameError\u001b[0m: name 'b' is not defined"
     ]
    }
   ],
   "source": [
    "a=b"
   ]
  },
  {
   "cell_type": "code",
   "execution_count": 5,
   "id": "d2f2ebcf-f086-4d34-985b-d94b9d3572b9",
   "metadata": {},
   "outputs": [
    {
     "name": "stdout",
     "output_type": "stream",
     "text": [
      "Exception error\n"
     ]
    }
   ],
   "source": [
    "try:\n",
    "    a=b\n",
    "except:\n",
    "    print(\"Exception error\")"
   ]
  },
  {
   "cell_type": "code",
   "execution_count": 7,
   "id": "15506f5f-ef39-49dd-a581-43874f12566d",
   "metadata": {},
   "outputs": [
    {
     "name": "stdout",
     "output_type": "stream",
     "text": [
      "name 'b' is not defined\n"
     ]
    }
   ],
   "source": [
    "try:\n",
    "    a=b\n",
    "except NameError as ex:\n",
    "    print(ex)"
   ]
  },
  {
   "cell_type": "markdown",
   "id": "b215972c-35bf-4e58-a1fd-e355f3deb187",
   "metadata": {},
   "source": [
    "**ZeroDivisionError**\n",
    "- dividing by zero"
   ]
  },
  {
   "cell_type": "code",
   "execution_count": 21,
   "id": "cb4c9e00-4592-4bda-8582-cf0819cd17e6",
   "metadata": {},
   "outputs": [
    {
     "name": "stdout",
     "output_type": "stream",
     "text": [
      "division by zero\n"
     ]
    }
   ],
   "source": [
    "try:\n",
    "    result=1/0\n",
    "except NameError as ex:\n",
    "    print(ex)\n",
    "except ZeroDivisionError as y:\n",
    "    print(y)"
   ]
  },
  {
   "cell_type": "markdown",
   "id": "c0869e51-cf67-4363-b0cb-bfb06f34ea91",
   "metadata": {},
   "source": [
    "- if there is an error in the try block except block will get executed\n",
    "- if no error in try block the else block will get executed"
   ]
  },
  {
   "cell_type": "code",
   "execution_count": 37,
   "id": "66c1e632-94f2-41ef-9cf7-598af3d48660",
   "metadata": {},
   "outputs": [
    {
     "name": "stdin",
     "output_type": "stream",
     "text": [
      "Enter a number :  0\n"
     ]
    },
    {
     "name": "stdout",
     "output_type": "stream",
     "text": [
      "Invalid input\n"
     ]
    }
   ],
   "source": [
    "try:\n",
    "    num=int(input(\"Enter a number : \"))\n",
    "    result=1/num\n",
    "\n",
    "except ZeroDivisionError:\n",
    "    print(\"Invalid input\")\n",
    "\n",
    "else:\n",
    "    print(result)"
   ]
  },
  {
   "cell_type": "markdown",
   "id": "a0e9e770-6ca0-420e-958b-437cd7eb6f4a",
   "metadata": {},
   "source": [
    "- finally block will always gets executed irrespective of error occured or not"
   ]
  },
  {
   "cell_type": "code",
   "execution_count": 48,
   "id": "0538ed92-c5bf-4489-858a-18a3d807e4fd",
   "metadata": {},
   "outputs": [
    {
     "name": "stdin",
     "output_type": "stream",
     "text": [
      "Enter the number:  9\n"
     ]
    },
    {
     "name": "stdout",
     "output_type": "stream",
     "text": [
      "name 'b' is not defined\n",
      "Execution completed\n"
     ]
    }
   ],
   "source": [
    "#try, except, else and finally\n",
    "\n",
    "try:\n",
    "    num=int(input(\"Enter the number: \"))\n",
    "    result=10/num\n",
    "    a=b\n",
    "    \n",
    "except NameError as ex:\n",
    "    print(ex)\n",
    "\n",
    "except ZeroDivisionError:\n",
    "    print(\"You can't divide by zero\")\n",
    "\n",
    "else:\n",
    "    print(result)\n",
    "\n",
    "finally:\n",
    "    print(\"Execution completed\")"
   ]
  },
  {
   "cell_type": "code",
   "execution_count": 66,
   "id": "15a1e934-aeb3-44b9-873d-b4fed92d28d9",
   "metadata": {},
   "outputs": [
    {
     "name": "stdout",
     "output_type": "stream",
     "text": [
      "My god!\n",
      "Hello world!\n",
      "[Errno 2] No such file or directory: 'input.txt'\n",
      "Execution completed\n"
     ]
    }
   ],
   "source": [
    "#usage of FileNotFoundError\n",
    "try:\n",
    "    #there is already a file named sample.txt in the directory so we are getting output\n",
    "    #if we use another file name like input.txt you will get error\n",
    "    file=open('sample.txt','r')\n",
    "    content=file.read()\n",
    "    print(content)\n",
    "    file=open('input.txt','r')\n",
    "    content1=file.read()\n",
    "    print(content1)\n",
    "\n",
    "except FileNotFoundError as f:\n",
    "    print(f)\n",
    "\n",
    "finally:\n",
    "    print('Execution completed')\n",
    "    "
   ]
  },
  {
   "cell_type": "code",
   "execution_count": 5,
   "id": "0cae6321-198d-4a78-a498-e7aaf904c6c3",
   "metadata": {},
   "outputs": [
    {
     "name": "stdout",
     "output_type": "stream",
     "text": [
      "name 'b' is not defined\n",
      "Execution completed\n"
     ]
    }
   ],
   "source": [
    "#here there will be error at a=b line itself program won't go to input line to even check for the zero division error\n",
    "\n",
    "try:\n",
    "    a=b\n",
    "    num=int(input(\"Enter the number: \"))\n",
    "    result=10/num\n",
    "\n",
    "except ZeroDivisionError:\n",
    "    print(\"Can't divide by zero\")\n",
    "    \n",
    "except Exception as ex:\n",
    "    print(ex)\n",
    "\n",
    "finally:\n",
    "    print(\"Execution completed\")"
   ]
  },
  {
   "cell_type": "markdown",
   "id": "d18f4192-e79b-4b2d-b47c-c56508bb9452",
   "metadata": {},
   "source": [
    "**Value error**\n",
    "- It occurs when a function receives an argument of the right type but an inappropriate value"
   ]
  },
  {
   "cell_type": "code",
   "execution_count": 9,
   "id": "016b3cef-f996-4b34-bb7e-7e0323d75cce",
   "metadata": {},
   "outputs": [
    {
     "name": "stdout",
     "output_type": "stream",
     "text": [
      "Value Error Occur\n"
     ]
    }
   ],
   "source": [
    "try:\n",
    "    num=int('a')\n",
    "    print(num)\n",
    "    \n",
    "except ValueError:\n",
    "    print(\"Value Error Occur\")"
   ]
  },
  {
   "cell_type": "code",
   "execution_count": 26,
   "id": "7d95e11e-a1ce-43b2-bfac-93d5934b64bd",
   "metadata": {},
   "outputs": [
    {
     "name": "stdin",
     "output_type": "stream",
     "text": [
      "Enter a value :  a\n"
     ]
    },
    {
     "name": "stdout",
     "output_type": "stream",
     "text": [
      "Value Error Occur\n"
     ]
    }
   ],
   "source": [
    "def add(a,b):\n",
    "    try:\n",
    "        c = int(input(\"Enter a value : \"))\n",
    "        return a+b+c\n",
    "\n",
    "    except ValueError:\n",
    "        print(\"Value Error Occur\")\n",
    "\n",
    "add(1,2)"
   ]
  },
  {
   "cell_type": "code",
   "execution_count": 28,
   "id": "322f5030-95b7-4b5f-9b6f-258774a0980a",
   "metadata": {},
   "outputs": [
    {
     "name": "stdout",
     "output_type": "stream",
     "text": [
      "Value Error Occured\n"
     ]
    }
   ],
   "source": [
    "def add(a,b):\n",
    "    try:\n",
    "        return int(a) + int(b)\n",
    "    except ValueError:\n",
    "        print(\"Value Error Occured\")\n",
    "\n",
    "add(1,'h')"
   ]
  },
  {
   "cell_type": "markdown",
   "id": "74681cf0-1490-4336-ac6f-3f286456e3da",
   "metadata": {},
   "source": [
    "**Type error**\n",
    "- it occurs when an operation is performed on an object of inappropriate type\n",
    "- common causes\n",
    "- 1.incorrect data type\n",
    "- 2.passing a wrong argument to a function\n",
    "- 3.attempting operations between incompatible types"
   ]
  },
  {
   "cell_type": "code",
   "execution_count": 31,
   "id": "b30de830-96c6-4ee4-90ae-45a1a39420d9",
   "metadata": {},
   "outputs": [
    {
     "name": "stdout",
     "output_type": "stream",
     "text": [
      "Type Error Occured\n"
     ]
    }
   ],
   "source": [
    "def add(a,b):\n",
    "    try:\n",
    "        return a+b\n",
    "    except TypeError:\n",
    "        print(\"Type Error Occured\")\n",
    "\n",
    "add(1,'a')"
   ]
  },
  {
   "cell_type": "markdown",
   "id": "8339c88b-c6eb-4fd0-a7e5-eca8736481a4",
   "metadata": {},
   "source": [
    "**Create a function to divide 2 numbers and in program also give two exceptions of zero division error and type error**"
   ]
  },
  {
   "cell_type": "code",
   "execution_count": 58,
   "id": "02a94699-3d5b-4c23-871e-6a9757fb6493",
   "metadata": {},
   "outputs": [
    {
     "name": "stdout",
     "output_type": "stream",
     "text": [
      "Type Error\n"
     ]
    }
   ],
   "source": [
    "def divide(a,b):\n",
    "    try:\n",
    "        return a/b\n",
    "    except ZeroDivisionError:\n",
    "        print(\"Zero Division Error\")\n",
    "    except TypeError:\n",
    "        print(\"Type Error\")\n",
    "\n",
    "divide('a',0)"
   ]
  },
  {
   "cell_type": "markdown",
   "id": "e39cd5b0-60e7-4b7e-99c0-97e8387d9e0b",
   "metadata": {},
   "source": [
    "**how to handle key error in a dictionary**"
   ]
  },
  {
   "cell_type": "code",
   "execution_count": 83,
   "id": "4ee48f60-f858-4004-ada7-d08afa3f54e9",
   "metadata": {},
   "outputs": [
    {
     "name": "stdout",
     "output_type": "stream",
     "text": [
      "'city'\n"
     ]
    }
   ],
   "source": [
    "dict1={'a':1,'b':2}\n",
    "try:\n",
    "    print(dict1['city'])\n",
    "\n",
    "except KeyError as ky:\n",
    "    print(ky)"
   ]
  },
  {
   "cell_type": "markdown",
   "id": "090385bc-94c8-4347-b37f-a905c983b532",
   "metadata": {},
   "source": [
    "**How to handle index error**"
   ]
  },
  {
   "cell_type": "code",
   "execution_count": 87,
   "id": "8eb303f6-e945-4f25-bb8b-513e7ef46e08",
   "metadata": {},
   "outputs": [
    {
     "name": "stdout",
     "output_type": "stream",
     "text": [
      "list index out of range\n"
     ]
    }
   ],
   "source": [
    "x=[1,2]\n",
    "try:\n",
    "    print(x[5])\n",
    "except IndexError as ie:\n",
    "    print(ie)\n",
    "    "
   ]
  },
  {
   "cell_type": "code",
   "execution_count": null,
   "id": "ee1a5d2a-0e45-4ab7-97bb-a146ebd8a702",
   "metadata": {},
   "outputs": [],
   "source": []
  }
 ],
 "metadata": {
  "kernelspec": {
   "display_name": "Python 3 (ipykernel)",
   "language": "python",
   "name": "python3"
  },
  "language_info": {
   "codemirror_mode": {
    "name": "ipython",
    "version": 3
   },
   "file_extension": ".py",
   "mimetype": "text/x-python",
   "name": "python",
   "nbconvert_exporter": "python",
   "pygments_lexer": "ipython3",
   "version": "3.12.7"
  }
 },
 "nbformat": 4,
 "nbformat_minor": 5
}
