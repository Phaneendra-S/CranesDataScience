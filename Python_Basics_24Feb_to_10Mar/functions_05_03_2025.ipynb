{
 "cells": [
  {
   "cell_type": "markdown",
   "id": "256487b5-e9c1-4d47-920b-d65e45cf66b9",
   "metadata": {},
   "source": [
    "**Functions**\n",
    "- a function is a useful device that groups together a set of statements so they can be run more than once\n",
    "- they let us specify parameters that can serve as inputs to the functions\n",
    "- functions allow us to not have to repeatedly write the same code again and again\n",
    "* \n",
    "- *return* is more versatile compared to print function\n",
    "- when you are using print function, cannot be used for further operation\n",
    "- return allows the user to do further operations"
   ]
  },
  {
   "cell_type": "code",
   "execution_count": 108,
   "id": "30cdeb8b-705f-4e52-8c81-4e5ec0fc6a35",
   "metadata": {},
   "outputs": [
    {
     "data": {
      "text/plain": [
       "3"
      ]
     },
     "execution_count": 108,
     "metadata": {},
     "output_type": "execute_result"
    }
   ],
   "source": [
    "def add(a,b):\n",
    "    return a+b\n",
    "\n",
    "add(1,2)"
   ]
  },
  {
   "cell_type": "code",
   "execution_count": 110,
   "id": "4f57db7f-cc19-4a98-80d7-9ace65e9dfd8",
   "metadata": {},
   "outputs": [
    {
     "data": {
      "text/plain": [
       "'even'"
      ]
     },
     "execution_count": 110,
     "metadata": {},
     "output_type": "execute_result"
    }
   ],
   "source": [
    "def check_even_or_odd(num):\n",
    "    if num%2==0:\n",
    "        return 'even'\n",
    "    else:\n",
    "        return 'odd'\n",
    "\n",
    "check_even_or_odd(4)"
   ]
  },
  {
   "cell_type": "code",
   "execution_count": 112,
   "id": "cf8da626-bfd8-4a54-aa42-2c5dbbae2e29",
   "metadata": {},
   "outputs": [
    {
     "data": {
      "text/plain": [
       "6"
      ]
     },
     "execution_count": 112,
     "metadata": {},
     "output_type": "execute_result"
    }
   ],
   "source": [
    "def add3(a,b,c):\n",
    "    d=a+b+c\n",
    "    return d\n",
    "\n",
    "add3(1,2,3)"
   ]
  },
  {
   "cell_type": "markdown",
   "id": "05b3e5aa-427f-4311-a5e5-2aaa0ec9a6a2",
   "metadata": {},
   "source": [
    "**WAF to check factorial of a number**"
   ]
  },
  {
   "cell_type": "code",
   "execution_count": 50,
   "id": "26d1dcb0-942c-4202-9685-1002fb13ced9",
   "metadata": {},
   "outputs": [
    {
     "data": {
      "text/plain": [
       "720"
      ]
     },
     "execution_count": 50,
     "metadata": {},
     "output_type": "execute_result"
    }
   ],
   "source": [
    "def factorial(num):\n",
    "    result=1\n",
    "    for i in range(1,num+1):\n",
    "        result*=i\n",
    "    return result\n",
    "\n",
    "factorial(6)"
   ]
  },
  {
   "cell_type": "markdown",
   "id": "ad186bfe-3c15-49b4-9c37-f62a42135b63",
   "metadata": {},
   "source": [
    "**WAF to find first letter of each word**"
   ]
  },
  {
   "cell_type": "code",
   "execution_count": 80,
   "id": "faadb938-7bd2-4b0e-b147-94bcd72bd513",
   "metadata": {},
   "outputs": [
    {
     "data": {
      "text/plain": [
       "['C',\n",
       " 'V',\n",
       " 'o',\n",
       " 'a',\n",
       " 'c',\n",
       " 'o',\n",
       " 'a',\n",
       " 'o',\n",
       " 'D',\n",
       " 'S',\n",
       " 'c',\n",
       " 'd',\n",
       " 't',\n",
       " 'e',\n",
       " 'y',\n",
       " 'w',\n",
       " 't',\n",
       " 's',\n",
       " 'a',\n",
       " 'k',\n",
       " 'n',\n",
       " 't',\n",
       " 'e',\n",
       " 'i',\n",
       " 't',\n",
       " 'r',\n",
       " 'e',\n",
       " 'f']"
      ]
     },
     "execution_count": 80,
     "metadata": {},
     "output_type": "execute_result"
    }
   ],
   "source": [
    "def extract_first_letter(para):\n",
    "    split_para = para.split()\n",
    "    first_letter=[]\n",
    "    for i in split_para:\n",
    "        first_letter.append(i[0])\n",
    "    return first_letter \n",
    "\n",
    "a=\"Cranes Varsity offers a comprehensive online and offline Data Science course \\\n",
    "designed to equip you with the skills and knowledge needed to excel in this rapidly evolving field.\"\n",
    "extract_first_letter(a)"
   ]
  },
  {
   "cell_type": "markdown",
   "id": "309233e9-3de9-4dad-ae74-8b3688aadffc",
   "metadata": {},
   "source": [
    "**WAF to check a particular number is prime or not**"
   ]
  },
  {
   "cell_type": "code",
   "execution_count": 100,
   "id": "39fceb72-84dd-4b6c-9d30-7722c9914507",
   "metadata": {},
   "outputs": [
    {
     "data": {
      "text/plain": [
       "'71 is prime'"
      ]
     },
     "execution_count": 100,
     "metadata": {},
     "output_type": "execute_result"
    }
   ],
   "source": [
    "def check_prime(num):\n",
    "    count=0\n",
    "    for i in range(1,num+1):\n",
    "        if num%i==0:\n",
    "            count+=1\n",
    "    if count==2:\n",
    "        return f'{num} is prime'\n",
    "    else:\n",
    "        return f'{num} is not prime'\n",
    "\n",
    "check_prime(71)"
   ]
  },
  {
   "cell_type": "markdown",
   "id": "367f9d0b-9c43-4cb9-bf1d-fc65f909e071",
   "metadata": {},
   "source": [
    "**WAF to check if a string is palindrome or not**"
   ]
  },
  {
   "cell_type": "code",
   "execution_count": 139,
   "id": "239422a9-833f-4f5c-a132-c0d7c41a8247",
   "metadata": {},
   "outputs": [
    {
     "data": {
      "text/plain": [
       "'malayalam is palindrome'"
      ]
     },
     "execution_count": 139,
     "metadata": {},
     "output_type": "execute_result"
    }
   ],
   "source": [
    "def check_palindrome(n):\n",
    "    string=n.lower()\n",
    "    reverse_string=string[::-1]\n",
    "    if string==reverse_string:\n",
    "        return f'{string} is palindrome'\n",
    "    else:\n",
    "        return f'{string} is not a palindrome'\n",
    "\n",
    "check_palindrome(\"malayalam\")"
   ]
  },
  {
   "cell_type": "markdown",
   "id": "7d9dd5dc-2556-4eb9-bfd8-d7f529572d5f",
   "metadata": {},
   "source": [
    "**WAF to generate fibonacci series upto n terms**"
   ]
  },
  {
   "cell_type": "code",
   "execution_count": 149,
   "id": "2b337d36-e25b-4d93-a74d-405d3a6e575a",
   "metadata": {},
   "outputs": [
    {
     "data": {
      "text/plain": [
       "[0, 1, 1, 2, 3, 5, 8, 13, 21, 34]"
      ]
     },
     "execution_count": 149,
     "metadata": {},
     "output_type": "execute_result"
    }
   ],
   "source": [
    "def fibonacci(no_of_terms):\n",
    "    f_0=0\n",
    "    f_1=1\n",
    "    f=[0,1]\n",
    "    for i in range(2,no_of_terms):\n",
    "        f_i = f_0 + f_1\n",
    "        f_0 = f_1\n",
    "        f_1 = f_i\n",
    "        f.append(f_i)\n",
    "    \n",
    "    return f\n",
    "        \n",
    "fibonacci(10)        "
   ]
  },
  {
   "cell_type": "markdown",
   "id": "ce1d47fa-9fae-4921-9549-d339e44ecac5",
   "metadata": {},
   "source": [
    "**WAF to check whether two words are anagram or not**"
   ]
  },
  {
   "cell_type": "code",
   "execution_count": 27,
   "id": "3c08285b-20ae-4a06-9009-7187e150a869",
   "metadata": {},
   "outputs": [
    {
     "data": {
      "text/plain": [
       "'belowe,elbowe are anagram'"
      ]
     },
     "execution_count": 27,
     "metadata": {},
     "output_type": "execute_result"
    }
   ],
   "source": [
    "def anagram(a,b):\n",
    "    b_list=list(b)\n",
    "    for i in a:\n",
    "        if i in b_list:\n",
    "            b_list.remove(i)\n",
    "        else:\n",
    "            return f\"{a},{b} are not anagram\"\n",
    "    return f\"{a},{b} are anagram\" if not b_list else f\"{a},{b} are not anagrams\"\n",
    "\n",
    "anagram('belowe','elbowe')"
   ]
  },
  {
   "cell_type": "markdown",
   "id": "53f68961-7b8c-481b-8465-b32d926a6ddf",
   "metadata": {},
   "source": [
    "**Default arguments**\n",
    "- once we have a default argument after that all should be default arguments\n",
    "- we can change default values while function call, if we dont specify default values will be taken into consideration"
   ]
  },
  {
   "cell_type": "code",
   "execution_count": 20,
   "id": "54bb8755-5244-4f98-811f-d6a67e7467da",
   "metadata": {},
   "outputs": [
    {
     "data": {
      "text/plain": [
       "10"
      ]
     },
     "execution_count": 20,
     "metadata": {},
     "output_type": "execute_result"
    }
   ],
   "source": [
    "def add3(a,b=5,c=4):\n",
    "    return a+b+c\n",
    "\n",
    "add3(1)"
   ]
  },
  {
   "cell_type": "code",
   "execution_count": 22,
   "id": "787f7ace-a755-4b22-9129-4d23aa9108df",
   "metadata": {},
   "outputs": [
    {
     "data": {
      "text/plain": [
       "6"
      ]
     },
     "execution_count": 22,
     "metadata": {},
     "output_type": "execute_result"
    }
   ],
   "source": [
    "add3(1,2,3)"
   ]
  },
  {
   "cell_type": "code",
   "execution_count": 25,
   "id": "c755a726-2842-4acc-b051-405c8e87ec51",
   "metadata": {},
   "outputs": [
    {
     "data": {
      "text/plain": [
       "7"
      ]
     },
     "execution_count": 25,
     "metadata": {},
     "output_type": "execute_result"
    }
   ],
   "source": [
    "add3(1,2)"
   ]
  },
  {
   "cell_type": "markdown",
   "id": "80b074d7-90ab-46a1-8d30-752fdbddfc40",
   "metadata": {},
   "source": [
    "- The *a collects all positional arguments passed to the function into a tuple.\n",
    "- It allows the function to accept any number of positional arguments as a tuple.\n",
    "- This is useful when you don’t know in advance how many arguments will be provided."
   ]
  },
  {
   "cell_type": "code",
   "execution_count": 37,
   "id": "7d524b43-236d-4423-9fc9-76df62dc2404",
   "metadata": {},
   "outputs": [
    {
     "name": "stdout",
     "output_type": "stream",
     "text": [
      "24\n"
     ]
    }
   ],
   "source": [
    "def multiply(*nums):\n",
    "    product = 1\n",
    "    for num in nums:\n",
    "        product *= num\n",
    "    return product\n",
    "\n",
    "print(multiply(2, 3, 4))"
   ]
  },
  {
   "cell_type": "markdown",
   "id": "fa863648-16d1-4f58-a7c0-79f0135aea92",
   "metadata": {},
   "source": [
    "- Difference Between *args and **kwargs\n",
    "- *args → Collects positional arguments into a tuple.\n",
    "- **kwargs → Collects keyword arguments into a dictionary."
   ]
  },
  {
   "cell_type": "code",
   "execution_count": 53,
   "id": "d296541b-2f62-42ca-888f-0418e68f1163",
   "metadata": {},
   "outputs": [
    {
     "name": "stdout",
     "output_type": "stream",
     "text": [
      "Args: (1, 2, 3)\n",
      "Kwargs: {'name': 'John', 'age': 30}\n"
     ]
    }
   ],
   "source": [
    "def example(*args, **kwargs):\n",
    "    print(\"Args:\", args)    # Tuple\n",
    "    print(\"Kwargs:\", kwargs)  # Dictionary\n",
    "\n",
    "example(1, 2, 3, name=\"John\", age=30)"
   ]
  },
  {
   "cell_type": "markdown",
   "id": "a8425e8f-ac5b-4eed-9ea0-95e9198de399",
   "metadata": {},
   "source": [
    "**WAP to print the largest number from a series of numbers w/o using max function**"
   ]
  },
  {
   "cell_type": "code",
   "execution_count": 70,
   "id": "0bc68201-eb45-450a-ae65-66c4709e4ba8",
   "metadata": {},
   "outputs": [
    {
     "data": {
      "text/plain": [
       "100"
      ]
     },
     "execution_count": 70,
     "metadata": {},
     "output_type": "execute_result"
    }
   ],
   "source": [
    "def max_number(*b):\n",
    "    maximum=b[0]\n",
    "    for i in b:\n",
    "        if i>maximum:\n",
    "            maximum=i\n",
    "\n",
    "    return maximum\n",
    "\n",
    "max_number(100,2,3,44,5)"
   ]
  },
  {
   "cell_type": "markdown",
   "id": "85062ae0-4227-4f28-957c-7b39cb7c06f1",
   "metadata": {},
   "source": [
    "**Functions as objects**\n",
    "- although functions are created differently from normal variables, functions are just like any other kind of value\n",
    "- they can be assigned and reassigned to variables, and later referenced by those names"
   ]
  },
  {
   "cell_type": "code",
   "execution_count": 72,
   "id": "832b2ac9-2508-4ac1-8998-9b45f9a5b795",
   "metadata": {},
   "outputs": [
    {
     "data": {
      "text/plain": [
       "3"
      ]
     },
     "execution_count": 72,
     "metadata": {},
     "output_type": "execute_result"
    }
   ],
   "source": [
    "my_max=max_number\n",
    "my_max(1,2,3)"
   ]
  },
  {
   "cell_type": "markdown",
   "id": "8ee313be-883c-427e-91a3-78a905e5f947",
   "metadata": {},
   "source": [
    "**Calculator app**"
   ]
  },
  {
   "cell_type": "code",
   "execution_count": 40,
   "id": "2b46ebb2-bae8-4b41-b4b3-a05d977eb7c5",
   "metadata": {},
   "outputs": [
    {
     "name": "stdout",
     "output_type": "stream",
     "text": [
      "Hello user, Welcome to the calculator app :\n",
      "1.Addition\n",
      "2.Subtraction\n",
      "3.Multiplication\n",
      "4.Division\n"
     ]
    },
    {
     "name": "stdin",
     "output_type": "stream",
     "text": [
      "\n",
      "Enter the calculator function you want :  1\n",
      "Enter the numbers you want to add :  12,2,3\n"
     ]
    },
    {
     "name": "stdout",
     "output_type": "stream",
     "text": [
      "\n",
      "Sum is 17\n"
     ]
    }
   ],
   "source": [
    "print(\"Hello user, Welcome to the calculator app :\\n1.Addition\\n2.Subtraction\\n3.Multiplication\\n4.Division\")\n",
    "user_input=int(input('\\nEnter the calculator function you want : '))\n",
    "\n",
    "def addition(a):\n",
    "    sum=0\n",
    "    for i in a:\n",
    "        sum=sum+i\n",
    "    print(f\"\\nSum is {sum}\")\n",
    "\n",
    "def subtraction(i,j):\n",
    "    print(f\"\\nSubtraction is {i-j}\")\n",
    "\n",
    "def multiplication(a):\n",
    "    mul=1\n",
    "    for i in a:\n",
    "        mul=mul*i\n",
    "    print(f\"\\nMultiplication is {mul}\")\n",
    "\n",
    "def division(a,b):\n",
    "    print(f\"\\nDivision is {round(a/b,2)}\")\n",
    "    \n",
    "if user_input==1:\n",
    "    num=input(\"Enter the numbers you want to add : \").split(',')\n",
    "    # print(num)\n",
    "    j=[]\n",
    "    for i in num:\n",
    "        j.append(int(i))\n",
    "    # k=tuple(j)   \n",
    "    # print(k)\n",
    "    addition(j)\n",
    "    \n",
    "elif user_input==2:\n",
    "    num=input(\"Enter the numbers you want to subtract : \").split(',')\n",
    "    # print(num)\n",
    "    if len(num)>2:\n",
    "        print(\"For the time being, we will subtract only two numbers\")\n",
    "    else:    \n",
    "    # j=[]\n",
    "    # for i in num:\n",
    "    #     j.append(int(i))\n",
    "    # tuple(j)\n",
    "        # print(type(num[0]))\n",
    "        i = int(num[0])\n",
    "        j = int(num[1])\n",
    "        # print(type(i))\n",
    "        subtraction(i,j)\n",
    "        # print(i,j)\n",
    "    \n",
    "elif user_input==3:\n",
    "    num=input(\"Enter the numbers you want to multiply : \").split(',')\n",
    "    j=[]\n",
    "    for i in num:\n",
    "        j.append(int(i))\n",
    "    # k=tuple(j)\n",
    "    multiplication(j)\n",
    "    \n",
    "elif user_input==4:\n",
    "    num=input(\"Enter the numbers you want to divide : \").split(',')\n",
    "    if len(num)>2:\n",
    "        print(\"For the time being, more than two numbers can't be divided\")\n",
    "    else:\n",
    "    # j=[]\n",
    "    # for i in num:\n",
    "    #     j.append(int(i))\n",
    "    # tuple(j)\n",
    "        i = int(num[0])\n",
    "        j = int(num[1])\n",
    "        division(i,j)"
   ]
  },
  {
   "cell_type": "code",
   "execution_count": 6,
   "id": "afd892f0-dadb-403e-bb47-3ce5a353b08b",
   "metadata": {},
   "outputs": [
    {
     "name": "stdout",
     "output_type": "stream",
     "text": [
      "Hello user, Welcome to the calculator app :\n",
      "1.Addition\n",
      "2.Subtraction\n",
      "3.Multiplication\n",
      "4.Division\n"
     ]
    },
    {
     "name": "stdin",
     "output_type": "stream",
     "text": [
      "\n",
      "Enter the calculator function you want :  1\n",
      "Enter the numbers you want to add :  1,2,3,4,5\n"
     ]
    },
    {
     "ename": "NameError",
     "evalue": "name 'num' is not defined",
     "output_type": "error",
     "traceback": [
      "\u001b[1;31m---------------------------------------------------------------------------\u001b[0m",
      "\u001b[1;31mNameError\u001b[0m                                 Traceback (most recent call last)",
      "Cell \u001b[1;32mIn[6], line 43\u001b[0m\n\u001b[0;32m     41\u001b[0m \u001b[38;5;28mprint\u001b[39m(\u001b[38;5;124m\"\u001b[39m\u001b[38;5;124mHello user, Welcome to the calculator app :\u001b[39m\u001b[38;5;130;01m\\n\u001b[39;00m\u001b[38;5;124m1.Addition\u001b[39m\u001b[38;5;130;01m\\n\u001b[39;00m\u001b[38;5;124m2.Subtraction\u001b[39m\u001b[38;5;130;01m\\n\u001b[39;00m\u001b[38;5;124m3.Multiplication\u001b[39m\u001b[38;5;130;01m\\n\u001b[39;00m\u001b[38;5;124m4.Division\u001b[39m\u001b[38;5;124m\"\u001b[39m)\n\u001b[0;32m     42\u001b[0m user_input\u001b[38;5;241m=\u001b[39m\u001b[38;5;28mint\u001b[39m(\u001b[38;5;28minput\u001b[39m(\u001b[38;5;124m'\u001b[39m\u001b[38;5;130;01m\\n\u001b[39;00m\u001b[38;5;124mEnter the calculator function you want : \u001b[39m\u001b[38;5;124m'\u001b[39m))\n\u001b[1;32m---> 43\u001b[0m \u001b[38;5;28;01mif\u001b[39;00m \u001b[38;5;28;01mTrue\u001b[39;00m: calculator_function(user_input)\n",
      "Cell \u001b[1;32mIn[6], line 39\u001b[0m, in \u001b[0;36mcalculator_function\u001b[1;34m(user_input)\u001b[0m\n\u001b[0;32m     35\u001b[0m \u001b[38;5;28;01mdef\u001b[39;00m \u001b[38;5;21mcalculator_function\u001b[39m(user_input):\n\u001b[0;32m     36\u001b[0m     \u001b[38;5;28;01mmatch\u001b[39;00m user_input:\n\u001b[0;32m     37\u001b[0m         \u001b[38;5;28;01mcase\u001b[39;00m \u001b[38;5;241m1\u001b[39m:\n\u001b[0;32m     38\u001b[0m             num\u001b[38;5;241m=\u001b[39m\u001b[38;5;28minput\u001b[39m(\u001b[38;5;124m\"\u001b[39m\u001b[38;5;124mEnter the numbers you want to add : \u001b[39m\u001b[38;5;124m\"\u001b[39m)\u001b[38;5;241m.\u001b[39msplit(\u001b[38;5;124m'\u001b[39m\u001b[38;5;124m,\u001b[39m\u001b[38;5;124m'\u001b[39m)\n\u001b[1;32m---> 39\u001b[0m             \u001b[38;5;28;01mreturn\u001b[39;00m addition()\n",
      "Cell \u001b[1;32mIn[6], line 3\u001b[0m, in \u001b[0;36maddition\u001b[1;34m()\u001b[0m\n\u001b[0;32m      2\u001b[0m \u001b[38;5;28;01mdef\u001b[39;00m \u001b[38;5;21maddition\u001b[39m():\n\u001b[1;32m----> 3\u001b[0m     \u001b[38;5;28mprint\u001b[39m(num)\n\u001b[0;32m      4\u001b[0m     j\u001b[38;5;241m=\u001b[39m[]\n\u001b[0;32m      5\u001b[0m     \u001b[38;5;28;01mfor\u001b[39;00m i \u001b[38;5;129;01min\u001b[39;00m num:\n",
      "\u001b[1;31mNameError\u001b[0m: name 'num' is not defined"
     ]
    }
   ],
   "source": [
    "#Calculator method2\n",
    "def addition():\n",
    "    print(num)\n",
    "    j=[]\n",
    "    for i in num:\n",
    "        j.append(int(i))\n",
    "    print(j)\n",
    "    sum=0\n",
    "    for k in j:\n",
    "        sum=sum+k\n",
    "    return sum\n",
    "\n",
    "def subtraction(*s):\n",
    "    dif=s[0]\n",
    "    temp_list=list(s)\n",
    "    temp_list.remove(temp_list[0])\n",
    "    new_tup=tuple(temp_list)\n",
    "    for i in new_tup:\n",
    "        dif=dif-i\n",
    "    return dif\n",
    "\n",
    "def multiplication(*m):\n",
    "    pro=1\n",
    "    for i in m:\n",
    "        pro=pro*i\n",
    "    return pro\n",
    "\n",
    "def division(*d):\n",
    "    return d[0]/d[1]\n",
    "\n",
    "# print(division(2,3))\n",
    "# print(multiplication(2,3,4))\n",
    "# subtraction(1,2,3)\n",
    "\n",
    "def calculator_function(user_input):\n",
    "    match user_input:\n",
    "        case 1:\n",
    "            num=input(\"Enter the numbers you want to add : \").split(',')\n",
    "            return addition(num)\n",
    "            \n",
    "print(\"Hello user, Welcome to the calculator app :\\n1.Addition\\n2.Subtraction\\n3.Multiplication\\n4.Division\")\n",
    "user_input=int(input('\\nEnter the calculator function you want : '))\n",
    "if True: calculator_function(user_input)\n",
    "\n"
   ]
  },
  {
   "cell_type": "code",
   "execution_count": null,
   "id": "3e7d19d7-55b8-4675-bce4-779a9ee7fae8",
   "metadata": {},
   "outputs": [],
   "source": []
  }
 ],
 "metadata": {
  "kernelspec": {
   "display_name": "Python 3 (ipykernel)",
   "language": "python",
   "name": "python3"
  },
  "language_info": {
   "codemirror_mode": {
    "name": "ipython",
    "version": 3
   },
   "file_extension": ".py",
   "mimetype": "text/x-python",
   "name": "python",
   "nbconvert_exporter": "python",
   "pygments_lexer": "ipython3",
   "version": "3.12.7"
  }
 },
 "nbformat": 4,
 "nbformat_minor": 5
}
