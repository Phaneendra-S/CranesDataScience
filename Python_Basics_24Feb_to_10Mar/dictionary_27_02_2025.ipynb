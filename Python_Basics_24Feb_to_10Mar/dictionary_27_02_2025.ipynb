{
 "cells": [
  {
   "cell_type": "markdown",
   "id": "b679887c-2dbe-4b73-994e-ddd1cd3c93c0",
   "metadata": {},
   "source": [
    "**dictionary**\n",
    "- it is mutable ( we can change the original dictionary)\n",
    "- dictionary is constructed using curly braces {key1:value1, key2:value2}"
   ]
  },
  {
   "cell_type": "code",
   "execution_count": 2,
   "id": "58b0a23a-661e-411f-affa-f39c40f29840",
   "metadata": {},
   "outputs": [],
   "source": [
    "x={'name':'abc','age':22}"
   ]
  },
  {
   "cell_type": "code",
   "execution_count": 4,
   "id": "5a7d5ab7-ad16-4114-b7bf-bc3c05147596",
   "metadata": {},
   "outputs": [
    {
     "data": {
      "text/plain": [
       "dict"
      ]
     },
     "execution_count": 4,
     "metadata": {},
     "output_type": "execute_result"
    }
   ],
   "source": [
    "type(x)"
   ]
  },
  {
   "cell_type": "code",
   "execution_count": 6,
   "id": "e13a099b-3d2d-4435-b365-917f6333bef4",
   "metadata": {},
   "outputs": [
    {
     "data": {
      "text/plain": [
       "'abc'"
      ]
     },
     "execution_count": 6,
     "metadata": {},
     "output_type": "execute_result"
    }
   ],
   "source": [
    "x['name']"
   ]
  },
  {
   "cell_type": "code",
   "execution_count": 8,
   "id": "81d32765-d840-4ef4-af67-74e14b28d75d",
   "metadata": {},
   "outputs": [
    {
     "data": {
      "text/plain": [
       "22"
      ]
     },
     "execution_count": 8,
     "metadata": {},
     "output_type": "execute_result"
    }
   ],
   "source": [
    "x['age']"
   ]
  },
  {
   "cell_type": "code",
   "execution_count": 10,
   "id": "07b62bd6-e4d4-482a-ade5-f66d1df826f6",
   "metadata": {},
   "outputs": [
    {
     "data": {
      "text/plain": [
       "int"
      ]
     },
     "execution_count": 10,
     "metadata": {},
     "output_type": "execute_result"
    }
   ],
   "source": [
    "type(x['age'])"
   ]
  },
  {
   "cell_type": "code",
   "execution_count": 12,
   "id": "2a4a0af3-9653-436f-a02d-0ff847d86f5e",
   "metadata": {},
   "outputs": [
    {
     "data": {
      "text/plain": [
       "str"
      ]
     },
     "execution_count": 12,
     "metadata": {},
     "output_type": "execute_result"
    }
   ],
   "source": [
    "type(x['name'])"
   ]
  },
  {
   "cell_type": "markdown",
   "id": "0542ebc5-24d0-4483-a05d-231d383d6e5d",
   "metadata": {},
   "source": [
    "get() method \n",
    "- it is also used to get the value of the coressponding key"
   ]
  },
  {
   "cell_type": "code",
   "execution_count": 14,
   "id": "cd250625-7050-452f-aedd-5c9c2469cb8e",
   "metadata": {},
   "outputs": [
    {
     "data": {
      "text/plain": [
       "'abc'"
      ]
     },
     "execution_count": 14,
     "metadata": {},
     "output_type": "execute_result"
    }
   ],
   "source": [
    "x.get('name')"
   ]
  },
  {
   "cell_type": "code",
   "execution_count": 16,
   "id": "e5eda930-bb24-46bb-a411-0f908f3e770d",
   "metadata": {},
   "outputs": [
    {
     "data": {
      "text/plain": [
       "22"
      ]
     },
     "execution_count": 16,
     "metadata": {},
     "output_type": "execute_result"
    }
   ],
   "source": [
    "x.get('age')"
   ]
  },
  {
   "cell_type": "code",
   "execution_count": 18,
   "id": "89a784b2-1178-412f-88bc-0024afac0397",
   "metadata": {},
   "outputs": [],
   "source": [
    "y={'Name':'thor', 'place':'asgard','weapon':'hammer',1:2,3:'power','alibies':['ironman','captain america'],'abc':{1:2,4:5}}"
   ]
  },
  {
   "cell_type": "markdown",
   "id": "9caa21f1-db4c-42c9-8bd1-ec36737ba97e",
   "metadata": {},
   "source": [
    "- keys() method"
   ]
  },
  {
   "cell_type": "code",
   "execution_count": 20,
   "id": "e472a144-c51a-4baf-9a0b-993149c91b3f",
   "metadata": {},
   "outputs": [
    {
     "data": {
      "text/plain": [
       "dict_keys(['Name', 'place', 'weapon', 1, 3, 'alibies', 'abc'])"
      ]
     },
     "execution_count": 20,
     "metadata": {},
     "output_type": "execute_result"
    }
   ],
   "source": [
    "y.keys()"
   ]
  },
  {
   "cell_type": "code",
   "execution_count": 26,
   "id": "74706e59-8688-41dc-973b-d77a0235b9cd",
   "metadata": {},
   "outputs": [
    {
     "data": {
      "text/plain": [
       "['Name', 'place', 'weapon', 1, 3, 'alibies', 'abc']"
      ]
     },
     "execution_count": 26,
     "metadata": {},
     "output_type": "execute_result"
    }
   ],
   "source": [
    "list(y.keys())"
   ]
  },
  {
   "cell_type": "markdown",
   "id": "fe4331a2-1d97-4738-b8f4-da2912848a32",
   "metadata": {},
   "source": [
    "- values() method"
   ]
  },
  {
   "cell_type": "code",
   "execution_count": 30,
   "id": "2541b9db-099f-49f4-a808-49d025032676",
   "metadata": {},
   "outputs": [
    {
     "data": {
      "text/plain": [
       "dict_values(['thor', 'asgard', 'hammer', 2, 'power', ['ironman', 'captain america'], {1: 2, 4: 5}])"
      ]
     },
     "execution_count": 30,
     "metadata": {},
     "output_type": "execute_result"
    }
   ],
   "source": [
    "y.values()"
   ]
  },
  {
   "cell_type": "markdown",
   "id": "85b95a56-e254-4e8e-a2a9-be8089ed6c4f",
   "metadata": {},
   "source": [
    "- if you want it in a list "
   ]
  },
  {
   "cell_type": "code",
   "execution_count": 33,
   "id": "dadc91f9-d368-47fe-8842-e5252d61cadc",
   "metadata": {},
   "outputs": [
    {
     "data": {
      "text/plain": [
       "['thor',\n",
       " 'asgard',\n",
       " 'hammer',\n",
       " 2,\n",
       " 'power',\n",
       " ['ironman', 'captain america'],\n",
       " {1: 2, 4: 5}]"
      ]
     },
     "execution_count": 33,
     "metadata": {},
     "output_type": "execute_result"
    }
   ],
   "source": [
    "list(y.values())"
   ]
  },
  {
   "cell_type": "markdown",
   "id": "5e50a7e5-3f7a-4fe9-96a1-5be17de69384",
   "metadata": {},
   "source": [
    "items() method\n",
    "- items method returns all the keys&values as a tuples"
   ]
  },
  {
   "cell_type": "code",
   "execution_count": 36,
   "id": "21778ec7-d427-496e-bd33-92c67ef29c25",
   "metadata": {},
   "outputs": [
    {
     "data": {
      "text/plain": [
       "dict_items([('Name', 'thor'), ('place', 'asgard'), ('weapon', 'hammer'), (1, 2), (3, 'power'), ('alibies', ['ironman', 'captain america']), ('abc', {1: 2, 4: 5})])"
      ]
     },
     "execution_count": 36,
     "metadata": {},
     "output_type": "execute_result"
    }
   ],
   "source": [
    "y.items()"
   ]
  },
  {
   "cell_type": "code",
   "execution_count": 38,
   "id": "9d4ffddb-940f-489f-b8cc-693b6f822882",
   "metadata": {},
   "outputs": [
    {
     "data": {
      "text/plain": [
       "[('Name', 'thor'),\n",
       " ('place', 'asgard'),\n",
       " ('weapon', 'hammer'),\n",
       " (1, 2),\n",
       " (3, 'power'),\n",
       " ('alibies', ['ironman', 'captain america']),\n",
       " ('abc', {1: 2, 4: 5})]"
      ]
     },
     "execution_count": 38,
     "metadata": {},
     "output_type": "execute_result"
    }
   ],
   "source": [
    "list(y.items())"
   ]
  },
  {
   "cell_type": "code",
   "execution_count": 40,
   "id": "de04fc54-4a85-4649-9628-9e7014b7ac5a",
   "metadata": {},
   "outputs": [
    {
     "data": {
      "text/plain": [
       "{'Name': 'thor',\n",
       " 'place': 'asgard',\n",
       " 'weapon': 'hammer',\n",
       " 1: 2,\n",
       " 3: 'power',\n",
       " 'alibies': ['ironman', 'captain america'],\n",
       " 'abc': {1: 2, 4: 5}}"
      ]
     },
     "execution_count": 40,
     "metadata": {},
     "output_type": "execute_result"
    }
   ],
   "source": [
    "y"
   ]
  },
  {
   "cell_type": "code",
   "execution_count": 46,
   "id": "b14e7df2-9215-4e51-b6d6-4e178e130850",
   "metadata": {},
   "outputs": [
    {
     "data": {
      "text/plain": [
       "['ironman', 'captain america']"
      ]
     },
     "execution_count": 46,
     "metadata": {},
     "output_type": "execute_result"
    }
   ],
   "source": [
    "y['alibies']"
   ]
  },
  {
   "cell_type": "code",
   "execution_count": 48,
   "id": "9bcd5001-6227-4c87-8cce-a8a7e24e7c53",
   "metadata": {},
   "outputs": [
    {
     "data": {
      "text/plain": [
       "'ironman'"
      ]
     },
     "execution_count": 48,
     "metadata": {},
     "output_type": "execute_result"
    }
   ],
   "source": [
    "y['alibies'][0]"
   ]
  },
  {
   "cell_type": "code",
   "execution_count": 50,
   "id": "44ce36b5-3dfa-4a41-b24b-296887f4dc46",
   "metadata": {},
   "outputs": [
    {
     "data": {
      "text/plain": [
       "{1: 2, 4: 5}"
      ]
     },
     "execution_count": 50,
     "metadata": {},
     "output_type": "execute_result"
    }
   ],
   "source": [
    "y['abc']"
   ]
  },
  {
   "cell_type": "code",
   "execution_count": 52,
   "id": "f9f20251-427b-44ff-9714-97dddac3d294",
   "metadata": {},
   "outputs": [
    {
     "data": {
      "text/plain": [
       "2"
      ]
     },
     "execution_count": 52,
     "metadata": {},
     "output_type": "execute_result"
    }
   ],
   "source": [
    "y['abc'][1]"
   ]
  },
  {
   "cell_type": "code",
   "execution_count": 68,
   "id": "7703f946-758f-4ee5-bed1-e27fcbaa1ee9",
   "metadata": {},
   "outputs": [
    {
     "data": {
      "text/plain": [
       "dict"
      ]
     },
     "execution_count": 68,
     "metadata": {},
     "output_type": "execute_result"
    }
   ],
   "source": [
    "type(y['abc'])"
   ]
  },
  {
   "cell_type": "code",
   "execution_count": 54,
   "id": "2817dace-68fb-4899-9e63-828c3e1f387a",
   "metadata": {},
   "outputs": [],
   "source": [
    "q={1:{1:{3:4,5:6}}}"
   ]
  },
  {
   "cell_type": "code",
   "execution_count": 56,
   "id": "906a9f5b-69ae-429f-a65d-bbb688fb65b3",
   "metadata": {},
   "outputs": [
    {
     "data": {
      "text/plain": [
       "[1]"
      ]
     },
     "execution_count": 56,
     "metadata": {},
     "output_type": "execute_result"
    }
   ],
   "source": [
    "list(q.keys())"
   ]
  },
  {
   "cell_type": "code",
   "execution_count": 58,
   "id": "d0625b1a-ee0a-49b2-85ff-e4cc3307dd0e",
   "metadata": {},
   "outputs": [
    {
     "data": {
      "text/plain": [
       "[{1: {3: 4, 5: 6}}]"
      ]
     },
     "execution_count": 58,
     "metadata": {},
     "output_type": "execute_result"
    }
   ],
   "source": [
    "list(q.values())"
   ]
  },
  {
   "cell_type": "code",
   "execution_count": 60,
   "id": "aa946516-1d0c-4476-a37c-55cbb74c17b1",
   "metadata": {},
   "outputs": [
    {
     "data": {
      "text/plain": [
       "{3: 4, 5: 6}"
      ]
     },
     "execution_count": 60,
     "metadata": {},
     "output_type": "execute_result"
    }
   ],
   "source": [
    "q[1][1]"
   ]
  },
  {
   "cell_type": "code",
   "execution_count": 62,
   "id": "5a6615f5-b49c-4f37-909d-c21becbc56ce",
   "metadata": {},
   "outputs": [
    {
     "data": {
      "text/plain": [
       "4"
      ]
     },
     "execution_count": 62,
     "metadata": {},
     "output_type": "execute_result"
    }
   ],
   "source": [
    "q[1][1][3]"
   ]
  },
  {
   "cell_type": "code",
   "execution_count": 66,
   "id": "2d3fe2c2-48b2-4e14-b3aa-d08f3759f76d",
   "metadata": {},
   "outputs": [
    {
     "data": {
      "text/plain": [
       "6"
      ]
     },
     "execution_count": 66,
     "metadata": {},
     "output_type": "execute_result"
    }
   ],
   "source": [
    "q[1][1][5]"
   ]
  },
  {
   "cell_type": "code",
   "execution_count": 70,
   "id": "b6f0c339-1b3a-44af-9fc9-7f39a71877a9",
   "metadata": {},
   "outputs": [
    {
     "data": {
      "text/plain": [
       "{'name': 'abc', 'age': 22}"
      ]
     },
     "execution_count": 70,
     "metadata": {},
     "output_type": "execute_result"
    }
   ],
   "source": [
    "x"
   ]
  },
  {
   "cell_type": "markdown",
   "id": "4184e71b-2727-4e2c-b171-b87402f584eb",
   "metadata": {},
   "source": [
    "- adding a kay value pair to dictionary"
   ]
  },
  {
   "cell_type": "code",
   "execution_count": 72,
   "id": "2466801d-a204-4616-a84f-3aae6afad37c",
   "metadata": {},
   "outputs": [],
   "source": [
    "x['location']='bangalore'"
   ]
  },
  {
   "cell_type": "code",
   "execution_count": 74,
   "id": "884b97a1-4b3d-4905-9801-2a159ff7cae8",
   "metadata": {},
   "outputs": [
    {
     "data": {
      "text/plain": [
       "{'name': 'abc', 'age': 22, 'location': 'bangalore'}"
      ]
     },
     "execution_count": 74,
     "metadata": {},
     "output_type": "execute_result"
    }
   ],
   "source": [
    "x"
   ]
  },
  {
   "cell_type": "code",
   "execution_count": 80,
   "id": "561e364c-0101-4b48-873d-47284f34e51d",
   "metadata": {},
   "outputs": [],
   "source": [
    "x[\"salary\"]=80000"
   ]
  },
  {
   "cell_type": "code",
   "execution_count": 82,
   "id": "78229bed-2faf-4241-8f7f-9884fedcd55a",
   "metadata": {},
   "outputs": [
    {
     "data": {
      "text/plain": [
       "{'name': 'abc', 'age': 22, 'location': 'bangalore', 'salary': 80000}"
      ]
     },
     "execution_count": 82,
     "metadata": {},
     "output_type": "execute_result"
    }
   ],
   "source": [
    "x"
   ]
  },
  {
   "cell_type": "markdown",
   "id": "a16f4803-f384-464e-bbea-d3d6b5cdeb66",
   "metadata": {},
   "source": [
    "update() method\n",
    "- update method is used to add a key value pair to the dictionary\n",
    "- it takes dictionary as an argument\n",
    "- it is also used to update the existing value corressponding to a particular key"
   ]
  },
  {
   "cell_type": "code",
   "execution_count": 91,
   "id": "64fa5c0a-b6b9-4068-b113-44e701411f1c",
   "metadata": {},
   "outputs": [
    {
     "data": {
      "text/plain": [
       "{'name': 'abc', 'age': 22, 'location': 'bangalore', 'salary': 80000}"
      ]
     },
     "execution_count": 91,
     "metadata": {},
     "output_type": "execute_result"
    }
   ],
   "source": [
    "x"
   ]
  },
  {
   "cell_type": "code",
   "execution_count": 93,
   "id": "64d70b44-6d5d-4837-91b4-4fbb260daccb",
   "metadata": {},
   "outputs": [],
   "source": [
    "x.update({'language':'kannada'})"
   ]
  },
  {
   "cell_type": "code",
   "execution_count": 95,
   "id": "0bf02896-d9c1-41c2-823e-d24eb3fa78bf",
   "metadata": {},
   "outputs": [
    {
     "data": {
      "text/plain": [
       "{'name': 'abc',\n",
       " 'age': 22,\n",
       " 'location': 'bangalore',\n",
       " 'salary': 80000,\n",
       " 'language': 'kannada'}"
      ]
     },
     "execution_count": 95,
     "metadata": {},
     "output_type": "execute_result"
    }
   ],
   "source": [
    "x"
   ]
  },
  {
   "cell_type": "code",
   "execution_count": 97,
   "id": "95ccc8a5-7fa9-4293-9cdc-b3d4ea8b27c7",
   "metadata": {},
   "outputs": [],
   "source": [
    "x.update({'name':'phani'})"
   ]
  },
  {
   "cell_type": "code",
   "execution_count": 99,
   "id": "01614f98-a88e-409d-84b2-9a9170a26e5a",
   "metadata": {},
   "outputs": [
    {
     "data": {
      "text/plain": [
       "{'name': 'phani',\n",
       " 'age': 22,\n",
       " 'location': 'bangalore',\n",
       " 'salary': 80000,\n",
       " 'language': 'kannada'}"
      ]
     },
     "execution_count": 99,
     "metadata": {},
     "output_type": "execute_result"
    }
   ],
   "source": [
    "x"
   ]
  },
  {
   "cell_type": "markdown",
   "id": "3b97536f-edb5-458d-a08e-75487286c9c6",
   "metadata": {},
   "source": [
    "- using update method we can add multiple key value pairs at the same time"
   ]
  },
  {
   "cell_type": "code",
   "execution_count": 101,
   "id": "b06691ee-9f6c-4392-bbca-8eeda1adc819",
   "metadata": {},
   "outputs": [
    {
     "data": {
      "text/plain": [
       "{'name': 'phani',\n",
       " 'age': 22,\n",
       " 'location': 'bangalore',\n",
       " 'salary': 80000,\n",
       " 'language': 'kannada',\n",
       " 1: 2,\n",
       " 3: 4}"
      ]
     },
     "execution_count": 101,
     "metadata": {},
     "output_type": "execute_result"
    }
   ],
   "source": [
    "x.update({1:2,3:4})\n",
    "x"
   ]
  },
  {
   "cell_type": "code",
   "execution_count": 103,
   "id": "ec4e788f-cea6-4593-9f39-c8816d8cad49",
   "metadata": {},
   "outputs": [
    {
     "data": {
      "text/plain": [
       "{'Name': 'thor',\n",
       " 'place': 'asgard',\n",
       " 'weapon': 'hammer',\n",
       " 1: 2,\n",
       " 3: 'power',\n",
       " 'alibies': ['ironman', 'captain america'],\n",
       " 'abc': {1: 2, 4: 5}}"
      ]
     },
     "execution_count": 103,
     "metadata": {},
     "output_type": "execute_result"
    }
   ],
   "source": [
    "y"
   ]
  },
  {
   "cell_type": "markdown",
   "id": "98e8ee05-da52-47cb-afb2-594a43181551",
   "metadata": {},
   "source": [
    "pop()\n",
    "- we have give key as argument\n",
    "- by default pop() removes last key value pair int he dictionary\n",
    "- if we specify a particular key it will return corressponding value and removes rhat key value pair"
   ]
  },
  {
   "cell_type": "code",
   "execution_count": 112,
   "id": "183669aa-dab0-4252-9744-eeefbfc8b7d6",
   "metadata": {},
   "outputs": [
    {
     "data": {
      "text/plain": [
       "{1: 2, 4: 5}"
      ]
     },
     "execution_count": 112,
     "metadata": {},
     "output_type": "execute_result"
    }
   ],
   "source": [
    "y.pop('abc')"
   ]
  },
  {
   "cell_type": "code",
   "execution_count": 114,
   "id": "9bd45e4a-2ac2-4d5a-ab30-648bf10854fe",
   "metadata": {},
   "outputs": [
    {
     "data": {
      "text/plain": [
       "{'Name': 'thor',\n",
       " 'place': 'asgard',\n",
       " 'weapon': 'hammer',\n",
       " 1: 2,\n",
       " 3: 'power',\n",
       " 'alibies': ['ironman', 'captain america']}"
      ]
     },
     "execution_count": 114,
     "metadata": {},
     "output_type": "execute_result"
    }
   ],
   "source": [
    "y"
   ]
  },
  {
   "cell_type": "code",
   "execution_count": 116,
   "id": "0eb42d2f-2fad-49f6-8de3-21a5d6a71a6a",
   "metadata": {},
   "outputs": [],
   "source": [
    "y['abc']={1:2,4:5}"
   ]
  },
  {
   "cell_type": "code",
   "execution_count": 118,
   "id": "872b4427-c8e5-40cb-819e-9be9f192dba0",
   "metadata": {},
   "outputs": [
    {
     "data": {
      "text/plain": [
       "{'Name': 'thor',\n",
       " 'place': 'asgard',\n",
       " 'weapon': 'hammer',\n",
       " 1: 2,\n",
       " 3: 'power',\n",
       " 'alibies': ['ironman', 'captain america'],\n",
       " 'abc': {1: 2, 4: 5}}"
      ]
     },
     "execution_count": 118,
     "metadata": {},
     "output_type": "execute_result"
    }
   ],
   "source": [
    "y"
   ]
  },
  {
   "cell_type": "markdown",
   "id": "181de0d7-48bc-4e9d-a9f1-af38337fb03a",
   "metadata": {},
   "source": [
    " Understanding next(iter(y['abc']))\n",
    " y['abc']\n",
    "\n",
    " This accesses the dictionary stored at key 'abc', which is {1: 2, 4: 5}.\n",
    " iter(y['abc'])\n",
    "\n",
    " iter(dictionary) creates an iterator over the dictionary’s keys.\n",
    " In Python, when you iterate over a dictionary, it iterates over the keys by default.\n",
    " For {1: 2, 4: 5}, iter(y['abc']) produces an iterator over [1, 4].\n",
    " next(iter(y['abc']))\n",
    "\n",
    " next(iterator) retrieves the first key from the dictionary.\n",
    " In {1: 2, 4: 5}, the first key is 1, so next(iter(y['abc'])) returns 1."
   ]
  },
  {
   "cell_type": "code",
   "execution_count": 174,
   "id": "dabe10db-10a7-441a-89e9-cfe6b6ca4f29",
   "metadata": {},
   "outputs": [
    {
     "data": {
      "text/plain": [
       "{'Name': 'thor',\n",
       " 'place': 'asgard',\n",
       " 'weapon': 'hammer',\n",
       " 1: 2,\n",
       " 3: 'power',\n",
       " 'alibies': ['ironman', 'captain america'],\n",
       " 'abc': {4: 5}}"
      ]
     },
     "execution_count": 174,
     "metadata": {},
     "output_type": "execute_result"
    }
   ],
   "source": [
    "y['abc'].pop(next(iter(y['abc'])))\n",
    "y"
   ]
  },
  {
   "cell_type": "markdown",
   "id": "a234ee4d-d7ee-424f-83bd-badab602ee9a",
   "metadata": {},
   "source": [
    "create a dictionary\n",
    "- z={'name':'cranes varsity','location':'bangalore'}\n",
    "- print all the keys in the dictionary\n",
    "- print all the values in the dictionary\n",
    "- without using any methods print the value corresponding to 'location'\n",
    "- using any method print the value corressponding to 'name'\n",
    "- add the following key value pairs {'courses':['data science','embedded systems'],'no.of employees':60}\n",
    "- check the data type of the value corressponding to 'courses'\n",
    "- print 'embedded systems', that is second term of the value corressponding to 'courses'\n",
    "- without using any methods add the key value pair {'number of classrooms':12}\n",
    "- remove the key value pair {'location':'bangalore'}\n",
    "- merge the following dictionary to z\n",
    "- a={'vp':'arpitha', 'technical heads':['mohsin khan', 'muhammed sikandar']}"
   ]
  },
  {
   "cell_type": "code",
   "execution_count": 135,
   "id": "872117ed-4d42-47d2-9567-62df33a65474",
   "metadata": {},
   "outputs": [],
   "source": [
    "z={'name':'cranes varsity','location':'bangalore'}"
   ]
  },
  {
   "cell_type": "code",
   "execution_count": 137,
   "id": "24dc067f-6ef5-49ba-8d01-70cb3e7f83e8",
   "metadata": {},
   "outputs": [
    {
     "data": {
      "text/plain": [
       "{'name': 'cranes varsity', 'location': 'bangalore'}"
      ]
     },
     "execution_count": 137,
     "metadata": {},
     "output_type": "execute_result"
    }
   ],
   "source": [
    "z"
   ]
  },
  {
   "cell_type": "code",
   "execution_count": 141,
   "id": "1707b17e-bae9-40b0-91f9-502197c59a3f",
   "metadata": {},
   "outputs": [
    {
     "data": {
      "text/plain": [
       "['name', 'location']"
      ]
     },
     "execution_count": 141,
     "metadata": {},
     "output_type": "execute_result"
    }
   ],
   "source": [
    "list(z.keys())"
   ]
  },
  {
   "cell_type": "code",
   "execution_count": 143,
   "id": "a6ba6a4a-8c34-476b-92e2-a87f0f242ada",
   "metadata": {},
   "outputs": [
    {
     "data": {
      "text/plain": [
       "['cranes varsity', 'bangalore']"
      ]
     },
     "execution_count": 143,
     "metadata": {},
     "output_type": "execute_result"
    }
   ],
   "source": [
    "list(z.values())"
   ]
  },
  {
   "cell_type": "code",
   "execution_count": 145,
   "id": "a81e2691-20e9-4c8c-94f1-7c6e8c21aba2",
   "metadata": {},
   "outputs": [
    {
     "data": {
      "text/plain": [
       "'bangalore'"
      ]
     },
     "execution_count": 145,
     "metadata": {},
     "output_type": "execute_result"
    }
   ],
   "source": [
    "z['location']"
   ]
  },
  {
   "cell_type": "code",
   "execution_count": 147,
   "id": "79821907-2cf3-42c6-bea1-c2f4f9855a7b",
   "metadata": {},
   "outputs": [
    {
     "data": {
      "text/plain": [
       "'cranes varsity'"
      ]
     },
     "execution_count": 147,
     "metadata": {},
     "output_type": "execute_result"
    }
   ],
   "source": [
    "z.get('name')"
   ]
  },
  {
   "cell_type": "code",
   "execution_count": 149,
   "id": "0a0d3054-3bcf-45dd-83e1-6faa2df94097",
   "metadata": {},
   "outputs": [
    {
     "data": {
      "text/plain": [
       "{'name': 'cranes varsity',\n",
       " 'location': 'bangalore',\n",
       " 'courses': ['data science', 'embedded systems'],\n",
       " 'no.of employees': 60}"
      ]
     },
     "execution_count": 149,
     "metadata": {},
     "output_type": "execute_result"
    }
   ],
   "source": [
    "z.update({'courses':['data science','embedded systems'],'no.of employees':60})\n",
    "z"
   ]
  },
  {
   "cell_type": "code",
   "execution_count": 151,
   "id": "499663cc-a9b8-4d5b-977c-8c6ced220e68",
   "metadata": {},
   "outputs": [
    {
     "data": {
      "text/plain": [
       "list"
      ]
     },
     "execution_count": 151,
     "metadata": {},
     "output_type": "execute_result"
    }
   ],
   "source": [
    "type(z['courses'])"
   ]
  },
  {
   "cell_type": "code",
   "execution_count": 153,
   "id": "180f18e8-b3dd-4127-ae84-9a78c323946f",
   "metadata": {},
   "outputs": [
    {
     "data": {
      "text/plain": [
       "'embedded systems'"
      ]
     },
     "execution_count": 153,
     "metadata": {},
     "output_type": "execute_result"
    }
   ],
   "source": [
    "z['courses'][1]"
   ]
  },
  {
   "cell_type": "code",
   "execution_count": 155,
   "id": "acffbc91-daee-4e90-b005-da8336246812",
   "metadata": {},
   "outputs": [
    {
     "data": {
      "text/plain": [
       "{'name': 'cranes varsity',\n",
       " 'location': 'bangalore',\n",
       " 'courses': ['data science', 'embedded systems'],\n",
       " 'no.of employees': 60,\n",
       " 'number of classrooms': 12}"
      ]
     },
     "execution_count": 155,
     "metadata": {},
     "output_type": "execute_result"
    }
   ],
   "source": [
    "z['number of classrooms']=12\n",
    "z"
   ]
  },
  {
   "cell_type": "code",
   "execution_count": 157,
   "id": "438b9997-65e1-49d1-801e-fd3a9e2eb1b4",
   "metadata": {},
   "outputs": [
    {
     "data": {
      "text/plain": [
       "{'name': 'cranes varsity',\n",
       " 'courses': ['data science', 'embedded systems'],\n",
       " 'no.of employees': 60,\n",
       " 'number of classrooms': 12}"
      ]
     },
     "execution_count": 157,
     "metadata": {},
     "output_type": "execute_result"
    }
   ],
   "source": [
    "z.pop('location')\n",
    "z"
   ]
  },
  {
   "cell_type": "code",
   "execution_count": 165,
   "id": "836ce207-8869-45cd-9c39-4efc8648ebc3",
   "metadata": {},
   "outputs": [
    {
     "data": {
      "text/plain": [
       "{'vp': 'arpitha', 'technical heads': ['mohsin khan', 'muhammed sikandar']}"
      ]
     },
     "execution_count": 165,
     "metadata": {},
     "output_type": "execute_result"
    }
   ],
   "source": [
    "a={'vp':'arpitha', 'technical heads':['mohsin khan', 'muhammed sikandar']}\n",
    "a"
   ]
  },
  {
   "cell_type": "code",
   "execution_count": 167,
   "id": "e500b710-dcae-47dc-884b-4630cf09d6bc",
   "metadata": {},
   "outputs": [
    {
     "data": {
      "text/plain": [
       "{'name': 'cranes varsity',\n",
       " 'courses': ['data science', 'embedded systems'],\n",
       " 'no.of employees': 60,\n",
       " 'number of classrooms': 12,\n",
       " 'vp': 'arpitha',\n",
       " 'technical heads': ['mohsin khan', 'muhammed sikandar']}"
      ]
     },
     "execution_count": 167,
     "metadata": {},
     "output_type": "execute_result"
    }
   ],
   "source": [
    "z | a"
   ]
  },
  {
   "cell_type": "code",
   "execution_count": null,
   "id": "e01cdd3e-ea75-4f19-b04f-65c11966b69d",
   "metadata": {},
   "outputs": [],
   "source": []
  }
 ],
 "metadata": {
  "kernelspec": {
   "display_name": "Python 3 (ipykernel)",
   "language": "python",
   "name": "python3"
  },
  "language_info": {
   "codemirror_mode": {
    "name": "ipython",
    "version": 3
   },
   "file_extension": ".py",
   "mimetype": "text/x-python",
   "name": "python",
   "nbconvert_exporter": "python",
   "pygments_lexer": "ipython3",
   "version": "3.12.7"
  }
 },
 "nbformat": 4,
 "nbformat_minor": 5
}
