{
 "cells": [
  {
   "cell_type": "code",
   "execution_count": 7,
   "id": "202b4c7b-8540-451c-8ee4-d6b8c7741d7a",
   "metadata": {
    "collapsed": true,
    "jupyter": {
     "outputs_hidden": true
    }
   },
   "outputs": [],
   "source": [
    "import pandas as pd\n",
    "import warnings\n",
    "warnings.filterwarnings('ignore')"
   ]
  },
  {
   "cell_type": "code",
   "execution_count": 8,
   "id": "877444c1-2720-49aa-aeef-7dc53865c296",
   "metadata": {
    "collapsed": true,
    "jupyter": {
     "outputs_hidden": true
    },
    "scrolled": true
   },
   "outputs": [
    {
     "data": {
      "text/html": [
       "<div>\n",
       "<style scoped>\n",
       "    .dataframe tbody tr th:only-of-type {\n",
       "        vertical-align: middle;\n",
       "    }\n",
       "\n",
       "    .dataframe tbody tr th {\n",
       "        vertical-align: top;\n",
       "    }\n",
       "\n",
       "    .dataframe thead th {\n",
       "        text-align: right;\n",
       "    }\n",
       "</style>\n",
       "<table border=\"1\" class=\"dataframe\">\n",
       "  <thead>\n",
       "    <tr style=\"text-align: right;\">\n",
       "      <th></th>\n",
       "      <th>Manufacturer</th>\n",
       "      <th>Model</th>\n",
       "      <th>Sales in thousands</th>\n",
       "      <th>4-year resale value</th>\n",
       "      <th>Vehicle type</th>\n",
       "      <th>Price in thousands</th>\n",
       "      <th>Engine size</th>\n",
       "      <th>Horsepower</th>\n",
       "      <th>Wheelbase</th>\n",
       "      <th>Width</th>\n",
       "      <th>Length</th>\n",
       "      <th>Curb weight</th>\n",
       "      <th>Fuel capacity</th>\n",
       "      <th>Fuel efficiency</th>\n",
       "      <th>Latest Launch</th>\n",
       "    </tr>\n",
       "  </thead>\n",
       "  <tbody>\n",
       "    <tr>\n",
       "      <th>0</th>\n",
       "      <td>Acura</td>\n",
       "      <td>Integra</td>\n",
       "      <td>16.919</td>\n",
       "      <td>16.36</td>\n",
       "      <td>Passenger</td>\n",
       "      <td>21.5</td>\n",
       "      <td>1.8</td>\n",
       "      <td>140</td>\n",
       "      <td>101.2</td>\n",
       "      <td>67.3</td>\n",
       "      <td>172.4</td>\n",
       "      <td>2.639</td>\n",
       "      <td>13.2</td>\n",
       "      <td>28</td>\n",
       "      <td>2-Feb-14</td>\n",
       "    </tr>\n",
       "    <tr>\n",
       "      <th>1</th>\n",
       "      <td>Acura</td>\n",
       "      <td>TL</td>\n",
       "      <td>39.384</td>\n",
       "      <td>19.875</td>\n",
       "      <td>Passenger</td>\n",
       "      <td>28.4</td>\n",
       "      <td>3.2</td>\n",
       "      <td>225</td>\n",
       "      <td>108.1</td>\n",
       "      <td>70.3</td>\n",
       "      <td>192.9</td>\n",
       "      <td>3.517</td>\n",
       "      <td>17.2</td>\n",
       "      <td>25</td>\n",
       "      <td>6-Mar-15</td>\n",
       "    </tr>\n",
       "    <tr>\n",
       "      <th>2</th>\n",
       "      <td>Acura</td>\n",
       "      <td>CL</td>\n",
       "      <td>14.114</td>\n",
       "      <td>18.225</td>\n",
       "      <td>Passenger</td>\n",
       "      <td>.</td>\n",
       "      <td>3.2</td>\n",
       "      <td>225</td>\n",
       "      <td>106.9</td>\n",
       "      <td>70.6</td>\n",
       "      <td>192</td>\n",
       "      <td>3.47</td>\n",
       "      <td>17.2</td>\n",
       "      <td>26</td>\n",
       "      <td>1-Apr-14</td>\n",
       "    </tr>\n",
       "    <tr>\n",
       "      <th>3</th>\n",
       "      <td>Acura</td>\n",
       "      <td>RL</td>\n",
       "      <td>8.588</td>\n",
       "      <td>29.725</td>\n",
       "      <td>Passenger</td>\n",
       "      <td>42</td>\n",
       "      <td>3.5</td>\n",
       "      <td>210</td>\n",
       "      <td>114.6</td>\n",
       "      <td>71.4</td>\n",
       "      <td>196.6</td>\n",
       "      <td>3.85</td>\n",
       "      <td>18</td>\n",
       "      <td>22</td>\n",
       "      <td>3-Oct-15</td>\n",
       "    </tr>\n",
       "    <tr>\n",
       "      <th>4</th>\n",
       "      <td>Audi</td>\n",
       "      <td>A4</td>\n",
       "      <td>20.397</td>\n",
       "      <td>22.255</td>\n",
       "      <td>Passenger</td>\n",
       "      <td>23.99</td>\n",
       "      <td>1.8</td>\n",
       "      <td>150</td>\n",
       "      <td>102.6</td>\n",
       "      <td>68.2</td>\n",
       "      <td>178</td>\n",
       "      <td>2.998</td>\n",
       "      <td>16.4</td>\n",
       "      <td>27</td>\n",
       "      <td>10-Aug-15</td>\n",
       "    </tr>\n",
       "    <tr>\n",
       "      <th>...</th>\n",
       "      <td>...</td>\n",
       "      <td>...</td>\n",
       "      <td>...</td>\n",
       "      <td>...</td>\n",
       "      <td>...</td>\n",
       "      <td>...</td>\n",
       "      <td>...</td>\n",
       "      <td>...</td>\n",
       "      <td>...</td>\n",
       "      <td>...</td>\n",
       "      <td>...</td>\n",
       "      <td>...</td>\n",
       "      <td>...</td>\n",
       "      <td>...</td>\n",
       "      <td>...</td>\n",
       "    </tr>\n",
       "    <tr>\n",
       "      <th>152</th>\n",
       "      <td>Volvo</td>\n",
       "      <td>V40</td>\n",
       "      <td>3.545</td>\n",
       "      <td>.</td>\n",
       "      <td>Passenger</td>\n",
       "      <td>24.4</td>\n",
       "      <td>1.9</td>\n",
       "      <td>160</td>\n",
       "      <td>100.5</td>\n",
       "      <td>67.6</td>\n",
       "      <td>176.6</td>\n",
       "      <td>3.042</td>\n",
       "      <td>15.8</td>\n",
       "      <td>25</td>\n",
       "      <td>21-Sep-15</td>\n",
       "    </tr>\n",
       "    <tr>\n",
       "      <th>153</th>\n",
       "      <td>Volvo</td>\n",
       "      <td>S70</td>\n",
       "      <td>15.245</td>\n",
       "      <td>.</td>\n",
       "      <td>Passenger</td>\n",
       "      <td>27.5</td>\n",
       "      <td>2.4</td>\n",
       "      <td>168</td>\n",
       "      <td>104.9</td>\n",
       "      <td>69.3</td>\n",
       "      <td>185.9</td>\n",
       "      <td>3.208</td>\n",
       "      <td>17.9</td>\n",
       "      <td>25</td>\n",
       "      <td>24-Nov-14</td>\n",
       "    </tr>\n",
       "    <tr>\n",
       "      <th>154</th>\n",
       "      <td>Volvo</td>\n",
       "      <td>V70</td>\n",
       "      <td>17.531</td>\n",
       "      <td>.</td>\n",
       "      <td>Passenger</td>\n",
       "      <td>28.8</td>\n",
       "      <td>2.4</td>\n",
       "      <td>168</td>\n",
       "      <td>104.9</td>\n",
       "      <td>69.3</td>\n",
       "      <td>186.2</td>\n",
       "      <td>3.259</td>\n",
       "      <td>17.9</td>\n",
       "      <td>25</td>\n",
       "      <td>25-Jun-15</td>\n",
       "    </tr>\n",
       "    <tr>\n",
       "      <th>155</th>\n",
       "      <td>Volvo</td>\n",
       "      <td>C70</td>\n",
       "      <td>3.493</td>\n",
       "      <td>.</td>\n",
       "      <td>Passenger</td>\n",
       "      <td>45.5</td>\n",
       "      <td>2.3</td>\n",
       "      <td>236</td>\n",
       "      <td>104.9</td>\n",
       "      <td>71.5</td>\n",
       "      <td>185.7</td>\n",
       "      <td>3.601</td>\n",
       "      <td>18.5</td>\n",
       "      <td>23</td>\n",
       "      <td>26-Apr-15</td>\n",
       "    </tr>\n",
       "    <tr>\n",
       "      <th>156</th>\n",
       "      <td>Volvo</td>\n",
       "      <td>S80</td>\n",
       "      <td>18.969</td>\n",
       "      <td>.</td>\n",
       "      <td>Passenger</td>\n",
       "      <td>36</td>\n",
       "      <td>2.9</td>\n",
       "      <td>201</td>\n",
       "      <td>109.9</td>\n",
       "      <td>72.1</td>\n",
       "      <td>189.8</td>\n",
       "      <td>3.6</td>\n",
       "      <td>21.1</td>\n",
       "      <td>24</td>\n",
       "      <td>14-Nov-15</td>\n",
       "    </tr>\n",
       "  </tbody>\n",
       "</table>\n",
       "<p>157 rows × 15 columns</p>\n",
       "</div>"
      ],
      "text/plain": [
       "      Manufacturer              Model  Sales in thousands 4-year resale value  \\\n",
       "0    Acura          Integra                        16.919               16.36   \n",
       "1    Acura          TL                             39.384              19.875   \n",
       "2    Acura          CL                             14.114              18.225   \n",
       "3    Acura          RL                              8.588              29.725   \n",
       "4    Audi           A4                             20.397              22.255   \n",
       "..             ...                ...                 ...                 ...   \n",
       "152  Volvo          V40                             3.545                   .   \n",
       "153  Volvo          S70                            15.245                   .   \n",
       "154  Volvo          V70                            17.531                   .   \n",
       "155  Volvo          C70                             3.493                   .   \n",
       "156  Volvo          S80                            18.969                   .   \n",
       "\n",
       "    Vehicle type Price in thousands Engine size Horsepower Wheelbase Width  \\\n",
       "0      Passenger               21.5         1.8        140     101.2  67.3   \n",
       "1      Passenger               28.4         3.2        225     108.1  70.3   \n",
       "2      Passenger                  .         3.2        225     106.9  70.6   \n",
       "3      Passenger                 42         3.5        210     114.6  71.4   \n",
       "4      Passenger              23.99         1.8        150     102.6  68.2   \n",
       "..           ...                ...         ...        ...       ...   ...   \n",
       "152    Passenger               24.4         1.9        160     100.5  67.6   \n",
       "153    Passenger               27.5         2.4        168     104.9  69.3   \n",
       "154    Passenger               28.8         2.4        168     104.9  69.3   \n",
       "155    Passenger               45.5         2.3        236     104.9  71.5   \n",
       "156    Passenger                 36         2.9        201     109.9  72.1   \n",
       "\n",
       "    Length Curb weight Fuel capacity Fuel efficiency Latest Launch  \n",
       "0    172.4       2.639          13.2              28      2-Feb-14  \n",
       "1    192.9       3.517          17.2              25      6-Mar-15  \n",
       "2      192        3.47          17.2              26      1-Apr-14  \n",
       "3    196.6        3.85            18              22      3-Oct-15  \n",
       "4      178       2.998          16.4              27     10-Aug-15  \n",
       "..     ...         ...           ...             ...           ...  \n",
       "152  176.6       3.042          15.8              25     21-Sep-15  \n",
       "153  185.9       3.208          17.9              25     24-Nov-14  \n",
       "154  186.2       3.259          17.9              25     25-Jun-15  \n",
       "155  185.7       3.601          18.5              23     26-Apr-15  \n",
       "156  189.8         3.6          21.1              24     14-Nov-15  \n",
       "\n",
       "[157 rows x 15 columns]"
      ]
     },
     "execution_count": 8,
     "metadata": {},
     "output_type": "execute_result"
    }
   ],
   "source": [
    "data=pd.read_csv(r\"C:\\Users\\PHANEENDRA\\Downloads\\Car_sales.csv\")\n",
    "data"
   ]
  },
  {
   "cell_type": "code",
   "execution_count": 9,
   "id": "ea2c7898-4cd4-439f-b894-fa39ec83fe74",
   "metadata": {
    "collapsed": true,
    "jupyter": {
     "outputs_hidden": true
    },
    "scrolled": true
   },
   "outputs": [
    {
     "name": "stdout",
     "output_type": "stream",
     "text": [
      "<class 'pandas.core.frame.DataFrame'>\n",
      "RangeIndex: 157 entries, 0 to 156\n",
      "Data columns (total 15 columns):\n",
      " #   Column               Non-Null Count  Dtype  \n",
      "---  ------               --------------  -----  \n",
      " 0   Manufacturer         157 non-null    object \n",
      " 1   Model                157 non-null    object \n",
      " 2   Sales in thousands   157 non-null    float64\n",
      " 3   4-year resale value  157 non-null    object \n",
      " 4   Vehicle type         157 non-null    object \n",
      " 5   Price in thousands   157 non-null    object \n",
      " 6   Engine size          157 non-null    object \n",
      " 7   Horsepower           157 non-null    object \n",
      " 8   Wheelbase            157 non-null    object \n",
      " 9   Width                157 non-null    object \n",
      " 10  Length               157 non-null    object \n",
      " 11  Curb weight          157 non-null    object \n",
      " 12  Fuel capacity        157 non-null    object \n",
      " 13  Fuel efficiency      157 non-null    object \n",
      " 14  Latest Launch        157 non-null    object \n",
      "dtypes: float64(1), object(14)\n",
      "memory usage: 18.5+ KB\n"
     ]
    }
   ],
   "source": [
    "data.info()"
   ]
  },
  {
   "cell_type": "code",
   "execution_count": 10,
   "id": "c8f605d4-0514-469f-a2ec-a67bf6c4b00a",
   "metadata": {
    "collapsed": true,
    "jupyter": {
     "outputs_hidden": true
    },
    "scrolled": true
   },
   "outputs": [
    {
     "name": "stdout",
     "output_type": "stream",
     "text": [
      "<class 'pandas.core.frame.DataFrame'>\n",
      "RangeIndex: 157 entries, 0 to 156\n",
      "Data columns (total 15 columns):\n",
      " #   Column               Non-Null Count  Dtype         \n",
      "---  ------               --------------  -----         \n",
      " 0   Manufacturer         157 non-null    object        \n",
      " 1   Model                157 non-null    object        \n",
      " 2   Sales in thousands   157 non-null    float64       \n",
      " 3   4-year resale value  157 non-null    object        \n",
      " 4   Vehicle type         157 non-null    object        \n",
      " 5   Price in thousands   157 non-null    object        \n",
      " 6   Engine size          157 non-null    object        \n",
      " 7   Horsepower           157 non-null    object        \n",
      " 8   Wheelbase            157 non-null    object        \n",
      " 9   Width                157 non-null    object        \n",
      " 10  Length               157 non-null    object        \n",
      " 11  Curb weight          157 non-null    object        \n",
      " 12  Fuel capacity        157 non-null    object        \n",
      " 13  Fuel efficiency      157 non-null    object        \n",
      " 14  Latest Launch        157 non-null    datetime64[ns]\n",
      "dtypes: datetime64[ns](1), float64(1), object(13)\n",
      "memory usage: 18.5+ KB\n"
     ]
    }
   ],
   "source": [
    "data['Latest Launch']=pd.to_datetime(data['Latest Launch'])\n",
    "data.info()"
   ]
  },
  {
   "cell_type": "code",
   "execution_count": 11,
   "id": "8fe84df5-c244-4d74-ab62-7aadccf0b281",
   "metadata": {
    "collapsed": true,
    "jupyter": {
     "outputs_hidden": true
    }
   },
   "outputs": [
    {
     "data": {
      "text/plain": [
       "Vehicle type\n",
       "Passenger    116\n",
       "Car           41\n",
       "Name: count, dtype: int64"
      ]
     },
     "execution_count": 11,
     "metadata": {},
     "output_type": "execute_result"
    }
   ],
   "source": [
    "#Extract the details of passenger vehicle type\n",
    "data['Vehicle type'].value_counts()"
   ]
  },
  {
   "cell_type": "code",
   "execution_count": 12,
   "id": "a26ed1fd-2dfd-4c44-a140-45eab6c941e0",
   "metadata": {
    "collapsed": true,
    "jupyter": {
     "outputs_hidden": true
    },
    "scrolled": true
   },
   "outputs": [
    {
     "data": {
      "text/plain": [
       "(116, 15)"
      ]
     },
     "execution_count": 12,
     "metadata": {},
     "output_type": "execute_result"
    }
   ],
   "source": [
    "passenger_type=data[data['Vehicle type']=='Passenger']\n",
    "passenger_type.shape"
   ]
  },
  {
   "cell_type": "code",
   "execution_count": 13,
   "id": "b9fc626d-bbbb-44a7-860f-25a29c5e8458",
   "metadata": {
    "collapsed": true,
    "jupyter": {
     "outputs_hidden": true
    },
    "scrolled": true
   },
   "outputs": [
    {
     "data": {
      "text/html": [
       "<div>\n",
       "<style scoped>\n",
       "    .dataframe tbody tr th:only-of-type {\n",
       "        vertical-align: middle;\n",
       "    }\n",
       "\n",
       "    .dataframe tbody tr th {\n",
       "        vertical-align: top;\n",
       "    }\n",
       "\n",
       "    .dataframe thead th {\n",
       "        text-align: right;\n",
       "    }\n",
       "</style>\n",
       "<table border=\"1\" class=\"dataframe\">\n",
       "  <thead>\n",
       "    <tr style=\"text-align: right;\">\n",
       "      <th></th>\n",
       "      <th>Manufacturer</th>\n",
       "      <th>Model</th>\n",
       "      <th>Sales in thousands</th>\n",
       "      <th>4-year resale value</th>\n",
       "      <th>Vehicle type</th>\n",
       "      <th>Price in thousands</th>\n",
       "      <th>Engine size</th>\n",
       "      <th>Horsepower</th>\n",
       "      <th>Wheelbase</th>\n",
       "      <th>Width</th>\n",
       "      <th>Length</th>\n",
       "      <th>Curb weight</th>\n",
       "      <th>Fuel capacity</th>\n",
       "      <th>Fuel efficiency</th>\n",
       "      <th>Latest Launch</th>\n",
       "      <th>Year</th>\n",
       "    </tr>\n",
       "  </thead>\n",
       "  <tbody>\n",
       "    <tr>\n",
       "      <th>0</th>\n",
       "      <td>Acura</td>\n",
       "      <td>Integra</td>\n",
       "      <td>16.919</td>\n",
       "      <td>16.36</td>\n",
       "      <td>Passenger</td>\n",
       "      <td>21.5</td>\n",
       "      <td>1.8</td>\n",
       "      <td>140</td>\n",
       "      <td>101.2</td>\n",
       "      <td>67.3</td>\n",
       "      <td>172.4</td>\n",
       "      <td>2.639</td>\n",
       "      <td>13.2</td>\n",
       "      <td>28</td>\n",
       "      <td>2014-02-02</td>\n",
       "      <td>2014</td>\n",
       "    </tr>\n",
       "    <tr>\n",
       "      <th>1</th>\n",
       "      <td>Acura</td>\n",
       "      <td>TL</td>\n",
       "      <td>39.384</td>\n",
       "      <td>19.875</td>\n",
       "      <td>Passenger</td>\n",
       "      <td>28.4</td>\n",
       "      <td>3.2</td>\n",
       "      <td>225</td>\n",
       "      <td>108.1</td>\n",
       "      <td>70.3</td>\n",
       "      <td>192.9</td>\n",
       "      <td>3.517</td>\n",
       "      <td>17.2</td>\n",
       "      <td>25</td>\n",
       "      <td>2015-03-06</td>\n",
       "      <td>2015</td>\n",
       "    </tr>\n",
       "    <tr>\n",
       "      <th>2</th>\n",
       "      <td>Acura</td>\n",
       "      <td>CL</td>\n",
       "      <td>14.114</td>\n",
       "      <td>18.225</td>\n",
       "      <td>Passenger</td>\n",
       "      <td>.</td>\n",
       "      <td>3.2</td>\n",
       "      <td>225</td>\n",
       "      <td>106.9</td>\n",
       "      <td>70.6</td>\n",
       "      <td>192</td>\n",
       "      <td>3.47</td>\n",
       "      <td>17.2</td>\n",
       "      <td>26</td>\n",
       "      <td>2014-04-01</td>\n",
       "      <td>2014</td>\n",
       "    </tr>\n",
       "    <tr>\n",
       "      <th>3</th>\n",
       "      <td>Acura</td>\n",
       "      <td>RL</td>\n",
       "      <td>8.588</td>\n",
       "      <td>29.725</td>\n",
       "      <td>Passenger</td>\n",
       "      <td>42</td>\n",
       "      <td>3.5</td>\n",
       "      <td>210</td>\n",
       "      <td>114.6</td>\n",
       "      <td>71.4</td>\n",
       "      <td>196.6</td>\n",
       "      <td>3.85</td>\n",
       "      <td>18</td>\n",
       "      <td>22</td>\n",
       "      <td>2015-10-03</td>\n",
       "      <td>2015</td>\n",
       "    </tr>\n",
       "    <tr>\n",
       "      <th>4</th>\n",
       "      <td>Audi</td>\n",
       "      <td>A4</td>\n",
       "      <td>20.397</td>\n",
       "      <td>22.255</td>\n",
       "      <td>Passenger</td>\n",
       "      <td>23.99</td>\n",
       "      <td>1.8</td>\n",
       "      <td>150</td>\n",
       "      <td>102.6</td>\n",
       "      <td>68.2</td>\n",
       "      <td>178</td>\n",
       "      <td>2.998</td>\n",
       "      <td>16.4</td>\n",
       "      <td>27</td>\n",
       "      <td>2015-08-10</td>\n",
       "      <td>2015</td>\n",
       "    </tr>\n",
       "    <tr>\n",
       "      <th>...</th>\n",
       "      <td>...</td>\n",
       "      <td>...</td>\n",
       "      <td>...</td>\n",
       "      <td>...</td>\n",
       "      <td>...</td>\n",
       "      <td>...</td>\n",
       "      <td>...</td>\n",
       "      <td>...</td>\n",
       "      <td>...</td>\n",
       "      <td>...</td>\n",
       "      <td>...</td>\n",
       "      <td>...</td>\n",
       "      <td>...</td>\n",
       "      <td>...</td>\n",
       "      <td>...</td>\n",
       "      <td>...</td>\n",
       "    </tr>\n",
       "    <tr>\n",
       "      <th>152</th>\n",
       "      <td>Volvo</td>\n",
       "      <td>V40</td>\n",
       "      <td>3.545</td>\n",
       "      <td>.</td>\n",
       "      <td>Passenger</td>\n",
       "      <td>24.4</td>\n",
       "      <td>1.9</td>\n",
       "      <td>160</td>\n",
       "      <td>100.5</td>\n",
       "      <td>67.6</td>\n",
       "      <td>176.6</td>\n",
       "      <td>3.042</td>\n",
       "      <td>15.8</td>\n",
       "      <td>25</td>\n",
       "      <td>2015-09-21</td>\n",
       "      <td>2015</td>\n",
       "    </tr>\n",
       "    <tr>\n",
       "      <th>153</th>\n",
       "      <td>Volvo</td>\n",
       "      <td>S70</td>\n",
       "      <td>15.245</td>\n",
       "      <td>.</td>\n",
       "      <td>Passenger</td>\n",
       "      <td>27.5</td>\n",
       "      <td>2.4</td>\n",
       "      <td>168</td>\n",
       "      <td>104.9</td>\n",
       "      <td>69.3</td>\n",
       "      <td>185.9</td>\n",
       "      <td>3.208</td>\n",
       "      <td>17.9</td>\n",
       "      <td>25</td>\n",
       "      <td>2014-11-24</td>\n",
       "      <td>2014</td>\n",
       "    </tr>\n",
       "    <tr>\n",
       "      <th>154</th>\n",
       "      <td>Volvo</td>\n",
       "      <td>V70</td>\n",
       "      <td>17.531</td>\n",
       "      <td>.</td>\n",
       "      <td>Passenger</td>\n",
       "      <td>28.8</td>\n",
       "      <td>2.4</td>\n",
       "      <td>168</td>\n",
       "      <td>104.9</td>\n",
       "      <td>69.3</td>\n",
       "      <td>186.2</td>\n",
       "      <td>3.259</td>\n",
       "      <td>17.9</td>\n",
       "      <td>25</td>\n",
       "      <td>2015-06-25</td>\n",
       "      <td>2015</td>\n",
       "    </tr>\n",
       "    <tr>\n",
       "      <th>155</th>\n",
       "      <td>Volvo</td>\n",
       "      <td>C70</td>\n",
       "      <td>3.493</td>\n",
       "      <td>.</td>\n",
       "      <td>Passenger</td>\n",
       "      <td>45.5</td>\n",
       "      <td>2.3</td>\n",
       "      <td>236</td>\n",
       "      <td>104.9</td>\n",
       "      <td>71.5</td>\n",
       "      <td>185.7</td>\n",
       "      <td>3.601</td>\n",
       "      <td>18.5</td>\n",
       "      <td>23</td>\n",
       "      <td>2015-04-26</td>\n",
       "      <td>2015</td>\n",
       "    </tr>\n",
       "    <tr>\n",
       "      <th>156</th>\n",
       "      <td>Volvo</td>\n",
       "      <td>S80</td>\n",
       "      <td>18.969</td>\n",
       "      <td>.</td>\n",
       "      <td>Passenger</td>\n",
       "      <td>36</td>\n",
       "      <td>2.9</td>\n",
       "      <td>201</td>\n",
       "      <td>109.9</td>\n",
       "      <td>72.1</td>\n",
       "      <td>189.8</td>\n",
       "      <td>3.6</td>\n",
       "      <td>21.1</td>\n",
       "      <td>24</td>\n",
       "      <td>2015-11-14</td>\n",
       "      <td>2015</td>\n",
       "    </tr>\n",
       "  </tbody>\n",
       "</table>\n",
       "<p>157 rows × 16 columns</p>\n",
       "</div>"
      ],
      "text/plain": [
       "      Manufacturer              Model  Sales in thousands 4-year resale value  \\\n",
       "0    Acura          Integra                        16.919               16.36   \n",
       "1    Acura          TL                             39.384              19.875   \n",
       "2    Acura          CL                             14.114              18.225   \n",
       "3    Acura          RL                              8.588              29.725   \n",
       "4    Audi           A4                             20.397              22.255   \n",
       "..             ...                ...                 ...                 ...   \n",
       "152  Volvo          V40                             3.545                   .   \n",
       "153  Volvo          S70                            15.245                   .   \n",
       "154  Volvo          V70                            17.531                   .   \n",
       "155  Volvo          C70                             3.493                   .   \n",
       "156  Volvo          S80                            18.969                   .   \n",
       "\n",
       "    Vehicle type Price in thousands Engine size Horsepower Wheelbase Width  \\\n",
       "0      Passenger               21.5         1.8        140     101.2  67.3   \n",
       "1      Passenger               28.4         3.2        225     108.1  70.3   \n",
       "2      Passenger                  .         3.2        225     106.9  70.6   \n",
       "3      Passenger                 42         3.5        210     114.6  71.4   \n",
       "4      Passenger              23.99         1.8        150     102.6  68.2   \n",
       "..           ...                ...         ...        ...       ...   ...   \n",
       "152    Passenger               24.4         1.9        160     100.5  67.6   \n",
       "153    Passenger               27.5         2.4        168     104.9  69.3   \n",
       "154    Passenger               28.8         2.4        168     104.9  69.3   \n",
       "155    Passenger               45.5         2.3        236     104.9  71.5   \n",
       "156    Passenger                 36         2.9        201     109.9  72.1   \n",
       "\n",
       "    Length Curb weight Fuel capacity Fuel efficiency Latest Launch  Year  \n",
       "0    172.4       2.639          13.2              28    2014-02-02  2014  \n",
       "1    192.9       3.517          17.2              25    2015-03-06  2015  \n",
       "2      192        3.47          17.2              26    2014-04-01  2014  \n",
       "3    196.6        3.85            18              22    2015-10-03  2015  \n",
       "4      178       2.998          16.4              27    2015-08-10  2015  \n",
       "..     ...         ...           ...             ...           ...   ...  \n",
       "152  176.6       3.042          15.8              25    2015-09-21  2015  \n",
       "153  185.9       3.208          17.9              25    2014-11-24  2014  \n",
       "154  186.2       3.259          17.9              25    2015-06-25  2015  \n",
       "155  185.7       3.601          18.5              23    2015-04-26  2015  \n",
       "156  189.8         3.6          21.1              24    2015-11-14  2015  \n",
       "\n",
       "[157 rows x 16 columns]"
      ]
     },
     "execution_count": 13,
     "metadata": {},
     "output_type": "execute_result"
    }
   ],
   "source": [
    "#findout how many vehicles launched in the year 2014\n",
    "data['Year']=data['Latest Launch'].dt.year\n",
    "data"
   ]
  },
  {
   "cell_type": "code",
   "execution_count": 14,
   "id": "50d53444-9b37-4c73-9ffc-e8a224985212",
   "metadata": {
    "collapsed": true,
    "jupyter": {
     "outputs_hidden": true
    },
    "scrolled": true
   },
   "outputs": [
    {
     "data": {
      "text/plain": [
       "Year\n",
       "2015    79\n",
       "2014    75\n",
       "2009     2\n",
       "2008     1\n",
       "Name: count, dtype: int64"
      ]
     },
     "execution_count": 14,
     "metadata": {},
     "output_type": "execute_result"
    }
   ],
   "source": [
    "data['Year'].value_counts()"
   ]
  },
  {
   "cell_type": "code",
   "execution_count": 15,
   "id": "dd44d797-2fe9-4813-8389-f482f6f016f2",
   "metadata": {
    "collapsed": true,
    "jupyter": {
     "outputs_hidden": true
    }
   },
   "outputs": [
    {
     "data": {
      "text/plain": [
       "75"
      ]
     },
     "execution_count": 15,
     "metadata": {},
     "output_type": "execute_result"
    }
   ],
   "source": [
    "(data['Year']==2014).sum()"
   ]
  },
  {
   "cell_type": "code",
   "execution_count": 16,
   "id": "87b9c8fe-62b5-477e-9ef5-3cd62655d08c",
   "metadata": {
    "collapsed": true,
    "jupyter": {
     "outputs_hidden": true
    },
    "scrolled": true
   },
   "outputs": [
    {
     "data": {
      "text/html": [
       "<div>\n",
       "<style scoped>\n",
       "    .dataframe tbody tr th:only-of-type {\n",
       "        vertical-align: middle;\n",
       "    }\n",
       "\n",
       "    .dataframe tbody tr th {\n",
       "        vertical-align: top;\n",
       "    }\n",
       "\n",
       "    .dataframe thead th {\n",
       "        text-align: right;\n",
       "    }\n",
       "</style>\n",
       "<table border=\"1\" class=\"dataframe\">\n",
       "  <thead>\n",
       "    <tr style=\"text-align: right;\">\n",
       "      <th></th>\n",
       "      <th>Manufacturer</th>\n",
       "      <th>Model</th>\n",
       "      <th>Sales in thousands</th>\n",
       "      <th>4-year resale value</th>\n",
       "      <th>Vehicle type</th>\n",
       "      <th>Price in thousands</th>\n",
       "      <th>Engine size</th>\n",
       "      <th>Horsepower</th>\n",
       "      <th>Wheelbase</th>\n",
       "      <th>Width</th>\n",
       "      <th>Length</th>\n",
       "      <th>Curb weight</th>\n",
       "      <th>Fuel capacity</th>\n",
       "      <th>Fuel efficiency</th>\n",
       "      <th>Latest Launch</th>\n",
       "      <th>Year</th>\n",
       "    </tr>\n",
       "  </thead>\n",
       "  <tbody>\n",
       "    <tr>\n",
       "      <th>0</th>\n",
       "      <td>Acura</td>\n",
       "      <td>Integra</td>\n",
       "      <td>16.919</td>\n",
       "      <td>16.36</td>\n",
       "      <td>Passenger</td>\n",
       "      <td>21.5</td>\n",
       "      <td>1.8</td>\n",
       "      <td>140</td>\n",
       "      <td>101.2</td>\n",
       "      <td>67.3</td>\n",
       "      <td>172.4</td>\n",
       "      <td>2.639</td>\n",
       "      <td>13.2</td>\n",
       "      <td>28</td>\n",
       "      <td>2014-02-02</td>\n",
       "      <td>2014</td>\n",
       "    </tr>\n",
       "    <tr>\n",
       "      <th>1</th>\n",
       "      <td>Acura</td>\n",
       "      <td>TL</td>\n",
       "      <td>39.384</td>\n",
       "      <td>19.875</td>\n",
       "      <td>Passenger</td>\n",
       "      <td>28.4</td>\n",
       "      <td>3.2</td>\n",
       "      <td>225</td>\n",
       "      <td>108.1</td>\n",
       "      <td>70.3</td>\n",
       "      <td>192.9</td>\n",
       "      <td>3.517</td>\n",
       "      <td>17.2</td>\n",
       "      <td>25</td>\n",
       "      <td>2015-03-06</td>\n",
       "      <td>2015</td>\n",
       "    </tr>\n",
       "    <tr>\n",
       "      <th>2</th>\n",
       "      <td>Acura</td>\n",
       "      <td>CL</td>\n",
       "      <td>14.114</td>\n",
       "      <td>18.225</td>\n",
       "      <td>Passenger</td>\n",
       "      <td>.</td>\n",
       "      <td>3.2</td>\n",
       "      <td>225</td>\n",
       "      <td>106.9</td>\n",
       "      <td>70.6</td>\n",
       "      <td>192</td>\n",
       "      <td>3.47</td>\n",
       "      <td>17.2</td>\n",
       "      <td>26</td>\n",
       "      <td>2014-04-01</td>\n",
       "      <td>2014</td>\n",
       "    </tr>\n",
       "    <tr>\n",
       "      <th>3</th>\n",
       "      <td>Acura</td>\n",
       "      <td>RL</td>\n",
       "      <td>8.588</td>\n",
       "      <td>29.725</td>\n",
       "      <td>Passenger</td>\n",
       "      <td>42</td>\n",
       "      <td>3.5</td>\n",
       "      <td>210</td>\n",
       "      <td>114.6</td>\n",
       "      <td>71.4</td>\n",
       "      <td>196.6</td>\n",
       "      <td>3.85</td>\n",
       "      <td>18</td>\n",
       "      <td>22</td>\n",
       "      <td>2015-10-03</td>\n",
       "      <td>2015</td>\n",
       "    </tr>\n",
       "    <tr>\n",
       "      <th>4</th>\n",
       "      <td>Audi</td>\n",
       "      <td>A4</td>\n",
       "      <td>20.397</td>\n",
       "      <td>22.255</td>\n",
       "      <td>Passenger</td>\n",
       "      <td>23.99</td>\n",
       "      <td>1.8</td>\n",
       "      <td>150</td>\n",
       "      <td>102.6</td>\n",
       "      <td>68.2</td>\n",
       "      <td>178</td>\n",
       "      <td>2.998</td>\n",
       "      <td>16.4</td>\n",
       "      <td>27</td>\n",
       "      <td>2015-08-10</td>\n",
       "      <td>2015</td>\n",
       "    </tr>\n",
       "    <tr>\n",
       "      <th>...</th>\n",
       "      <td>...</td>\n",
       "      <td>...</td>\n",
       "      <td>...</td>\n",
       "      <td>...</td>\n",
       "      <td>...</td>\n",
       "      <td>...</td>\n",
       "      <td>...</td>\n",
       "      <td>...</td>\n",
       "      <td>...</td>\n",
       "      <td>...</td>\n",
       "      <td>...</td>\n",
       "      <td>...</td>\n",
       "      <td>...</td>\n",
       "      <td>...</td>\n",
       "      <td>...</td>\n",
       "      <td>...</td>\n",
       "    </tr>\n",
       "    <tr>\n",
       "      <th>152</th>\n",
       "      <td>Volvo</td>\n",
       "      <td>V40</td>\n",
       "      <td>3.545</td>\n",
       "      <td>.</td>\n",
       "      <td>Passenger</td>\n",
       "      <td>24.4</td>\n",
       "      <td>1.9</td>\n",
       "      <td>160</td>\n",
       "      <td>100.5</td>\n",
       "      <td>67.6</td>\n",
       "      <td>176.6</td>\n",
       "      <td>3.042</td>\n",
       "      <td>15.8</td>\n",
       "      <td>25</td>\n",
       "      <td>2015-09-21</td>\n",
       "      <td>2015</td>\n",
       "    </tr>\n",
       "    <tr>\n",
       "      <th>153</th>\n",
       "      <td>Volvo</td>\n",
       "      <td>S70</td>\n",
       "      <td>15.245</td>\n",
       "      <td>.</td>\n",
       "      <td>Passenger</td>\n",
       "      <td>27.5</td>\n",
       "      <td>2.4</td>\n",
       "      <td>168</td>\n",
       "      <td>104.9</td>\n",
       "      <td>69.3</td>\n",
       "      <td>185.9</td>\n",
       "      <td>3.208</td>\n",
       "      <td>17.9</td>\n",
       "      <td>25</td>\n",
       "      <td>2014-11-24</td>\n",
       "      <td>2014</td>\n",
       "    </tr>\n",
       "    <tr>\n",
       "      <th>154</th>\n",
       "      <td>Volvo</td>\n",
       "      <td>V70</td>\n",
       "      <td>17.531</td>\n",
       "      <td>.</td>\n",
       "      <td>Passenger</td>\n",
       "      <td>28.8</td>\n",
       "      <td>2.4</td>\n",
       "      <td>168</td>\n",
       "      <td>104.9</td>\n",
       "      <td>69.3</td>\n",
       "      <td>186.2</td>\n",
       "      <td>3.259</td>\n",
       "      <td>17.9</td>\n",
       "      <td>25</td>\n",
       "      <td>2015-06-25</td>\n",
       "      <td>2015</td>\n",
       "    </tr>\n",
       "    <tr>\n",
       "      <th>155</th>\n",
       "      <td>Volvo</td>\n",
       "      <td>C70</td>\n",
       "      <td>3.493</td>\n",
       "      <td>.</td>\n",
       "      <td>Passenger</td>\n",
       "      <td>45.5</td>\n",
       "      <td>2.3</td>\n",
       "      <td>236</td>\n",
       "      <td>104.9</td>\n",
       "      <td>71.5</td>\n",
       "      <td>185.7</td>\n",
       "      <td>3.601</td>\n",
       "      <td>18.5</td>\n",
       "      <td>23</td>\n",
       "      <td>2015-04-26</td>\n",
       "      <td>2015</td>\n",
       "    </tr>\n",
       "    <tr>\n",
       "      <th>156</th>\n",
       "      <td>Volvo</td>\n",
       "      <td>S80</td>\n",
       "      <td>18.969</td>\n",
       "      <td>.</td>\n",
       "      <td>Passenger</td>\n",
       "      <td>36</td>\n",
       "      <td>2.9</td>\n",
       "      <td>201</td>\n",
       "      <td>109.9</td>\n",
       "      <td>72.1</td>\n",
       "      <td>189.8</td>\n",
       "      <td>3.6</td>\n",
       "      <td>21.1</td>\n",
       "      <td>24</td>\n",
       "      <td>2015-11-14</td>\n",
       "      <td>2015</td>\n",
       "    </tr>\n",
       "  </tbody>\n",
       "</table>\n",
       "<p>157 rows × 16 columns</p>\n",
       "</div>"
      ],
      "text/plain": [
       "      Manufacturer              Model  Sales in thousands 4-year resale value  \\\n",
       "0    Acura          Integra                        16.919               16.36   \n",
       "1    Acura          TL                             39.384              19.875   \n",
       "2    Acura          CL                             14.114              18.225   \n",
       "3    Acura          RL                              8.588              29.725   \n",
       "4    Audi           A4                             20.397              22.255   \n",
       "..             ...                ...                 ...                 ...   \n",
       "152  Volvo          V40                             3.545                   .   \n",
       "153  Volvo          S70                            15.245                   .   \n",
       "154  Volvo          V70                            17.531                   .   \n",
       "155  Volvo          C70                             3.493                   .   \n",
       "156  Volvo          S80                            18.969                   .   \n",
       "\n",
       "    Vehicle type Price in thousands Engine size Horsepower Wheelbase Width  \\\n",
       "0      Passenger               21.5         1.8        140     101.2  67.3   \n",
       "1      Passenger               28.4         3.2        225     108.1  70.3   \n",
       "2      Passenger                  .         3.2        225     106.9  70.6   \n",
       "3      Passenger                 42         3.5        210     114.6  71.4   \n",
       "4      Passenger              23.99         1.8        150     102.6  68.2   \n",
       "..           ...                ...         ...        ...       ...   ...   \n",
       "152    Passenger               24.4         1.9        160     100.5  67.6   \n",
       "153    Passenger               27.5         2.4        168     104.9  69.3   \n",
       "154    Passenger               28.8         2.4        168     104.9  69.3   \n",
       "155    Passenger               45.5         2.3        236     104.9  71.5   \n",
       "156    Passenger                 36         2.9        201     109.9  72.1   \n",
       "\n",
       "    Length Curb weight Fuel capacity Fuel efficiency Latest Launch  Year  \n",
       "0    172.4       2.639          13.2              28    2014-02-02  2014  \n",
       "1    192.9       3.517          17.2              25    2015-03-06  2015  \n",
       "2      192        3.47          17.2              26    2014-04-01  2014  \n",
       "3    196.6        3.85            18              22    2015-10-03  2015  \n",
       "4      178       2.998          16.4              27    2015-08-10  2015  \n",
       "..     ...         ...           ...             ...           ...   ...  \n",
       "152  176.6       3.042          15.8              25    2015-09-21  2015  \n",
       "153  185.9       3.208          17.9              25    2014-11-24  2014  \n",
       "154  186.2       3.259          17.9              25    2015-06-25  2015  \n",
       "155  185.7       3.601          18.5              23    2015-04-26  2015  \n",
       "156  189.8         3.6          21.1              24    2015-11-14  2015  \n",
       "\n",
       "[157 rows x 16 columns]"
      ]
     },
     "execution_count": 16,
     "metadata": {},
     "output_type": "execute_result"
    }
   ],
   "source": [
    "data"
   ]
  },
  {
   "cell_type": "code",
   "execution_count": 17,
   "id": "0f297c5e-df16-426c-a328-3e676547bebb",
   "metadata": {
    "collapsed": true,
    "jupyter": {
     "outputs_hidden": true
    },
    "scrolled": true
   },
   "outputs": [
    {
     "name": "stdout",
     "output_type": "stream",
     "text": [
      "['Acura        ' 'Audi         ' 'BMW          ' 'Buick        '\n",
      " 'Cadillac     ' 'Chevrolet    ' 'Chrysler     ' 'Dodge        '\n",
      " 'Ford         ' 'Honda        ' 'Hyundai      ' 'Infiniti     '\n",
      " 'Jaguar       ' 'Jeep         ' 'Lexus        ' 'Lincoln      '\n",
      " 'Mitsubishi   ' 'Mercury      ' 'Mercedes-Benz' 'Nissan       '\n",
      " 'Oldsmobile   ' 'Plymouth     ' 'Pontiac      ' 'Porsche      '\n",
      " 'Saab         ' 'Saturn       ' 'Subaru       ' 'Toyota       '\n",
      " 'Volkswagen   ' 'Volvo        ']\n"
     ]
    }
   ],
   "source": [
    "print(data['Manufacturer'].unique())"
   ]
  },
  {
   "cell_type": "code",
   "execution_count": 18,
   "id": "3ef929fe-5b05-4ca1-aa9e-79b82b5feb27",
   "metadata": {
    "collapsed": true,
    "jupyter": {
     "outputs_hidden": true
    },
    "scrolled": true
   },
   "outputs": [
    {
     "data": {
      "text/html": [
       "<div>\n",
       "<style scoped>\n",
       "    .dataframe tbody tr th:only-of-type {\n",
       "        vertical-align: middle;\n",
       "    }\n",
       "\n",
       "    .dataframe tbody tr th {\n",
       "        vertical-align: top;\n",
       "    }\n",
       "\n",
       "    .dataframe thead th {\n",
       "        text-align: right;\n",
       "    }\n",
       "</style>\n",
       "<table border=\"1\" class=\"dataframe\">\n",
       "  <thead>\n",
       "    <tr style=\"text-align: right;\">\n",
       "      <th></th>\n",
       "      <th>Manufacturer</th>\n",
       "      <th>Model</th>\n",
       "      <th>Sales in thousands</th>\n",
       "      <th>4-year resale value</th>\n",
       "      <th>Vehicle type</th>\n",
       "      <th>Price in thousands</th>\n",
       "      <th>Engine size</th>\n",
       "      <th>Horsepower</th>\n",
       "      <th>Wheelbase</th>\n",
       "      <th>Width</th>\n",
       "      <th>Length</th>\n",
       "      <th>Curb weight</th>\n",
       "      <th>Fuel capacity</th>\n",
       "      <th>Fuel efficiency</th>\n",
       "      <th>Latest Launch</th>\n",
       "      <th>Year</th>\n",
       "    </tr>\n",
       "  </thead>\n",
       "  <tbody>\n",
       "    <tr>\n",
       "      <th>0</th>\n",
       "      <td>Acura</td>\n",
       "      <td>Integra</td>\n",
       "      <td>16.919</td>\n",
       "      <td>16.36</td>\n",
       "      <td>Passenger</td>\n",
       "      <td>21.5</td>\n",
       "      <td>1.8</td>\n",
       "      <td>140</td>\n",
       "      <td>101.2</td>\n",
       "      <td>67.3</td>\n",
       "      <td>172.4</td>\n",
       "      <td>2.639</td>\n",
       "      <td>13.2</td>\n",
       "      <td>28</td>\n",
       "      <td>2014-02-02</td>\n",
       "      <td>2014</td>\n",
       "    </tr>\n",
       "    <tr>\n",
       "      <th>1</th>\n",
       "      <td>Acura</td>\n",
       "      <td>TL</td>\n",
       "      <td>39.384</td>\n",
       "      <td>19.875</td>\n",
       "      <td>Passenger</td>\n",
       "      <td>28.4</td>\n",
       "      <td>3.2</td>\n",
       "      <td>225</td>\n",
       "      <td>108.1</td>\n",
       "      <td>70.3</td>\n",
       "      <td>192.9</td>\n",
       "      <td>3.517</td>\n",
       "      <td>17.2</td>\n",
       "      <td>25</td>\n",
       "      <td>2015-03-06</td>\n",
       "      <td>2015</td>\n",
       "    </tr>\n",
       "    <tr>\n",
       "      <th>2</th>\n",
       "      <td>Acura</td>\n",
       "      <td>CL</td>\n",
       "      <td>14.114</td>\n",
       "      <td>18.225</td>\n",
       "      <td>Passenger</td>\n",
       "      <td>.</td>\n",
       "      <td>3.2</td>\n",
       "      <td>225</td>\n",
       "      <td>106.9</td>\n",
       "      <td>70.6</td>\n",
       "      <td>192</td>\n",
       "      <td>3.47</td>\n",
       "      <td>17.2</td>\n",
       "      <td>26</td>\n",
       "      <td>2014-04-01</td>\n",
       "      <td>2014</td>\n",
       "    </tr>\n",
       "    <tr>\n",
       "      <th>3</th>\n",
       "      <td>Acura</td>\n",
       "      <td>RL</td>\n",
       "      <td>8.588</td>\n",
       "      <td>29.725</td>\n",
       "      <td>Passenger</td>\n",
       "      <td>42</td>\n",
       "      <td>3.5</td>\n",
       "      <td>210</td>\n",
       "      <td>114.6</td>\n",
       "      <td>71.4</td>\n",
       "      <td>196.6</td>\n",
       "      <td>3.85</td>\n",
       "      <td>18</td>\n",
       "      <td>22</td>\n",
       "      <td>2015-10-03</td>\n",
       "      <td>2015</td>\n",
       "    </tr>\n",
       "    <tr>\n",
       "      <th>4</th>\n",
       "      <td>Audi</td>\n",
       "      <td>A4</td>\n",
       "      <td>20.397</td>\n",
       "      <td>22.255</td>\n",
       "      <td>Passenger</td>\n",
       "      <td>23.99</td>\n",
       "      <td>1.8</td>\n",
       "      <td>150</td>\n",
       "      <td>102.6</td>\n",
       "      <td>68.2</td>\n",
       "      <td>178</td>\n",
       "      <td>2.998</td>\n",
       "      <td>16.4</td>\n",
       "      <td>27</td>\n",
       "      <td>2015-08-10</td>\n",
       "      <td>2015</td>\n",
       "    </tr>\n",
       "    <tr>\n",
       "      <th>...</th>\n",
       "      <td>...</td>\n",
       "      <td>...</td>\n",
       "      <td>...</td>\n",
       "      <td>...</td>\n",
       "      <td>...</td>\n",
       "      <td>...</td>\n",
       "      <td>...</td>\n",
       "      <td>...</td>\n",
       "      <td>...</td>\n",
       "      <td>...</td>\n",
       "      <td>...</td>\n",
       "      <td>...</td>\n",
       "      <td>...</td>\n",
       "      <td>...</td>\n",
       "      <td>...</td>\n",
       "      <td>...</td>\n",
       "    </tr>\n",
       "    <tr>\n",
       "      <th>152</th>\n",
       "      <td>Volvo</td>\n",
       "      <td>V40</td>\n",
       "      <td>3.545</td>\n",
       "      <td>.</td>\n",
       "      <td>Passenger</td>\n",
       "      <td>24.4</td>\n",
       "      <td>1.9</td>\n",
       "      <td>160</td>\n",
       "      <td>100.5</td>\n",
       "      <td>67.6</td>\n",
       "      <td>176.6</td>\n",
       "      <td>3.042</td>\n",
       "      <td>15.8</td>\n",
       "      <td>25</td>\n",
       "      <td>2015-09-21</td>\n",
       "      <td>2015</td>\n",
       "    </tr>\n",
       "    <tr>\n",
       "      <th>153</th>\n",
       "      <td>Volvo</td>\n",
       "      <td>S70</td>\n",
       "      <td>15.245</td>\n",
       "      <td>.</td>\n",
       "      <td>Passenger</td>\n",
       "      <td>27.5</td>\n",
       "      <td>2.4</td>\n",
       "      <td>168</td>\n",
       "      <td>104.9</td>\n",
       "      <td>69.3</td>\n",
       "      <td>185.9</td>\n",
       "      <td>3.208</td>\n",
       "      <td>17.9</td>\n",
       "      <td>25</td>\n",
       "      <td>2014-11-24</td>\n",
       "      <td>2014</td>\n",
       "    </tr>\n",
       "    <tr>\n",
       "      <th>154</th>\n",
       "      <td>Volvo</td>\n",
       "      <td>V70</td>\n",
       "      <td>17.531</td>\n",
       "      <td>.</td>\n",
       "      <td>Passenger</td>\n",
       "      <td>28.8</td>\n",
       "      <td>2.4</td>\n",
       "      <td>168</td>\n",
       "      <td>104.9</td>\n",
       "      <td>69.3</td>\n",
       "      <td>186.2</td>\n",
       "      <td>3.259</td>\n",
       "      <td>17.9</td>\n",
       "      <td>25</td>\n",
       "      <td>2015-06-25</td>\n",
       "      <td>2015</td>\n",
       "    </tr>\n",
       "    <tr>\n",
       "      <th>155</th>\n",
       "      <td>Volvo</td>\n",
       "      <td>C70</td>\n",
       "      <td>3.493</td>\n",
       "      <td>.</td>\n",
       "      <td>Passenger</td>\n",
       "      <td>45.5</td>\n",
       "      <td>2.3</td>\n",
       "      <td>236</td>\n",
       "      <td>104.9</td>\n",
       "      <td>71.5</td>\n",
       "      <td>185.7</td>\n",
       "      <td>3.601</td>\n",
       "      <td>18.5</td>\n",
       "      <td>23</td>\n",
       "      <td>2015-04-26</td>\n",
       "      <td>2015</td>\n",
       "    </tr>\n",
       "    <tr>\n",
       "      <th>156</th>\n",
       "      <td>Volvo</td>\n",
       "      <td>S80</td>\n",
       "      <td>18.969</td>\n",
       "      <td>.</td>\n",
       "      <td>Passenger</td>\n",
       "      <td>36</td>\n",
       "      <td>2.9</td>\n",
       "      <td>201</td>\n",
       "      <td>109.9</td>\n",
       "      <td>72.1</td>\n",
       "      <td>189.8</td>\n",
       "      <td>3.6</td>\n",
       "      <td>21.1</td>\n",
       "      <td>24</td>\n",
       "      <td>2015-11-14</td>\n",
       "      <td>2015</td>\n",
       "    </tr>\n",
       "  </tbody>\n",
       "</table>\n",
       "<p>150 rows × 16 columns</p>\n",
       "</div>"
      ],
      "text/plain": [
       "      Manufacturer              Model  Sales in thousands 4-year resale value  \\\n",
       "0    Acura          Integra                        16.919               16.36   \n",
       "1    Acura          TL                             39.384              19.875   \n",
       "2    Acura          CL                             14.114              18.225   \n",
       "3    Acura          RL                              8.588              29.725   \n",
       "4    Audi           A4                             20.397              22.255   \n",
       "..             ...                ...                 ...                 ...   \n",
       "152  Volvo          V40                             3.545                   .   \n",
       "153  Volvo          S70                            15.245                   .   \n",
       "154  Volvo          V70                            17.531                   .   \n",
       "155  Volvo          C70                             3.493                   .   \n",
       "156  Volvo          S80                            18.969                   .   \n",
       "\n",
       "    Vehicle type Price in thousands Engine size Horsepower Wheelbase Width  \\\n",
       "0      Passenger               21.5         1.8        140     101.2  67.3   \n",
       "1      Passenger               28.4         3.2        225     108.1  70.3   \n",
       "2      Passenger                  .         3.2        225     106.9  70.6   \n",
       "3      Passenger                 42         3.5        210     114.6  71.4   \n",
       "4      Passenger              23.99         1.8        150     102.6  68.2   \n",
       "..           ...                ...         ...        ...       ...   ...   \n",
       "152    Passenger               24.4         1.9        160     100.5  67.6   \n",
       "153    Passenger               27.5         2.4        168     104.9  69.3   \n",
       "154    Passenger               28.8         2.4        168     104.9  69.3   \n",
       "155    Passenger               45.5         2.3        236     104.9  71.5   \n",
       "156    Passenger                 36         2.9        201     109.9  72.1   \n",
       "\n",
       "    Length Curb weight Fuel capacity Fuel efficiency Latest Launch  Year  \n",
       "0    172.4       2.639          13.2              28    2014-02-02  2014  \n",
       "1    192.9       3.517          17.2              25    2015-03-06  2015  \n",
       "2      192        3.47          17.2              26    2014-04-01  2014  \n",
       "3    196.6        3.85            18              22    2015-10-03  2015  \n",
       "4      178       2.998          16.4              27    2015-08-10  2015  \n",
       "..     ...         ...           ...             ...           ...   ...  \n",
       "152  176.6       3.042          15.8              25    2015-09-21  2015  \n",
       "153  185.9       3.208          17.9              25    2014-11-24  2014  \n",
       "154  186.2       3.259          17.9              25    2015-06-25  2015  \n",
       "155  185.7       3.601          18.5              23    2015-04-26  2015  \n",
       "156  189.8         3.6          21.1              24    2015-11-14  2015  \n",
       "\n",
       "[150 rows x 16 columns]"
      ]
     },
     "execution_count": 18,
     "metadata": {},
     "output_type": "execute_result"
    }
   ],
   "source": [
    "#extract the details of all the manufacturer except Mitsubishi\n",
    "manufacturer_details=data[data['Manufacturer']!=('Mitsubishi   ')]\n",
    "manufacturer_details"
   ]
  },
  {
   "cell_type": "code",
   "execution_count": 19,
   "id": "6dc9492f-7097-46a6-af11-e0c9ce1db459",
   "metadata": {
    "collapsed": true,
    "jupyter": {
     "outputs_hidden": true
    },
    "scrolled": true
   },
   "outputs": [
    {
     "data": {
      "text/plain": [
       "Manufacturer\n",
       "Dodge            11\n",
       "Ford             11\n",
       "Toyota            9\n",
       "Chevrolet         9\n",
       "Mercedes-Benz     9\n",
       "Chrysler          7\n",
       "Nissan            7\n",
       "Lexus             6\n",
       "Mercury           6\n",
       "Volkswagen        6\n",
       "Pontiac           6\n",
       "Oldsmobile        6\n",
       "Volvo             6\n",
       "Honda             5\n",
       "Cadillac          5\n",
       "Saturn            5\n",
       "Plymouth          4\n",
       "Buick             4\n",
       "Acura             4\n",
       "Jeep              3\n",
       "Audi              3\n",
       "Lincoln           3\n",
       "Hyundai           3\n",
       "Porsche           3\n",
       "BMW               3\n",
       "Saab              2\n",
       "Subaru            2\n",
       "Jaguar            1\n",
       "Infiniti          1\n",
       "Name: count, dtype: int64"
      ]
     },
     "execution_count": 19,
     "metadata": {},
     "output_type": "execute_result"
    }
   ],
   "source": [
    "manufacturer_details['Manufacturer'].value_counts()"
   ]
  },
  {
   "cell_type": "markdown",
   "id": "c3b69f90-69a2-4ae7-9a3d-82225e50fde4",
   "metadata": {},
   "source": [
    "**Total sales by Manufacturer**    \n",
    "**Calculate the total sales(sales in thousands) for each manufacturer using groupby**"
   ]
  },
  {
   "cell_type": "code",
   "execution_count": 21,
   "id": "b4f7e4fd-3b72-4b14-8137-ecaf9b595aef",
   "metadata": {
    "collapsed": true,
    "jupyter": {
     "outputs_hidden": true
    }
   },
   "outputs": [
    {
     "data": {
      "text/plain": [
       "Manufacturer                   object\n",
       "Model                          object\n",
       "Sales in thousands            float64\n",
       "4-year resale value            object\n",
       "Vehicle type                   object\n",
       "Price in thousands             object\n",
       "Engine size                    object\n",
       "Horsepower                     object\n",
       "Wheelbase                      object\n",
       "Width                          object\n",
       "Length                         object\n",
       "Curb weight                    object\n",
       "Fuel capacity                  object\n",
       "Fuel efficiency                object\n",
       "Latest Launch          datetime64[ns]\n",
       "Year                            int32\n",
       "dtype: object"
      ]
     },
     "execution_count": 21,
     "metadata": {},
     "output_type": "execute_result"
    }
   ],
   "source": [
    "data.dtypes"
   ]
  },
  {
   "cell_type": "code",
   "execution_count": 22,
   "id": "225d797f-fefe-4422-8d0c-9725be80235e",
   "metadata": {},
   "outputs": [
    {
     "data": {
      "text/plain": [
       "Manufacturer\n",
       "Acura              79.005\n",
       "Audi               40.557\n",
       "BMW                46.505\n",
       "Buick             242.019\n",
       "Cadillac          112.178\n",
       "Chevrolet         554.365\n",
       "Chrysler          201.721\n",
       "Dodge             910.149\n",
       "Ford             2022.635\n",
       "Honda             592.674\n",
       "Hyundai           137.326\n",
       "Infiniti           23.713\n",
       "Jaguar             15.467\n",
       "Jeep              293.153\n",
       "Lexus             106.843\n",
       "Lincoln            85.634\n",
       "Mercedes-Benz     117.125\n",
       "Mercury           237.999\n",
       "Mitsubishi        180.895\n",
       "Nissan            399.635\n",
       "Oldsmobile        178.989\n",
       "Plymouth           64.001\n",
       "Pontiac           370.534\n",
       "Porsche            12.128\n",
       "Saab               21.306\n",
       "Saturn            168.850\n",
       "Subaru             80.135\n",
       "Toyota            740.205\n",
       "Volkswagen        209.212\n",
       "Volvo              75.740\n",
       "Name: Sales in thousands, dtype: float64"
      ]
     },
     "execution_count": 22,
     "metadata": {},
     "output_type": "execute_result"
    }
   ],
   "source": [
    "sales_by_manufacturer=data.groupby('Manufacturer')['Sales in thousands'].sum()\n",
    "sales_by_manufacturer"
   ]
  },
  {
   "cell_type": "markdown",
   "id": "5fef99fa-39cc-43c3-b0a2-82dd637c92b0",
   "metadata": {},
   "source": [
    "**Average Resale Value by Vehicle Type**  \n",
    "**Determine the average 4-year resale value for each type of vehicle**"
   ]
  },
  {
   "cell_type": "code",
   "execution_count": 24,
   "id": "275f2b78-ec6c-4160-a139-e83df6fe7cf8",
   "metadata": {
    "collapsed": true,
    "jupyter": {
     "outputs_hidden": true
    },
    "scrolled": true
   },
   "outputs": [
    {
     "data": {
      "text/plain": [
       "Manufacturer                   object\n",
       "Model                          object\n",
       "Sales in thousands            float64\n",
       "4-year resale value           float64\n",
       "Vehicle type                   object\n",
       "Price in thousands             object\n",
       "Engine size                    object\n",
       "Horsepower                     object\n",
       "Wheelbase                      object\n",
       "Width                          object\n",
       "Length                         object\n",
       "Curb weight                    object\n",
       "Fuel capacity                  object\n",
       "Fuel efficiency                object\n",
       "Latest Launch          datetime64[ns]\n",
       "Year                            int32\n",
       "dtype: object"
      ]
     },
     "execution_count": 24,
     "metadata": {},
     "output_type": "execute_result"
    }
   ],
   "source": [
    "data['4-year resale value']=pd.to_numeric(data['4-year resale value'],errors='coerce')   # converts errors to NaN\n",
    "data.dtypes"
   ]
  },
  {
   "cell_type": "code",
   "execution_count": 25,
   "id": "2832e0d8-c8d7-40dd-a947-bca2cda10896",
   "metadata": {
    "collapsed": true,
    "jupyter": {
     "outputs_hidden": true
    }
   },
   "outputs": [
    {
     "data": {
      "text/plain": [
       "Vehicle type\n",
       "Car          16.297833\n",
       "Passenger    18.658187\n",
       "Name: 4-year resale value, dtype: float64"
      ]
     },
     "execution_count": 25,
     "metadata": {},
     "output_type": "execute_result"
    }
   ],
   "source": [
    "average_resale_value=data.groupby('Vehicle type')['4-year resale value'].mean()\n",
    "average_resale_value"
   ]
  },
  {
   "cell_type": "markdown",
   "id": "f5ae2d18-1664-4d32-92c6-632493ed1358",
   "metadata": {},
   "source": [
    "**Maximum hosepower by Manufacturer**   \n",
    "**Find the maximum horsepower for each manufacturer using groupby.**\n",
    "**Average Fuel Efficiency by Manufacturer and Vehicle Type**"
   ]
  },
  {
   "cell_type": "code",
   "execution_count": 27,
   "id": "12e12a5d-8bfc-4ae8-b31f-d97f680ad3cf",
   "metadata": {
    "collapsed": true,
    "jupyter": {
     "outputs_hidden": true
    }
   },
   "outputs": [],
   "source": [
    "data['Horsepower']=pd.to_numeric(data['Horsepower'], errors='coerce')"
   ]
  },
  {
   "cell_type": "code",
   "execution_count": 28,
   "id": "1f67bbfc-7bef-4643-895f-9573a7d85bcc",
   "metadata": {
    "collapsed": true,
    "jupyter": {
     "outputs_hidden": true
    },
    "scrolled": true
   },
   "outputs": [
    {
     "data": {
      "text/plain": [
       "Manufacturer\n",
       "Acura            225.0\n",
       "Audi             310.0\n",
       "BMW              193.0\n",
       "Buick            240.0\n",
       "Cadillac         275.0\n",
       "Chevrolet        345.0\n",
       "Chrysler         253.0\n",
       "Dodge            450.0\n",
       "Ford             240.0\n",
       "Honda            210.0\n",
       "Hyundai          148.0\n",
       "Infiniti         227.0\n",
       "Jaguar           240.0\n",
       "Jeep             195.0\n",
       "Lexus            300.0\n",
       "Lincoln          300.0\n",
       "Mercedes-Benz    302.0\n",
       "Mercury          210.0\n",
       "Mitsubishi       210.0\n",
       "Nissan           222.0\n",
       "Oldsmobile       250.0\n",
       "Plymouth         253.0\n",
       "Pontiac          205.0\n",
       "Porsche          300.0\n",
       "Saab             185.0\n",
       "Saturn           137.0\n",
       "Subaru           165.0\n",
       "Toyota           230.0\n",
       "Volkswagen       150.0\n",
       "Volvo            236.0\n",
       "Name: Horsepower, dtype: float64"
      ]
     },
     "execution_count": 28,
     "metadata": {},
     "output_type": "execute_result"
    }
   ],
   "source": [
    "max_hp = data.groupby('Manufacturer')['Horsepower'].max()\n",
    "max_hp"
   ]
  },
  {
   "cell_type": "code",
   "execution_count": 29,
   "id": "9207e1f6-e8fc-4c2e-b08d-c1af0e56c09b",
   "metadata": {
    "collapsed": true,
    "jupyter": {
     "outputs_hidden": true
    }
   },
   "outputs": [],
   "source": [
    "data['Fuel efficiency']=pd.to_numeric(data['Fuel efficiency'], errors='coerce')"
   ]
  },
  {
   "cell_type": "code",
   "execution_count": 30,
   "id": "7043abc4-eb52-4fc0-805c-aa0dd18876f7",
   "metadata": {
    "collapsed": true,
    "jupyter": {
     "outputs_hidden": true
    },
    "scrolled": true
   },
   "outputs": [
    {
     "data": {
      "text/plain": [
       "Manufacturer                   object\n",
       "Model                          object\n",
       "Sales in thousands            float64\n",
       "4-year resale value           float64\n",
       "Vehicle type                   object\n",
       "Price in thousands             object\n",
       "Engine size                    object\n",
       "Horsepower                    float64\n",
       "Wheelbase                      object\n",
       "Width                          object\n",
       "Length                         object\n",
       "Curb weight                    object\n",
       "Fuel capacity                  object\n",
       "Fuel efficiency               float64\n",
       "Latest Launch          datetime64[ns]\n",
       "Year                            int32\n",
       "dtype: object"
      ]
     },
     "execution_count": 30,
     "metadata": {},
     "output_type": "execute_result"
    }
   ],
   "source": [
    "data.dtypes"
   ]
  },
  {
   "cell_type": "code",
   "execution_count": 31,
   "id": "831cce14-f8f8-4009-a2f8-b59046fa9aba",
   "metadata": {
    "collapsed": true,
    "jupyter": {
     "outputs_hidden": true
    }
   },
   "outputs": [
    {
     "data": {
      "text/plain": [
       "Manufacturer   Vehicle type\n",
       "Acura          Passenger       25.250000\n",
       "Audi           Passenger       23.333333\n",
       "BMW            Passenger       25.000000\n",
       "Buick          Passenger       24.250000\n",
       "Cadillac       Car             15.000000\n",
       "               Passenger       22.000000\n",
       "Chevrolet      Passenger       28.444444\n",
       "Chrysler       Car                   NaN\n",
       "               Passenger       24.500000\n",
       "Dodge          Car             18.000000\n",
       "               Passenger       23.250000\n",
       "Ford           Car             19.400000\n",
       "               Passenger       25.666667\n",
       "Honda          Car             22.000000\n",
       "               Passenger       29.500000\n",
       "Hyundai        Passenger       27.666667\n",
       "Infiniti       Passenger       25.000000\n",
       "Jaguar         Passenger       21.000000\n",
       "Jeep           Car             18.666667\n",
       "Lexus          Car             18.000000\n",
       "               Passenger       22.250000\n",
       "Lincoln        Car             15.000000\n",
       "               Passenger       21.500000\n",
       "Mercedes-Benz  Car             20.000000\n",
       "               Passenger       23.875000\n",
       "Mercury        Car             19.500000\n",
       "               Passenger       25.750000\n",
       "Mitsubishi     Car             19.000000\n",
       "               Passenger       24.400000\n",
       "Nissan         Car             19.000000\n",
       "               Passenger       26.666667\n",
       "Oldsmobile     Car             20.500000\n",
       "               Passenger       24.666667\n",
       "Plymouth       Car             24.000000\n",
       "               Passenger       25.666667\n",
       "Pontiac        Car             23.000000\n",
       "               Passenger       25.200000\n",
       "Porsche        Passenger       22.000000\n",
       "Saab           Passenger       23.000000\n",
       "Saturn         Passenger       30.400000\n",
       "Subaru         Car             24.000000\n",
       "               Passenger       25.000000\n",
       "Toyota         Car             22.000000\n",
       "               Passenger       29.250000\n",
       "Volkswagen     Passenger       26.166667\n",
       "Volvo          Passenger       24.500000\n",
       "Name: Fuel efficiency, dtype: float64"
      ]
     },
     "execution_count": 31,
     "metadata": {},
     "output_type": "execute_result"
    }
   ],
   "source": [
    "avg_fuel_eff=data.groupby(['Manufacturer','Vehicle type'])['Fuel efficiency'].mean()\n",
    "avg_fuel_eff"
   ]
  },
  {
   "cell_type": "markdown",
   "id": "17574437-aec1-4a15-bc9b-ef8bbf719de1",
   "metadata": {},
   "source": [
    "**Count of Cars by Manufacturer**    \n",
    "\n",
    "**Find how many car models each manufacturer has using groupby.**"
   ]
  },
  {
   "cell_type": "code",
   "execution_count": 33,
   "id": "0b94caeb-4965-4982-9df3-d2df421b33d1",
   "metadata": {
    "collapsed": true,
    "jupyter": {
     "outputs_hidden": true
    },
    "scrolled": true
   },
   "outputs": [
    {
     "data": {
      "text/plain": [
       "Manufacturer\n",
       "Acura             4\n",
       "Audi              3\n",
       "BMW               3\n",
       "Buick             4\n",
       "Cadillac          5\n",
       "Chevrolet         9\n",
       "Chrysler          7\n",
       "Dodge            11\n",
       "Ford             11\n",
       "Honda             5\n",
       "Hyundai           3\n",
       "Infiniti          1\n",
       "Jaguar            1\n",
       "Jeep              3\n",
       "Lexus             6\n",
       "Lincoln           3\n",
       "Mercedes-Benz     9\n",
       "Mercury           6\n",
       "Mitsubishi        7\n",
       "Nissan            7\n",
       "Oldsmobile        6\n",
       "Plymouth          4\n",
       "Pontiac           6\n",
       "Porsche           3\n",
       "Saab              2\n",
       "Saturn            5\n",
       "Subaru            2\n",
       "Toyota            9\n",
       "Volkswagen        6\n",
       "Volvo             6\n",
       "Name: Model, dtype: int64"
      ]
     },
     "execution_count": 33,
     "metadata": {},
     "output_type": "execute_result"
    }
   ],
   "source": [
    "noOfCarModels=data.groupby('Manufacturer')['Model'].count()\n",
    "noOfCarModels"
   ]
  },
  {
   "cell_type": "markdown",
   "id": "fbf885ae-07ca-414c-acb4-b756c3c2e1f2",
   "metadata": {},
   "source": [
    "**Average Car Price by Manufacturer**\n",
    "\n",
    "**Calculate the average price (Price in thousands) of cars for each manufacturer.**"
   ]
  },
  {
   "cell_type": "code",
   "execution_count": 35,
   "id": "b3dbed0d-257f-40e0-a94e-a43b15b58ca9",
   "metadata": {
    "collapsed": true,
    "jupyter": {
     "outputs_hidden": true
    }
   },
   "outputs": [],
   "source": [
    "data['Price in thousands']=pd.to_numeric(data['Price in thousands'], errors='coerce')"
   ]
  },
  {
   "cell_type": "code",
   "execution_count": 36,
   "id": "e78e4ce4-3b8f-4246-9ef9-029ba393db4f",
   "metadata": {
    "collapsed": true,
    "jupyter": {
     "outputs_hidden": true
    },
    "scrolled": true
   },
   "outputs": [
    {
     "data": {
      "text/plain": [
       "Manufacturer\n",
       "Acura            30.633333\n",
       "Audi             39.980000\n",
       "BMW              33.096667\n",
       "Buick            26.781250\n",
       "Cadillac         40.254000\n",
       "Chevrolet        20.022778\n",
       "Chrysler         23.430833\n",
       "Dodge            24.213636\n",
       "Ford             21.047273\n",
       "Honda            20.277000\n",
       "Hyundai          12.165667\n",
       "Infiniti         29.465000\n",
       "Jaguar           42.800000\n",
       "Jeep             20.991667\n",
       "Lexus            44.055000\n",
       "Lincoln          41.690000\n",
       "Mercedes-Benz    52.916667\n",
       "Mercury          20.748333\n",
       "Mitsubishi       22.167429\n",
       "Nissan           22.360714\n",
       "Oldsmobile       25.622833\n",
       "Plymouth         22.642500\n",
       "Pontiac          22.949167\n",
       "Porsche          62.473333\n",
       "Saab             29.610000\n",
       "Saturn           14.271000\n",
       "Subaru           21.395000\n",
       "Toyota           21.982889\n",
       "Volkswagen       17.698333\n",
       "Volvo            30.933333\n",
       "Name: Price in thousands, dtype: float64"
      ]
     },
     "execution_count": 36,
     "metadata": {},
     "output_type": "execute_result"
    }
   ],
   "source": [
    "avg_price=data.groupby('Manufacturer')['Price in thousands'].mean()\n",
    "avg_price"
   ]
  },
  {
   "cell_type": "markdown",
   "id": "bdb8e5a4-4bdb-4008-96bb-5b226d65b982",
   "metadata": {},
   "source": [
    "**Total Fuel Capacity by Vehicle Type**\n",
    "\n",
    "**Determine the total fuel capacity (Fuel capacity) for each vehicle type.**"
   ]
  },
  {
   "cell_type": "code",
   "execution_count": 38,
   "id": "27af4a93-51c9-4f9a-8780-c6ae1676574c",
   "metadata": {
    "collapsed": true,
    "jupyter": {
     "outputs_hidden": true
    },
    "scrolled": true
   },
   "outputs": [
    {
     "data": {
      "text/plain": [
       "Manufacturer                   object\n",
       "Model                          object\n",
       "Sales in thousands            float64\n",
       "4-year resale value           float64\n",
       "Vehicle type                   object\n",
       "Price in thousands            float64\n",
       "Engine size                    object\n",
       "Horsepower                    float64\n",
       "Wheelbase                      object\n",
       "Width                          object\n",
       "Length                         object\n",
       "Curb weight                    object\n",
       "Fuel capacity                  object\n",
       "Fuel efficiency               float64\n",
       "Latest Launch          datetime64[ns]\n",
       "Year                            int32\n",
       "dtype: object"
      ]
     },
     "execution_count": 38,
     "metadata": {},
     "output_type": "execute_result"
    }
   ],
   "source": [
    "data.dtypes"
   ]
  },
  {
   "cell_type": "code",
   "execution_count": 39,
   "id": "df1656e3-866c-466a-8cba-b1419e32db5d",
   "metadata": {
    "collapsed": true,
    "jupyter": {
     "outputs_hidden": true
    }
   },
   "outputs": [],
   "source": [
    "data['Fuel capacity']=pd.to_numeric(data['Fuel capacity'], errors='coerce')"
   ]
  },
  {
   "cell_type": "code",
   "execution_count": 40,
   "id": "fcb797ec-d1d4-4ca2-828f-b4b840a82fe3",
   "metadata": {
    "collapsed": true,
    "jupyter": {
     "outputs_hidden": true
    }
   },
   "outputs": [
    {
     "data": {
      "text/plain": [
       "Vehicle type\n",
       "Car           875.8\n",
       "Passenger    1924.7\n",
       "Name: Fuel capacity, dtype: float64"
      ]
     },
     "execution_count": 40,
     "metadata": {},
     "output_type": "execute_result"
    }
   ],
   "source": [
    "totalFuelCapacity=data.groupby('Vehicle type')['Fuel capacity'].sum()\n",
    "totalFuelCapacity"
   ]
  },
  {
   "cell_type": "markdown",
   "id": "0a4d3d8c-633b-4077-a058-e4fe73e0f0b7",
   "metadata": {},
   "source": [
    "**Highest Resale Value Car for Each Manufacturer**\n",
    "\n",
    "**Find the model with the highest 4-year resale value for each manufacturer.**"
   ]
  },
  {
   "cell_type": "code",
   "execution_count": 42,
   "id": "96177e52-4d9b-408d-b485-0e74958b128e",
   "metadata": {
    "collapsed": true,
    "jupyter": {
     "outputs_hidden": true
    }
   },
   "outputs": [],
   "source": [
    "data.dropna(subset=['4-year resale value'], inplace=True)   \n",
    "#this drops the rows where the column '4-year resale value' has null values or NaN"
   ]
  },
  {
   "cell_type": "code",
   "execution_count": 43,
   "id": "d2ef0977-38f9-476d-87e0-a607c2309b89",
   "metadata": {
    "collapsed": true,
    "jupyter": {
     "outputs_hidden": true
    },
    "scrolled": true
   },
   "outputs": [
    {
     "data": {
      "text/plain": [
       "0"
      ]
     },
     "execution_count": 43,
     "metadata": {},
     "output_type": "execute_result"
    }
   ],
   "source": [
    "data['4-year resale value'].isnull().sum()"
   ]
  },
  {
   "cell_type": "code",
   "execution_count": 44,
   "id": "441eb799-e24e-407f-a79b-caf46dc5d16d",
   "metadata": {
    "collapsed": true,
    "jupyter": {
     "outputs_hidden": true
    },
    "scrolled": true
   },
   "outputs": [
    {
     "data": {
      "text/plain": [
       "Manufacturer\n",
       "Acura              3\n",
       "Audi               6\n",
       "BMW                9\n",
       "Buick             12\n",
       "Cadillac          15\n",
       "Chevrolet         24\n",
       "Chrysler          33\n",
       "Dodge             39\n",
       "Ford              54\n",
       "Honda             61\n",
       "Hyundai           64\n",
       "Infiniti          65\n",
       "Jeep              69\n",
       "Lexus             73\n",
       "Lincoln           77\n",
       "Mercedes-Benz     95\n",
       "Mercury           90\n",
       "Mitsubishi        83\n",
       "Nissan           105\n",
       "Oldsmobile       112\n",
       "Plymouth         116\n",
       "Pontiac          120\n",
       "Porsche          126\n",
       "Saturn           131\n",
       "Toyota           144\n",
       "Volkswagen       147\n",
       "Name: 4-year resale value, dtype: int64"
      ]
     },
     "execution_count": 44,
     "metadata": {},
     "output_type": "execute_result"
    }
   ],
   "source": [
    "max_resale_index=data.groupby(['Manufacturer'])['4-year resale value'].idxmax()\n",
    "max_resale_index"
   ]
  },
  {
   "cell_type": "code",
   "execution_count": 45,
   "id": "af3f6c75-a884-4bbc-848c-c6ad2410c6a6",
   "metadata": {
    "collapsed": true,
    "jupyter": {
     "outputs_hidden": true
    },
    "scrolled": true
   },
   "outputs": [
    {
     "data": {
      "text/html": [
       "<div>\n",
       "<style scoped>\n",
       "    .dataframe tbody tr th:only-of-type {\n",
       "        vertical-align: middle;\n",
       "    }\n",
       "\n",
       "    .dataframe tbody tr th {\n",
       "        vertical-align: top;\n",
       "    }\n",
       "\n",
       "    .dataframe thead th {\n",
       "        text-align: right;\n",
       "    }\n",
       "</style>\n",
       "<table border=\"1\" class=\"dataframe\">\n",
       "  <thead>\n",
       "    <tr style=\"text-align: right;\">\n",
       "      <th></th>\n",
       "      <th>Manufacturer</th>\n",
       "      <th>Model</th>\n",
       "      <th>4-year resale value</th>\n",
       "    </tr>\n",
       "  </thead>\n",
       "  <tbody>\n",
       "    <tr>\n",
       "      <th>0</th>\n",
       "      <td>Acura</td>\n",
       "      <td>RL</td>\n",
       "      <td>29.725</td>\n",
       "    </tr>\n",
       "    <tr>\n",
       "      <th>1</th>\n",
       "      <td>Audi</td>\n",
       "      <td>A8</td>\n",
       "      <td>39.000</td>\n",
       "    </tr>\n",
       "    <tr>\n",
       "      <th>2</th>\n",
       "      <td>BMW</td>\n",
       "      <td>528i</td>\n",
       "      <td>36.125</td>\n",
       "    </tr>\n",
       "    <tr>\n",
       "      <th>3</th>\n",
       "      <td>Buick</td>\n",
       "      <td>Park Avenue</td>\n",
       "      <td>20.190</td>\n",
       "    </tr>\n",
       "    <tr>\n",
       "      <th>4</th>\n",
       "      <td>Cadillac</td>\n",
       "      <td>Seville</td>\n",
       "      <td>27.100</td>\n",
       "    </tr>\n",
       "    <tr>\n",
       "      <th>5</th>\n",
       "      <td>Chevrolet</td>\n",
       "      <td>Corvette</td>\n",
       "      <td>36.225</td>\n",
       "    </tr>\n",
       "    <tr>\n",
       "      <th>6</th>\n",
       "      <td>Chrysler</td>\n",
       "      <td>Town &amp; Country</td>\n",
       "      <td>19.540</td>\n",
       "    </tr>\n",
       "    <tr>\n",
       "      <th>7</th>\n",
       "      <td>Dodge</td>\n",
       "      <td>Viper</td>\n",
       "      <td>58.470</td>\n",
       "    </tr>\n",
       "    <tr>\n",
       "      <th>8</th>\n",
       "      <td>Ford</td>\n",
       "      <td>Expedition</td>\n",
       "      <td>23.575</td>\n",
       "    </tr>\n",
       "    <tr>\n",
       "      <th>9</th>\n",
       "      <td>Honda</td>\n",
       "      <td>Odyssey</td>\n",
       "      <td>19.490</td>\n",
       "    </tr>\n",
       "    <tr>\n",
       "      <th>10</th>\n",
       "      <td>Hyundai</td>\n",
       "      <td>Sonata</td>\n",
       "      <td>8.910</td>\n",
       "    </tr>\n",
       "    <tr>\n",
       "      <th>11</th>\n",
       "      <td>Infiniti</td>\n",
       "      <td>I30</td>\n",
       "      <td>19.690</td>\n",
       "    </tr>\n",
       "    <tr>\n",
       "      <th>12</th>\n",
       "      <td>Jeep</td>\n",
       "      <td>Grand Cherokee</td>\n",
       "      <td>18.810</td>\n",
       "    </tr>\n",
       "    <tr>\n",
       "      <th>13</th>\n",
       "      <td>Lexus</td>\n",
       "      <td>LS400</td>\n",
       "      <td>40.375</td>\n",
       "    </tr>\n",
       "    <tr>\n",
       "      <th>14</th>\n",
       "      <td>Lincoln</td>\n",
       "      <td>Town car</td>\n",
       "      <td>21.725</td>\n",
       "    </tr>\n",
       "    <tr>\n",
       "      <th>15</th>\n",
       "      <td>Mercedes-Benz</td>\n",
       "      <td>SL-Class</td>\n",
       "      <td>58.600</td>\n",
       "    </tr>\n",
       "    <tr>\n",
       "      <th>16</th>\n",
       "      <td>Mercury</td>\n",
       "      <td>Mountaineer</td>\n",
       "      <td>20.430</td>\n",
       "    </tr>\n",
       "    <tr>\n",
       "      <th>17</th>\n",
       "      <td>Mitsubishi</td>\n",
       "      <td>3000GT</td>\n",
       "      <td>20.940</td>\n",
       "    </tr>\n",
       "    <tr>\n",
       "      <th>18</th>\n",
       "      <td>Nissan</td>\n",
       "      <td>Pathfinder</td>\n",
       "      <td>17.810</td>\n",
       "    </tr>\n",
       "    <tr>\n",
       "      <th>19</th>\n",
       "      <td>Oldsmobile</td>\n",
       "      <td>Bravada</td>\n",
       "      <td>19.925</td>\n",
       "    </tr>\n",
       "    <tr>\n",
       "      <th>20</th>\n",
       "      <td>Plymouth</td>\n",
       "      <td>Voyager</td>\n",
       "      <td>12.025</td>\n",
       "    </tr>\n",
       "    <tr>\n",
       "      <th>21</th>\n",
       "      <td>Pontiac</td>\n",
       "      <td>Firebird</td>\n",
       "      <td>17.805</td>\n",
       "    </tr>\n",
       "    <tr>\n",
       "      <th>22</th>\n",
       "      <td>Porsche</td>\n",
       "      <td>Carrera Cabriolet</td>\n",
       "      <td>67.550</td>\n",
       "    </tr>\n",
       "    <tr>\n",
       "      <th>23</th>\n",
       "      <td>Saturn</td>\n",
       "      <td>SW</td>\n",
       "      <td>10.790</td>\n",
       "    </tr>\n",
       "    <tr>\n",
       "      <th>24</th>\n",
       "      <td>Toyota</td>\n",
       "      <td>Land Cruiser</td>\n",
       "      <td>34.080</td>\n",
       "    </tr>\n",
       "    <tr>\n",
       "      <th>25</th>\n",
       "      <td>Volkswagen</td>\n",
       "      <td>Passat</td>\n",
       "      <td>16.725</td>\n",
       "    </tr>\n",
       "  </tbody>\n",
       "</table>\n",
       "</div>"
      ],
      "text/plain": [
       "     Manufacturer              Model  4-year resale value\n",
       "0   Acura          RL                              29.725\n",
       "1   Audi           A8                              39.000\n",
       "2   BMW            528i                            36.125\n",
       "3   Buick          Park Avenue                     20.190\n",
       "4   Cadillac       Seville                         27.100\n",
       "5   Chevrolet      Corvette                        36.225\n",
       "6   Chrysler       Town & Country                  19.540\n",
       "7   Dodge          Viper                           58.470\n",
       "8   Ford           Expedition                      23.575\n",
       "9   Honda          Odyssey                         19.490\n",
       "10  Hyundai        Sonata                           8.910\n",
       "11  Infiniti       I30                             19.690\n",
       "12  Jeep           Grand Cherokee                  18.810\n",
       "13  Lexus          LS400                           40.375\n",
       "14  Lincoln        Town car                        21.725\n",
       "15  Mercedes-Benz  SL-Class                        58.600\n",
       "16  Mercury        Mountaineer                     20.430\n",
       "17  Mitsubishi     3000GT                          20.940\n",
       "18  Nissan         Pathfinder                      17.810\n",
       "19  Oldsmobile     Bravada                         19.925\n",
       "20  Plymouth       Voyager                         12.025\n",
       "21  Pontiac        Firebird                        17.805\n",
       "22  Porsche        Carrera Cabriolet               67.550\n",
       "23  Saturn         SW                              10.790\n",
       "24  Toyota         Land Cruiser                    34.080\n",
       "25  Volkswagen     Passat                          16.725"
      ]
     },
     "execution_count": 45,
     "metadata": {},
     "output_type": "execute_result"
    }
   ],
   "source": [
    "highest_resale_value_model=data.loc[max_resale_index,['Manufacturer','Model','4-year resale value']]\n",
    "highest_resale_value_model.reset_index(drop=True)"
   ]
  },
  {
   "cell_type": "markdown",
   "id": "5c5a8c7d-f7fb-4db5-be20-83a44d50819b",
   "metadata": {},
   "source": [
    "**Average Curb Weight by Vehicle Type and Manufacturer**\n",
    "\n",
    "**Calculate the average curb weight for each vehicle type and manufacturer combination.**"
   ]
  },
  {
   "cell_type": "code",
   "execution_count": 47,
   "id": "5114820a-4bc1-4847-be78-cc1402d26dc2",
   "metadata": {
    "collapsed": true,
    "jupyter": {
     "outputs_hidden": true
    },
    "scrolled": true
   },
   "outputs": [
    {
     "data": {
      "text/plain": [
       "Manufacturer                   object\n",
       "Model                          object\n",
       "Sales in thousands            float64\n",
       "4-year resale value           float64\n",
       "Vehicle type                   object\n",
       "Price in thousands            float64\n",
       "Engine size                    object\n",
       "Horsepower                    float64\n",
       "Wheelbase                      object\n",
       "Width                          object\n",
       "Length                         object\n",
       "Curb weight                    object\n",
       "Fuel capacity                 float64\n",
       "Fuel efficiency               float64\n",
       "Latest Launch          datetime64[ns]\n",
       "Year                            int32\n",
       "dtype: object"
      ]
     },
     "execution_count": 47,
     "metadata": {},
     "output_type": "execute_result"
    }
   ],
   "source": [
    "data.dtypes"
   ]
  },
  {
   "cell_type": "code",
   "execution_count": 48,
   "id": "f56210fb-9cd5-432c-b9af-d525e4ffcb1b",
   "metadata": {
    "collapsed": true,
    "jupyter": {
     "outputs_hidden": true
    }
   },
   "outputs": [],
   "source": [
    "data['Curb weight']=pd.to_numeric(data['Curb weight'], errors='coerce')\n",
    "data.dropna(subset=['Curb weight'], inplace=True)  "
   ]
  },
  {
   "cell_type": "code",
   "execution_count": 49,
   "id": "9431118d-8dc9-40c2-8563-bae21650f06d",
   "metadata": {
    "collapsed": true,
    "jupyter": {
     "outputs_hidden": true
    },
    "scrolled": true
   },
   "outputs": [
    {
     "data": {
      "text/plain": [
       "Vehicle type  Manufacturer \n",
       "Car           Dodge            4.020600\n",
       "              Ford             3.954400\n",
       "              Honda            3.788000\n",
       "              Jeep             3.373000\n",
       "              Mercury          3.910000\n",
       "              Mitsubishi       4.015000\n",
       "              Nissan           3.969000\n",
       "              Oldsmobile       4.008000\n",
       "              Plymouth         3.528000\n",
       "              Toyota           3.450750\n",
       "Passenger     Acura            3.369000\n",
       "              Audi             3.487000\n",
       "              BMW              3.334500\n",
       "              Buick            3.570000\n",
       "              Cadillac         3.863667\n",
       "              Chevrolet        2.925000\n",
       "              Chrysler         3.245200\n",
       "              Dodge            3.073600\n",
       "              Ford             3.143200\n",
       "              Honda            2.635500\n",
       "              Hyundai          2.646000\n",
       "              Infiniti         3.342000\n",
       "              Lexus            3.633667\n",
       "              Lincoln          3.994500\n",
       "              Mercedes-Benz    3.832750\n",
       "              Mercury          3.249500\n",
       "              Mitsubishi       2.935800\n",
       "              Nissan           2.966333\n",
       "              Oldsmobile       3.534500\n",
       "              Plymouth         2.750500\n",
       "              Pontiac          3.295000\n",
       "              Porsche          2.961667\n",
       "              Saturn           2.383667\n",
       "              Toyota           2.815000\n",
       "              Volkswagen       2.900800\n",
       "Name: Curb weight, dtype: float64"
      ]
     },
     "execution_count": 49,
     "metadata": {},
     "output_type": "execute_result"
    }
   ],
   "source": [
    "avg_curb_weight=data.groupby(['Vehicle type','Manufacturer'])['Curb weight'].mean()\n",
    "avg_curb_weight"
   ]
  },
  {
   "cell_type": "markdown",
   "id": "54c675e3-a1b0-49b9-96f0-0226513d8b08",
   "metadata": {},
   "source": [
    "**Number of Cars Launched per Year**   \n",
    "\n",
    "**Extract the year from the Latest Launch column and count the number of cars launched in each year.**"
   ]
  },
  {
   "cell_type": "code",
   "execution_count": 51,
   "id": "3eeb64ef-4b97-4e7f-8a09-bdd50be65a8f",
   "metadata": {
    "collapsed": true,
    "jupyter": {
     "outputs_hidden": true
    },
    "scrolled": true
   },
   "outputs": [
    {
     "data": {
      "text/plain": [
       "Manufacturer                   object\n",
       "Model                          object\n",
       "Sales in thousands            float64\n",
       "4-year resale value           float64\n",
       "Vehicle type                   object\n",
       "Price in thousands            float64\n",
       "Engine size                    object\n",
       "Horsepower                    float64\n",
       "Wheelbase                      object\n",
       "Width                          object\n",
       "Length                         object\n",
       "Curb weight                   float64\n",
       "Fuel capacity                 float64\n",
       "Fuel efficiency               float64\n",
       "Latest Launch          datetime64[ns]\n",
       "Year                            int32\n",
       "dtype: object"
      ]
     },
     "execution_count": 51,
     "metadata": {},
     "output_type": "execute_result"
    }
   ],
   "source": [
    "data.dtypes"
   ]
  },
  {
   "cell_type": "code",
   "execution_count": 52,
   "id": "81976244-3816-4173-b34b-2e3ead13a6b9",
   "metadata": {
    "collapsed": true,
    "jupyter": {
     "outputs_hidden": true
    }
   },
   "outputs": [
    {
     "data": {
      "text/plain": [
       "Latest Launch\n",
       "2014    59\n",
       "2015    58\n",
       "2008     1\n",
       "2009     1\n",
       "Name: count, dtype: int64"
      ]
     },
     "execution_count": 52,
     "metadata": {},
     "output_type": "execute_result"
    }
   ],
   "source": [
    "# no_of_launches=data.groupby('Year')['Latest Launch'].count()\n",
    "# no_of_launches\n",
    "\n",
    "cars_per_year = data['Latest Launch'].dt.year.value_counts()\n",
    "cars_per_year"
   ]
  },
  {
   "cell_type": "markdown",
   "id": "d64ddf2b-81dc-4441-a840-6b3fa462bd68",
   "metadata": {},
   "source": [
    "**Median Fuel Efficiency by Manufacturer**\n",
    "\n",
    "**Calculate the median fuel efficiency for each manufacturer using groupby.**"
   ]
  },
  {
   "cell_type": "code",
   "execution_count": 54,
   "id": "177151b4-731c-424d-9536-8241fc963cbb",
   "metadata": {
    "collapsed": true,
    "jupyter": {
     "outputs_hidden": true
    },
    "scrolled": true
   },
   "outputs": [
    {
     "data": {
      "text/plain": [
       "Manufacturer\n",
       "Acura            25.5\n",
       "Audi             22.0\n",
       "BMW              24.5\n",
       "Buick            24.5\n",
       "Cadillac         22.0\n",
       "Chevrolet        26.0\n",
       "Chrysler         24.0\n",
       "Dodge            19.0\n",
       "Ford             22.0\n",
       "Honda            24.0\n",
       "Hyundai          27.0\n",
       "Infiniti         25.0\n",
       "Jeep             19.0\n",
       "Lexus            23.0\n",
       "Lincoln          21.5\n",
       "Mercedes-Benz    23.0\n",
       "Mercury          22.5\n",
       "Mitsubishi       22.0\n",
       "Nissan           25.0\n",
       "Oldsmobile       22.0\n",
       "Plymouth         27.0\n",
       "Pontiac          25.0\n",
       "Porsche          22.0\n",
       "Saturn           33.0\n",
       "Toyota           26.5\n",
       "Volkswagen       26.0\n",
       "Name: Fuel efficiency, dtype: float64"
      ]
     },
     "execution_count": 54,
     "metadata": {},
     "output_type": "execute_result"
    }
   ],
   "source": [
    "median_fuel_efficiency=data.groupby('Manufacturer')['Fuel efficiency'].median()\n",
    "median_fuel_efficiency"
   ]
  },
  {
   "cell_type": "markdown",
   "id": "b23066cc-dc0f-42b9-9a2b-015bfdaf2fc9",
   "metadata": {},
   "source": [
    "**Manufacturer with the Most Horsepower per Vehicle Type**\n",
    "\n",
    "**Identify the manufacturer that produces the highest horsepower cars for each vehicle type.**"
   ]
  },
  {
   "cell_type": "code",
   "execution_count": 56,
   "id": "d859b822-97e8-48bb-a304-22221778e44a",
   "metadata": {
    "collapsed": true,
    "jupyter": {
     "outputs_hidden": true
    }
   },
   "outputs": [
    {
     "data": {
      "text/plain": [
       "Manufacturer                   object\n",
       "Model                          object\n",
       "Sales in thousands            float64\n",
       "4-year resale value           float64\n",
       "Vehicle type                   object\n",
       "Price in thousands            float64\n",
       "Engine size                    object\n",
       "Horsepower                    float64\n",
       "Wheelbase                      object\n",
       "Width                          object\n",
       "Length                         object\n",
       "Curb weight                   float64\n",
       "Fuel capacity                 float64\n",
       "Fuel efficiency               float64\n",
       "Latest Launch          datetime64[ns]\n",
       "Year                            int32\n",
       "dtype: object"
      ]
     },
     "execution_count": 56,
     "metadata": {},
     "output_type": "execute_result"
    }
   ],
   "source": [
    "data.dtypes"
   ]
  },
  {
   "cell_type": "code",
   "execution_count": 57,
   "id": "71ad4b68-1d25-479f-9b1e-b62f0a382c04",
   "metadata": {
    "collapsed": true,
    "jupyter": {
     "outputs_hidden": true
    }
   },
   "outputs": [
    {
     "data": {
      "text/plain": [
       "Vehicle type\n",
       "Car          54\n",
       "Passenger    39\n",
       "Name: Horsepower, dtype: int64"
      ]
     },
     "execution_count": 57,
     "metadata": {},
     "output_type": "execute_result"
    }
   ],
   "source": [
    "max_hp_index=data.groupby('Vehicle type')['Horsepower'].idxmax()\n",
    "max_hp_index"
   ]
  },
  {
   "cell_type": "code",
   "execution_count": 58,
   "id": "37e85ffd-4d46-4f78-913d-8e7a8830385c",
   "metadata": {
    "collapsed": true,
    "jupyter": {
     "outputs_hidden": true
    }
   },
   "outputs": [
    {
     "data": {
      "text/html": [
       "<div>\n",
       "<style scoped>\n",
       "    .dataframe tbody tr th:only-of-type {\n",
       "        vertical-align: middle;\n",
       "    }\n",
       "\n",
       "    .dataframe tbody tr th {\n",
       "        vertical-align: top;\n",
       "    }\n",
       "\n",
       "    .dataframe thead th {\n",
       "        text-align: right;\n",
       "    }\n",
       "</style>\n",
       "<table border=\"1\" class=\"dataframe\">\n",
       "  <thead>\n",
       "    <tr style=\"text-align: right;\">\n",
       "      <th></th>\n",
       "      <th>Vehicle type</th>\n",
       "      <th>Manufacturer</th>\n",
       "      <th>Horsepower</th>\n",
       "    </tr>\n",
       "  </thead>\n",
       "  <tbody>\n",
       "    <tr>\n",
       "      <th>0</th>\n",
       "      <td>Car</td>\n",
       "      <td>Ford</td>\n",
       "      <td>240.0</td>\n",
       "    </tr>\n",
       "    <tr>\n",
       "      <th>1</th>\n",
       "      <td>Passenger</td>\n",
       "      <td>Dodge</td>\n",
       "      <td>450.0</td>\n",
       "    </tr>\n",
       "  </tbody>\n",
       "</table>\n",
       "</div>"
      ],
      "text/plain": [
       "  Vehicle type   Manufacturer  Horsepower\n",
       "0          Car  Ford                240.0\n",
       "1    Passenger  Dodge               450.0"
      ]
     },
     "execution_count": 58,
     "metadata": {},
     "output_type": "execute_result"
    }
   ],
   "source": [
    "highest_hp_manufacturer=data.loc[max_hp_index,['Vehicle type','Manufacturer','Horsepower']]\n",
    "highest_hp_manufacturer.reset_index(drop=True)"
   ]
  },
  {
   "cell_type": "markdown",
   "id": "bb960654-4907-4bed-a387-edcf9a7b1049",
   "metadata": {},
   "source": [
    "**Average Engine Size for Cars with Sales Above 20k**\n",
    "\n",
    "**Calculate the average engine size for cars whose sales exceed 20,000 units using groupby and conditional filtering.**"
   ]
  },
  {
   "cell_type": "code",
   "execution_count": 60,
   "id": "c8cf7fc9-0b7f-4d2f-b5ac-245e7eb9fcf9",
   "metadata": {
    "collapsed": true,
    "jupyter": {
     "outputs_hidden": true
    }
   },
   "outputs": [
    {
     "data": {
      "text/plain": [
       "Manufacturer                   object\n",
       "Model                          object\n",
       "Sales in thousands            float64\n",
       "4-year resale value           float64\n",
       "Vehicle type                   object\n",
       "Price in thousands            float64\n",
       "Engine size                    object\n",
       "Horsepower                    float64\n",
       "Wheelbase                      object\n",
       "Width                          object\n",
       "Length                         object\n",
       "Curb weight                   float64\n",
       "Fuel capacity                 float64\n",
       "Fuel efficiency               float64\n",
       "Latest Launch          datetime64[ns]\n",
       "Year                            int32\n",
       "dtype: object"
      ]
     },
     "execution_count": 60,
     "metadata": {},
     "output_type": "execute_result"
    }
   ],
   "source": [
    "data.dtypes"
   ]
  },
  {
   "cell_type": "code",
   "execution_count": 61,
   "id": "44147094-cc9c-4fa8-b058-fadc67897a71",
   "metadata": {
    "collapsed": true,
    "jupyter": {
     "outputs_hidden": true
    }
   },
   "outputs": [
    {
     "data": {
      "text/plain": [
       "Manufacturer                   object\n",
       "Model                          object\n",
       "Sales in thousands            float64\n",
       "4-year resale value           float64\n",
       "Vehicle type                   object\n",
       "Price in thousands            float64\n",
       "Engine size                   float64\n",
       "Horsepower                    float64\n",
       "Wheelbase                      object\n",
       "Width                          object\n",
       "Length                         object\n",
       "Curb weight                   float64\n",
       "Fuel capacity                 float64\n",
       "Fuel efficiency               float64\n",
       "Latest Launch          datetime64[ns]\n",
       "Year                            int32\n",
       "dtype: object"
      ]
     },
     "execution_count": 61,
     "metadata": {},
     "output_type": "execute_result"
    }
   ],
   "source": [
    "data['Engine size']=pd.to_numeric(data['Engine size'],errors='coerce')\n",
    "data.dropna(subset=['Engine size'], inplace=True)\n",
    "data.dtypes"
   ]
  },
  {
   "cell_type": "code",
   "execution_count": 62,
   "id": "3508427b-782d-4d48-ab90-dc38ab987819",
   "metadata": {
    "collapsed": true,
    "jupyter": {
     "outputs_hidden": true
    }
   },
   "outputs": [
    {
     "data": {
      "text/plain": [
       "2.893827160493827"
      ]
     },
     "execution_count": 62,
     "metadata": {},
     "output_type": "execute_result"
    }
   ],
   "source": [
    "data1=data[data['Sales in thousands']>20]\n",
    "avg_eng_size_=data1['Engine size'].mean()\n",
    "avg_eng_size_\n",
    "# avg_eng_size=data1.groupby('Model')['Engine size'].mean()\n",
    "# avg_eng_size"
   ]
  },
  {
   "cell_type": "markdown",
   "id": "3bfc55f5-b5e0-4a2d-9027-09cdc70a8241",
   "metadata": {},
   "source": [
    "**Percentage of Total Sales by Manufacturer**\n",
    "\n",
    "**Determine the percentage contribution of each manufacturer to the total car sales using groupby.**"
   ]
  },
  {
   "cell_type": "code",
   "execution_count": 64,
   "id": "d585076b-7e5a-4970-bf66-8260a72c8360",
   "metadata": {
    "collapsed": true,
    "jupyter": {
     "outputs_hidden": true
    },
    "scrolled": true
   },
   "outputs": [
    {
     "data": {
      "text/plain": [
       "Manufacturer\n",
       "Acura              79.005\n",
       "Audi               40.557\n",
       "BMW                26.758\n",
       "Buick             242.019\n",
       "Cadillac           81.450\n",
       "Chevrolet         446.370\n",
       "Chrysler          117.545\n",
       "Dodge             808.826\n",
       "Ford             1846.965\n",
       "Honda             592.674\n",
       "Hyundai           137.326\n",
       "Infiniti           23.713\n",
       "Jeep              293.153\n",
       "Lexus              43.145\n",
       "Lincoln            62.709\n",
       "Mercedes-Benz      66.079\n",
       "Mercury           237.999\n",
       "Mitsubishi        180.895\n",
       "Nissan            280.472\n",
       "Oldsmobile         60.180\n",
       "Plymouth           62.129\n",
       "Pontiac           330.962\n",
       "Porsche            12.128\n",
       "Saturn            110.389\n",
       "Toyota            675.086\n",
       "Volkswagen        159.749\n",
       "Name: Sales in thousands, dtype: float64"
      ]
     },
     "execution_count": 64,
     "metadata": {},
     "output_type": "execute_result"
    }
   ],
   "source": [
    "manufacturer_sales=data.groupby('Manufacturer')['Sales in thousands'].sum()\n",
    "manufacturer_sales"
   ]
  },
  {
   "cell_type": "code",
   "execution_count": 65,
   "id": "03d74ca9-c889-4c96-9f20-595156edb203",
   "metadata": {
    "collapsed": true,
    "jupyter": {
     "outputs_hidden": true
    }
   },
   "outputs": [
    {
     "data": {
      "text/plain": [
       "7018.283"
      ]
     },
     "execution_count": 65,
     "metadata": {},
     "output_type": "execute_result"
    }
   ],
   "source": [
    "total_sales=manufacturer_sales.sum()\n",
    "total_sales"
   ]
  },
  {
   "cell_type": "code",
   "execution_count": 66,
   "id": "c168f657-0319-479a-98ff-da6162e7fa50",
   "metadata": {
    "collapsed": true,
    "jupyter": {
     "outputs_hidden": true
    }
   },
   "outputs": [],
   "source": [
    "sales_percentage=(manufacturer_sales/total_sales)*100"
   ]
  },
  {
   "cell_type": "code",
   "execution_count": 67,
   "id": "1e308bc0-9add-47f1-aff2-2d7a9b79e049",
   "metadata": {
    "collapsed": true,
    "jupyter": {
     "outputs_hidden": true
    },
    "scrolled": true
   },
   "outputs": [
    {
     "data": {
      "text/html": [
       "<div>\n",
       "<style scoped>\n",
       "    .dataframe tbody tr th:only-of-type {\n",
       "        vertical-align: middle;\n",
       "    }\n",
       "\n",
       "    .dataframe tbody tr th {\n",
       "        vertical-align: top;\n",
       "    }\n",
       "\n",
       "    .dataframe thead th {\n",
       "        text-align: right;\n",
       "    }\n",
       "</style>\n",
       "<table border=\"1\" class=\"dataframe\">\n",
       "  <thead>\n",
       "    <tr style=\"text-align: right;\">\n",
       "      <th></th>\n",
       "      <th>Sales in percentage</th>\n",
       "    </tr>\n",
       "    <tr>\n",
       "      <th>Manufacturer</th>\n",
       "      <th></th>\n",
       "    </tr>\n",
       "  </thead>\n",
       "  <tbody>\n",
       "    <tr>\n",
       "      <th>Acura</th>\n",
       "      <td>1.125703</td>\n",
       "    </tr>\n",
       "    <tr>\n",
       "      <th>Audi</th>\n",
       "      <td>0.577876</td>\n",
       "    </tr>\n",
       "    <tr>\n",
       "      <th>BMW</th>\n",
       "      <td>0.381261</td>\n",
       "    </tr>\n",
       "    <tr>\n",
       "      <th>Buick</th>\n",
       "      <td>3.448408</td>\n",
       "    </tr>\n",
       "    <tr>\n",
       "      <th>Cadillac</th>\n",
       "      <td>1.160540</td>\n",
       "    </tr>\n",
       "    <tr>\n",
       "      <th>Chevrolet</th>\n",
       "      <td>6.360103</td>\n",
       "    </tr>\n",
       "    <tr>\n",
       "      <th>Chrysler</th>\n",
       "      <td>1.674840</td>\n",
       "    </tr>\n",
       "    <tr>\n",
       "      <th>Dodge</th>\n",
       "      <td>11.524557</td>\n",
       "    </tr>\n",
       "    <tr>\n",
       "      <th>Ford</th>\n",
       "      <td>26.316479</td>\n",
       "    </tr>\n",
       "    <tr>\n",
       "      <th>Honda</th>\n",
       "      <td>8.444715</td>\n",
       "    </tr>\n",
       "    <tr>\n",
       "      <th>Hyundai</th>\n",
       "      <td>1.956689</td>\n",
       "    </tr>\n",
       "    <tr>\n",
       "      <th>Infiniti</th>\n",
       "      <td>0.337875</td>\n",
       "    </tr>\n",
       "    <tr>\n",
       "      <th>Jeep</th>\n",
       "      <td>4.176990</td>\n",
       "    </tr>\n",
       "    <tr>\n",
       "      <th>Lexus</th>\n",
       "      <td>0.614751</td>\n",
       "    </tr>\n",
       "    <tr>\n",
       "      <th>Lincoln</th>\n",
       "      <td>0.893509</td>\n",
       "    </tr>\n",
       "    <tr>\n",
       "      <th>Mercedes-Benz</th>\n",
       "      <td>0.941527</td>\n",
       "    </tr>\n",
       "    <tr>\n",
       "      <th>Mercury</th>\n",
       "      <td>3.391129</td>\n",
       "    </tr>\n",
       "    <tr>\n",
       "      <th>Mitsubishi</th>\n",
       "      <td>2.577482</td>\n",
       "    </tr>\n",
       "    <tr>\n",
       "      <th>Nissan</th>\n",
       "      <td>3.996305</td>\n",
       "    </tr>\n",
       "    <tr>\n",
       "      <th>Oldsmobile</th>\n",
       "      <td>0.857475</td>\n",
       "    </tr>\n",
       "    <tr>\n",
       "      <th>Plymouth</th>\n",
       "      <td>0.885245</td>\n",
       "    </tr>\n",
       "    <tr>\n",
       "      <th>Pontiac</th>\n",
       "      <td>4.715712</td>\n",
       "    </tr>\n",
       "    <tr>\n",
       "      <th>Porsche</th>\n",
       "      <td>0.172806</td>\n",
       "    </tr>\n",
       "    <tr>\n",
       "      <th>Saturn</th>\n",
       "      <td>1.572878</td>\n",
       "    </tr>\n",
       "    <tr>\n",
       "      <th>Toyota</th>\n",
       "      <td>9.618962</td>\n",
       "    </tr>\n",
       "    <tr>\n",
       "      <th>Volkswagen</th>\n",
       "      <td>2.276184</td>\n",
       "    </tr>\n",
       "  </tbody>\n",
       "</table>\n",
       "</div>"
      ],
      "text/plain": [
       "               Sales in percentage\n",
       "Manufacturer                      \n",
       "Acura                     1.125703\n",
       "Audi                      0.577876\n",
       "BMW                       0.381261\n",
       "Buick                     3.448408\n",
       "Cadillac                  1.160540\n",
       "Chevrolet                 6.360103\n",
       "Chrysler                  1.674840\n",
       "Dodge                    11.524557\n",
       "Ford                     26.316479\n",
       "Honda                     8.444715\n",
       "Hyundai                   1.956689\n",
       "Infiniti                  0.337875\n",
       "Jeep                      4.176990\n",
       "Lexus                     0.614751\n",
       "Lincoln                   0.893509\n",
       "Mercedes-Benz             0.941527\n",
       "Mercury                   3.391129\n",
       "Mitsubishi                2.577482\n",
       "Nissan                    3.996305\n",
       "Oldsmobile                0.857475\n",
       "Plymouth                  0.885245\n",
       "Pontiac                   4.715712\n",
       "Porsche                   0.172806\n",
       "Saturn                    1.572878\n",
       "Toyota                    9.618962\n",
       "Volkswagen                2.276184"
      ]
     },
     "execution_count": 67,
     "metadata": {},
     "output_type": "execute_result"
    }
   ],
   "source": [
    "#convert to data frame\n",
    "sales_percentage=pd.DataFrame(sales_percentage)\n",
    "sales_percentage.rename(columns={'Sales in thousands':'Sales in percentage'},inplace=True)\n",
    "sales_percentage"
   ]
  },
  {
   "cell_type": "markdown",
   "id": "d6875d9e-850f-4baa-839a-504650882926",
   "metadata": {},
   "source": [
    "**1. Most Common Vehicle Type by Manufacturer**    \n",
    "\n",
    "   **Find the most frequent vehicle type produced by each manufacturer using groupby and aggregation.**"
   ]
  },
  {
   "cell_type": "code",
   "execution_count": 69,
   "id": "18ef5887-a58b-4d3f-84a0-d2611c94bd96",
   "metadata": {
    "collapsed": true,
    "jupyter": {
     "outputs_hidden": true
    }
   },
   "outputs": [
    {
     "data": {
      "text/plain": [
       "Manufacturer                   object\n",
       "Model                          object\n",
       "Sales in thousands            float64\n",
       "4-year resale value           float64\n",
       "Vehicle type                   object\n",
       "Price in thousands            float64\n",
       "Engine size                   float64\n",
       "Horsepower                    float64\n",
       "Wheelbase                      object\n",
       "Width                          object\n",
       "Length                         object\n",
       "Curb weight                   float64\n",
       "Fuel capacity                 float64\n",
       "Fuel efficiency               float64\n",
       "Latest Launch          datetime64[ns]\n",
       "Year                            int32\n",
       "dtype: object"
      ]
     },
     "execution_count": 69,
     "metadata": {},
     "output_type": "execute_result"
    }
   ],
   "source": [
    "data.dtypes"
   ]
  },
  {
   "cell_type": "code",
   "execution_count": 70,
   "id": "688f444f-a6c8-420e-8bd1-cbb155dd72d3",
   "metadata": {
    "collapsed": true,
    "jupyter": {
     "outputs_hidden": true
    }
   },
   "outputs": [
    {
     "data": {
      "text/plain": [
       "Manufacturer\n",
       "Acura            Passenger\n",
       "Audi             Passenger\n",
       "BMW              Passenger\n",
       "Buick            Passenger\n",
       "Cadillac         Passenger\n",
       "Chevrolet        Passenger\n",
       "Chrysler         Passenger\n",
       "Dodge            Passenger\n",
       "Ford             Passenger\n",
       "Honda                  Car\n",
       "Hyundai          Passenger\n",
       "Infiniti         Passenger\n",
       "Jeep                   Car\n",
       "Lexus            Passenger\n",
       "Lincoln          Passenger\n",
       "Mercedes-Benz    Passenger\n",
       "Mercury          Passenger\n",
       "Mitsubishi       Passenger\n",
       "Nissan           Passenger\n",
       "Oldsmobile       Passenger\n",
       "Plymouth         Passenger\n",
       "Pontiac          Passenger\n",
       "Porsche          Passenger\n",
       "Saturn           Passenger\n",
       "Toyota           Passenger\n",
       "Volkswagen       Passenger\n",
       "Name: Vehicle type, dtype: object"
      ]
     },
     "execution_count": 70,
     "metadata": {},
     "output_type": "execute_result"
    }
   ],
   "source": [
    "common_vehicle_type=data.groupby('Manufacturer')['Vehicle type'].agg(lambda x:x.value_counts().idxmax())\n",
    "common_vehicle_type"
   ]
  },
  {
   "cell_type": "markdown",
   "id": "0d27a274-3a66-4c8a-bed5-699d77f77ecd",
   "metadata": {},
   "source": [
    "**2. Yearly Trend of Average Car Prices**"
   ]
  },
  {
   "cell_type": "code",
   "execution_count": 72,
   "id": "47af9989-47cc-46e1-a4f0-695d4286ab61",
   "metadata": {
    "collapsed": true,
    "jupyter": {
     "outputs_hidden": true
    }
   },
   "outputs": [
    {
     "data": {
      "text/html": [
       "<div>\n",
       "<style scoped>\n",
       "    .dataframe tbody tr th:only-of-type {\n",
       "        vertical-align: middle;\n",
       "    }\n",
       "\n",
       "    .dataframe tbody tr th {\n",
       "        vertical-align: top;\n",
       "    }\n",
       "\n",
       "    .dataframe thead th {\n",
       "        text-align: right;\n",
       "    }\n",
       "</style>\n",
       "<table border=\"1\" class=\"dataframe\">\n",
       "  <thead>\n",
       "    <tr style=\"text-align: right;\">\n",
       "      <th></th>\n",
       "      <th>Year</th>\n",
       "      <th>Average prices</th>\n",
       "    </tr>\n",
       "  </thead>\n",
       "  <tbody>\n",
       "    <tr>\n",
       "      <th>0</th>\n",
       "      <td>2008</td>\n",
       "      <td>27.560000</td>\n",
       "    </tr>\n",
       "    <tr>\n",
       "      <th>1</th>\n",
       "      <td>2009</td>\n",
       "      <td>22.510000</td>\n",
       "    </tr>\n",
       "    <tr>\n",
       "      <th>2</th>\n",
       "      <td>2014</td>\n",
       "      <td>25.418276</td>\n",
       "    </tr>\n",
       "    <tr>\n",
       "      <th>3</th>\n",
       "      <td>2015</td>\n",
       "      <td>26.493190</td>\n",
       "    </tr>\n",
       "  </tbody>\n",
       "</table>\n",
       "</div>"
      ],
      "text/plain": [
       "   Year  Average prices\n",
       "0  2008       27.560000\n",
       "1  2009       22.510000\n",
       "2  2014       25.418276\n",
       "3  2015       26.493190"
      ]
     },
     "execution_count": 72,
     "metadata": {},
     "output_type": "execute_result"
    }
   ],
   "source": [
    "yearly_price_trend=data.groupby(['Year'])['Price in thousands'].mean()\n",
    "yearly_price_trend = yearly_price_trend.reset_index().rename(columns={'Price in thousands':'Average prices'})\n",
    "yearly_price_trend"
   ]
  },
  {
   "cell_type": "markdown",
   "id": "023d2d6e-df3d-4a2c-846b-e8fb23158c6f",
   "metadata": {},
   "source": [
    "**3. Price Variation by Vehicle Type**"
   ]
  },
  {
   "cell_type": "code",
   "execution_count": 74,
   "id": "dcaf376a-e295-405d-a7cf-02981c19a191",
   "metadata": {
    "collapsed": true,
    "jupyter": {
     "outputs_hidden": true
    }
   },
   "outputs": [
    {
     "data": {
      "text/plain": [
       "<pandas.core.groupby.generic.SeriesGroupBy object at 0x00000298B2FAFC80>"
      ]
     },
     "execution_count": 74,
     "metadata": {},
     "output_type": "execute_result"
    }
   ],
   "source": [
    "# price_variation=data.groupby('Vehicle type')['Price in thousands'].mean()\n",
    "price_variation=data.groupby(['Manufacturer','Vehicle type'])['Price in thousands']\n",
    "price_variation"
   ]
  },
  {
   "cell_type": "markdown",
   "id": "aed67884-c864-43fa-bd36-9334125b5aca",
   "metadata": {},
   "source": [
    "**4. Identify Most Fuel-Efficient Manufacturer by Year**"
   ]
  },
  {
   "cell_type": "code",
   "execution_count": 135,
   "id": "232107ae-55a3-47bf-84c7-9e99df5fb7df",
   "metadata": {
    "scrolled": true
   },
   "outputs": [
    {
     "data": {
      "text/plain": [
       "Year  Manufacturer \n",
       "2008  Mercury          18.000000\n",
       "2009  Mercury          21.000000\n",
       "2014  Acura            27.000000\n",
       "      Audi             21.000000\n",
       "      BMW              24.000000\n",
       "      Buick            24.000000\n",
       "      Cadillac         22.000000\n",
       "      Chevrolet        30.666667\n",
       "      Chrysler         24.333333\n",
       "      Dodge            18.000000\n",
       "      Ford             22.000000\n",
       "      Honda            23.250000\n",
       "      Hyundai          28.000000\n",
       "      Infiniti         25.000000\n",
       "      Jeep             18.500000\n",
       "      Lexus            22.666667\n",
       "      Lincoln          21.500000\n",
       "      Mercury          25.750000\n",
       "      Mitsubishi       22.857143\n",
       "      Pontiac          25.500000\n",
       "      Porsche          21.500000\n",
       "      Saturn           33.000000\n",
       "      Toyota           31.000000\n",
       "      Volkswagen       27.000000\n",
       "2015  Acura            23.500000\n",
       "      Audi             24.500000\n",
       "      BMW              25.000000\n",
       "      Buick            24.333333\n",
       "      Cadillac         22.000000\n",
       "      Chevrolet        27.400000\n",
       "      Chrysler         25.500000\n",
       "      Dodge            22.400000\n",
       "      Ford             22.500000\n",
       "      Honda            32.000000\n",
       "      Hyundai          27.000000\n",
       "      Jeep             19.000000\n",
       "      Mercedes-Benz    23.000000\n",
       "      Nissan           24.000000\n",
       "      Oldsmobile       22.000000\n",
       "      Plymouth         26.666667\n",
       "      Pontiac          24.000000\n",
       "      Porsche          23.000000\n",
       "      Saturn           32.000000\n",
       "      Toyota           24.857143\n",
       "      Volkswagen       26.000000\n",
       "Name: Fuel efficiency, dtype: float64"
      ]
     },
     "execution_count": 135,
     "metadata": {},
     "output_type": "execute_result"
    }
   ],
   "source": [
    "fuel_efficiency_by_year_manufacturer = data.groupby(['Year','Manufacturer'])['Fuel efficiency'].mean()\n",
    "fuel_efficiency_by_year_manufacturer"
   ]
  },
  {
   "cell_type": "code",
   "execution_count": 143,
   "id": "71c66380-ebde-427d-8ae5-d31206cf8dd7",
   "metadata": {},
   "outputs": [
    {
     "data": {
      "text/html": [
       "<div>\n",
       "<style scoped>\n",
       "    .dataframe tbody tr th:only-of-type {\n",
       "        vertical-align: middle;\n",
       "    }\n",
       "\n",
       "    .dataframe tbody tr th {\n",
       "        vertical-align: top;\n",
       "    }\n",
       "\n",
       "    .dataframe thead th {\n",
       "        text-align: right;\n",
       "    }\n",
       "</style>\n",
       "<table border=\"1\" class=\"dataframe\">\n",
       "  <thead>\n",
       "    <tr style=\"text-align: right;\">\n",
       "      <th></th>\n",
       "      <th>Year</th>\n",
       "      <th>Fuel efficiency</th>\n",
       "    </tr>\n",
       "  </thead>\n",
       "  <tbody>\n",
       "    <tr>\n",
       "      <th>0</th>\n",
       "      <td>2008</td>\n",
       "      <td>(2008, Mercury      )</td>\n",
       "    </tr>\n",
       "    <tr>\n",
       "      <th>1</th>\n",
       "      <td>2009</td>\n",
       "      <td>(2009, Mercury      )</td>\n",
       "    </tr>\n",
       "    <tr>\n",
       "      <th>2</th>\n",
       "      <td>2014</td>\n",
       "      <td>(2014, Saturn       )</td>\n",
       "    </tr>\n",
       "    <tr>\n",
       "      <th>3</th>\n",
       "      <td>2015</td>\n",
       "      <td>(2015, Honda        )</td>\n",
       "    </tr>\n",
       "  </tbody>\n",
       "</table>\n",
       "</div>"
      ],
      "text/plain": [
       "   Year        Fuel efficiency\n",
       "0  2008  (2008, Mercury      )\n",
       "1  2009  (2009, Mercury      )\n",
       "2  2014  (2014, Saturn       )\n",
       "3  2015  (2015, Honda        )"
      ]
     },
     "execution_count": 143,
     "metadata": {},
     "output_type": "execute_result"
    }
   ],
   "source": [
    "most_efficient_by_year = fuel_efficiency_by_year_manufacturer.groupby('Year').idxmax().reset_index()\n",
    "most_efficient_by_year"
   ]
  },
  {
   "cell_type": "code",
   "execution_count": 145,
   "id": "4c2542ab-533d-49ae-8d91-90ae7f7888f4",
   "metadata": {},
   "outputs": [
    {
     "data": {
      "text/html": [
       "<div>\n",
       "<style scoped>\n",
       "    .dataframe tbody tr th:only-of-type {\n",
       "        vertical-align: middle;\n",
       "    }\n",
       "\n",
       "    .dataframe tbody tr th {\n",
       "        vertical-align: top;\n",
       "    }\n",
       "\n",
       "    .dataframe thead th {\n",
       "        text-align: right;\n",
       "    }\n",
       "</style>\n",
       "<table border=\"1\" class=\"dataframe\">\n",
       "  <thead>\n",
       "    <tr style=\"text-align: right;\">\n",
       "      <th></th>\n",
       "      <th>Year</th>\n",
       "      <th>Fuel efficiency</th>\n",
       "      <th>Manufacturer</th>\n",
       "    </tr>\n",
       "  </thead>\n",
       "  <tbody>\n",
       "    <tr>\n",
       "      <th>0</th>\n",
       "      <td>2008</td>\n",
       "      <td>(2008, Mercury      )</td>\n",
       "      <td>Mercury</td>\n",
       "    </tr>\n",
       "    <tr>\n",
       "      <th>1</th>\n",
       "      <td>2009</td>\n",
       "      <td>(2009, Mercury      )</td>\n",
       "      <td>Mercury</td>\n",
       "    </tr>\n",
       "    <tr>\n",
       "      <th>2</th>\n",
       "      <td>2014</td>\n",
       "      <td>(2014, Saturn       )</td>\n",
       "      <td>Saturn</td>\n",
       "    </tr>\n",
       "    <tr>\n",
       "      <th>3</th>\n",
       "      <td>2015</td>\n",
       "      <td>(2015, Honda        )</td>\n",
       "      <td>Honda</td>\n",
       "    </tr>\n",
       "  </tbody>\n",
       "</table>\n",
       "</div>"
      ],
      "text/plain": [
       "   Year        Fuel efficiency   Manufacturer\n",
       "0  2008  (2008, Mercury      )  Mercury      \n",
       "1  2009  (2009, Mercury      )  Mercury      \n",
       "2  2014  (2014, Saturn       )  Saturn       \n",
       "3  2015  (2015, Honda        )  Honda        "
      ]
     },
     "execution_count": 145,
     "metadata": {},
     "output_type": "execute_result"
    }
   ],
   "source": [
    "most_efficient_by_year['Manufacturer'] = most_efficient_by_year['Fuel efficiency'].apply(lambda x: x[1])\n",
    "most_efficient_by_year"
   ]
  },
  {
   "cell_type": "code",
   "execution_count": 147,
   "id": "7e4eaec8-1c77-4ffe-96b8-308aca53a0db",
   "metadata": {},
   "outputs": [
    {
     "data": {
      "text/html": [
       "<div>\n",
       "<style scoped>\n",
       "    .dataframe tbody tr th:only-of-type {\n",
       "        vertical-align: middle;\n",
       "    }\n",
       "\n",
       "    .dataframe tbody tr th {\n",
       "        vertical-align: top;\n",
       "    }\n",
       "\n",
       "    .dataframe thead th {\n",
       "        text-align: right;\n",
       "    }\n",
       "</style>\n",
       "<table border=\"1\" class=\"dataframe\">\n",
       "  <thead>\n",
       "    <tr style=\"text-align: right;\">\n",
       "      <th></th>\n",
       "      <th>Year</th>\n",
       "      <th>Fuel efficiency</th>\n",
       "      <th>Manufacturer</th>\n",
       "      <th>Average Fuel Efficiency</th>\n",
       "    </tr>\n",
       "  </thead>\n",
       "  <tbody>\n",
       "    <tr>\n",
       "      <th>0</th>\n",
       "      <td>2008</td>\n",
       "      <td>(2008, Mercury      )</td>\n",
       "      <td>Mercury</td>\n",
       "      <td>18.0</td>\n",
       "    </tr>\n",
       "    <tr>\n",
       "      <th>1</th>\n",
       "      <td>2009</td>\n",
       "      <td>(2009, Mercury      )</td>\n",
       "      <td>Mercury</td>\n",
       "      <td>21.0</td>\n",
       "    </tr>\n",
       "    <tr>\n",
       "      <th>2</th>\n",
       "      <td>2014</td>\n",
       "      <td>(2014, Saturn       )</td>\n",
       "      <td>Saturn</td>\n",
       "      <td>33.0</td>\n",
       "    </tr>\n",
       "    <tr>\n",
       "      <th>3</th>\n",
       "      <td>2015</td>\n",
       "      <td>(2015, Honda        )</td>\n",
       "      <td>Honda</td>\n",
       "      <td>32.0</td>\n",
       "    </tr>\n",
       "  </tbody>\n",
       "</table>\n",
       "</div>"
      ],
      "text/plain": [
       "   Year        Fuel efficiency   Manufacturer  Average Fuel Efficiency\n",
       "0  2008  (2008, Mercury      )  Mercury                           18.0\n",
       "1  2009  (2009, Mercury      )  Mercury                           21.0\n",
       "2  2014  (2014, Saturn       )  Saturn                            33.0\n",
       "3  2015  (2015, Honda        )  Honda                             32.0"
      ]
     },
     "execution_count": 147,
     "metadata": {},
     "output_type": "execute_result"
    }
   ],
   "source": [
    "most_efficient_by_year['Average Fuel Efficiency'] = fuel_efficiency_by_year_manufacturer.groupby('Year').max().values\n",
    "most_efficient_by_year"
   ]
  },
  {
   "cell_type": "code",
   "execution_count": 149,
   "id": "91453f52-795a-43d3-8f61-d70a35054377",
   "metadata": {},
   "outputs": [
    {
     "data": {
      "text/html": [
       "<div>\n",
       "<style scoped>\n",
       "    .dataframe tbody tr th:only-of-type {\n",
       "        vertical-align: middle;\n",
       "    }\n",
       "\n",
       "    .dataframe tbody tr th {\n",
       "        vertical-align: top;\n",
       "    }\n",
       "\n",
       "    .dataframe thead th {\n",
       "        text-align: right;\n",
       "    }\n",
       "</style>\n",
       "<table border=\"1\" class=\"dataframe\">\n",
       "  <thead>\n",
       "    <tr style=\"text-align: right;\">\n",
       "      <th></th>\n",
       "      <th>Year</th>\n",
       "      <th>Manufacturer</th>\n",
       "      <th>Average Fuel Efficiency</th>\n",
       "    </tr>\n",
       "  </thead>\n",
       "  <tbody>\n",
       "    <tr>\n",
       "      <th>0</th>\n",
       "      <td>2008</td>\n",
       "      <td>Mercury</td>\n",
       "      <td>18.0</td>\n",
       "    </tr>\n",
       "    <tr>\n",
       "      <th>1</th>\n",
       "      <td>2009</td>\n",
       "      <td>Mercury</td>\n",
       "      <td>21.0</td>\n",
       "    </tr>\n",
       "    <tr>\n",
       "      <th>2</th>\n",
       "      <td>2014</td>\n",
       "      <td>Saturn</td>\n",
       "      <td>33.0</td>\n",
       "    </tr>\n",
       "    <tr>\n",
       "      <th>3</th>\n",
       "      <td>2015</td>\n",
       "      <td>Honda</td>\n",
       "      <td>32.0</td>\n",
       "    </tr>\n",
       "  </tbody>\n",
       "</table>\n",
       "</div>"
      ],
      "text/plain": [
       "   Year   Manufacturer  Average Fuel Efficiency\n",
       "0  2008  Mercury                           18.0\n",
       "1  2009  Mercury                           21.0\n",
       "2  2014  Saturn                            33.0\n",
       "3  2015  Honda                             32.0"
      ]
     },
     "execution_count": 149,
     "metadata": {},
     "output_type": "execute_result"
    }
   ],
   "source": [
    "most_efficient_by_year = most_efficient_by_year.drop(columns=['Fuel efficiency'])[['Year', 'Manufacturer', 'Average Fuel Efficiency']]\n",
    "most_efficient_by_year"
   ]
  },
  {
   "cell_type": "code",
   "execution_count": null,
   "id": "ce7d1882-800d-45ac-9e73-f33ebefaa99e",
   "metadata": {},
   "outputs": [],
   "source": []
  }
 ],
 "metadata": {
  "kernelspec": {
   "display_name": "Python 3 (ipykernel)",
   "language": "python",
   "name": "python3"
  },
  "language_info": {
   "codemirror_mode": {
    "name": "ipython",
    "version": 3
   },
   "file_extension": ".py",
   "mimetype": "text/x-python",
   "name": "python",
   "nbconvert_exporter": "python",
   "pygments_lexer": "ipython3",
   "version": "3.12.7"
  }
 },
 "nbformat": 4,
 "nbformat_minor": 5
}
