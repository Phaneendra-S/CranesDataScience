{
 "cells": [
  {
   "cell_type": "code",
   "execution_count": 1,
   "id": "d8791e2f-4e50-4c48-978f-eab88b211b54",
   "metadata": {
    "collapsed": true,
    "jupyter": {
     "outputs_hidden": true
    }
   },
   "outputs": [],
   "source": [
    "import numpy as np\n",
    "from numpy import random as r"
   ]
  },
  {
   "cell_type": "code",
   "execution_count": 2,
   "id": "eea27e81-3a29-4ba3-9003-89aab66c7044",
   "metadata": {
    "collapsed": true,
    "jupyter": {
     "outputs_hidden": true
    }
   },
   "outputs": [
    {
     "data": {
      "text/plain": [
       "array([47, 43, 28,  3,  9, 13, 30, 13, 17, 43])"
      ]
     },
     "execution_count": 2,
     "metadata": {},
     "output_type": "execute_result"
    }
   ],
   "source": [
    "nums = r.randint(0,50,size=10)\n",
    "nums"
   ]
  },
  {
   "cell_type": "code",
   "execution_count": 3,
   "id": "ce95b086-58f6-4d66-b529-067206ace1f9",
   "metadata": {
    "collapsed": true,
    "jupyter": {
     "outputs_hidden": true
    }
   },
   "outputs": [
    {
     "data": {
      "text/plain": [
       "[47, 43, 28, 30, 43]"
      ]
     },
     "execution_count": 3,
     "metadata": {},
     "output_type": "execute_result"
    }
   ],
   "source": [
    "res = list(filter(lambda num: num>=20,nums))\n",
    "res"
   ]
  },
  {
   "cell_type": "code",
   "execution_count": 4,
   "id": "31209f0c-7e29-4f9e-a6e0-e3e2d2cafd5f",
   "metadata": {
    "collapsed": true,
    "jupyter": {
     "outputs_hidden": true
    }
   },
   "outputs": [
    {
     "name": "stdout",
     "output_type": "stream",
     "text": [
      "[47 43 28 30 43]\n"
     ]
    }
   ],
   "source": [
    "boolRes=nums>=20\n",
    "print(nums[boolRes])"
   ]
  },
  {
   "cell_type": "code",
   "execution_count": 5,
   "id": "260d7d00-0853-4149-810b-4d5bcdb96830",
   "metadata": {
    "collapsed": true,
    "jupyter": {
     "outputs_hidden": true
    }
   },
   "outputs": [
    {
     "name": "stdout",
     "output_type": "stream",
     "text": [
      "e\n"
     ]
    }
   ],
   "source": [
    "names=['aa','b','c','d','e']\n",
    "scores=[1,2,33,332,423]\n",
    "\n",
    "index=np.argmax(scores)\n",
    "# index\n",
    "print(names[index])"
   ]
  },
  {
   "cell_type": "code",
   "execution_count": 6,
   "id": "9d1f5ceb-e6f5-40d9-b259-d799642a063d",
   "metadata": {
    "collapsed": true,
    "jupyter": {
     "outputs_hidden": true
    }
   },
   "outputs": [
    {
     "data": {
      "text/plain": [
       "[1, 2, 3, 4, 5, 6, 7, 8, 9]"
      ]
     },
     "execution_count": 6,
     "metadata": {},
     "output_type": "execute_result"
    }
   ],
   "source": [
    "a=list(range(1,10))\n",
    "a"
   ]
  },
  {
   "cell_type": "code",
   "execution_count": 7,
   "id": "fa98753f-b48b-4fda-8d1b-1118ff8b600c",
   "metadata": {
    "collapsed": true,
    "jupyter": {
     "outputs_hidden": true
    }
   },
   "outputs": [
    {
     "ename": "TypeError",
     "evalue": "unsupported operand type(s) for +: 'int' and 'list'",
     "output_type": "error",
     "traceback": [
      "\u001b[1;31m---------------------------------------------------------------------------\u001b[0m",
      "\u001b[1;31mTypeError\u001b[0m                                 Traceback (most recent call last)",
      "Cell \u001b[1;32mIn[7], line 2\u001b[0m\n\u001b[0;32m      1\u001b[0m marks\u001b[38;5;241m=\u001b[39m[[\u001b[38;5;241m1\u001b[39m,\u001b[38;5;241m2\u001b[39m],[\u001b[38;5;241m4\u001b[39m,\u001b[38;5;241m5\u001b[39m]]\n\u001b[1;32m----> 2\u001b[0m \u001b[38;5;28mprint\u001b[39m(\u001b[38;5;28msum\u001b[39m(marks))\n",
      "\u001b[1;31mTypeError\u001b[0m: unsupported operand type(s) for +: 'int' and 'list'"
     ]
    }
   ],
   "source": [
    "marks=[[1,2],[4,5]]\n",
    "print(sum(marks))"
   ]
  },
  {
   "cell_type": "code",
   "execution_count": 11,
   "id": "1916a7cd-bc70-48fa-8ae8-80b110d6d4f9",
   "metadata": {
    "collapsed": true,
    "jupyter": {
     "outputs_hidden": true
    }
   },
   "outputs": [
    {
     "name": "stdout",
     "output_type": "stream",
     "text": [
      "12\n"
     ]
    }
   ],
   "source": [
    "total = 0\n",
    "for mark in marks:\n",
    "    total+=sum(mark)\n",
    "print(total)"
   ]
  },
  {
   "cell_type": "code",
   "execution_count": 13,
   "id": "392c1d63-6d0b-41f7-b4c8-074f8ef2cd18",
   "metadata": {
    "collapsed": true,
    "jupyter": {
     "outputs_hidden": true
    }
   },
   "outputs": [
    {
     "name": "stdout",
     "output_type": "stream",
     "text": [
      "[[  12   15   19]\n",
      " [  23 4234  231]\n",
      " [  24  234  545]\n",
      " [4234  243  465]]\n",
      "[[  23 4234]\n",
      " [  24  234]]\n"
     ]
    }
   ],
   "source": [
    "list1=np.array([[12,15,19],\n",
    "                [23,4234,231],\n",
    "                [24,234,545],\n",
    "                [4234,243,465]])\n",
    "print(list1)\n",
    "\n",
    "print(list1[1:3,:2])"
   ]
  },
  {
   "cell_type": "code",
   "execution_count": 15,
   "id": "b2720ffc-ccd1-4bd1-9274-c110f98cfc57",
   "metadata": {
    "collapsed": true,
    "jupyter": {
     "outputs_hidden": true
    }
   },
   "outputs": [
    {
     "name": "stdout",
     "output_type": "stream",
     "text": [
      "[[24, 234, 545]]\n"
     ]
    }
   ],
   "source": [
    "list2=[[12,15,19],\n",
    "        [23,4234,231],\n",
    "        [24,234,545],\n",
    "        [4234,243,465]]\n",
    "\n",
    "print(list2[1:3][1:3])"
   ]
  },
  {
   "cell_type": "code",
   "execution_count": 17,
   "id": "5faae41c-ab21-4297-9173-1a3e7f963c4d",
   "metadata": {
    "collapsed": true,
    "jupyter": {
     "outputs_hidden": true
    }
   },
   "outputs": [
    {
     "name": "stdout",
     "output_type": "stream",
     "text": [
      "[[  14   15   24]\n",
      " [  25 4234  236]\n",
      " [  26  234  550]\n",
      " [4236  243  470]]\n"
     ]
    }
   ],
   "source": [
    "updated=list1+[2,0,5]\n",
    "print(updated)"
   ]
  },
  {
   "cell_type": "code",
   "execution_count": 19,
   "id": "c84e4353-b0ab-4388-bdf6-fd0c132ba999",
   "metadata": {
    "collapsed": true,
    "jupyter": {
     "outputs_hidden": true
    }
   },
   "outputs": [
    {
     "name": "stdout",
     "output_type": "stream",
     "text": [
      "[[ 4  8 24]\n",
      " [ 6 81 15]]\n",
      "[[ 36  47]\n",
      " [ 70 102]]\n"
     ]
    }
   ],
   "source": [
    "np_mat1=np.array([[1,4,3],[3,9,5]])\n",
    "np_mat2=np.array([[4,2,8],[2,9,3]])\n",
    "np_mat3=np.array([[4,2],[2,9],[8,3]])\n",
    "\n",
    "np_mul1=np_mat1*np_mat2\n",
    "print(np_mul1)\n",
    "\n",
    "np_mul2=np_mat1@np_mat3\n",
    "print(np_mul2)"
   ]
  },
  {
   "cell_type": "code",
   "execution_count": 21,
   "id": "ff9e01ad-d055-41f8-95a1-c38db74b39d9",
   "metadata": {
    "collapsed": true,
    "jupyter": {
     "outputs_hidden": true
    }
   },
   "outputs": [
    {
     "ename": "TypeError",
     "evalue": "unsupported operand type(s) for +: 'int' and 'list'",
     "output_type": "error",
     "traceback": [
      "\u001b[1;31m---------------------------------------------------------------------------\u001b[0m",
      "\u001b[1;31mTypeError\u001b[0m                                 Traceback (most recent call last)",
      "Cell \u001b[1;32mIn[21], line 1\u001b[0m\n\u001b[1;32m----> 1\u001b[0m \u001b[38;5;28mprint\u001b[39m(\u001b[38;5;28msum\u001b[39m(list2))\n",
      "\u001b[1;31mTypeError\u001b[0m: unsupported operand type(s) for +: 'int' and 'list'"
     ]
    }
   ],
   "source": [
    "print(sum(list2))"
   ]
  },
  {
   "cell_type": "code",
   "execution_count": 23,
   "id": "71bafa31-05c6-4871-ab21-16263e4155b2",
   "metadata": {
    "collapsed": true,
    "jupyter": {
     "outputs_hidden": true
    }
   },
   "outputs": [
    {
     "name": "stdout",
     "output_type": "stream",
     "text": [
      "10279\n",
      "10279\n"
     ]
    }
   ],
   "source": [
    "np_arr=np.array(list2)\n",
    "print(np_arr.sum())\n",
    "print(np.sum(np_arr))"
   ]
  },
  {
   "cell_type": "code",
   "execution_count": 25,
   "id": "cce61279-71ba-49d9-9060-d1cad86d2f2e",
   "metadata": {
    "collapsed": true,
    "jupyter": {
     "outputs_hidden": true
    }
   },
   "outputs": [
    {
     "name": "stdout",
     "output_type": "stream",
     "text": [
      "[4293 4726 1260]\n"
     ]
    }
   ],
   "source": [
    "print(list1.sum(axis=0)) #column wise"
   ]
  },
  {
   "cell_type": "raw",
   "id": "e020c959-5de6-4854-bb19-75b4e6572d18",
   "metadata": {},
   "source": [
    "for median its always np.median()\n",
    "\n",
    "for all the remaining, we can use either of these,\n",
    "np_arr.sum()\n",
    "np.sum(np_arr)"
   ]
  },
  {
   "cell_type": "code",
   "execution_count": null,
   "id": "3d510aa1-15c2-405c-95e2-a6b88c92c8df",
   "metadata": {
    "collapsed": true,
    "jupyter": {
     "outputs_hidden": true
    }
   },
   "outputs": [],
   "source": [
    " "
   ]
  },
  {
   "cell_type": "code",
   "execution_count": 28,
   "id": "f7918b98-7480-4e66-83ac-3861ab8b0b16",
   "metadata": {
    "collapsed": true,
    "jupyter": {
     "outputs_hidden": true
    }
   },
   "outputs": [],
   "source": [
    "import pandas as pd"
   ]
  },
  {
   "cell_type": "code",
   "execution_count": 30,
   "id": "ed1cc293-8d98-41ac-a829-57975f9b9a08",
   "metadata": {
    "collapsed": true,
    "jupyter": {
     "outputs_hidden": true
    }
   },
   "outputs": [
    {
     "data": {
      "text/plain": [
       "[1, 2, 33, 332, 423]"
      ]
     },
     "execution_count": 30,
     "metadata": {},
     "output_type": "execute_result"
    }
   ],
   "source": [
    "scores"
   ]
  },
  {
   "cell_type": "code",
   "execution_count": 32,
   "id": "3bd8dd16-0737-4807-a9c5-5d089c1e186b",
   "metadata": {
    "collapsed": true,
    "jupyter": {
     "outputs_hidden": true
    }
   },
   "outputs": [],
   "source": [
    "ps_scores=pd.Series(scores)"
   ]
  },
  {
   "cell_type": "code",
   "execution_count": 35,
   "id": "8b8fbb26-9ef9-43a6-9407-480d9f5d5d07",
   "metadata": {},
   "outputs": [
    {
     "data": {
      "text/plain": [
       "0      1\n",
       "1      2\n",
       "2     33\n",
       "3    332\n",
       "4    423\n",
       "dtype: int64"
      ]
     },
     "execution_count": 35,
     "metadata": {},
     "output_type": "execute_result"
    }
   ],
   "source": [
    "ps_scores"
   ]
  },
  {
   "cell_type": "code",
   "execution_count": 37,
   "id": "7d49b3c0-3beb-4b55-b26b-9629d9c8d99f",
   "metadata": {},
   "outputs": [
    {
     "data": {
      "text/plain": [
       "2"
      ]
     },
     "execution_count": 37,
     "metadata": {},
     "output_type": "execute_result"
    }
   ],
   "source": [
    "ps_scores[1]"
   ]
  },
  {
   "cell_type": "code",
   "execution_count": 39,
   "id": "e59c9b11-6d01-4b35-a0fb-3c9bd1b91b93",
   "metadata": {
    "scrolled": true
   },
   "outputs": [
    {
     "ename": "KeyError",
     "evalue": "-1",
     "output_type": "error",
     "traceback": [
      "\u001b[1;31m---------------------------------------------------------------------------\u001b[0m",
      "\u001b[1;31mValueError\u001b[0m                                Traceback (most recent call last)",
      "File \u001b[1;32m~\\anaconda3\\Lib\\site-packages\\pandas\\core\\indexes\\range.py:413\u001b[0m, in \u001b[0;36mRangeIndex.get_loc\u001b[1;34m(self, key)\u001b[0m\n\u001b[0;32m    412\u001b[0m \u001b[38;5;28;01mtry\u001b[39;00m:\n\u001b[1;32m--> 413\u001b[0m     \u001b[38;5;28;01mreturn\u001b[39;00m \u001b[38;5;28mself\u001b[39m\u001b[38;5;241m.\u001b[39m_range\u001b[38;5;241m.\u001b[39mindex(new_key)\n\u001b[0;32m    414\u001b[0m \u001b[38;5;28;01mexcept\u001b[39;00m \u001b[38;5;167;01mValueError\u001b[39;00m \u001b[38;5;28;01mas\u001b[39;00m err:\n",
      "\u001b[1;31mValueError\u001b[0m: -1 is not in range",
      "\nThe above exception was the direct cause of the following exception:\n",
      "\u001b[1;31mKeyError\u001b[0m                                  Traceback (most recent call last)",
      "Cell \u001b[1;32mIn[39], line 1\u001b[0m\n\u001b[1;32m----> 1\u001b[0m ps_scores[\u001b[38;5;241m-\u001b[39m\u001b[38;5;241m1\u001b[39m]\n",
      "File \u001b[1;32m~\\anaconda3\\Lib\\site-packages\\pandas\\core\\series.py:1121\u001b[0m, in \u001b[0;36mSeries.__getitem__\u001b[1;34m(self, key)\u001b[0m\n\u001b[0;32m   1118\u001b[0m     \u001b[38;5;28;01mreturn\u001b[39;00m \u001b[38;5;28mself\u001b[39m\u001b[38;5;241m.\u001b[39m_values[key]\n\u001b[0;32m   1120\u001b[0m \u001b[38;5;28;01melif\u001b[39;00m key_is_scalar:\n\u001b[1;32m-> 1121\u001b[0m     \u001b[38;5;28;01mreturn\u001b[39;00m \u001b[38;5;28mself\u001b[39m\u001b[38;5;241m.\u001b[39m_get_value(key)\n\u001b[0;32m   1123\u001b[0m \u001b[38;5;66;03m# Convert generator to list before going through hashable part\u001b[39;00m\n\u001b[0;32m   1124\u001b[0m \u001b[38;5;66;03m# (We will iterate through the generator there to check for slices)\u001b[39;00m\n\u001b[0;32m   1125\u001b[0m \u001b[38;5;28;01mif\u001b[39;00m is_iterator(key):\n",
      "File \u001b[1;32m~\\anaconda3\\Lib\\site-packages\\pandas\\core\\series.py:1237\u001b[0m, in \u001b[0;36mSeries._get_value\u001b[1;34m(self, label, takeable)\u001b[0m\n\u001b[0;32m   1234\u001b[0m     \u001b[38;5;28;01mreturn\u001b[39;00m \u001b[38;5;28mself\u001b[39m\u001b[38;5;241m.\u001b[39m_values[label]\n\u001b[0;32m   1236\u001b[0m \u001b[38;5;66;03m# Similar to Index.get_value, but we do not fall back to positional\u001b[39;00m\n\u001b[1;32m-> 1237\u001b[0m loc \u001b[38;5;241m=\u001b[39m \u001b[38;5;28mself\u001b[39m\u001b[38;5;241m.\u001b[39mindex\u001b[38;5;241m.\u001b[39mget_loc(label)\n\u001b[0;32m   1239\u001b[0m \u001b[38;5;28;01mif\u001b[39;00m is_integer(loc):\n\u001b[0;32m   1240\u001b[0m     \u001b[38;5;28;01mreturn\u001b[39;00m \u001b[38;5;28mself\u001b[39m\u001b[38;5;241m.\u001b[39m_values[loc]\n",
      "File \u001b[1;32m~\\anaconda3\\Lib\\site-packages\\pandas\\core\\indexes\\range.py:415\u001b[0m, in \u001b[0;36mRangeIndex.get_loc\u001b[1;34m(self, key)\u001b[0m\n\u001b[0;32m    413\u001b[0m         \u001b[38;5;28;01mreturn\u001b[39;00m \u001b[38;5;28mself\u001b[39m\u001b[38;5;241m.\u001b[39m_range\u001b[38;5;241m.\u001b[39mindex(new_key)\n\u001b[0;32m    414\u001b[0m     \u001b[38;5;28;01mexcept\u001b[39;00m \u001b[38;5;167;01mValueError\u001b[39;00m \u001b[38;5;28;01mas\u001b[39;00m err:\n\u001b[1;32m--> 415\u001b[0m         \u001b[38;5;28;01mraise\u001b[39;00m \u001b[38;5;167;01mKeyError\u001b[39;00m(key) \u001b[38;5;28;01mfrom\u001b[39;00m \u001b[38;5;21;01merr\u001b[39;00m\n\u001b[0;32m    416\u001b[0m \u001b[38;5;28;01mif\u001b[39;00m \u001b[38;5;28misinstance\u001b[39m(key, Hashable):\n\u001b[0;32m    417\u001b[0m     \u001b[38;5;28;01mraise\u001b[39;00m \u001b[38;5;167;01mKeyError\u001b[39;00m(key)\n",
      "\u001b[1;31mKeyError\u001b[0m: -1"
     ]
    }
   ],
   "source": [
    "ps_scores[-1]"
   ]
  },
  {
   "cell_type": "code",
   "execution_count": 41,
   "id": "d87541c2-3121-405e-be74-c914c26d7ad1",
   "metadata": {},
   "outputs": [],
   "source": [
    "stud_names=['a','b','c','d','e']"
   ]
  },
  {
   "cell_type": "code",
   "execution_count": 43,
   "id": "4f80202d-688e-4a43-8a32-b8c7660bf7ac",
   "metadata": {},
   "outputs": [
    {
     "name": "stdout",
     "output_type": "stream",
     "text": [
      "a      1\n",
      "b      2\n",
      "c     33\n",
      "d    332\n",
      "e    423\n",
      "dtype: int64\n"
     ]
    }
   ],
   "source": [
    "studMarks=pd.Series(scores, index=stud_names)\n",
    "print(studMarks)"
   ]
  },
  {
   "cell_type": "code",
   "execution_count": 45,
   "id": "db11cd2f-1b28-4cbf-8e9f-7353a40ffc04",
   "metadata": {},
   "outputs": [
    {
     "name": "stderr",
     "output_type": "stream",
     "text": [
      "C:\\Users\\PHANEENDRA\\AppData\\Local\\Temp\\ipykernel_18140\\1754870549.py:1: FutureWarning: Series.__getitem__ treating keys as positions is deprecated. In a future version, integer keys will always be treated as labels (consistent with DataFrame behavior). To access a value by position, use `ser.iloc[pos]`\n",
      "  studMarks[1]\n"
     ]
    },
    {
     "data": {
      "text/plain": [
       "2"
      ]
     },
     "execution_count": 45,
     "metadata": {},
     "output_type": "execute_result"
    }
   ],
   "source": [
    "studMarks[1]"
   ]
  },
  {
   "cell_type": "code",
   "execution_count": 49,
   "id": "b4e919d4-235b-4997-bc4d-17e24a4022ae",
   "metadata": {},
   "outputs": [
    {
     "data": {
      "text/plain": [
       "1"
      ]
     },
     "execution_count": 49,
     "metadata": {},
     "output_type": "execute_result"
    }
   ],
   "source": [
    "studMarks['a']"
   ]
  },
  {
   "cell_type": "code",
   "execution_count": 51,
   "id": "656e017b-84b2-48fd-9f40-841732292afc",
   "metadata": {},
   "outputs": [
    {
     "name": "stderr",
     "output_type": "stream",
     "text": [
      "C:\\Users\\PHANEENDRA\\AppData\\Local\\Temp\\ipykernel_18140\\142218215.py:1: FutureWarning: Series.__getitem__ treating keys as positions is deprecated. In a future version, integer keys will always be treated as labels (consistent with DataFrame behavior). To access a value by position, use `ser.iloc[pos]`\n",
      "  studMarks[-1]\n"
     ]
    },
    {
     "data": {
      "text/plain": [
       "423"
      ]
     },
     "execution_count": 51,
     "metadata": {},
     "output_type": "execute_result"
    }
   ],
   "source": [
    "studMarks[-1]"
   ]
  },
  {
   "cell_type": "code",
   "execution_count": 65,
   "id": "6b7b25ce-3c85-495c-a516-e936252636ed",
   "metadata": {},
   "outputs": [],
   "source": [
    "stud_index=[8,9,10,11,11]"
   ]
  },
  {
   "cell_type": "code",
   "execution_count": 67,
   "id": "253010b3-3c6f-48cc-b2bc-02ef1d6ea4dd",
   "metadata": {},
   "outputs": [
    {
     "name": "stdout",
     "output_type": "stream",
     "text": [
      "8       1\n",
      "9       2\n",
      "10     33\n",
      "11    332\n",
      "11    423\n",
      "dtype: int64\n"
     ]
    }
   ],
   "source": [
    "studScores=pd.Series(scores, index=stud_index)\n",
    "print(studScores)"
   ]
  },
  {
   "cell_type": "code",
   "execution_count": 69,
   "id": "28bc2367-d6d6-4b71-9049-02c429df0fbc",
   "metadata": {
    "scrolled": true
   },
   "outputs": [
    {
     "name": "stdout",
     "output_type": "stream",
     "text": [
      "11    332\n",
      "11    423\n",
      "dtype: int64\n"
     ]
    }
   ],
   "source": [
    "print(studScores[11])"
   ]
  },
  {
   "cell_type": "code",
   "execution_count": 61,
   "id": "11efca78-b535-4e6c-90c2-1f7a54145ae0",
   "metadata": {},
   "outputs": [
    {
     "name": "stdout",
     "output_type": "stream",
     "text": [
      "33\n"
     ]
    }
   ],
   "source": [
    "print(studScores.iloc[2])"
   ]
  },
  {
   "cell_type": "code",
   "execution_count": 85,
   "id": "effb9e22-ed6d-43d8-be71-1a74b57f75fc",
   "metadata": {},
   "outputs": [
    {
     "name": "stdout",
     "output_type": "stream",
     "text": [
      "['WI' 'IND' 'AUS' 'PK' 'SL' 'ENG']\n",
      "AUS    5\n",
      "WI     2\n",
      "IND    2\n",
      "PK     1\n",
      "SL     1\n",
      "ENG    1\n",
      "Name: count, dtype: int64\n"
     ]
    }
   ],
   "source": [
    "winners={1975:'WI',1979:'WI',1983:'IND',1987:'AUS',1992:'PK',1996:'SL',1999:'AUS',2003:'AUS',2007:'AUS',2011:'IND',2015:'AUS',2019:'ENG'}\n",
    "world_cup=pd.Series(winners)\n",
    "print(world_cup.unique())\n",
    "print(world_cup.value_counts())"
   ]
  },
  {
   "cell_type": "code",
   "execution_count": 91,
   "id": "9c52fbc1-43d3-40fe-a1e2-20f2a2626d3f",
   "metadata": {},
   "outputs": [
    {
     "data": {
      "text/plain": [
       "8       1\n",
       "9       2\n",
       "10     33\n",
       "11    332\n",
       "11    423\n",
       "dtype: int64"
      ]
     },
     "execution_count": 91,
     "metadata": {},
     "output_type": "execute_result"
    }
   ],
   "source": [
    "studScores"
   ]
  },
  {
   "cell_type": "code",
   "execution_count": 105,
   "id": "6b615951-4d61-421d-9d34-6c542039a040",
   "metadata": {},
   "outputs": [
    {
     "name": "stdout",
     "output_type": "stream",
     "text": [
      "8          1\n",
      "9          4\n",
      "10      1089\n",
      "11    110224\n",
      "11    178929\n",
      "dtype: int64\n"
     ]
    }
   ],
   "source": [
    "sq_numbers=studScores.apply(lambda studScores:studScores**2)\n",
    "print(sq_numbers)"
   ]
  },
  {
   "cell_type": "code",
   "execution_count": null,
   "id": "da10af33-2a83-404c-bef2-9b04251182d6",
   "metadata": {},
   "outputs": [],
   "source": []
  },
  {
   "cell_type": "code",
   "execution_count": null,
   "id": "e18d80ec-88d2-4c78-bad0-898e3944dd08",
   "metadata": {},
   "outputs": [],
   "source": []
  }
 ],
 "metadata": {
  "kernelspec": {
   "display_name": "Python 3 (ipykernel)",
   "language": "python",
   "name": "python3"
  },
  "language_info": {
   "codemirror_mode": {
    "name": "ipython",
    "version": 3
   },
   "file_extension": ".py",
   "mimetype": "text/x-python",
   "name": "python",
   "nbconvert_exporter": "python",
   "pygments_lexer": "ipython3",
   "version": "3.12.7"
  }
 },
 "nbformat": 4,
 "nbformat_minor": 5
}
