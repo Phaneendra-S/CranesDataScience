{
 "cells": [
  {
   "cell_type": "code",
   "execution_count": 2,
   "id": "b9d68a9e-7302-4e60-b4b6-7f1ceff8eb8f",
   "metadata": {},
   "outputs": [],
   "source": [
    "import pandas as pd\n",
    "import numpy as np\n",
    "import warnings\n",
    "warnings.filterwarnings(\"ignore\",category=DeprecationWarning)"
   ]
  },
  {
   "cell_type": "markdown",
   "id": "351899a7-e751-4232-b869-34c07ead1e4d",
   "metadata": {},
   "source": [
    "## Basic details"
   ]
  },
  {
   "cell_type": "code",
   "execution_count": 4,
   "id": "8922663b-8aba-4ad3-8cb3-c93eb2ddd704",
   "metadata": {
    "scrolled": true
   },
   "outputs": [
    {
     "data": {
      "text/html": [
       "<div>\n",
       "<style scoped>\n",
       "    .dataframe tbody tr th:only-of-type {\n",
       "        vertical-align: middle;\n",
       "    }\n",
       "\n",
       "    .dataframe tbody tr th {\n",
       "        vertical-align: top;\n",
       "    }\n",
       "\n",
       "    .dataframe thead th {\n",
       "        text-align: right;\n",
       "    }\n",
       "</style>\n",
       "<table border=\"1\" class=\"dataframe\">\n",
       "  <thead>\n",
       "    <tr style=\"text-align: right;\">\n",
       "      <th></th>\n",
       "      <th>BrandName</th>\n",
       "      <th>Deatils</th>\n",
       "      <th>Sizes</th>\n",
       "      <th>MRP</th>\n",
       "      <th>SellPrice</th>\n",
       "      <th>Discount</th>\n",
       "      <th>Category</th>\n",
       "    </tr>\n",
       "  </thead>\n",
       "  <tbody>\n",
       "    <tr>\n",
       "      <th>0</th>\n",
       "      <td>life</td>\n",
       "      <td>solid cotton blend collar neck womens a-line d...</td>\n",
       "      <td>Size:Large,Medium,Small,X-Large,X-Small</td>\n",
       "      <td>Rs\\n1699</td>\n",
       "      <td>849</td>\n",
       "      <td>50% off</td>\n",
       "      <td>Westernwear-Women</td>\n",
       "    </tr>\n",
       "    <tr>\n",
       "      <th>1</th>\n",
       "      <td>only</td>\n",
       "      <td>polyester peter pan collar womens blouson dres...</td>\n",
       "      <td>Size:34,36,38,40</td>\n",
       "      <td>Rs\\n3499</td>\n",
       "      <td>2449</td>\n",
       "      <td>30% off</td>\n",
       "      <td>Westernwear-Women</td>\n",
       "    </tr>\n",
       "    <tr>\n",
       "      <th>2</th>\n",
       "      <td>fratini</td>\n",
       "      <td>solid polyester blend wide neck womens regular...</td>\n",
       "      <td>Size:Large,X-Large,XX-Large</td>\n",
       "      <td>Rs\\n1199</td>\n",
       "      <td>599</td>\n",
       "      <td>50% off</td>\n",
       "      <td>Westernwear-Women</td>\n",
       "    </tr>\n",
       "    <tr>\n",
       "      <th>3</th>\n",
       "      <td>zink london</td>\n",
       "      <td>stripes polyester sweetheart neck womens dress...</td>\n",
       "      <td>Size:Large,Medium,Small,X-Large</td>\n",
       "      <td>Rs\\n2299</td>\n",
       "      <td>1379</td>\n",
       "      <td>40% off</td>\n",
       "      <td>Westernwear-Women</td>\n",
       "    </tr>\n",
       "    <tr>\n",
       "      <th>4</th>\n",
       "      <td>life</td>\n",
       "      <td>regular fit regular length denim womens jeans ...</td>\n",
       "      <td>Size:26,28,30,32,34,36</td>\n",
       "      <td>Rs\\n1699</td>\n",
       "      <td>849</td>\n",
       "      <td>50% off</td>\n",
       "      <td>Westernwear-Women</td>\n",
       "    </tr>\n",
       "    <tr>\n",
       "      <th>...</th>\n",
       "      <td>...</td>\n",
       "      <td>...</td>\n",
       "      <td>...</td>\n",
       "      <td>...</td>\n",
       "      <td>...</td>\n",
       "      <td>...</td>\n",
       "      <td>...</td>\n",
       "    </tr>\n",
       "    <tr>\n",
       "      <th>21</th>\n",
       "      <td>swarovski</td>\n",
       "      <td>crystal stylish womens rodhium earrings</td>\n",
       "      <td>Nan</td>\n",
       "      <td>Nan</td>\n",
       "      <td>8950</td>\n",
       "      <td>Nan</td>\n",
       "      <td>Jewellery-Women</td>\n",
       "    </tr>\n",
       "    <tr>\n",
       "      <th>22</th>\n",
       "      <td>Nan</td>\n",
       "      <td>Nan</td>\n",
       "      <td>Nan</td>\n",
       "      <td>Nan</td>\n",
       "      <td>Nan</td>\n",
       "      <td>Nan</td>\n",
       "      <td>Jewellery-Women</td>\n",
       "    </tr>\n",
       "    <tr>\n",
       "      <th>23</th>\n",
       "      <td>jewelz</td>\n",
       "      <td>ethnic gold plated jhumki earrings</td>\n",
       "      <td>Nan</td>\n",
       "      <td>Rs\\n1839</td>\n",
       "      <td>643</td>\n",
       "      <td>65% off</td>\n",
       "      <td>Jewellery-Women</td>\n",
       "    </tr>\n",
       "    <tr>\n",
       "      <th>24</th>\n",
       "      <td>estelle</td>\n",
       "      <td>womens gold plated double line fancy white and...</td>\n",
       "      <td>Nan</td>\n",
       "      <td>Nan</td>\n",
       "      <td>2799</td>\n",
       "      <td>Nan</td>\n",
       "      <td>Jewellery-Women</td>\n",
       "    </tr>\n",
       "    <tr>\n",
       "      <th>25</th>\n",
       "      <td>estelle</td>\n",
       "      <td>womens gold plated bridge designer mangalsutra...</td>\n",
       "      <td>Nan</td>\n",
       "      <td>Nan</td>\n",
       "      <td>1899</td>\n",
       "      <td>Nan</td>\n",
       "      <td>Jewellery-Women</td>\n",
       "    </tr>\n",
       "  </tbody>\n",
       "</table>\n",
       "<p>30758 rows × 7 columns</p>\n",
       "</div>"
      ],
      "text/plain": [
       "      BrandName                                            Deatils  \\\n",
       "0          life  solid cotton blend collar neck womens a-line d...   \n",
       "1          only  polyester peter pan collar womens blouson dres...   \n",
       "2       fratini  solid polyester blend wide neck womens regular...   \n",
       "3   zink london  stripes polyester sweetheart neck womens dress...   \n",
       "4          life  regular fit regular length denim womens jeans ...   \n",
       "..          ...                                                ...   \n",
       "21    swarovski            crystal stylish womens rodhium earrings   \n",
       "22          Nan                                                Nan   \n",
       "23       jewelz                 ethnic gold plated jhumki earrings   \n",
       "24      estelle  womens gold plated double line fancy white and...   \n",
       "25      estelle  womens gold plated bridge designer mangalsutra...   \n",
       "\n",
       "                                      Sizes       MRP SellPrice Discount  \\\n",
       "0   Size:Large,Medium,Small,X-Large,X-Small  Rs\\n1699       849  50% off   \n",
       "1                          Size:34,36,38,40  Rs\\n3499      2449  30% off   \n",
       "2               Size:Large,X-Large,XX-Large  Rs\\n1199       599  50% off   \n",
       "3           Size:Large,Medium,Small,X-Large  Rs\\n2299      1379  40% off   \n",
       "4                    Size:26,28,30,32,34,36  Rs\\n1699       849  50% off   \n",
       "..                                      ...       ...       ...      ...   \n",
       "21                                      Nan       Nan      8950      Nan   \n",
       "22                                      Nan       Nan       Nan      Nan   \n",
       "23                                      Nan  Rs\\n1839       643  65% off   \n",
       "24                                      Nan       Nan      2799      Nan   \n",
       "25                                      Nan       Nan      1899      Nan   \n",
       "\n",
       "             Category  \n",
       "0   Westernwear-Women  \n",
       "1   Westernwear-Women  \n",
       "2   Westernwear-Women  \n",
       "3   Westernwear-Women  \n",
       "4   Westernwear-Women  \n",
       "..                ...  \n",
       "21    Jewellery-Women  \n",
       "22    Jewellery-Women  \n",
       "23    Jewellery-Women  \n",
       "24    Jewellery-Women  \n",
       "25    Jewellery-Women  \n",
       "\n",
       "[30758 rows x 7 columns]"
      ]
     },
     "execution_count": 4,
     "metadata": {},
     "output_type": "execute_result"
    }
   ],
   "source": [
    "df=pd.read_csv(r\"C:\\Users\\PHANEENDRA\\Downloads\\FashionDataset.csv\",index_col=0)\n",
    "df"
   ]
  },
  {
   "cell_type": "code",
   "execution_count": 6,
   "id": "40b50d37-daac-48ec-a458-fcdfbeb877e1",
   "metadata": {},
   "outputs": [],
   "source": [
    "# df=df.drop(df.columns[0],axis=1,inplace=True)"
   ]
  },
  {
   "cell_type": "code",
   "execution_count": 8,
   "id": "e985f3a3-653c-45dc-81bd-f0757a164917",
   "metadata": {
    "collapsed": true,
    "jupyter": {
     "outputs_hidden": true
    },
    "scrolled": true
   },
   "outputs": [
    {
     "name": "stdout",
     "output_type": "stream",
     "text": [
      "<class 'pandas.core.frame.DataFrame'>\n",
      "Index: 30758 entries, 0 to 25\n",
      "Data columns (total 7 columns):\n",
      " #   Column     Non-Null Count  Dtype \n",
      "---  ------     --------------  ----- \n",
      " 0   BrandName  30758 non-null  object\n",
      " 1   Deatils    30758 non-null  object\n",
      " 2   Sizes      30758 non-null  object\n",
      " 3   MRP        30758 non-null  object\n",
      " 4   SellPrice  30758 non-null  object\n",
      " 5   Discount   30758 non-null  object\n",
      " 6   Category   30758 non-null  object\n",
      "dtypes: object(7)\n",
      "memory usage: 1.9+ MB\n"
     ]
    }
   ],
   "source": [
    "df.info()"
   ]
  },
  {
   "cell_type": "code",
   "execution_count": 10,
   "id": "ea3fd311-625b-4c83-a3bd-d8c2b438cd45",
   "metadata": {
    "collapsed": true,
    "jupyter": {
     "outputs_hidden": true,
     "source_hidden": true
    }
   },
   "outputs": [
    {
     "name": "stdout",
     "output_type": "stream",
     "text": [
      "<class 'pandas.core.frame.DataFrame'>\n",
      "Index: 30758 entries, 0 to 25\n",
      "Data columns (total 7 columns):\n",
      " #   Column     Non-Null Count  Dtype \n",
      "---  ------     --------------  ----- \n",
      " 0   BrandName  30758 non-null  object\n",
      " 1   Details    30758 non-null  object\n",
      " 2   Sizes      30758 non-null  object\n",
      " 3   MRP        30758 non-null  object\n",
      " 4   SellPrice  30758 non-null  object\n",
      " 5   Discount   30758 non-null  object\n",
      " 6   Category   30758 non-null  object\n",
      "dtypes: object(7)\n",
      "memory usage: 1.9+ MB\n"
     ]
    }
   ],
   "source": [
    "df=df.rename(columns={'Deatils':'Details'})\n",
    "df.info()"
   ]
  },
  {
   "cell_type": "code",
   "execution_count": 12,
   "id": "19322933-3ea0-4518-9029-0c0ea04d76a6",
   "metadata": {
    "collapsed": true,
    "jupyter": {
     "outputs_hidden": true
    }
   },
   "outputs": [
    {
     "data": {
      "text/html": [
       "<div>\n",
       "<style scoped>\n",
       "    .dataframe tbody tr th:only-of-type {\n",
       "        vertical-align: middle;\n",
       "    }\n",
       "\n",
       "    .dataframe tbody tr th {\n",
       "        vertical-align: top;\n",
       "    }\n",
       "\n",
       "    .dataframe thead th {\n",
       "        text-align: right;\n",
       "    }\n",
       "</style>\n",
       "<table border=\"1\" class=\"dataframe\">\n",
       "  <thead>\n",
       "    <tr style=\"text-align: right;\">\n",
       "      <th></th>\n",
       "      <th>BrandName</th>\n",
       "      <th>Details</th>\n",
       "      <th>Sizes</th>\n",
       "      <th>MRP</th>\n",
       "      <th>SellPrice</th>\n",
       "      <th>Discount</th>\n",
       "      <th>Category</th>\n",
       "    </tr>\n",
       "  </thead>\n",
       "  <tbody>\n",
       "    <tr>\n",
       "      <th>count</th>\n",
       "      <td>30758</td>\n",
       "      <td>30758</td>\n",
       "      <td>30758</td>\n",
       "      <td>30758</td>\n",
       "      <td>30758</td>\n",
       "      <td>30758</td>\n",
       "      <td>30758</td>\n",
       "    </tr>\n",
       "    <tr>\n",
       "      <th>unique</th>\n",
       "      <td>275</td>\n",
       "      <td>23877</td>\n",
       "      <td>1172</td>\n",
       "      <td>1097</td>\n",
       "      <td>2046</td>\n",
       "      <td>66</td>\n",
       "      <td>7</td>\n",
       "    </tr>\n",
       "    <tr>\n",
       "      <th>top</th>\n",
       "      <td>vastranand</td>\n",
       "      <td>Nan</td>\n",
       "      <td>Nan</td>\n",
       "      <td>Nan</td>\n",
       "      <td>Nan</td>\n",
       "      <td>Nan</td>\n",
       "      <td>Westernwear-Women</td>\n",
       "    </tr>\n",
       "    <tr>\n",
       "      <th>freq</th>\n",
       "      <td>1543</td>\n",
       "      <td>1183</td>\n",
       "      <td>7501</td>\n",
       "      <td>8208</td>\n",
       "      <td>1183</td>\n",
       "      <td>8208</td>\n",
       "      <td>10374</td>\n",
       "    </tr>\n",
       "  </tbody>\n",
       "</table>\n",
       "</div>"
      ],
      "text/plain": [
       "         BrandName Details  Sizes    MRP SellPrice Discount           Category\n",
       "count        30758   30758  30758  30758     30758    30758              30758\n",
       "unique         275   23877   1172   1097      2046       66                  7\n",
       "top     vastranand     Nan    Nan    Nan       Nan      Nan  Westernwear-Women\n",
       "freq          1543    1183   7501   8208      1183     8208              10374"
      ]
     },
     "execution_count": 12,
     "metadata": {},
     "output_type": "execute_result"
    }
   ],
   "source": [
    "df.describe(include='all')"
   ]
  },
  {
   "cell_type": "code",
   "execution_count": 14,
   "id": "59459a4c-5756-4aa8-89b0-cfccecd004e4",
   "metadata": {
    "collapsed": true,
    "jupyter": {
     "outputs_hidden": true
    }
   },
   "outputs": [
    {
     "data": {
      "text/plain": [
       "Index(['BrandName', 'Details', 'Sizes', 'MRP', 'SellPrice', 'Discount',\n",
       "       'Category'],\n",
       "      dtype='object')"
      ]
     },
     "execution_count": 14,
     "metadata": {},
     "output_type": "execute_result"
    }
   ],
   "source": [
    "df.columns"
   ]
  },
  {
   "cell_type": "code",
   "execution_count": 16,
   "id": "1c94597c-daee-4e87-9ff5-d626a1102e09",
   "metadata": {},
   "outputs": [
    {
     "data": {
      "text/plain": [
       "BrandName    object\n",
       "Details      object\n",
       "Sizes        object\n",
       "MRP          object\n",
       "SellPrice    object\n",
       "Discount     object\n",
       "Category     object\n",
       "dtype: object"
      ]
     },
     "execution_count": 16,
     "metadata": {},
     "output_type": "execute_result"
    }
   ],
   "source": [
    "df.dtypes"
   ]
  },
  {
   "cell_type": "code",
   "execution_count": 18,
   "id": "5c9b2415-8d00-482f-8cea-93485a093fad",
   "metadata": {
    "collapsed": true,
    "jupyter": {
     "outputs_hidden": true
    }
   },
   "outputs": [
    {
     "data": {
      "text/plain": [
       "BrandName    0\n",
       "Details      0\n",
       "Sizes        0\n",
       "MRP          0\n",
       "SellPrice    0\n",
       "Discount     0\n",
       "Category     0\n",
       "dtype: int64"
      ]
     },
     "execution_count": 18,
     "metadata": {},
     "output_type": "execute_result"
    }
   ],
   "source": [
    "df.isnull().sum()"
   ]
  },
  {
   "cell_type": "markdown",
   "id": "554c029b-1609-4be1-b27f-f8cecaf59635",
   "metadata": {
    "jp-MarkdownHeadingCollapsed": true
   },
   "source": [
    "## cleaning column : 'BrandName'"
   ]
  },
  {
   "cell_type": "code",
   "execution_count": 22,
   "id": "2f9f9305-e58a-48b2-95be-6e4b0d323f89",
   "metadata": {},
   "outputs": [
    {
     "data": {
      "text/plain": [
       "BrandName\n",
       "vastranand     1543\n",
       "Nan            1183\n",
       "zink london     918\n",
       "global desi     889\n",
       "stop            884\n",
       "               ... \n",
       "nachtmann         1\n",
       "v canto           1\n",
       "clarins           1\n",
       "gas               1\n",
       "accessorize       1\n",
       "Name: count, Length: 275, dtype: int64"
      ]
     },
     "execution_count": 22,
     "metadata": {},
     "output_type": "execute_result"
    }
   ],
   "source": [
    "df['BrandName'].value_counts()"
   ]
  },
  {
   "cell_type": "code",
   "execution_count": 26,
   "id": "30020d68-9f70-4295-a2b6-7e8daa3e3146",
   "metadata": {},
   "outputs": [
    {
     "data": {
      "text/plain": [
       "1183"
      ]
     },
     "execution_count": 26,
     "metadata": {},
     "output_type": "execute_result"
    }
   ],
   "source": [
    "# df['BrandName']=df['BrandName'].replace('Nan','Unknown')\n",
    "df['BrandName'] = df['BrandName'].replace('Nan', np.nan)\n",
    "df['BrandName'].isnull().sum()"
   ]
  },
  {
   "cell_type": "code",
   "execution_count": 28,
   "id": "92d8ad72-00d6-4ccf-8780-4ae4b34aa6ac",
   "metadata": {},
   "outputs": [],
   "source": [
    "df['BrandName']=df['BrandName'].fillna(df['BrandName'].bfill())"
   ]
  },
  {
   "cell_type": "code",
   "execution_count": 34,
   "id": "83983180-82aa-4175-9005-5ad98eb6d286",
   "metadata": {
    "collapsed": true,
    "jupyter": {
     "outputs_hidden": true
    },
    "scrolled": true
   },
   "outputs": [
    {
     "data": {
      "text/plain": [
       "BrandName\n",
       "vastranand       1600\n",
       "zink london       952\n",
       "global desi       929\n",
       "stop              912\n",
       "enamor            816\n",
       "                 ... \n",
       "evaflor             1\n",
       "betty barclay       1\n",
       "s.oliver            1\n",
       "ralph lauren        1\n",
       "accessorize         1\n",
       "Name: count, Length: 274, dtype: int64"
      ]
     },
     "execution_count": 34,
     "metadata": {},
     "output_type": "execute_result"
    }
   ],
   "source": [
    "df['BrandName'].value_counts()"
   ]
  },
  {
   "cell_type": "code",
   "execution_count": 36,
   "id": "19348536-cd03-4cc3-9b72-797ef00234b9",
   "metadata": {},
   "outputs": [
    {
     "data": {
      "text/plain": [
       "0"
      ]
     },
     "execution_count": 36,
     "metadata": {},
     "output_type": "execute_result"
    }
   ],
   "source": [
    "df['BrandName'].isnull().sum()"
   ]
  },
  {
   "cell_type": "markdown",
   "id": "121a9a53-740b-49a1-ad2e-aeb191e335ed",
   "metadata": {
    "jp-MarkdownHeadingCollapsed": true
   },
   "source": [
    "## cleaning column : 'Details'"
   ]
  },
  {
   "cell_type": "code",
   "execution_count": 49,
   "id": "9da45a4b-076b-4425-95d3-c008fbccf59b",
   "metadata": {},
   "outputs": [
    {
     "data": {
      "text/plain": [
       "Details\n",
       "Nan                                                                                     1183\n",
       "kanchipuram weave zari border and rich zari pallu with contrast blouse piece - multi      42\n",
       "synthetic womens casual sandals - black                                                   38\n",
       "solid zari cotton blend festive wear womens regular saree - cream                         34\n",
       "alloy metal gold color western womens earrings                                            30\n",
       "                                                                                        ... \n",
       "printed round neck georgette womens regular top - blue                                     1\n",
       "geometric collar neck wool blend womens pullover - natural                                 1\n",
       "solid polyester y neck womens top - black                                                  1\n",
       "womens self textured fit and flare dress - orange                                          1\n",
       "womens gold plated bridge designer mangalsutra necklaces                                   1\n",
       "Name: count, Length: 23877, dtype: int64"
      ]
     },
     "execution_count": 49,
     "metadata": {},
     "output_type": "execute_result"
    }
   ],
   "source": [
    "df['Details'].value_counts()"
   ]
  },
  {
   "cell_type": "code",
   "execution_count": 42,
   "id": "09e66817-3fbf-492c-9037-7fef7573e66a",
   "metadata": {},
   "outputs": [],
   "source": [
    "df['Details']=df['Details'].replace('Nan', np.nan)"
   ]
  },
  {
   "cell_type": "code",
   "execution_count": 44,
   "id": "1303509a-77b5-4c5d-85f2-cbf11ba7e5c2",
   "metadata": {},
   "outputs": [],
   "source": [
    "df['Details']=df['Details'].fillna(df['Details'].bfill())"
   ]
  },
  {
   "cell_type": "code",
   "execution_count": 46,
   "id": "0f57db47-010e-42b9-acac-7ba3af2e5821",
   "metadata": {},
   "outputs": [
    {
     "data": {
      "text/plain": [
       "0"
      ]
     },
     "execution_count": 46,
     "metadata": {},
     "output_type": "execute_result"
    }
   ],
   "source": [
    "df['Details'].isnull().sum()"
   ]
  },
  {
   "cell_type": "code",
   "execution_count": 52,
   "id": "94656cf3-d1f5-4bc1-8397-c4f683e1da1d",
   "metadata": {},
   "outputs": [
    {
     "data": {
      "text/plain": [
       "Details\n",
       "kanchipuram weave zari border and rich zari pallu with contrast blouse piece - multi    46\n",
       "synthetic womens casual sandals - black                                                 39\n",
       "solid zari cotton blend festive wear womens regular saree - cream                       36\n",
       "alloy metal gold color western womens earrings                                          30\n",
       "structured zari silk blend festive wear womens regular saree - green                    29\n",
       "                                                                                        ..\n",
       "solid high neck acrylic womens sweaters - maroon                                         1\n",
       "stripes cotton round neck womens t-shirt - peach                                         1\n",
       "solid polyester key hole neck womens top - green                                         1\n",
       "jacquard open neck acrylic womens poncho - blue                                          1\n",
       "womens gold plated bridge designer mangalsutra necklaces                                 1\n",
       "Name: count, Length: 23876, dtype: int64"
      ]
     },
     "execution_count": 52,
     "metadata": {},
     "output_type": "execute_result"
    }
   ],
   "source": [
    "df['Details'].value_counts()"
   ]
  },
  {
   "cell_type": "code",
   "execution_count": null,
   "id": "671e43f4-eee9-4b54-9a64-8158110f322c",
   "metadata": {},
   "outputs": [],
   "source": []
  },
  {
   "cell_type": "markdown",
   "id": "66f8797a-02e0-4eac-aedc-f1302d53cdfe",
   "metadata": {
    "jp-MarkdownHeadingCollapsed": true
   },
   "source": [
    "## cleaning column : 'Sizes'"
   ]
  },
  {
   "cell_type": "code",
   "execution_count": 6,
   "id": "7dae6ed4-8bb4-480e-9eb3-d1724a4e7b62",
   "metadata": {},
   "outputs": [
    {
     "data": {
      "text/plain": [
       "array(['Size:Large,Medium,Small,X-Large,X-Small', 'Size:34,36,38,40',\n",
       "       'Size:Large,X-Large,XX-Large', ..., 'Size:3,8', 'Size:36,41',\n",
       "       'Size:4,4.5,8.5'], dtype=object)"
      ]
     },
     "execution_count": 6,
     "metadata": {},
     "output_type": "execute_result"
    }
   ],
   "source": [
    "df['Sizes'].unique()"
   ]
  },
  {
   "cell_type": "code",
   "execution_count": 8,
   "id": "3527a977-f77b-435b-9bc7-fc1dc0aa3353",
   "metadata": {},
   "outputs": [
    {
     "data": {
      "text/plain": [
       "Sizes\n",
       "Nan                                                       7501\n",
       "Size:Large,Medium,Small,X-Large,X-Small                   1972\n",
       "Size:Large,Medium,Small,X-Large                           1616\n",
       "Size:Large,Medium,Small,X-Large,X-Small,XX-Large          1508\n",
       "Size:Large,Medium,Small,X-Large,XX-Large                  1444\n",
       "                                                          ... \n",
       "Size:XL,X-Small                                              1\n",
       "Size:32-C,34-C,36-B,38-B                                     1\n",
       "Size:32-B,32-C,32-D,34-C,36-B,36-C,38-B,38-C,40-B,40-C       1\n",
       "Size:Large,X-Large,X-Small,XX-Large,XXX-Large                1\n",
       "Size:4,4.5,8.5                                               1\n",
       "Name: count, Length: 1172, dtype: int64"
      ]
     },
     "execution_count": 8,
     "metadata": {},
     "output_type": "execute_result"
    }
   ],
   "source": [
    "df['Sizes'].value_counts()"
   ]
  },
  {
   "cell_type": "code",
   "execution_count": 10,
   "id": "2a7d4f06-2ea0-4a0f-b8b8-2ca4636026b3",
   "metadata": {},
   "outputs": [],
   "source": [
    "df['Sizes']=df['Sizes'].replace('Nan',np.nan)"
   ]
  },
  {
   "cell_type": "code",
   "execution_count": 12,
   "id": "e72c3f95-c87a-4689-a9b3-edaf6a15a9d9",
   "metadata": {},
   "outputs": [
    {
     "data": {
      "text/plain": [
       "7501"
      ]
     },
     "execution_count": 12,
     "metadata": {},
     "output_type": "execute_result"
    }
   ],
   "source": [
    "df['Sizes'].isnull().sum()"
   ]
  },
  {
   "cell_type": "code",
   "execution_count": 14,
   "id": "1d09d234-c410-4be9-8e9c-38f710028ff0",
   "metadata": {},
   "outputs": [],
   "source": [
    "df['Sizes']=df['Sizes'].fillna(df['Sizes'].bfill()).fillna(df['Sizes'].ffill())"
   ]
  },
  {
   "cell_type": "code",
   "execution_count": 16,
   "id": "bfeee6a5-5d2c-47a2-8d19-743938894091",
   "metadata": {},
   "outputs": [
    {
     "data": {
      "text/plain": [
       "Sizes\n",
       "Size:Error Size                                     4124\n",
       "Size:Large,Medium,Small,X-Large                     2222\n",
       "Size:Large,Medium,Small,X-Large,X-Small             2139\n",
       "Size:Large,Medium,Small,X-Large,XX-Large            1846\n",
       "Size:Large,Medium,Small,X-Large,X-Small,XX-Large    1658\n",
       "                                                    ... \n",
       "Size:34-C,36-B,40-C                                    1\n",
       "Size:4X-Large,Small                                    1\n",
       "Size:34-B,34-C,36-D,38-B,40-D                          1\n",
       "Size:6,8,10,12,14,16,18,20                             1\n",
       "Size:4,4.5,8.5                                         1\n",
       "Name: count, Length: 1171, dtype: int64"
      ]
     },
     "execution_count": 16,
     "metadata": {},
     "output_type": "execute_result"
    }
   ],
   "source": [
    "df['Sizes'].value_counts()"
   ]
  },
  {
   "cell_type": "code",
   "execution_count": 18,
   "id": "4460c2ae-9c1e-436b-9254-bb0d12059560",
   "metadata": {},
   "outputs": [
    {
     "data": {
      "text/plain": [
       "0"
      ]
     },
     "execution_count": 18,
     "metadata": {},
     "output_type": "execute_result"
    }
   ],
   "source": [
    "df['Sizes'].isnull().sum()"
   ]
  },
  {
   "cell_type": "code",
   "execution_count": null,
   "id": "45a10a4a-7409-4e2a-be51-5a802e1597a3",
   "metadata": {},
   "outputs": [],
   "source": []
  },
  {
   "cell_type": "markdown",
   "id": "156c04a3-8288-4436-a012-e1fa466d9917",
   "metadata": {
    "jp-MarkdownHeadingCollapsed": true
   },
   "source": [
    "## cleaning column : 'MRP'"
   ]
  },
  {
   "cell_type": "code",
   "execution_count": 6,
   "id": "edc6d74f-07b7-4c85-8fd5-2f370437831e",
   "metadata": {},
   "outputs": [
    {
     "data": {
      "text/plain": [
       "array(['Rs\\n1699', 'Rs\\n3499', 'Rs\\n1199', ..., 'Rs\\n1080', 'Rs\\n1125',\n",
       "       'Rs\\n18000'], dtype=object)"
      ]
     },
     "execution_count": 6,
     "metadata": {},
     "output_type": "execute_result"
    }
   ],
   "source": [
    "df['MRP'].unique()"
   ]
  },
  {
   "cell_type": "code",
   "execution_count": 8,
   "id": "99efca8c-7807-40db-a8fa-b57f4c8528da",
   "metadata": {},
   "outputs": [
    {
     "data": {
      "text/plain": [
       "MRP\n",
       "Nan          8208\n",
       "Rs\\n1499      925\n",
       "Rs\\n1999      918\n",
       "Rs\\n999       881\n",
       "Rs\\n1299      854\n",
       "             ... \n",
       "Rs\\n2703        1\n",
       "Rs\\n1562        1\n",
       "Rs\\n2125        1\n",
       "Rs\\n2893        1\n",
       "Rs\\n18000       1\n",
       "Name: count, Length: 1097, dtype: int64"
      ]
     },
     "execution_count": 8,
     "metadata": {},
     "output_type": "execute_result"
    }
   ],
   "source": [
    "df['MRP'].value_counts()"
   ]
  },
  {
   "cell_type": "code",
   "execution_count": 10,
   "id": "f63c7080-234c-4797-9fe0-3b00fab35fb8",
   "metadata": {},
   "outputs": [],
   "source": [
    "df['MRP']=df['MRP'].replace('Nan', np.nan)"
   ]
  },
  {
   "cell_type": "code",
   "execution_count": 12,
   "id": "913d3b72-b4ae-4fd5-8d41-348f876e48ac",
   "metadata": {},
   "outputs": [],
   "source": [
    "df['MRP']=df['MRP'].fillna(df['MRP'].ffill()).fillna(df['MRP'].bfill())"
   ]
  },
  {
   "cell_type": "code",
   "execution_count": 14,
   "id": "30324cee-1a81-4d9c-ab47-95ea7c5a94d1",
   "metadata": {},
   "outputs": [
    {
     "data": {
      "text/plain": [
       "0"
      ]
     },
     "execution_count": 14,
     "metadata": {},
     "output_type": "execute_result"
    }
   ],
   "source": [
    "df['MRP'].isnull().sum()"
   ]
  },
  {
   "cell_type": "code",
   "execution_count": 16,
   "id": "c7b7b6b4-bafb-48ba-b8f9-687b42ef0331",
   "metadata": {},
   "outputs": [
    {
     "data": {
      "text/plain": [
       "MRP\n",
       "Rs\\n1999    1185\n",
       "Rs\\n1499    1158\n",
       "Rs\\n999     1134\n",
       "Rs\\n1299    1083\n",
       "Rs\\n2499     918\n",
       "            ... \n",
       "Rs\\n2347       1\n",
       "Rs\\n3727       1\n",
       "Rs\\n2214       1\n",
       "Rs\\n3100       1\n",
       "Rs\\n3439       1\n",
       "Name: count, Length: 1096, dtype: int64"
      ]
     },
     "execution_count": 16,
     "metadata": {},
     "output_type": "execute_result"
    }
   ],
   "source": [
    "df['MRP'].value_counts()"
   ]
  },
  {
   "cell_type": "code",
   "execution_count": 24,
   "id": "c80ca2ee-6da0-4e32-91b8-f8a695334249",
   "metadata": {},
   "outputs": [
    {
     "data": {
      "text/plain": [
       "MRP\n",
       "99     3614\n",
       "999    3019\n",
       "499    2729\n",
       "299    2263\n",
       "799    1694\n",
       "       ... \n",
       "68        1\n",
       "446       1\n",
       "414       1\n",
       "012       1\n",
       "992       1\n",
       "Name: count, Length: 590, dtype: int64"
      ]
     },
     "execution_count": 24,
     "metadata": {},
     "output_type": "execute_result"
    }
   ],
   "source": [
    "df['MRP'].value_counts()"
   ]
  },
  {
   "cell_type": "code",
   "execution_count": 22,
   "id": "123f7b94-adf9-4a15-8e53-547ebca3c8f0",
   "metadata": {},
   "outputs": [
    {
     "ename": "TypeError",
     "evalue": "'int' object is not subscriptable",
     "output_type": "error",
     "traceback": [
      "\u001b[1;31m---------------------------------------------------------------------------\u001b[0m",
      "\u001b[1;31mTypeError\u001b[0m                                 Traceback (most recent call last)",
      "Cell \u001b[1;32mIn[22], line 3\u001b[0m\n\u001b[0;32m      1\u001b[0m \u001b[38;5;28;01mfor\u001b[39;00m i \u001b[38;5;129;01min\u001b[39;00m \u001b[38;5;28mrange\u001b[39m(\u001b[38;5;28mlen\u001b[39m(df)):\n\u001b[0;32m      2\u001b[0m     \u001b[38;5;66;03m# print(df['MRP'][i])\u001b[39;00m\n\u001b[1;32m----> 3\u001b[0m     df[\u001b[38;5;124m'\u001b[39m\u001b[38;5;124mMRP\u001b[39m\u001b[38;5;124m'\u001b[39m][i]\u001b[38;5;241m=\u001b[39mdf[\u001b[38;5;124m'\u001b[39m\u001b[38;5;124mMRP\u001b[39m\u001b[38;5;124m'\u001b[39m][i]\u001b[38;5;241m.\u001b[39mreplace(df[\u001b[38;5;124m'\u001b[39m\u001b[38;5;124mMRP\u001b[39m\u001b[38;5;124m'\u001b[39m][i],df[\u001b[38;5;124m'\u001b[39m\u001b[38;5;124mMRP\u001b[39m\u001b[38;5;124m'\u001b[39m][i[\u001b[38;5;241m4\u001b[39m:]])\n",
      "\u001b[1;31mTypeError\u001b[0m: 'int' object is not subscriptable"
     ]
    }
   ],
   "source": [
    "for i in range(len(df)):\n",
    "    # print(df['MRP'][i])\n",
    "    df['MRP'][i]=df['MRP'][i].replace(df['MRP'][i],df['MRP'][i[4:]])"
   ]
  },
  {
   "cell_type": "markdown",
   "id": "a0d33ffa-c963-4861-882f-af8bf8538345",
   "metadata": {
    "jp-MarkdownHeadingCollapsed": true
   },
   "source": [
    "## cleaning column : 'SellPrice'"
   ]
  },
  {
   "cell_type": "code",
   "execution_count": 26,
   "id": "72518be6-fc45-4815-91d9-94f990861bee",
   "metadata": {},
   "outputs": [
    {
     "data": {
      "text/plain": [
       "array(['849', '2449', '599', ..., '9290', '3502', '643'], dtype=object)"
      ]
     },
     "execution_count": 26,
     "metadata": {},
     "output_type": "execute_result"
    }
   ],
   "source": [
    "df['SellPrice'].unique()"
   ]
  },
  {
   "cell_type": "code",
   "execution_count": 29,
   "id": "4973c9dc-d195-446f-82c9-b25d05ea6927",
   "metadata": {},
   "outputs": [
    {
     "data": {
      "text/plain": [
       "SellPrice\n",
       "Nan    1183\n",
       "499     804\n",
       "999     781\n",
       "599     670\n",
       "899     609\n",
       "       ... \n",
       "397       1\n",
       "309       1\n",
       "387       1\n",
       "435       1\n",
       "643       1\n",
       "Name: count, Length: 2046, dtype: int64"
      ]
     },
     "execution_count": 29,
     "metadata": {},
     "output_type": "execute_result"
    }
   ],
   "source": [
    "df['SellPrice'].value_counts()"
   ]
  },
  {
   "cell_type": "code",
   "execution_count": 31,
   "id": "b1537267-b781-414b-bf10-fdbe92c92139",
   "metadata": {},
   "outputs": [],
   "source": [
    "df['SellPrice']=df['SellPrice'].replace('Nan',np.nan)"
   ]
  },
  {
   "cell_type": "code",
   "execution_count": 33,
   "id": "1db681b9-6d1f-415b-a65a-3700ffb5df28",
   "metadata": {},
   "outputs": [],
   "source": [
    "df['SellPrice']=df['SellPrice'].fillna(df['SellPrice'].ffill()).fillna(df['SellPrice'].bfill())"
   ]
  },
  {
   "cell_type": "code",
   "execution_count": 35,
   "id": "639c75a5-c36f-4416-ae1c-a36a2cb66797",
   "metadata": {},
   "outputs": [
    {
     "data": {
      "text/plain": [
       "SellPrice\n",
       "499     840\n",
       "999     819\n",
       "599     695\n",
       "899     628\n",
       "799     621\n",
       "       ... \n",
       "309       1\n",
       "387       1\n",
       "435       1\n",
       "1537      1\n",
       "643       1\n",
       "Name: count, Length: 2045, dtype: int64"
      ]
     },
     "execution_count": 35,
     "metadata": {},
     "output_type": "execute_result"
    }
   ],
   "source": [
    "df['SellPrice'].value_counts()"
   ]
  },
  {
   "cell_type": "code",
   "execution_count": 37,
   "id": "450940bd-e7b2-48b7-b0cd-02511d7a7d66",
   "metadata": {},
   "outputs": [
    {
     "data": {
      "text/plain": [
       "0"
      ]
     },
     "execution_count": 37,
     "metadata": {},
     "output_type": "execute_result"
    }
   ],
   "source": [
    "df['SellPrice'].isna().sum()"
   ]
  },
  {
   "cell_type": "code",
   "execution_count": null,
   "id": "0683d8e7-c919-4221-8666-bf11fae8a825",
   "metadata": {},
   "outputs": [],
   "source": []
  },
  {
   "cell_type": "code",
   "execution_count": null,
   "id": "0b62484c-264d-4482-8075-fc9fccb96955",
   "metadata": {},
   "outputs": [],
   "source": []
  },
  {
   "cell_type": "markdown",
   "id": "6df8d607-fb84-4e45-b8bc-de0f4b07a3e6",
   "metadata": {
    "jp-MarkdownHeadingCollapsed": true
   },
   "source": [
    "## cleaning column : 'Discount'"
   ]
  },
  {
   "cell_type": "code",
   "execution_count": 39,
   "id": "fc147e3b-d959-4875-8bed-a9e7bf77eddc",
   "metadata": {},
   "outputs": [
    {
     "data": {
      "text/plain": [
       "array(['50% off', '30% off', '40% off', '10% off', '60% off', 'Nan',\n",
       "       '20% off', '41% off', '55% off', '73% off', '69% off', '47% off',\n",
       "       '57% off', '70% off', '67% off', '33% off', '44% off', '35% off',\n",
       "       '45% off', '65% off', '68% off', '17% off', '78% off', '25% off',\n",
       "       '80% off', '64% off', '63% off', '32% off', '58% off', '26% off',\n",
       "       '71% off', '75% off', '79% off', '61% off', '24% off', '62% off',\n",
       "       '38% off', '43% off', '54% off', '23% off', '27% off', '42% off',\n",
       "       '76% off', '72% off', '53% off', '12% off', '74% off', '56% off',\n",
       "       '22% off', '66% off', '39% off', '15% off', '34% off', '85% off',\n",
       "       '5% off', '77% off', '4% off', '51% off', '37% off', '48% off',\n",
       "       '0% off', '52% off', '29% off', '28% off', '36% off', '31% off'],\n",
       "      dtype=object)"
      ]
     },
     "execution_count": 39,
     "metadata": {},
     "output_type": "execute_result"
    }
   ],
   "source": [
    "df['Discount'].unique()"
   ]
  },
  {
   "cell_type": "code",
   "execution_count": 41,
   "id": "b3ae810e-de1b-4eae-a90b-994b6a2e1b56",
   "metadata": {},
   "outputs": [
    {
     "data": {
      "text/plain": [
       "Discount\n",
       "Nan        8208\n",
       "50% off    7605\n",
       "30% off    2757\n",
       "60% off    2644\n",
       "40% off    2189\n",
       "           ... \n",
       "27% off       1\n",
       "79% off       1\n",
       "28% off       1\n",
       "36% off       1\n",
       "61% off       1\n",
       "Name: count, Length: 66, dtype: int64"
      ]
     },
     "execution_count": 41,
     "metadata": {},
     "output_type": "execute_result"
    }
   ],
   "source": [
    "df['Discount'].value_counts()"
   ]
  },
  {
   "cell_type": "code",
   "execution_count": 43,
   "id": "686ceef8-1194-4757-aa43-f909588f8f23",
   "metadata": {},
   "outputs": [],
   "source": [
    "df['Discount']=df['Discount'].replace('Nan',np.nan)"
   ]
  },
  {
   "cell_type": "code",
   "execution_count": 45,
   "id": "46e0d746-e235-40e8-a75b-9fe8670fa575",
   "metadata": {},
   "outputs": [],
   "source": [
    "df['Discount']=df['Discount'].fillna(df['Discount'].ffill()).fillna(df['Discount'].bfill())"
   ]
  },
  {
   "cell_type": "code",
   "execution_count": 47,
   "id": "f940ace3-fef2-4ed4-875c-637d8531bacd",
   "metadata": {},
   "outputs": [
    {
     "data": {
      "text/plain": [
       "Discount\n",
       "50% off    10059\n",
       "30% off     4017\n",
       "60% off     3480\n",
       "40% off     2981\n",
       "20% off     2578\n",
       "           ...  \n",
       "66% off        1\n",
       "22% off        1\n",
       "77% off        1\n",
       "27% off        1\n",
       "79% off        1\n",
       "Name: count, Length: 65, dtype: int64"
      ]
     },
     "execution_count": 47,
     "metadata": {},
     "output_type": "execute_result"
    }
   ],
   "source": [
    "df['Discount'].value_counts()"
   ]
  },
  {
   "cell_type": "code",
   "execution_count": 49,
   "id": "ac5de6c3-03f5-4316-9478-8f20f5b2836c",
   "metadata": {},
   "outputs": [
    {
     "data": {
      "text/plain": [
       "0"
      ]
     },
     "execution_count": 49,
     "metadata": {},
     "output_type": "execute_result"
    }
   ],
   "source": [
    "df['Discount'].isnull().sum()"
   ]
  },
  {
   "cell_type": "code",
   "execution_count": null,
   "id": "d92d165e-38f2-4d57-a6fb-e246b6c433b5",
   "metadata": {},
   "outputs": [],
   "source": []
  },
  {
   "cell_type": "markdown",
   "id": "260062d1-ac31-43af-95d9-2249d7d0e3ed",
   "metadata": {
    "jp-MarkdownHeadingCollapsed": true
   },
   "source": [
    "## cleaning column : 'Category'"
   ]
  },
  {
   "cell_type": "code",
   "execution_count": 51,
   "id": "b12b0d32-6f27-4933-840f-45aabfb91202",
   "metadata": {},
   "outputs": [
    {
     "data": {
      "text/plain": [
       "array(['Westernwear-Women', 'Indianwear-Women',\n",
       "       'Lingerie&Nightwear-Women', 'Footwear-Women', 'Watches-Women',\n",
       "       'Fragrance-Women', 'Jewellery-Women'], dtype=object)"
      ]
     },
     "execution_count": 51,
     "metadata": {},
     "output_type": "execute_result"
    }
   ],
   "source": [
    "df['Category'].unique()"
   ]
  },
  {
   "cell_type": "code",
   "execution_count": 55,
   "id": "52aab5fa-675d-4854-a7ff-62ad1e0c9631",
   "metadata": {},
   "outputs": [
    {
     "data": {
      "text/plain": [
       "30758"
      ]
     },
     "execution_count": 55,
     "metadata": {},
     "output_type": "execute_result"
    }
   ],
   "source": [
    "df['Category'].value_counts().sum()"
   ]
  },
  {
   "cell_type": "code",
   "execution_count": null,
   "id": "d1e1569d-344d-475a-a9b6-d0b00ed404cd",
   "metadata": {},
   "outputs": [],
   "source": [
    "#here this column is clean, nothing to do"
   ]
  }
 ],
 "metadata": {
  "kernelspec": {
   "display_name": "Python 3 (ipykernel)",
   "language": "python",
   "name": "python3"
  },
  "language_info": {
   "codemirror_mode": {
    "name": "ipython",
    "version": 3
   },
   "file_extension": ".py",
   "mimetype": "text/x-python",
   "name": "python",
   "nbconvert_exporter": "python",
   "pygments_lexer": "ipython3",
   "version": "3.12.7"
  }
 },
 "nbformat": 4,
 "nbformat_minor": 5
}
